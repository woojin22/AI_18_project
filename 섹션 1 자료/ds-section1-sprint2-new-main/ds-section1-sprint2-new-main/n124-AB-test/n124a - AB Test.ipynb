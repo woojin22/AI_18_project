{
  "nbformat": 4,
  "nbformat_minor": 0,
  "metadata": {
    "colab": {
      "name": "n124a - AB Test.ipynb",
      "provenance": [],
      "collapsed_sections": [
        "ItLEp1qk0qqy",
        "UF5wf3P9gBKb"
      ],
      "include_colab_link": true
    },
    "kernelspec": {
      "name": "python3",
      "display_name": "Python 3"
    },
    "language_info": {
      "name": "python"
    }
  },
  "cells": [
    {
      "cell_type": "markdown",
      "metadata": {
        "id": "view-in-github",
        "colab_type": "text"
      },
      "source": [
        "<a href=\"https://colab.research.google.com/github/codestates/ds-section1-sprint2-new/blob/main/n124-AB-test/n124a%20-%20AB%20Test.ipynb\" target=\"_parent\"><img src=\"https://colab.research.google.com/assets/colab-badge.svg\" alt=\"Open In Colab\"/></a>"
      ]
    },
    {
      "cell_type": "markdown",
      "source": [
        "<img src='https://user-images.githubusercontent.com/6457691/89746244-a6e2a200-daf3-11ea-9314-7863d544d73c.png' width = '200' align = 'right'>\n",
        "\n",
        "## *DATA SCIENCE / SECTION 1 / SPRINT 2 / NOTE 4*\n",
        "\n",
        "# 📝 Assignment\n",
        "\n",
        "---"
      ],
      "metadata": {
        "id": "tcGYPvqSykm6"
      }
    },
    {
      "cell_type": "markdown",
      "source": [
        "# **🌱 기본 과제**"
      ],
      "metadata": {
        "id": "LlrVJIyx_Sql"
      }
    },
    {
      "cell_type": "markdown",
      "source": [
        "## **Part 1. 데이터 파악**"
      ],
      "metadata": {
        "id": "pyqTkSmFykm8"
      }
    },
    {
      "cell_type": "markdown",
      "source": [
        "- **Data Description**\n",
        "  - **recency** : months since last purchase\n",
        "  - **history** : value of the historical purchases\n",
        "  - **used_bogo** : indicates if the customer used a buy one get one before\n",
        "  - **zip_code** : class of the zip code as Suburban/Urban/Rural\n",
        "  - **is_referral** : indicates if the customer was acquired from referral channel\n",
        "  - **channel** : channels that the customer using, Phone/Web/Multichannel\n",
        "  - **offer** : the offers sent to the customers, But One Get One/No Offer\n",
        "  - **conversion** : customer conversion(buy or not)"
      ],
      "metadata": {
        "id": "CBxDo6A_z5-l"
      }
    },
    {
      "cell_type": "markdown",
      "source": [
        "### **1-1. 데이터 준비 및 확인**\n",
        "- 데이터셋을 불러오세요. \n",
        "- 샘플 사이즈를 확인하세요.\n",
        "  - 샘플 사이즈가 충분한지 확인해 봅니다. \n",
        "- 결측치 및 데이터 타입을 확인하세요. \n",
        "  - 데이터 타입이 적절한지 확인해 봅니다. \n",
        "- 중복된 데이터를 확인 후, 제거하세요. \n",
        "  - 중복된 데이터를 제거하여 실제 고객 수를 파악합니다. "
      ],
      "metadata": {
        "id": "hw1D5uX5C9k7"
      }
    },
    {
      "cell_type": "markdown",
      "source": [
        "##### **Q1. 중복된 데이터를 제거한 데이터프레임의 row의 총 개수를 쓰세요.**"
      ],
      "metadata": {
        "id": "HL8j16mmm2lt"
      }
    },
    {
      "cell_type": "code",
      "source": [
        "# 이곳에 코드를 작성하세요."
      ],
      "metadata": {
        "id": "k828GpfqWeK2"
      },
      "execution_count": null,
      "outputs": []
    },
    {
      "cell_type": "markdown",
      "source": [
        "### **1-2. 이상치 제거**\n",
        "- `history` 컬럼의 이상치를 확인하세요.\n",
        "  - box plot으로 데이터의 분포를 나타냅니다. \n",
        "  - 더 자세히 살펴보기 위해 histogram을 그려 봅니다.\n",
        "    - `plt.xlim()`을 사용하여 `history` 값이 700 미만인 데이터들을 시각화 합니다. \n",
        "- `history` 값이 700 이상인 값들은 이상치로 간주하여 제거하세요. "
      ],
      "metadata": {
        "id": "34qm3-vsCaqi"
      }
    },
    {
      "cell_type": "markdown",
      "source": [
        "##### **Q2. 이상치를 제거하고 남은 row는 몇 개인가요?**"
      ],
      "metadata": {
        "id": "2a7wr_XIgr9C"
      }
    },
    {
      "cell_type": "code",
      "source": [
        "# 이곳에 코드를 작성하세요."
      ],
      "metadata": {
        "id": "Mqzx3rpoWi0w"
      },
      "execution_count": null,
      "outputs": []
    },
    {
      "cell_type": "markdown",
      "source": [
        "## **Part 2. AB Test** "
      ],
      "metadata": {
        "id": "hx67Z8kfyknB"
      }
    },
    {
      "cell_type": "markdown",
      "source": [
        "### **2-1. 귀무가설과 대립가설 설정**\n",
        "\n",
        "주어진 데이터셋에서 `conversion` column은 제품 구매 여부를 의미합니다. <br> 여러분은 1+1 쿠폰을 제공받은 고객의 전환율(conversion rate)이 제공받지 않은 고객의 전환율보다 더 높은지 AB Test를 통해 알아보려고 합니다. \n",
        "> **AB Test 결과** <br>\n",
        "> 만약 귀무가설을 기각하는 데 실패한다면, 1+1 쿠폰이 아닌 다른 마케팅을 검토해 보아야 합니다. <br>\n",
        "> 하지만 귀무가설을 기각한다면, 마케팅에 1+1 쿠폰을 적극적으로 활용할 수 있을 것입니다. \n",
        "\n",
        "- 귀무가설과 대립가설을 설정하세요. \n"
      ],
      "metadata": {
        "id": "zBgreuOoltlN"
      }
    },
    {
      "cell_type": "markdown",
      "source": [
        "##### **Q3. 1+1 쿠폰을 제공받은 고객의 전환율을 $\\mu_1$, 제공받지 않은 고객의 전환율을 $\\mu_0$라고 할 때, 귀무가설은 무엇일까요?**"
      ],
      "metadata": {
        "id": "7WhH4WTD7Ey9"
      }
    },
    {
      "cell_type": "code",
      "source": [
        "# 이곳에 코드를 작성하세요."
      ],
      "metadata": {
        "id": "ZiB73R4IWpCQ"
      },
      "execution_count": null,
      "outputs": []
    },
    {
      "cell_type": "markdown",
      "source": [
        "### **2-2. 대조군과 실험군의 비율 확인**\n",
        "- `offer` column에서 1+1 쿠폰을 제공받은 고객(Buy One Get One, 실험군)과 제공받지 않은 고객(No Offer, 대조군)의 비율을 확인하세요. \n",
        "- 위에서 구한 비율을 bar plot으로 나타내 보세요. "
      ],
      "metadata": {
        "id": "lzk6QXNlCxVk"
      }
    },
    {
      "cell_type": "markdown",
      "source": [
        "##### **Q4. 전체 데이터에 대한 실험군의 비율에서 대조군의 비율을 뺀 값은 얼마인지 반올림하여 소수점 셋째 자리까지 구하세요.**"
      ],
      "metadata": {
        "id": "rnGTmMJok7Q2"
      }
    },
    {
      "cell_type": "code",
      "source": [
        "# 이곳에 코드를 작성하세요."
      ],
      "metadata": {
        "id": "N2lq17iTWq87"
      },
      "execution_count": null,
      "outputs": []
    },
    {
      "cell_type": "markdown",
      "source": [
        "### **2-3. 전환율(Conversion Rate) 확인** \n",
        "  - 전체 데이터셋에서의 전환율을 구하세요.\n",
        "  - 대조군(control) 그룹(`offer==No Offer`)에서의 전환율을 구하세요.\n",
        "  - 실험군(experiment) 그룹(`offer==Buy One Get One`)에서의 전환율을 구하세요. \n",
        "  - 두 그룹의 전환율 차이(실험군 전환율 $-$ 대조군 전환율)를 변수 `cvr_diff`에 저장하세요. "
      ],
      "metadata": {
        "id": "PQmCUkhjlx2v"
      }
    },
    {
      "cell_type": "markdown",
      "source": [
        "##### **Q5. `cvr_diff`를 반올림하여 소수점 셋째 자리까지 쓰세요.**"
      ],
      "metadata": {
        "id": "8FHo6dkx8DxV"
      }
    },
    {
      "cell_type": "code",
      "source": [
        "# 이곳에 코드를 작성하세요."
      ],
      "metadata": {
        "id": "LfSlNhkVXmFY"
      },
      "execution_count": null,
      "outputs": []
    },
    {
      "cell_type": "markdown",
      "source": [
        "### **2-4. 가설 검정**\n",
        "**2-3**의 결과는 샘플에서만의 결과입니다. 이제 가설 검정을 통해 샘플에서 얻은 값을 바탕으로 모수를 찾아가도록 합니다. \n",
        "- 대조군과 실험군에 속한 고객 수가 몇 명인지 각각 구하세요. \n",
        "- `.choice()`를 사용하여 가설검정을 진행한 후 결과를 해석하세요.\n",
        "  - 대조군 그룹의 귀무가설을 simulate 한 결과를 시각화로 나타내봅니다.\n",
        "  - 실험군 그룹의 귀무가설을 simulate 한 결과를 시각화로 나타내봅니다.\n",
        "  - 실험군과 대조군 그룹 평균 차이의 귀무가설을 simulate 한 결과를 시각화로 나타내봅니다.\n",
        "- Binomial Distribution을 사용하여 가설검정을 진행한 후 결과를 해석하세요.\n",
        "- Z-test를 사용하여 가설검정을 진행한 후 결과를 해석하세요."
      ],
      "metadata": {
        "id": "W1SXwSoXmwJ-"
      }
    },
    {
      "cell_type": "markdown",
      "source": [
        "##### **Q6. `.choice()`를 사용하여 가설 검정을 진행한 결과 P-value 값은 얼마인지 구하세요.**"
      ],
      "metadata": {
        "id": "CBmzcRXm-RhL"
      }
    },
    {
      "cell_type": "code",
      "source": [
        "# 이곳에 코드를 작성하세요."
      ],
      "metadata": {
        "id": "bI_kvlduXuB-"
      },
      "execution_count": null,
      "outputs": []
    },
    {
      "cell_type": "markdown",
      "source": [
        "##### **Q7. Binomial Distribution을 사용하여 가설 검정을 진행한 결과 P-value 값은 얼마인지 구하세요.**"
      ],
      "metadata": {
        "id": "ZuP1OEMxBwxf"
      }
    },
    {
      "cell_type": "code",
      "source": [
        "# 이곳에 코드를 작성하세요."
      ],
      "metadata": {
        "id": "wBP1JZ-8X4Y3"
      },
      "execution_count": null,
      "outputs": []
    },
    {
      "cell_type": "markdown",
      "source": [
        "##### **Q8. Z-test를 사용하여 가설 검정을 진행한 결과 P-value 값은 얼마인지 소수점 둘째 자리까지 구하세요.**"
      ],
      "metadata": {
        "id": "yO62uaiACcj5"
      }
    },
    {
      "cell_type": "code",
      "source": [
        "# 이곳에 코드를 작성하세요."
      ],
      "metadata": {
        "id": "Fqz0FWWOX6tu"
      },
      "execution_count": null,
      "outputs": []
    },
    {
      "cell_type": "markdown",
      "source": [
        "# **🥇 도전 과제**\n",
        "\n"
      ],
      "metadata": {
        "id": "MwhABWPgKoGM"
      }
    },
    {
      "cell_type": "markdown",
      "source": [
        "## **Part 3. ANOVA**\n",
        "\n",
        "우리는 지금까지 한 표본 또는 두 표본에 대해서 가설검정을 시행해 보았습니다.\n",
        "\n",
        "그렇다면 표본이 세 개 이상일 때는 어떻게 가설검정을 할 수 있을까요? \n",
        "\n",
        "</br>\n",
        "\n",
        "**다음 [링크](https://partrita.github.io/posts/ANOVA-python/)를 통해 ANOVA에 대한 글을 읽고, 주어진 4개 그룹의 평균에 대하여 차이가 있는지 가설검정을 시행하세요.** \n",
        "\n",
        "\n",
        "```\n",
        "A : 38 33 35 92 76 97 88 41 11 9\n",
        "B : 18 52 62 48 30 40 87 12 97 82\n",
        "C : 28 90 5 49 66 73 96 80 4 17\n",
        "D : 8 99 4 12 7 64 18 10 9 20\n",
        "```"
      ],
      "metadata": {
        "id": "pLvnmx-jKtoZ"
      }
    },
    {
      "cell_type": "code",
      "source": [
        "# 이곳에 코드를 작성하세요."
      ],
      "metadata": {
        "id": "SOLT2-CNX9r7"
      },
      "execution_count": null,
      "outputs": []
    }
  ]
}