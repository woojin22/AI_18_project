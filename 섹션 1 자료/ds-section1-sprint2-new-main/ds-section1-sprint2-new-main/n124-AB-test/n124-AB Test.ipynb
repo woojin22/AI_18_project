{
  "nbformat": 4,
  "nbformat_minor": 0,
  "metadata": {
    "colab": {
      "name": "n124 - AB Test.ipynb",
      "provenance": [],
      "include_colab_link": true
    },
    "kernelspec": {
      "name": "python3",
      "display_name": "Python 3"
    },
    "language_info": {
      "name": "python"
    }
  },
  "cells": [
    {
      "cell_type": "markdown",
      "metadata": {
        "id": "view-in-github",
        "colab_type": "text"
      },
      "source": [
        "<a href=\"https://colab.research.google.com/github/codestates/ds-section1-sprint2-new/blob/main/n124-AB-test/n124-AB%20Test.ipynb\" target=\"_parent\"><img src=\"https://colab.research.google.com/assets/colab-badge.svg\" alt=\"Open In Colab\"/></a>"
      ]
    },
    {
      "cell_type": "markdown",
      "source": [
        "<img src='https://i.imgur.com/RDAD11M.png' width = '200' align = 'right'>\n",
        "\n",
        "## *DATA SCIENCE / SECTION 1 / SPRINT 2 / NOTE 4*\n",
        "\n",
        "---\n",
        "\n",
        "# AB 테스트\n",
        "\n",
        "## 🏆 학습 목표 \n",
        "- AB 테스트가 무엇인지 설명할 수 있다.\n",
        "- 주어진 데이터를 가지고 직접 AB 테스트를 진행할 수 있다.\n",
        "- AB 테스트를 진행할 때, 주의해야 할 사항들에 대해 설명할 수 있다.\n",
        "\n",
        "---"
      ],
      "metadata": {
        "id": "gKegQnvywYcc"
      }
    },
    {
      "cell_type": "markdown",
      "source": [
        "이 노트는 아래의 구성으로 이뤄져 있습니다.\n",
        "- **Part 0. 도입**  \n",
        "  0-1. 기획 배경  \n",
        "  0-2. Data Description  \n",
        "\n",
        "- **Part 1. AB 테스트란**   \n",
        "\n",
        "- **Part 2. 데이터 파악**  \n",
        "  2-1. 샘플 사이즈 확인 <br>\n",
        "  2-2. 순 방문자수 확인  <br>\n",
        "  2-3. AB 테스트 진행 기간  <br>\n",
        "  2-4. 샘플에서의 전환율 확인 <br>\n",
        "  2-5. 대조군과 실험군의 명수 비교\n",
        "\n",
        "- **Part 3. AB 테스트 진행** <br>\n",
        "  3-1. 귀무가설 확인 <br>\n",
        "  3-2. Binomial distribution 이용 <br>\n",
        "  3-3. Z-test 이용\n",
        "\n",
        "- **Part 4. 결과** "
      ],
      "metadata": {
        "id": "p95HhsA_olTv"
      }
    },
    {
      "cell_type": "markdown",
      "source": [
        "# **Part 0. 도입**\n",
        "<img width='500' src='https://i.imgur.com/ChHMR5E.png'>"
      ],
      "metadata": {
        "id": "6WThATsIwpdy"
      }
    },
    {
      "cell_type": "markdown",
      "source": [
        "## **0-1. 기획 배경**\n",
        "- 여러분들은 회사에서 데이터 분석가로 일하고 있습니다. <br>\n",
        "그리고 지금까지 사용해온 웹 사이트 랜딩 페이지의 구매 버튼에 변화를 시도하여 구매를 증가시키고자\n",
        "합니다. <br>\n",
        "하지만 이 변화가 과연 사람들의 **구매 클릭률, CTR**를 증가시킬지는 의문입니다! \n",
        "- 새롭게 도입될 랜딩 페이지가 ***더 높은 클릭률을 올리는지를 AB 테스트를 통해 알아보도록 합니다.***  \n"
      ],
      "metadata": {
        "id": "61A0KFYrxCq8"
      }
    },
    {
      "cell_type": "markdown",
      "source": [
        "## **0-2. Data Description** \n",
        "\n",
        "- **유저아이디:** 유저들의 고유식별번호\n",
        "- **방문시간:** 유저들이 웹 사이트에 방문한 시간\n",
        "- **그룹:** 유저가 **`control`** 그룹과 **`experiment`** 그룹 중 어떤 그룹에 속해있는지 \n",
        "- **랜딩페이지:** 유저가 변화를 주지 않은 웹사이트  **`old page`**를 방문했는지 새롭게 개편된 웹사이트 **`new page`**를 방문했는지\n",
        "- **클릭:** 유저가 **Buy Now** 버튼을 눌러 전환이 되었는지를 의미함. 1은 구매 전환이 되었음을 의미하며 0은 구매 전환이 되지 않았음을 의미함."
      ],
      "metadata": {
        "id": "JjMPzIPexFUR"
      }
    },
    {
      "cell_type": "markdown",
      "source": [
        "# **Part 1. AB 테스트란**\n",
        "\n",
        "<img width='500' src='https://i.imgur.com/Fa5CdDn.png'>\n",
        "\n",
        "많은 회사들이 웹사이트 메인화면의 이미지부터 각종 메뉴의 배치, 게시물, 리스트 등 다양한 피쳐에 변화를 주어 **방문자들의 참여도**를 늘리고자 합니다. <br> 그러기에 회사들은 **AB 테스트**라는 실험을 통해 **데이터 중심의 의사 결정**을 내리도록 하며, 이는 실제 비지니스에서 가설검증이 사용되는 application입니다. \n",
        "\n",
        "우리는 이번 Case Study를 통해 회사의 랜딩 페이지의 **구매 버튼**에 변화를 시도하여 구매를 증가시키고자 합니다. <br> 새롭게 도입될 랜딩 페이지가 **더 높은 구매 클릭률, CTR**을 올리는지를 AB 테스트를 통해 알아보도록 합니다.\n",
        "\n",
        "우선, AB 테스트를 진행하기 위해 방문자를 **대조군, control group**과 **실험군, experiemnt group**으로 나누어 진행합니다. 대조군에는 **`old version`**을 보여주고 실험군에는 **`new version`**을 보여줍니다. <br>\n",
        "실험의 metric은 전환율 **CTR**로써 한 버전이 다른 버전보다 더 효율적인지를 판단하는 지표로 삼습니다.\n",
        "\n",
        "<br>\n",
        "\n",
        "우리의 AB 테스트 가설은 아래와 같습니다.\n",
        "- **귀무가설**: 새로운 버전은 이전 버전과 같거나 더 안 좋다. <br>\n",
        "$H_{0}: \\mu_{old} >= \\mu_{new}$ <br>\n",
        "\n",
        "- **대립가설**: 새로운 버전은 이전 버전보다 더 좋다. <br> \n",
        "$H_{a}: \\mu_{old} < \\mu_{new}$ <br>\n",
        " \n",
        "<br>\n",
        "\n",
        "> **💡 AB 테스트 결과** <br>\n",
        "만약 우리가 귀무가설을 기각하는 데 실패한다면, 우리는 기존에 사용하던 버전을 계속해서 사용해야 할 것입니다. <br> 하지만 귀무가설을 기각한다면, 우리는 새 변화를 도입할 수 있을 것입니다. \n",
        "\n",
        "\n"
      ],
      "metadata": {
        "id": "IwtO9_A5xSnC"
      }
    },
    {
      "cell_type": "markdown",
      "source": [
        "# **Part 2. 데이터 파악**\n",
        "\n",
        "먼저, AB 테스트를 진행하기 전에 우선적으로 데이터에서 파악해야 할 사항들이 있습니다. <br>\n",
        "EDA를 진행해나가며 아래의 사항들을 확인해봅니다! \n",
        "\n",
        "**`2-1.`** 샘플 사이즈 확인 <br>\n",
        "**`2-2.`** 순 방문자 확인 <br>\n",
        "**`2-3.`** AB 테스트 진행 기간 <br>\n",
        "**`2-4.`** 샘플에서의 전환율 확인 <br>\n",
        "**`2-5.`** 대조군과 실험군 명수 비교 <br>\n"
      ],
      "metadata": {
        "id": "McesE7wXB5Jb"
      }
    },
    {
      "cell_type": "code",
      "source": [
        "import numpy as np\n",
        "import pandas as pd\n",
        "import matplotlib.pyplot as plt\n",
        "\n",
        "plt.style.use('seaborn-dark')"
      ],
      "metadata": {
        "id": "87hKXs90CP48"
      },
      "execution_count": 1,
      "outputs": []
    },
    {
      "cell_type": "code",
      "source": [
        "from google.colab import files\n",
        "files.upload();"
      ],
      "metadata": {
        "id": "ZXyCcsJICP2m",
        "colab": {
          "base_uri": "https://localhost:8080/",
          "height": 73
        },
        "outputId": "8443892e-1cc1-4691-99c0-a31b930474b6"
      },
      "execution_count": 2,
      "outputs": [
        {
          "output_type": "display_data",
          "data": {
            "text/plain": [
              "<IPython.core.display.HTML object>"
            ],
            "text/html": [
              "\n",
              "     <input type=\"file\" id=\"files-c4ecb926-3ce6-49bc-a257-fcf461da9e85\" name=\"files[]\" multiple disabled\n",
              "        style=\"border:none\" />\n",
              "     <output id=\"result-c4ecb926-3ce6-49bc-a257-fcf461da9e85\">\n",
              "      Upload widget is only available when the cell has been executed in the\n",
              "      current browser session. Please rerun this cell to enable.\n",
              "      </output>\n",
              "      <script>// Copyright 2017 Google LLC\n",
              "//\n",
              "// Licensed under the Apache License, Version 2.0 (the \"License\");\n",
              "// you may not use this file except in compliance with the License.\n",
              "// You may obtain a copy of the License at\n",
              "//\n",
              "//      http://www.apache.org/licenses/LICENSE-2.0\n",
              "//\n",
              "// Unless required by applicable law or agreed to in writing, software\n",
              "// distributed under the License is distributed on an \"AS IS\" BASIS,\n",
              "// WITHOUT WARRANTIES OR CONDITIONS OF ANY KIND, either express or implied.\n",
              "// See the License for the specific language governing permissions and\n",
              "// limitations under the License.\n",
              "\n",
              "/**\n",
              " * @fileoverview Helpers for google.colab Python module.\n",
              " */\n",
              "(function(scope) {\n",
              "function span(text, styleAttributes = {}) {\n",
              "  const element = document.createElement('span');\n",
              "  element.textContent = text;\n",
              "  for (const key of Object.keys(styleAttributes)) {\n",
              "    element.style[key] = styleAttributes[key];\n",
              "  }\n",
              "  return element;\n",
              "}\n",
              "\n",
              "// Max number of bytes which will be uploaded at a time.\n",
              "const MAX_PAYLOAD_SIZE = 100 * 1024;\n",
              "\n",
              "function _uploadFiles(inputId, outputId) {\n",
              "  const steps = uploadFilesStep(inputId, outputId);\n",
              "  const outputElement = document.getElementById(outputId);\n",
              "  // Cache steps on the outputElement to make it available for the next call\n",
              "  // to uploadFilesContinue from Python.\n",
              "  outputElement.steps = steps;\n",
              "\n",
              "  return _uploadFilesContinue(outputId);\n",
              "}\n",
              "\n",
              "// This is roughly an async generator (not supported in the browser yet),\n",
              "// where there are multiple asynchronous steps and the Python side is going\n",
              "// to poll for completion of each step.\n",
              "// This uses a Promise to block the python side on completion of each step,\n",
              "// then passes the result of the previous step as the input to the next step.\n",
              "function _uploadFilesContinue(outputId) {\n",
              "  const outputElement = document.getElementById(outputId);\n",
              "  const steps = outputElement.steps;\n",
              "\n",
              "  const next = steps.next(outputElement.lastPromiseValue);\n",
              "  return Promise.resolve(next.value.promise).then((value) => {\n",
              "    // Cache the last promise value to make it available to the next\n",
              "    // step of the generator.\n",
              "    outputElement.lastPromiseValue = value;\n",
              "    return next.value.response;\n",
              "  });\n",
              "}\n",
              "\n",
              "/**\n",
              " * Generator function which is called between each async step of the upload\n",
              " * process.\n",
              " * @param {string} inputId Element ID of the input file picker element.\n",
              " * @param {string} outputId Element ID of the output display.\n",
              " * @return {!Iterable<!Object>} Iterable of next steps.\n",
              " */\n",
              "function* uploadFilesStep(inputId, outputId) {\n",
              "  const inputElement = document.getElementById(inputId);\n",
              "  inputElement.disabled = false;\n",
              "\n",
              "  const outputElement = document.getElementById(outputId);\n",
              "  outputElement.innerHTML = '';\n",
              "\n",
              "  const pickedPromise = new Promise((resolve) => {\n",
              "    inputElement.addEventListener('change', (e) => {\n",
              "      resolve(e.target.files);\n",
              "    });\n",
              "  });\n",
              "\n",
              "  const cancel = document.createElement('button');\n",
              "  inputElement.parentElement.appendChild(cancel);\n",
              "  cancel.textContent = 'Cancel upload';\n",
              "  const cancelPromise = new Promise((resolve) => {\n",
              "    cancel.onclick = () => {\n",
              "      resolve(null);\n",
              "    };\n",
              "  });\n",
              "\n",
              "  // Wait for the user to pick the files.\n",
              "  const files = yield {\n",
              "    promise: Promise.race([pickedPromise, cancelPromise]),\n",
              "    response: {\n",
              "      action: 'starting',\n",
              "    }\n",
              "  };\n",
              "\n",
              "  cancel.remove();\n",
              "\n",
              "  // Disable the input element since further picks are not allowed.\n",
              "  inputElement.disabled = true;\n",
              "\n",
              "  if (!files) {\n",
              "    return {\n",
              "      response: {\n",
              "        action: 'complete',\n",
              "      }\n",
              "    };\n",
              "  }\n",
              "\n",
              "  for (const file of files) {\n",
              "    const li = document.createElement('li');\n",
              "    li.append(span(file.name, {fontWeight: 'bold'}));\n",
              "    li.append(span(\n",
              "        `(${file.type || 'n/a'}) - ${file.size} bytes, ` +\n",
              "        `last modified: ${\n",
              "            file.lastModifiedDate ? file.lastModifiedDate.toLocaleDateString() :\n",
              "                                    'n/a'} - `));\n",
              "    const percent = span('0% done');\n",
              "    li.appendChild(percent);\n",
              "\n",
              "    outputElement.appendChild(li);\n",
              "\n",
              "    const fileDataPromise = new Promise((resolve) => {\n",
              "      const reader = new FileReader();\n",
              "      reader.onload = (e) => {\n",
              "        resolve(e.target.result);\n",
              "      };\n",
              "      reader.readAsArrayBuffer(file);\n",
              "    });\n",
              "    // Wait for the data to be ready.\n",
              "    let fileData = yield {\n",
              "      promise: fileDataPromise,\n",
              "      response: {\n",
              "        action: 'continue',\n",
              "      }\n",
              "    };\n",
              "\n",
              "    // Use a chunked sending to avoid message size limits. See b/62115660.\n",
              "    let position = 0;\n",
              "    do {\n",
              "      const length = Math.min(fileData.byteLength - position, MAX_PAYLOAD_SIZE);\n",
              "      const chunk = new Uint8Array(fileData, position, length);\n",
              "      position += length;\n",
              "\n",
              "      const base64 = btoa(String.fromCharCode.apply(null, chunk));\n",
              "      yield {\n",
              "        response: {\n",
              "          action: 'append',\n",
              "          file: file.name,\n",
              "          data: base64,\n",
              "        },\n",
              "      };\n",
              "\n",
              "      let percentDone = fileData.byteLength === 0 ?\n",
              "          100 :\n",
              "          Math.round((position / fileData.byteLength) * 100);\n",
              "      percent.textContent = `${percentDone}% done`;\n",
              "\n",
              "    } while (position < fileData.byteLength);\n",
              "  }\n",
              "\n",
              "  // All done.\n",
              "  yield {\n",
              "    response: {\n",
              "      action: 'complete',\n",
              "    }\n",
              "  };\n",
              "}\n",
              "\n",
              "scope.google = scope.google || {};\n",
              "scope.google.colab = scope.google.colab || {};\n",
              "scope.google.colab._files = {\n",
              "  _uploadFiles,\n",
              "  _uploadFilesContinue,\n",
              "};\n",
              "})(self);\n",
              "</script> "
            ]
          },
          "metadata": {}
        },
        {
          "output_type": "stream",
          "name": "stdout",
          "text": [
            "Saving ab.csv to ab.csv\n"
          ]
        }
      ]
    },
    {
      "cell_type": "code",
      "source": [
        "ab_data = pd.read_csv('ab.csv')\n",
        "ab_data.head()"
      ],
      "metadata": {
        "colab": {
          "base_uri": "https://localhost:8080/",
          "height": 206
        },
        "id": "z6tUqOXACP1W",
        "outputId": "65289d2b-a170-4f44-a033-e842b3948897"
      },
      "execution_count": 3,
      "outputs": [
        {
          "output_type": "execute_result",
          "data": {
            "text/plain": [
              "    유저아이디                        방문시간          그룹     랜딩페이지  클릭\n",
              "0  851104  2017-01-21 22:11:48.556739     control  old_page   0\n",
              "1  804228  2017-01-12 08:01:45.159739     control  old_page   0\n",
              "2  661590  2017-01-11 16:55:06.154213  experiment  new_page   0\n",
              "3  853541  2017-01-08 18:28:03.143765  experiment  new_page   0\n",
              "4  864975  2017-01-21 01:52:26.210827     control  old_page   1"
            ],
            "text/html": [
              "\n",
              "  <div id=\"df-4dc9ebf8-0ab9-49b5-b08d-3a8e1783931a\">\n",
              "    <div class=\"colab-df-container\">\n",
              "      <div>\n",
              "<style scoped>\n",
              "    .dataframe tbody tr th:only-of-type {\n",
              "        vertical-align: middle;\n",
              "    }\n",
              "\n",
              "    .dataframe tbody tr th {\n",
              "        vertical-align: top;\n",
              "    }\n",
              "\n",
              "    .dataframe thead th {\n",
              "        text-align: right;\n",
              "    }\n",
              "</style>\n",
              "<table border=\"1\" class=\"dataframe\">\n",
              "  <thead>\n",
              "    <tr style=\"text-align: right;\">\n",
              "      <th></th>\n",
              "      <th>유저아이디</th>\n",
              "      <th>방문시간</th>\n",
              "      <th>그룹</th>\n",
              "      <th>랜딩페이지</th>\n",
              "      <th>클릭</th>\n",
              "    </tr>\n",
              "  </thead>\n",
              "  <tbody>\n",
              "    <tr>\n",
              "      <th>0</th>\n",
              "      <td>851104</td>\n",
              "      <td>2017-01-21 22:11:48.556739</td>\n",
              "      <td>control</td>\n",
              "      <td>old_page</td>\n",
              "      <td>0</td>\n",
              "    </tr>\n",
              "    <tr>\n",
              "      <th>1</th>\n",
              "      <td>804228</td>\n",
              "      <td>2017-01-12 08:01:45.159739</td>\n",
              "      <td>control</td>\n",
              "      <td>old_page</td>\n",
              "      <td>0</td>\n",
              "    </tr>\n",
              "    <tr>\n",
              "      <th>2</th>\n",
              "      <td>661590</td>\n",
              "      <td>2017-01-11 16:55:06.154213</td>\n",
              "      <td>experiment</td>\n",
              "      <td>new_page</td>\n",
              "      <td>0</td>\n",
              "    </tr>\n",
              "    <tr>\n",
              "      <th>3</th>\n",
              "      <td>853541</td>\n",
              "      <td>2017-01-08 18:28:03.143765</td>\n",
              "      <td>experiment</td>\n",
              "      <td>new_page</td>\n",
              "      <td>0</td>\n",
              "    </tr>\n",
              "    <tr>\n",
              "      <th>4</th>\n",
              "      <td>864975</td>\n",
              "      <td>2017-01-21 01:52:26.210827</td>\n",
              "      <td>control</td>\n",
              "      <td>old_page</td>\n",
              "      <td>1</td>\n",
              "    </tr>\n",
              "  </tbody>\n",
              "</table>\n",
              "</div>\n",
              "      <button class=\"colab-df-convert\" onclick=\"convertToInteractive('df-4dc9ebf8-0ab9-49b5-b08d-3a8e1783931a')\"\n",
              "              title=\"Convert this dataframe to an interactive table.\"\n",
              "              style=\"display:none;\">\n",
              "        \n",
              "  <svg xmlns=\"http://www.w3.org/2000/svg\" height=\"24px\"viewBox=\"0 0 24 24\"\n",
              "       width=\"24px\">\n",
              "    <path d=\"M0 0h24v24H0V0z\" fill=\"none\"/>\n",
              "    <path d=\"M18.56 5.44l.94 2.06.94-2.06 2.06-.94-2.06-.94-.94-2.06-.94 2.06-2.06.94zm-11 1L8.5 8.5l.94-2.06 2.06-.94-2.06-.94L8.5 2.5l-.94 2.06-2.06.94zm10 10l.94 2.06.94-2.06 2.06-.94-2.06-.94-.94-2.06-.94 2.06-2.06.94z\"/><path d=\"M17.41 7.96l-1.37-1.37c-.4-.4-.92-.59-1.43-.59-.52 0-1.04.2-1.43.59L10.3 9.45l-7.72 7.72c-.78.78-.78 2.05 0 2.83L4 21.41c.39.39.9.59 1.41.59.51 0 1.02-.2 1.41-.59l7.78-7.78 2.81-2.81c.8-.78.8-2.07 0-2.86zM5.41 20L4 18.59l7.72-7.72 1.47 1.35L5.41 20z\"/>\n",
              "  </svg>\n",
              "      </button>\n",
              "      \n",
              "  <style>\n",
              "    .colab-df-container {\n",
              "      display:flex;\n",
              "      flex-wrap:wrap;\n",
              "      gap: 12px;\n",
              "    }\n",
              "\n",
              "    .colab-df-convert {\n",
              "      background-color: #E8F0FE;\n",
              "      border: none;\n",
              "      border-radius: 50%;\n",
              "      cursor: pointer;\n",
              "      display: none;\n",
              "      fill: #1967D2;\n",
              "      height: 32px;\n",
              "      padding: 0 0 0 0;\n",
              "      width: 32px;\n",
              "    }\n",
              "\n",
              "    .colab-df-convert:hover {\n",
              "      background-color: #E2EBFA;\n",
              "      box-shadow: 0px 1px 2px rgba(60, 64, 67, 0.3), 0px 1px 3px 1px rgba(60, 64, 67, 0.15);\n",
              "      fill: #174EA6;\n",
              "    }\n",
              "\n",
              "    [theme=dark] .colab-df-convert {\n",
              "      background-color: #3B4455;\n",
              "      fill: #D2E3FC;\n",
              "    }\n",
              "\n",
              "    [theme=dark] .colab-df-convert:hover {\n",
              "      background-color: #434B5C;\n",
              "      box-shadow: 0px 1px 3px 1px rgba(0, 0, 0, 0.15);\n",
              "      filter: drop-shadow(0px 1px 2px rgba(0, 0, 0, 0.3));\n",
              "      fill: #FFFFFF;\n",
              "    }\n",
              "  </style>\n",
              "\n",
              "      <script>\n",
              "        const buttonEl =\n",
              "          document.querySelector('#df-4dc9ebf8-0ab9-49b5-b08d-3a8e1783931a button.colab-df-convert');\n",
              "        buttonEl.style.display =\n",
              "          google.colab.kernel.accessAllowed ? 'block' : 'none';\n",
              "\n",
              "        async function convertToInteractive(key) {\n",
              "          const element = document.querySelector('#df-4dc9ebf8-0ab9-49b5-b08d-3a8e1783931a');\n",
              "          const dataTable =\n",
              "            await google.colab.kernel.invokeFunction('convertToInteractive',\n",
              "                                                     [key], {});\n",
              "          if (!dataTable) return;\n",
              "\n",
              "          const docLinkHtml = 'Like what you see? Visit the ' +\n",
              "            '<a target=\"_blank\" href=https://colab.research.google.com/notebooks/data_table.ipynb>data table notebook</a>'\n",
              "            + ' to learn more about interactive tables.';\n",
              "          element.innerHTML = '';\n",
              "          dataTable['output_type'] = 'display_data';\n",
              "          await google.colab.output.renderOutput(dataTable, element);\n",
              "          const docLink = document.createElement('div');\n",
              "          docLink.innerHTML = docLinkHtml;\n",
              "          element.appendChild(docLink);\n",
              "        }\n",
              "      </script>\n",
              "    </div>\n",
              "  </div>\n",
              "  "
            ]
          },
          "metadata": {},
          "execution_count": 3
        }
      ]
    },
    {
      "cell_type": "code",
      "source": [
        "# 데이터에 missing value 확인\n",
        "ab_data.isnull().sum()"
      ],
      "metadata": {
        "colab": {
          "base_uri": "https://localhost:8080/"
        },
        "id": "OFjoHWNboAxW",
        "outputId": "6a6a9e87-2693-4103-e60d-50442a3e3930"
      },
      "execution_count": 4,
      "outputs": [
        {
          "output_type": "execute_result",
          "data": {
            "text/plain": [
              "유저아이디    0\n",
              "방문시간     0\n",
              "그룹       0\n",
              "랜딩페이지    0\n",
              "클릭       0\n",
              "dtype: int64"
            ]
          },
          "metadata": {},
          "execution_count": 4
        }
      ]
    },
    {
      "cell_type": "markdown",
      "source": [
        "### **2-1. 샘플 사이즈 확인**\n",
        "\n",
        "AB 테스트를 실시하기 위해서는 **충분한 Sample Size**, 즉 **방문자수**가 확보되어야 합니다. <br>\n",
        "\n",
        "그 이유는 사실상 AB 테스트는 통계적 개념인 가설검정이기 때문인데요. 통계적으로 의미 있는 차이를 데이터에서 도출하기 위해서는 충분한 데이터가 뒷받침 되어야 합니다. 그리고 우리는 통계적으로 의미있는 차가 생겨야지만 결과를 신뢰할 수 있게 되므로 ***AB 테스트 진행시 방문자수는 매우 중요합니다.*** \n",
        "\n",
        "<br>\n",
        "\n",
        "**그럼 AB 테스트 진행시 어느 정도의 방문자수가 필요한 것일까요?**\n",
        "\n",
        "AB테스트 진행시 충분한 데이터의 개수는 다양한 요소에 의해서 결정되어 집니다. <br> \n",
        "그 중 Baseline Conversion Rate, Minimum Detectable Effect, Statistiical Significance를 기반으로 AB 테스트의 샘플 사이즈를 계산해주는 툴인 **[옵티마이즐리](https://www.optimizely.com/sample-size-calculator/?effect=20&significance=95)**를 통해, 테스트 시작 전 어느 정도의 데이터가 필요한지 적절한 샘플 사이즈를 파악하도록 합니다.\n",
        "\n",
        "\n",
        "<img width='500' src='https://i.imgur.com/CIHJNyS.png'> \n",
        "\n",
        "\n",
        "</br>\n",
        "\n",
        "> 💡 **Tip: MDE란 무엇일까요?**\n",
        ">\n",
        ">AB 테스트 진행 시, MDE(Minimum Detectable Effect)는 sample에서의 A안과 B안의 상대적인 통계량차가 유의미한 것인지를 판단하는 기준라고 할 수 있습니다.\n",
        "예를 들어 A안의 전환율이 6.19%이고, B안의 전환율이 9.71% 일 때, sample에서의 effect size는 57%( $9.71 \\over 6.19$ $- 1$ )이며, 이는 두 가지 안의 상대적인 통계량차를 의미합니다. </br>\n",
        "> \n",
        "> 여기에서 우리는 57%가 유의미하게 큰 차이인 것인지, 아닌지를 판단해야하는데, 이 때 기준이 되는 것이 바로 MDE입니다. 만약 MDE가 35%라면, 우리는 위 결과를 통해 B안이 A안에 비해 상당히 우수한 대안임을 주장할 수 있을 것입니다.\n",
        "> - [How to set MDE in AB-Test](https://towardsdatascience.com/how-to-set-the-minimum-detectable-effect-in-ab-tests-fe07f8002d6d)\n",
        "- [Using MDE](https://support.optimizely.com/hc/en-us/articles/4410288881293-Use-minimum-detectable-effect-MDE-when-designing-an-experiment)"
      ],
      "metadata": {
        "id": "JBYR6iXOi3c9"
      }
    },
    {
      "cell_type": "code",
      "source": [
        "ab_data.shape"
      ],
      "metadata": {
        "colab": {
          "base_uri": "https://localhost:8080/"
        },
        "id": "9F8mMaEeke_c",
        "outputId": "7232ca80-eae3-4496-d142-05b463ff2b9f"
      },
      "execution_count": 5,
      "outputs": [
        {
          "output_type": "execute_result",
          "data": {
            "text/plain": [
              "(294478, 5)"
            ]
          },
          "metadata": {},
          "execution_count": 5
        }
      ]
    },
    {
      "cell_type": "markdown",
      "source": [
        "> **🔎 해설**  \n",
        "- 위의 옵티마이즐리를 통해 Conversion Rate가 12%이고 95%의 통계적 유의미함을 확인하기 위해서 최소 2,300개의 데이터가 필요한 것을 확인했습니다. 우리의 샘플 사이즈는 294,478이므로 ***충분한 데이터 개수를 확보***하고 있음을 알 수 있습니다.  "
      ],
      "metadata": {
        "id": "5dQOX-reukdH"
      }
    },
    {
      "cell_type": "markdown",
      "source": [
        "### **2-2. 순 방문자수 확인**\n",
        "\n",
        "**순 방문자수, unique visitor**란 해당 기간 동안 웹 사이트에 1회 이상 방문한 ***중복되지 않은 방문자***를 말하며, 순방문자 수는 고유한 ID값에 의해 구분됩니다.\n",
        "\n",
        "AB 테스트 데이터를 분석할 때에는 중복되는 방문자를 삭제해야 정확한 결과를 도출할 수 있으니 주의해 주세요!  \n",
        "\n"
      ],
      "metadata": {
        "id": "71oPg7mZD01H"
      }
    },
    {
      "cell_type": "code",
      "source": [
        "# 전체 방문자수 확인\n",
        "ab_data.유저아이디.shape[0]"
      ],
      "metadata": {
        "colab": {
          "base_uri": "https://localhost:8080/"
        },
        "id": "KnL5EhKYFafh",
        "outputId": "80d67d09-704f-4d45-b9ae-681829cb4bfe"
      },
      "execution_count": 6,
      "outputs": [
        {
          "output_type": "execute_result",
          "data": {
            "text/plain": [
              "294478"
            ]
          },
          "metadata": {},
          "execution_count": 6
        }
      ]
    },
    {
      "cell_type": "code",
      "source": [
        "# '순' 방문자수 확인\n",
        "ab_data.유저아이디.nunique()"
      ],
      "metadata": {
        "colab": {
          "base_uri": "https://localhost:8080/"
        },
        "id": "MVmXr4t8DwHk",
        "outputId": "04b0f53b-d783-40b4-ecdd-ef164b949294"
      },
      "execution_count": 7,
      "outputs": [
        {
          "output_type": "execute_result",
          "data": {
            "text/plain": [
              "290584"
            ]
          },
          "metadata": {},
          "execution_count": 7
        }
      ]
    },
    {
      "cell_type": "code",
      "source": [
        "# 중복되는 방문자들을 확인\n",
        "user_duplicates = ab_data[ab_data.duplicated(['유저아이디'])]\n",
        "user_duplicates "
      ],
      "metadata": {
        "colab": {
          "base_uri": "https://localhost:8080/",
          "height": 424
        },
        "id": "yemWaNHQEKA8",
        "outputId": "cc6866a3-99a2-46e8-95b9-e6c5f483c610"
      },
      "execution_count": 8,
      "outputs": [
        {
          "output_type": "execute_result",
          "data": {
            "text/plain": [
              "         유저아이디                        방문시간          그룹     랜딩페이지  클릭\n",
              "2656    698120  2017-01-15 17:13:42.602796     control  old_page   0\n",
              "2893    773192  2017-01-14 02:55:59.590927  experiment  new_page   0\n",
              "7500    899953  2017-01-07 03:06:54.068237     control  new_page   0\n",
              "8036    790934  2017-01-19 08:32:20.329057  experiment  new_page   0\n",
              "10218   633793  2017-01-17 00:16:00.746561  experiment  old_page   0\n",
              "...        ...                         ...         ...       ...  ..\n",
              "294308  905197  2017-01-03 06:56:47.488231  experiment  new_page   0\n",
              "294309  787083  2017-01-17 00:15:20.950723     control  old_page   0\n",
              "294328  641570  2017-01-09 21:59:27.695711     control  old_page   0\n",
              "294331  689637  2017-01-13 11:34:28.339532     control  new_page   0\n",
              "294355  744456  2017-01-13 09:32:07.106794  experiment  new_page   0\n",
              "\n",
              "[3894 rows x 5 columns]"
            ],
            "text/html": [
              "\n",
              "  <div id=\"df-1bca3694-72ea-47aa-9b3d-89825bec98af\">\n",
              "    <div class=\"colab-df-container\">\n",
              "      <div>\n",
              "<style scoped>\n",
              "    .dataframe tbody tr th:only-of-type {\n",
              "        vertical-align: middle;\n",
              "    }\n",
              "\n",
              "    .dataframe tbody tr th {\n",
              "        vertical-align: top;\n",
              "    }\n",
              "\n",
              "    .dataframe thead th {\n",
              "        text-align: right;\n",
              "    }\n",
              "</style>\n",
              "<table border=\"1\" class=\"dataframe\">\n",
              "  <thead>\n",
              "    <tr style=\"text-align: right;\">\n",
              "      <th></th>\n",
              "      <th>유저아이디</th>\n",
              "      <th>방문시간</th>\n",
              "      <th>그룹</th>\n",
              "      <th>랜딩페이지</th>\n",
              "      <th>클릭</th>\n",
              "    </tr>\n",
              "  </thead>\n",
              "  <tbody>\n",
              "    <tr>\n",
              "      <th>2656</th>\n",
              "      <td>698120</td>\n",
              "      <td>2017-01-15 17:13:42.602796</td>\n",
              "      <td>control</td>\n",
              "      <td>old_page</td>\n",
              "      <td>0</td>\n",
              "    </tr>\n",
              "    <tr>\n",
              "      <th>2893</th>\n",
              "      <td>773192</td>\n",
              "      <td>2017-01-14 02:55:59.590927</td>\n",
              "      <td>experiment</td>\n",
              "      <td>new_page</td>\n",
              "      <td>0</td>\n",
              "    </tr>\n",
              "    <tr>\n",
              "      <th>7500</th>\n",
              "      <td>899953</td>\n",
              "      <td>2017-01-07 03:06:54.068237</td>\n",
              "      <td>control</td>\n",
              "      <td>new_page</td>\n",
              "      <td>0</td>\n",
              "    </tr>\n",
              "    <tr>\n",
              "      <th>8036</th>\n",
              "      <td>790934</td>\n",
              "      <td>2017-01-19 08:32:20.329057</td>\n",
              "      <td>experiment</td>\n",
              "      <td>new_page</td>\n",
              "      <td>0</td>\n",
              "    </tr>\n",
              "    <tr>\n",
              "      <th>10218</th>\n",
              "      <td>633793</td>\n",
              "      <td>2017-01-17 00:16:00.746561</td>\n",
              "      <td>experiment</td>\n",
              "      <td>old_page</td>\n",
              "      <td>0</td>\n",
              "    </tr>\n",
              "    <tr>\n",
              "      <th>...</th>\n",
              "      <td>...</td>\n",
              "      <td>...</td>\n",
              "      <td>...</td>\n",
              "      <td>...</td>\n",
              "      <td>...</td>\n",
              "    </tr>\n",
              "    <tr>\n",
              "      <th>294308</th>\n",
              "      <td>905197</td>\n",
              "      <td>2017-01-03 06:56:47.488231</td>\n",
              "      <td>experiment</td>\n",
              "      <td>new_page</td>\n",
              "      <td>0</td>\n",
              "    </tr>\n",
              "    <tr>\n",
              "      <th>294309</th>\n",
              "      <td>787083</td>\n",
              "      <td>2017-01-17 00:15:20.950723</td>\n",
              "      <td>control</td>\n",
              "      <td>old_page</td>\n",
              "      <td>0</td>\n",
              "    </tr>\n",
              "    <tr>\n",
              "      <th>294328</th>\n",
              "      <td>641570</td>\n",
              "      <td>2017-01-09 21:59:27.695711</td>\n",
              "      <td>control</td>\n",
              "      <td>old_page</td>\n",
              "      <td>0</td>\n",
              "    </tr>\n",
              "    <tr>\n",
              "      <th>294331</th>\n",
              "      <td>689637</td>\n",
              "      <td>2017-01-13 11:34:28.339532</td>\n",
              "      <td>control</td>\n",
              "      <td>new_page</td>\n",
              "      <td>0</td>\n",
              "    </tr>\n",
              "    <tr>\n",
              "      <th>294355</th>\n",
              "      <td>744456</td>\n",
              "      <td>2017-01-13 09:32:07.106794</td>\n",
              "      <td>experiment</td>\n",
              "      <td>new_page</td>\n",
              "      <td>0</td>\n",
              "    </tr>\n",
              "  </tbody>\n",
              "</table>\n",
              "<p>3894 rows × 5 columns</p>\n",
              "</div>\n",
              "      <button class=\"colab-df-convert\" onclick=\"convertToInteractive('df-1bca3694-72ea-47aa-9b3d-89825bec98af')\"\n",
              "              title=\"Convert this dataframe to an interactive table.\"\n",
              "              style=\"display:none;\">\n",
              "        \n",
              "  <svg xmlns=\"http://www.w3.org/2000/svg\" height=\"24px\"viewBox=\"0 0 24 24\"\n",
              "       width=\"24px\">\n",
              "    <path d=\"M0 0h24v24H0V0z\" fill=\"none\"/>\n",
              "    <path d=\"M18.56 5.44l.94 2.06.94-2.06 2.06-.94-2.06-.94-.94-2.06-.94 2.06-2.06.94zm-11 1L8.5 8.5l.94-2.06 2.06-.94-2.06-.94L8.5 2.5l-.94 2.06-2.06.94zm10 10l.94 2.06.94-2.06 2.06-.94-2.06-.94-.94-2.06-.94 2.06-2.06.94z\"/><path d=\"M17.41 7.96l-1.37-1.37c-.4-.4-.92-.59-1.43-.59-.52 0-1.04.2-1.43.59L10.3 9.45l-7.72 7.72c-.78.78-.78 2.05 0 2.83L4 21.41c.39.39.9.59 1.41.59.51 0 1.02-.2 1.41-.59l7.78-7.78 2.81-2.81c.8-.78.8-2.07 0-2.86zM5.41 20L4 18.59l7.72-7.72 1.47 1.35L5.41 20z\"/>\n",
              "  </svg>\n",
              "      </button>\n",
              "      \n",
              "  <style>\n",
              "    .colab-df-container {\n",
              "      display:flex;\n",
              "      flex-wrap:wrap;\n",
              "      gap: 12px;\n",
              "    }\n",
              "\n",
              "    .colab-df-convert {\n",
              "      background-color: #E8F0FE;\n",
              "      border: none;\n",
              "      border-radius: 50%;\n",
              "      cursor: pointer;\n",
              "      display: none;\n",
              "      fill: #1967D2;\n",
              "      height: 32px;\n",
              "      padding: 0 0 0 0;\n",
              "      width: 32px;\n",
              "    }\n",
              "\n",
              "    .colab-df-convert:hover {\n",
              "      background-color: #E2EBFA;\n",
              "      box-shadow: 0px 1px 2px rgba(60, 64, 67, 0.3), 0px 1px 3px 1px rgba(60, 64, 67, 0.15);\n",
              "      fill: #174EA6;\n",
              "    }\n",
              "\n",
              "    [theme=dark] .colab-df-convert {\n",
              "      background-color: #3B4455;\n",
              "      fill: #D2E3FC;\n",
              "    }\n",
              "\n",
              "    [theme=dark] .colab-df-convert:hover {\n",
              "      background-color: #434B5C;\n",
              "      box-shadow: 0px 1px 3px 1px rgba(0, 0, 0, 0.15);\n",
              "      filter: drop-shadow(0px 1px 2px rgba(0, 0, 0, 0.3));\n",
              "      fill: #FFFFFF;\n",
              "    }\n",
              "  </style>\n",
              "\n",
              "      <script>\n",
              "        const buttonEl =\n",
              "          document.querySelector('#df-1bca3694-72ea-47aa-9b3d-89825bec98af button.colab-df-convert');\n",
              "        buttonEl.style.display =\n",
              "          google.colab.kernel.accessAllowed ? 'block' : 'none';\n",
              "\n",
              "        async function convertToInteractive(key) {\n",
              "          const element = document.querySelector('#df-1bca3694-72ea-47aa-9b3d-89825bec98af');\n",
              "          const dataTable =\n",
              "            await google.colab.kernel.invokeFunction('convertToInteractive',\n",
              "                                                     [key], {});\n",
              "          if (!dataTable) return;\n",
              "\n",
              "          const docLinkHtml = 'Like what you see? Visit the ' +\n",
              "            '<a target=\"_blank\" href=https://colab.research.google.com/notebooks/data_table.ipynb>data table notebook</a>'\n",
              "            + ' to learn more about interactive tables.';\n",
              "          element.innerHTML = '';\n",
              "          dataTable['output_type'] = 'display_data';\n",
              "          await google.colab.output.renderOutput(dataTable, element);\n",
              "          const docLink = document.createElement('div');\n",
              "          docLink.innerHTML = docLinkHtml;\n",
              "          element.appendChild(docLink);\n",
              "        }\n",
              "      </script>\n",
              "    </div>\n",
              "  </div>\n",
              "  "
            ]
          },
          "metadata": {},
          "execution_count": 8
        }
      ]
    },
    {
      "cell_type": "markdown",
      "source": [
        "> **🔎 해설**  \n",
        "- 데이터셋에 `3,894`명의 유저들이 중복되는 것을 확인할 수 있습니다. 아래에서 이 중복되는 방문자이 왜 발생하는지 확인해보도록 합니다."
      ],
      "metadata": {
        "id": "ZcMYMHD7EYSd"
      }
    },
    {
      "cell_type": "code",
      "source": [
        "ab_data[ab_data.유저아이디 == 698120]"
      ],
      "metadata": {
        "id": "1jFdc8IbEKDj",
        "colab": {
          "base_uri": "https://localhost:8080/",
          "height": 112
        },
        "outputId": "f98f32f1-b377-471b-ef41-569444e94efa"
      },
      "execution_count": 9,
      "outputs": [
        {
          "output_type": "execute_result",
          "data": {
            "text/plain": [
              "       유저아이디                        방문시간       그룹     랜딩페이지  클릭\n",
              "988   698120  2017-01-22 07:09:37.540970  control  new_page   0\n",
              "2656  698120  2017-01-15 17:13:42.602796  control  old_page   0"
            ],
            "text/html": [
              "\n",
              "  <div id=\"df-b9ef417c-c946-46f6-b488-485bd85a6427\">\n",
              "    <div class=\"colab-df-container\">\n",
              "      <div>\n",
              "<style scoped>\n",
              "    .dataframe tbody tr th:only-of-type {\n",
              "        vertical-align: middle;\n",
              "    }\n",
              "\n",
              "    .dataframe tbody tr th {\n",
              "        vertical-align: top;\n",
              "    }\n",
              "\n",
              "    .dataframe thead th {\n",
              "        text-align: right;\n",
              "    }\n",
              "</style>\n",
              "<table border=\"1\" class=\"dataframe\">\n",
              "  <thead>\n",
              "    <tr style=\"text-align: right;\">\n",
              "      <th></th>\n",
              "      <th>유저아이디</th>\n",
              "      <th>방문시간</th>\n",
              "      <th>그룹</th>\n",
              "      <th>랜딩페이지</th>\n",
              "      <th>클릭</th>\n",
              "    </tr>\n",
              "  </thead>\n",
              "  <tbody>\n",
              "    <tr>\n",
              "      <th>988</th>\n",
              "      <td>698120</td>\n",
              "      <td>2017-01-22 07:09:37.540970</td>\n",
              "      <td>control</td>\n",
              "      <td>new_page</td>\n",
              "      <td>0</td>\n",
              "    </tr>\n",
              "    <tr>\n",
              "      <th>2656</th>\n",
              "      <td>698120</td>\n",
              "      <td>2017-01-15 17:13:42.602796</td>\n",
              "      <td>control</td>\n",
              "      <td>old_page</td>\n",
              "      <td>0</td>\n",
              "    </tr>\n",
              "  </tbody>\n",
              "</table>\n",
              "</div>\n",
              "      <button class=\"colab-df-convert\" onclick=\"convertToInteractive('df-b9ef417c-c946-46f6-b488-485bd85a6427')\"\n",
              "              title=\"Convert this dataframe to an interactive table.\"\n",
              "              style=\"display:none;\">\n",
              "        \n",
              "  <svg xmlns=\"http://www.w3.org/2000/svg\" height=\"24px\"viewBox=\"0 0 24 24\"\n",
              "       width=\"24px\">\n",
              "    <path d=\"M0 0h24v24H0V0z\" fill=\"none\"/>\n",
              "    <path d=\"M18.56 5.44l.94 2.06.94-2.06 2.06-.94-2.06-.94-.94-2.06-.94 2.06-2.06.94zm-11 1L8.5 8.5l.94-2.06 2.06-.94-2.06-.94L8.5 2.5l-.94 2.06-2.06.94zm10 10l.94 2.06.94-2.06 2.06-.94-2.06-.94-.94-2.06-.94 2.06-2.06.94z\"/><path d=\"M17.41 7.96l-1.37-1.37c-.4-.4-.92-.59-1.43-.59-.52 0-1.04.2-1.43.59L10.3 9.45l-7.72 7.72c-.78.78-.78 2.05 0 2.83L4 21.41c.39.39.9.59 1.41.59.51 0 1.02-.2 1.41-.59l7.78-7.78 2.81-2.81c.8-.78.8-2.07 0-2.86zM5.41 20L4 18.59l7.72-7.72 1.47 1.35L5.41 20z\"/>\n",
              "  </svg>\n",
              "      </button>\n",
              "      \n",
              "  <style>\n",
              "    .colab-df-container {\n",
              "      display:flex;\n",
              "      flex-wrap:wrap;\n",
              "      gap: 12px;\n",
              "    }\n",
              "\n",
              "    .colab-df-convert {\n",
              "      background-color: #E8F0FE;\n",
              "      border: none;\n",
              "      border-radius: 50%;\n",
              "      cursor: pointer;\n",
              "      display: none;\n",
              "      fill: #1967D2;\n",
              "      height: 32px;\n",
              "      padding: 0 0 0 0;\n",
              "      width: 32px;\n",
              "    }\n",
              "\n",
              "    .colab-df-convert:hover {\n",
              "      background-color: #E2EBFA;\n",
              "      box-shadow: 0px 1px 2px rgba(60, 64, 67, 0.3), 0px 1px 3px 1px rgba(60, 64, 67, 0.15);\n",
              "      fill: #174EA6;\n",
              "    }\n",
              "\n",
              "    [theme=dark] .colab-df-convert {\n",
              "      background-color: #3B4455;\n",
              "      fill: #D2E3FC;\n",
              "    }\n",
              "\n",
              "    [theme=dark] .colab-df-convert:hover {\n",
              "      background-color: #434B5C;\n",
              "      box-shadow: 0px 1px 3px 1px rgba(0, 0, 0, 0.15);\n",
              "      filter: drop-shadow(0px 1px 2px rgba(0, 0, 0, 0.3));\n",
              "      fill: #FFFFFF;\n",
              "    }\n",
              "  </style>\n",
              "\n",
              "      <script>\n",
              "        const buttonEl =\n",
              "          document.querySelector('#df-b9ef417c-c946-46f6-b488-485bd85a6427 button.colab-df-convert');\n",
              "        buttonEl.style.display =\n",
              "          google.colab.kernel.accessAllowed ? 'block' : 'none';\n",
              "\n",
              "        async function convertToInteractive(key) {\n",
              "          const element = document.querySelector('#df-b9ef417c-c946-46f6-b488-485bd85a6427');\n",
              "          const dataTable =\n",
              "            await google.colab.kernel.invokeFunction('convertToInteractive',\n",
              "                                                     [key], {});\n",
              "          if (!dataTable) return;\n",
              "\n",
              "          const docLinkHtml = 'Like what you see? Visit the ' +\n",
              "            '<a target=\"_blank\" href=https://colab.research.google.com/notebooks/data_table.ipynb>data table notebook</a>'\n",
              "            + ' to learn more about interactive tables.';\n",
              "          element.innerHTML = '';\n",
              "          dataTable['output_type'] = 'display_data';\n",
              "          await google.colab.output.renderOutput(dataTable, element);\n",
              "          const docLink = document.createElement('div');\n",
              "          docLink.innerHTML = docLinkHtml;\n",
              "          element.appendChild(docLink);\n",
              "        }\n",
              "      </script>\n",
              "    </div>\n",
              "  </div>\n",
              "  "
            ]
          },
          "metadata": {},
          "execution_count": 9
        }
      ]
    },
    {
      "cell_type": "markdown",
      "source": [
        "> **🔎 해설**  \n",
        "- 유저아이디 `698120`가 대조군 그룹에 소속되어 있음에도 랜딩 페이지 new page가 유저에게 노출되었음을 알 수 있습니다. <br>\n",
        "- 대조군 그룹의 방문자는 old page에만 노출되어야 하고, 실험군 그룹의 방문자는 new page에만 노출되어야 합니다. 다음 사항을 따르지 않는 데이터는 정제되어야 합니다. <br>  \n",
        "<img width='350' src='https://i.imgur.com/4sDWoqL.png'>\n",
        "\n",
        "> **💡 Tip** <br>\n",
        "위의 사항을 따르지 않는 데이터를 확인하는 방법 **`a.`**와 **`b.`** 두 가지 코드를 이용해서 아래에서 배워보도록 합니다! \n"
      ],
      "metadata": {
        "id": "qfE4AzCpdmlD"
      }
    },
    {
      "cell_type": "code",
      "source": [
        "# 방문자 중 control 그룹인데 new page가 보여진 명수 확인\n",
        "ab_data[(ab_data.그룹 == \"control\") & (ab_data.랜딩페이지 == \"new_page\")].shape"
      ],
      "metadata": {
        "colab": {
          "base_uri": "https://localhost:8080/"
        },
        "id": "_2qdgeZIojAb",
        "outputId": "76220481-5909-42fe-a44e-f7d9a2a1135e"
      },
      "execution_count": 10,
      "outputs": [
        {
          "output_type": "execute_result",
          "data": {
            "text/plain": [
              "(1928, 5)"
            ]
          },
          "metadata": {},
          "execution_count": 10
        }
      ]
    },
    {
      "cell_type": "markdown",
      "source": [
        "**`a.`** List comprehension을 이용하여 데이터의 row를 하나씩 확인하여 그룹 컬럼과 랜딩페이지 컬럼의 매칭이 제대로 되지 않는 row들은 삭제해 줍니다.\n"
      ],
      "metadata": {
        "id": "eWCkXQp16LQP"
      }
    },
    {
      "cell_type": "code",
      "source": [
        "# 첫 번째 방법\n",
        "test = [\"old_page\" if i == \"control\" else \"new_page\" for i in ab_data.그룹]\n",
        "\n",
        "# control 그룹 중 new page를 본 유저와 experiemnt 그룹 중 old page를 본 유저들을 확인 \n",
        "error_data = ab_data[test != ab_data[\"랜딩페이지\"]]\n",
        "\n",
        "ab_data.drop(error_data.index)"
      ],
      "metadata": {
        "id": "auZG9fd8EKF9",
        "colab": {
          "base_uri": "https://localhost:8080/",
          "height": 424
        },
        "outputId": "08160bda-3639-4ede-ddde-b1bbb3c9f31c"
      },
      "execution_count": 11,
      "outputs": [
        {
          "output_type": "execute_result",
          "data": {
            "text/plain": [
              "         유저아이디                        방문시간          그룹     랜딩페이지  클릭\n",
              "0       851104  2017-01-21 22:11:48.556739     control  old_page   0\n",
              "1       804228  2017-01-12 08:01:45.159739     control  old_page   0\n",
              "2       661590  2017-01-11 16:55:06.154213  experiment  new_page   0\n",
              "3       853541  2017-01-08 18:28:03.143765  experiment  new_page   0\n",
              "4       864975  2017-01-21 01:52:26.210827     control  old_page   1\n",
              "...        ...                         ...         ...       ...  ..\n",
              "294473  751197  2017-01-03 22:28:38.630509     control  old_page   0\n",
              "294474  945152  2017-01-12 00:51:57.078372     control  old_page   0\n",
              "294475  734608  2017-01-22 11:45:03.439544     control  old_page   0\n",
              "294476  697314  2017-01-15 01:20:28.957438     control  old_page   0\n",
              "294477  715931  2017-01-16 12:40:24.467417  experiment  new_page   0\n",
              "\n",
              "[290585 rows x 5 columns]"
            ],
            "text/html": [
              "\n",
              "  <div id=\"df-0bd6e117-ea78-46f6-bcda-3476d08c3e5a\">\n",
              "    <div class=\"colab-df-container\">\n",
              "      <div>\n",
              "<style scoped>\n",
              "    .dataframe tbody tr th:only-of-type {\n",
              "        vertical-align: middle;\n",
              "    }\n",
              "\n",
              "    .dataframe tbody tr th {\n",
              "        vertical-align: top;\n",
              "    }\n",
              "\n",
              "    .dataframe thead th {\n",
              "        text-align: right;\n",
              "    }\n",
              "</style>\n",
              "<table border=\"1\" class=\"dataframe\">\n",
              "  <thead>\n",
              "    <tr style=\"text-align: right;\">\n",
              "      <th></th>\n",
              "      <th>유저아이디</th>\n",
              "      <th>방문시간</th>\n",
              "      <th>그룹</th>\n",
              "      <th>랜딩페이지</th>\n",
              "      <th>클릭</th>\n",
              "    </tr>\n",
              "  </thead>\n",
              "  <tbody>\n",
              "    <tr>\n",
              "      <th>0</th>\n",
              "      <td>851104</td>\n",
              "      <td>2017-01-21 22:11:48.556739</td>\n",
              "      <td>control</td>\n",
              "      <td>old_page</td>\n",
              "      <td>0</td>\n",
              "    </tr>\n",
              "    <tr>\n",
              "      <th>1</th>\n",
              "      <td>804228</td>\n",
              "      <td>2017-01-12 08:01:45.159739</td>\n",
              "      <td>control</td>\n",
              "      <td>old_page</td>\n",
              "      <td>0</td>\n",
              "    </tr>\n",
              "    <tr>\n",
              "      <th>2</th>\n",
              "      <td>661590</td>\n",
              "      <td>2017-01-11 16:55:06.154213</td>\n",
              "      <td>experiment</td>\n",
              "      <td>new_page</td>\n",
              "      <td>0</td>\n",
              "    </tr>\n",
              "    <tr>\n",
              "      <th>3</th>\n",
              "      <td>853541</td>\n",
              "      <td>2017-01-08 18:28:03.143765</td>\n",
              "      <td>experiment</td>\n",
              "      <td>new_page</td>\n",
              "      <td>0</td>\n",
              "    </tr>\n",
              "    <tr>\n",
              "      <th>4</th>\n",
              "      <td>864975</td>\n",
              "      <td>2017-01-21 01:52:26.210827</td>\n",
              "      <td>control</td>\n",
              "      <td>old_page</td>\n",
              "      <td>1</td>\n",
              "    </tr>\n",
              "    <tr>\n",
              "      <th>...</th>\n",
              "      <td>...</td>\n",
              "      <td>...</td>\n",
              "      <td>...</td>\n",
              "      <td>...</td>\n",
              "      <td>...</td>\n",
              "    </tr>\n",
              "    <tr>\n",
              "      <th>294473</th>\n",
              "      <td>751197</td>\n",
              "      <td>2017-01-03 22:28:38.630509</td>\n",
              "      <td>control</td>\n",
              "      <td>old_page</td>\n",
              "      <td>0</td>\n",
              "    </tr>\n",
              "    <tr>\n",
              "      <th>294474</th>\n",
              "      <td>945152</td>\n",
              "      <td>2017-01-12 00:51:57.078372</td>\n",
              "      <td>control</td>\n",
              "      <td>old_page</td>\n",
              "      <td>0</td>\n",
              "    </tr>\n",
              "    <tr>\n",
              "      <th>294475</th>\n",
              "      <td>734608</td>\n",
              "      <td>2017-01-22 11:45:03.439544</td>\n",
              "      <td>control</td>\n",
              "      <td>old_page</td>\n",
              "      <td>0</td>\n",
              "    </tr>\n",
              "    <tr>\n",
              "      <th>294476</th>\n",
              "      <td>697314</td>\n",
              "      <td>2017-01-15 01:20:28.957438</td>\n",
              "      <td>control</td>\n",
              "      <td>old_page</td>\n",
              "      <td>0</td>\n",
              "    </tr>\n",
              "    <tr>\n",
              "      <th>294477</th>\n",
              "      <td>715931</td>\n",
              "      <td>2017-01-16 12:40:24.467417</td>\n",
              "      <td>experiment</td>\n",
              "      <td>new_page</td>\n",
              "      <td>0</td>\n",
              "    </tr>\n",
              "  </tbody>\n",
              "</table>\n",
              "<p>290585 rows × 5 columns</p>\n",
              "</div>\n",
              "      <button class=\"colab-df-convert\" onclick=\"convertToInteractive('df-0bd6e117-ea78-46f6-bcda-3476d08c3e5a')\"\n",
              "              title=\"Convert this dataframe to an interactive table.\"\n",
              "              style=\"display:none;\">\n",
              "        \n",
              "  <svg xmlns=\"http://www.w3.org/2000/svg\" height=\"24px\"viewBox=\"0 0 24 24\"\n",
              "       width=\"24px\">\n",
              "    <path d=\"M0 0h24v24H0V0z\" fill=\"none\"/>\n",
              "    <path d=\"M18.56 5.44l.94 2.06.94-2.06 2.06-.94-2.06-.94-.94-2.06-.94 2.06-2.06.94zm-11 1L8.5 8.5l.94-2.06 2.06-.94-2.06-.94L8.5 2.5l-.94 2.06-2.06.94zm10 10l.94 2.06.94-2.06 2.06-.94-2.06-.94-.94-2.06-.94 2.06-2.06.94z\"/><path d=\"M17.41 7.96l-1.37-1.37c-.4-.4-.92-.59-1.43-.59-.52 0-1.04.2-1.43.59L10.3 9.45l-7.72 7.72c-.78.78-.78 2.05 0 2.83L4 21.41c.39.39.9.59 1.41.59.51 0 1.02-.2 1.41-.59l7.78-7.78 2.81-2.81c.8-.78.8-2.07 0-2.86zM5.41 20L4 18.59l7.72-7.72 1.47 1.35L5.41 20z\"/>\n",
              "  </svg>\n",
              "      </button>\n",
              "      \n",
              "  <style>\n",
              "    .colab-df-container {\n",
              "      display:flex;\n",
              "      flex-wrap:wrap;\n",
              "      gap: 12px;\n",
              "    }\n",
              "\n",
              "    .colab-df-convert {\n",
              "      background-color: #E8F0FE;\n",
              "      border: none;\n",
              "      border-radius: 50%;\n",
              "      cursor: pointer;\n",
              "      display: none;\n",
              "      fill: #1967D2;\n",
              "      height: 32px;\n",
              "      padding: 0 0 0 0;\n",
              "      width: 32px;\n",
              "    }\n",
              "\n",
              "    .colab-df-convert:hover {\n",
              "      background-color: #E2EBFA;\n",
              "      box-shadow: 0px 1px 2px rgba(60, 64, 67, 0.3), 0px 1px 3px 1px rgba(60, 64, 67, 0.15);\n",
              "      fill: #174EA6;\n",
              "    }\n",
              "\n",
              "    [theme=dark] .colab-df-convert {\n",
              "      background-color: #3B4455;\n",
              "      fill: #D2E3FC;\n",
              "    }\n",
              "\n",
              "    [theme=dark] .colab-df-convert:hover {\n",
              "      background-color: #434B5C;\n",
              "      box-shadow: 0px 1px 3px 1px rgba(0, 0, 0, 0.15);\n",
              "      filter: drop-shadow(0px 1px 2px rgba(0, 0, 0, 0.3));\n",
              "      fill: #FFFFFF;\n",
              "    }\n",
              "  </style>\n",
              "\n",
              "      <script>\n",
              "        const buttonEl =\n",
              "          document.querySelector('#df-0bd6e117-ea78-46f6-bcda-3476d08c3e5a button.colab-df-convert');\n",
              "        buttonEl.style.display =\n",
              "          google.colab.kernel.accessAllowed ? 'block' : 'none';\n",
              "\n",
              "        async function convertToInteractive(key) {\n",
              "          const element = document.querySelector('#df-0bd6e117-ea78-46f6-bcda-3476d08c3e5a');\n",
              "          const dataTable =\n",
              "            await google.colab.kernel.invokeFunction('convertToInteractive',\n",
              "                                                     [key], {});\n",
              "          if (!dataTable) return;\n",
              "\n",
              "          const docLinkHtml = 'Like what you see? Visit the ' +\n",
              "            '<a target=\"_blank\" href=https://colab.research.google.com/notebooks/data_table.ipynb>data table notebook</a>'\n",
              "            + ' to learn more about interactive tables.';\n",
              "          element.innerHTML = '';\n",
              "          dataTable['output_type'] = 'display_data';\n",
              "          await google.colab.output.renderOutput(dataTable, element);\n",
              "          const docLink = document.createElement('div');\n",
              "          docLink.innerHTML = docLinkHtml;\n",
              "          element.appendChild(docLink);\n",
              "        }\n",
              "      </script>\n",
              "    </div>\n",
              "  </div>\n",
              "  "
            ]
          },
          "metadata": {},
          "execution_count": 11
        }
      ]
    },
    {
      "cell_type": "markdown",
      "source": [
        "**`b.`** 데이터의 row를 하나씩 꺼내는 방법이 아닌 조건을 걸어 조건에 해당하는 row를 한꺼번에 꺼냅니다."
      ],
      "metadata": {
        "id": "zhgYEeM47s0p"
      }
    },
    {
      "cell_type": "code",
      "source": [
        "# 두 번째 방법 (더 효율적인 방법)\n",
        "ab_data_clean = ab_data[(ab_data.그룹 == \"experiment\") == (ab_data.랜딩페이지 == \"new_page\")]"
      ],
      "metadata": {
        "id": "tOxvG1foEKIc"
      },
      "execution_count": 12,
      "outputs": []
    },
    {
      "cell_type": "code",
      "source": [
        "# 대조군 그룹은 old page에만, 실험군 그룹은 new page에만 노출됨을 확인\n",
        "ab_data_clean[((ab_data_clean['그룹'] == 'experiment') == (ab_data_clean['랜딩페이지'] == 'new_page')) == False].shape[0]"
      ],
      "metadata": {
        "colab": {
          "base_uri": "https://localhost:8080/"
        },
        "id": "ypZMpjakh6lg",
        "outputId": "f42a4429-678f-4497-85bd-63c35f124b51"
      },
      "execution_count": 13,
      "outputs": [
        {
          "output_type": "execute_result",
          "data": {
            "text/plain": [
              "0"
            ]
          },
          "metadata": {},
          "execution_count": 13
        }
      ]
    },
    {
      "cell_type": "markdown",
      "source": [
        "> **🔎 해설**  \n",
        "- 위의 전체 방문자수에서 각 그룹에 잘못 매칭되어진 데이터를 확인한뒤, **3,893개의 데이터가 제거**됐음을 확인할 수 있습니다. <br>\n",
        "- 하지만 여전히 순 방문자수 **하나 더 많은 것을 확인할 수 있습니다**. 이 존재하는 하나의 중복치를 확인하면 아래와 같이 중복된 유저 한 명이 나옴을 알 수 있습니다. 이 중복된 데이터를 삭제하도록 합니다!"
      ],
      "metadata": {
        "id": "DKEkVR_vgAIg"
      }
    },
    {
      "cell_type": "code",
      "source": [
        "ab_data_clean[ab_data_clean.duplicated([\"유저아이디\"])]"
      ],
      "metadata": {
        "id": "8VWIaZ7BEKNH",
        "colab": {
          "base_uri": "https://localhost:8080/",
          "height": 81
        },
        "outputId": "c4546336-1801-4915-e748-2956a8bdb887"
      },
      "execution_count": 14,
      "outputs": [
        {
          "output_type": "execute_result",
          "data": {
            "text/plain": [
              "       유저아이디                        방문시간          그룹     랜딩페이지  클릭\n",
              "2893  773192  2017-01-14 02:55:59.590927  experiment  new_page   0"
            ],
            "text/html": [
              "\n",
              "  <div id=\"df-e6ac08bf-1d41-4ac6-99fe-9c733f591b0f\">\n",
              "    <div class=\"colab-df-container\">\n",
              "      <div>\n",
              "<style scoped>\n",
              "    .dataframe tbody tr th:only-of-type {\n",
              "        vertical-align: middle;\n",
              "    }\n",
              "\n",
              "    .dataframe tbody tr th {\n",
              "        vertical-align: top;\n",
              "    }\n",
              "\n",
              "    .dataframe thead th {\n",
              "        text-align: right;\n",
              "    }\n",
              "</style>\n",
              "<table border=\"1\" class=\"dataframe\">\n",
              "  <thead>\n",
              "    <tr style=\"text-align: right;\">\n",
              "      <th></th>\n",
              "      <th>유저아이디</th>\n",
              "      <th>방문시간</th>\n",
              "      <th>그룹</th>\n",
              "      <th>랜딩페이지</th>\n",
              "      <th>클릭</th>\n",
              "    </tr>\n",
              "  </thead>\n",
              "  <tbody>\n",
              "    <tr>\n",
              "      <th>2893</th>\n",
              "      <td>773192</td>\n",
              "      <td>2017-01-14 02:55:59.590927</td>\n",
              "      <td>experiment</td>\n",
              "      <td>new_page</td>\n",
              "      <td>0</td>\n",
              "    </tr>\n",
              "  </tbody>\n",
              "</table>\n",
              "</div>\n",
              "      <button class=\"colab-df-convert\" onclick=\"convertToInteractive('df-e6ac08bf-1d41-4ac6-99fe-9c733f591b0f')\"\n",
              "              title=\"Convert this dataframe to an interactive table.\"\n",
              "              style=\"display:none;\">\n",
              "        \n",
              "  <svg xmlns=\"http://www.w3.org/2000/svg\" height=\"24px\"viewBox=\"0 0 24 24\"\n",
              "       width=\"24px\">\n",
              "    <path d=\"M0 0h24v24H0V0z\" fill=\"none\"/>\n",
              "    <path d=\"M18.56 5.44l.94 2.06.94-2.06 2.06-.94-2.06-.94-.94-2.06-.94 2.06-2.06.94zm-11 1L8.5 8.5l.94-2.06 2.06-.94-2.06-.94L8.5 2.5l-.94 2.06-2.06.94zm10 10l.94 2.06.94-2.06 2.06-.94-2.06-.94-.94-2.06-.94 2.06-2.06.94z\"/><path d=\"M17.41 7.96l-1.37-1.37c-.4-.4-.92-.59-1.43-.59-.52 0-1.04.2-1.43.59L10.3 9.45l-7.72 7.72c-.78.78-.78 2.05 0 2.83L4 21.41c.39.39.9.59 1.41.59.51 0 1.02-.2 1.41-.59l7.78-7.78 2.81-2.81c.8-.78.8-2.07 0-2.86zM5.41 20L4 18.59l7.72-7.72 1.47 1.35L5.41 20z\"/>\n",
              "  </svg>\n",
              "      </button>\n",
              "      \n",
              "  <style>\n",
              "    .colab-df-container {\n",
              "      display:flex;\n",
              "      flex-wrap:wrap;\n",
              "      gap: 12px;\n",
              "    }\n",
              "\n",
              "    .colab-df-convert {\n",
              "      background-color: #E8F0FE;\n",
              "      border: none;\n",
              "      border-radius: 50%;\n",
              "      cursor: pointer;\n",
              "      display: none;\n",
              "      fill: #1967D2;\n",
              "      height: 32px;\n",
              "      padding: 0 0 0 0;\n",
              "      width: 32px;\n",
              "    }\n",
              "\n",
              "    .colab-df-convert:hover {\n",
              "      background-color: #E2EBFA;\n",
              "      box-shadow: 0px 1px 2px rgba(60, 64, 67, 0.3), 0px 1px 3px 1px rgba(60, 64, 67, 0.15);\n",
              "      fill: #174EA6;\n",
              "    }\n",
              "\n",
              "    [theme=dark] .colab-df-convert {\n",
              "      background-color: #3B4455;\n",
              "      fill: #D2E3FC;\n",
              "    }\n",
              "\n",
              "    [theme=dark] .colab-df-convert:hover {\n",
              "      background-color: #434B5C;\n",
              "      box-shadow: 0px 1px 3px 1px rgba(0, 0, 0, 0.15);\n",
              "      filter: drop-shadow(0px 1px 2px rgba(0, 0, 0, 0.3));\n",
              "      fill: #FFFFFF;\n",
              "    }\n",
              "  </style>\n",
              "\n",
              "      <script>\n",
              "        const buttonEl =\n",
              "          document.querySelector('#df-e6ac08bf-1d41-4ac6-99fe-9c733f591b0f button.colab-df-convert');\n",
              "        buttonEl.style.display =\n",
              "          google.colab.kernel.accessAllowed ? 'block' : 'none';\n",
              "\n",
              "        async function convertToInteractive(key) {\n",
              "          const element = document.querySelector('#df-e6ac08bf-1d41-4ac6-99fe-9c733f591b0f');\n",
              "          const dataTable =\n",
              "            await google.colab.kernel.invokeFunction('convertToInteractive',\n",
              "                                                     [key], {});\n",
              "          if (!dataTable) return;\n",
              "\n",
              "          const docLinkHtml = 'Like what you see? Visit the ' +\n",
              "            '<a target=\"_blank\" href=https://colab.research.google.com/notebooks/data_table.ipynb>data table notebook</a>'\n",
              "            + ' to learn more about interactive tables.';\n",
              "          element.innerHTML = '';\n",
              "          dataTable['output_type'] = 'display_data';\n",
              "          await google.colab.output.renderOutput(dataTable, element);\n",
              "          const docLink = document.createElement('div');\n",
              "          docLink.innerHTML = docLinkHtml;\n",
              "          element.appendChild(docLink);\n",
              "        }\n",
              "      </script>\n",
              "    </div>\n",
              "  </div>\n",
              "  "
            ]
          },
          "metadata": {},
          "execution_count": 14
        }
      ]
    },
    {
      "cell_type": "code",
      "source": [
        "# 중복되는 유저 제거\n",
        "ab_data_clean = ab_data_clean.drop_duplicates(['유저아이디'])"
      ],
      "metadata": {
        "id": "ZkPTSBqsEKRx"
      },
      "execution_count": 15,
      "outputs": []
    },
    {
      "cell_type": "code",
      "source": [
        "# 제거되었는지 확인\n",
        "ab_data_clean[ab_data_clean.duplicated([\"유저아이디\"])]"
      ],
      "metadata": {
        "id": "t87MF3JyEKUN",
        "colab": {
          "base_uri": "https://localhost:8080/",
          "height": 49
        },
        "outputId": "49045d47-d76d-480e-b8c9-e96cc5dc3412"
      },
      "execution_count": 16,
      "outputs": [
        {
          "output_type": "execute_result",
          "data": {
            "text/plain": [
              "Empty DataFrame\n",
              "Columns: [유저아이디, 방문시간, 그룹, 랜딩페이지, 클릭]\n",
              "Index: []"
            ],
            "text/html": [
              "\n",
              "  <div id=\"df-51d73a7a-d88e-42cd-aab6-d3e6d9852b36\">\n",
              "    <div class=\"colab-df-container\">\n",
              "      <div>\n",
              "<style scoped>\n",
              "    .dataframe tbody tr th:only-of-type {\n",
              "        vertical-align: middle;\n",
              "    }\n",
              "\n",
              "    .dataframe tbody tr th {\n",
              "        vertical-align: top;\n",
              "    }\n",
              "\n",
              "    .dataframe thead th {\n",
              "        text-align: right;\n",
              "    }\n",
              "</style>\n",
              "<table border=\"1\" class=\"dataframe\">\n",
              "  <thead>\n",
              "    <tr style=\"text-align: right;\">\n",
              "      <th></th>\n",
              "      <th>유저아이디</th>\n",
              "      <th>방문시간</th>\n",
              "      <th>그룹</th>\n",
              "      <th>랜딩페이지</th>\n",
              "      <th>클릭</th>\n",
              "    </tr>\n",
              "  </thead>\n",
              "  <tbody>\n",
              "  </tbody>\n",
              "</table>\n",
              "</div>\n",
              "      <button class=\"colab-df-convert\" onclick=\"convertToInteractive('df-51d73a7a-d88e-42cd-aab6-d3e6d9852b36')\"\n",
              "              title=\"Convert this dataframe to an interactive table.\"\n",
              "              style=\"display:none;\">\n",
              "        \n",
              "  <svg xmlns=\"http://www.w3.org/2000/svg\" height=\"24px\"viewBox=\"0 0 24 24\"\n",
              "       width=\"24px\">\n",
              "    <path d=\"M0 0h24v24H0V0z\" fill=\"none\"/>\n",
              "    <path d=\"M18.56 5.44l.94 2.06.94-2.06 2.06-.94-2.06-.94-.94-2.06-.94 2.06-2.06.94zm-11 1L8.5 8.5l.94-2.06 2.06-.94-2.06-.94L8.5 2.5l-.94 2.06-2.06.94zm10 10l.94 2.06.94-2.06 2.06-.94-2.06-.94-.94-2.06-.94 2.06-2.06.94z\"/><path d=\"M17.41 7.96l-1.37-1.37c-.4-.4-.92-.59-1.43-.59-.52 0-1.04.2-1.43.59L10.3 9.45l-7.72 7.72c-.78.78-.78 2.05 0 2.83L4 21.41c.39.39.9.59 1.41.59.51 0 1.02-.2 1.41-.59l7.78-7.78 2.81-2.81c.8-.78.8-2.07 0-2.86zM5.41 20L4 18.59l7.72-7.72 1.47 1.35L5.41 20z\"/>\n",
              "  </svg>\n",
              "      </button>\n",
              "      \n",
              "  <style>\n",
              "    .colab-df-container {\n",
              "      display:flex;\n",
              "      flex-wrap:wrap;\n",
              "      gap: 12px;\n",
              "    }\n",
              "\n",
              "    .colab-df-convert {\n",
              "      background-color: #E8F0FE;\n",
              "      border: none;\n",
              "      border-radius: 50%;\n",
              "      cursor: pointer;\n",
              "      display: none;\n",
              "      fill: #1967D2;\n",
              "      height: 32px;\n",
              "      padding: 0 0 0 0;\n",
              "      width: 32px;\n",
              "    }\n",
              "\n",
              "    .colab-df-convert:hover {\n",
              "      background-color: #E2EBFA;\n",
              "      box-shadow: 0px 1px 2px rgba(60, 64, 67, 0.3), 0px 1px 3px 1px rgba(60, 64, 67, 0.15);\n",
              "      fill: #174EA6;\n",
              "    }\n",
              "\n",
              "    [theme=dark] .colab-df-convert {\n",
              "      background-color: #3B4455;\n",
              "      fill: #D2E3FC;\n",
              "    }\n",
              "\n",
              "    [theme=dark] .colab-df-convert:hover {\n",
              "      background-color: #434B5C;\n",
              "      box-shadow: 0px 1px 3px 1px rgba(0, 0, 0, 0.15);\n",
              "      filter: drop-shadow(0px 1px 2px rgba(0, 0, 0, 0.3));\n",
              "      fill: #FFFFFF;\n",
              "    }\n",
              "  </style>\n",
              "\n",
              "      <script>\n",
              "        const buttonEl =\n",
              "          document.querySelector('#df-51d73a7a-d88e-42cd-aab6-d3e6d9852b36 button.colab-df-convert');\n",
              "        buttonEl.style.display =\n",
              "          google.colab.kernel.accessAllowed ? 'block' : 'none';\n",
              "\n",
              "        async function convertToInteractive(key) {\n",
              "          const element = document.querySelector('#df-51d73a7a-d88e-42cd-aab6-d3e6d9852b36');\n",
              "          const dataTable =\n",
              "            await google.colab.kernel.invokeFunction('convertToInteractive',\n",
              "                                                     [key], {});\n",
              "          if (!dataTable) return;\n",
              "\n",
              "          const docLinkHtml = 'Like what you see? Visit the ' +\n",
              "            '<a target=\"_blank\" href=https://colab.research.google.com/notebooks/data_table.ipynb>data table notebook</a>'\n",
              "            + ' to learn more about interactive tables.';\n",
              "          element.innerHTML = '';\n",
              "          dataTable['output_type'] = 'display_data';\n",
              "          await google.colab.output.renderOutput(dataTable, element);\n",
              "          const docLink = document.createElement('div');\n",
              "          docLink.innerHTML = docLinkHtml;\n",
              "          element.appendChild(docLink);\n",
              "        }\n",
              "      </script>\n",
              "    </div>\n",
              "  </div>\n",
              "  "
            ]
          },
          "metadata": {},
          "execution_count": 16
        }
      ]
    },
    {
      "cell_type": "markdown",
      "source": [
        "> **🔎 해설** <br>\n",
        "위와 같이 AB 테스트 진행시, 전체 방문자에서 **순 방문자**만을 도출하여 분석하는 것은 AB 테스트의 정확도를 위한 중요한 단계입니다.\n"
      ],
      "metadata": {
        "id": "E6fv09bHhPh2"
      }
    },
    {
      "cell_type": "markdown",
      "source": [
        "### **2-3. AB 테스트 진행 기간**\n",
        "\n",
        "AB 테스트는 얼마 동안 시행했는지 중요한 테스트로 수집된 데이터의 개수에 따라 다름이 있겠지만 **30일을 넘기지 않는 것을 추천합니다**. <br> \n",
        "\n",
        "- 첫번째 이유는 **통계적인 측면**에 있습니다. <br>\n",
        "샘플 사이즈가 늘어나면 표준오차는 줄어들기 때문에, **p-value는 자연히 감소**하게 됩니다. 그런 경우 새로운 버전이 효과가 없는 경우에도 통계적으로는 유의미하다는 결과가 나와 채택하게 되는 오류를 범하게 됩니다! \n",
        "\n",
        "- 두번째 이유는 **비지니스 측면**에 있습니다. <br>\n",
        "AB 테스트는 검증되지 않은 새로운 소재를 트래픽으로 보내는 것이므로 비니지스 측면에서도 긴 시간의 테스트는 지양됩니다.\n"
      ],
      "metadata": {
        "id": "gLGYJ1Juf2aw"
      }
    },
    {
      "cell_type": "code",
      "source": [
        "from datetime import datetime\n",
        "\n",
        "ab_data_clean[\"방문시간\"] = pd.to_datetime(ab_data_clean[\"방문시간\"])\n",
        "\n",
        "ab_data_clean.방문시간.max() - ab_data_clean.방문시간.min()"
      ],
      "metadata": {
        "colab": {
          "base_uri": "https://localhost:8080/"
        },
        "id": "5mRN8qUtnrIn",
        "outputId": "5fb68beb-575e-49b4-b7be-2755dfe33137"
      },
      "execution_count": 17,
      "outputs": [
        {
          "output_type": "execute_result",
          "data": {
            "text/plain": [
              "Timedelta('21 days 23:59:49.081927')"
            ]
          },
          "metadata": {},
          "execution_count": 17
        }
      ]
    },
    {
      "cell_type": "markdown",
      "source": [
        "> **🔎 해설** <br>\n",
        "우리의 데이터는 AB 테스트를 21동안 진행했고 이는 AB 테스트를 진행하기에 적당한 기간으로 보여집니다."
      ],
      "metadata": {
        "id": "-zJ-uA5Dp9cC"
      }
    },
    {
      "cell_type": "markdown",
      "source": [
        "### **2-4. 샘플에서의 전환율 확인**\n",
        "\n",
        "우선, \n",
        "AB 테스트를 통해 우리가 알고자 하는 것은 **모집단에서의 모수**입니다. <br>\n",
        "\n",
        "하지만 이전에 우리가 가지고 있는 샘플에서 확인해야 할 사항이 있기에, 이를 변수에 저장하여 <br>\n",
        "추후 모수를 확인하는 과정에서 사용하도록 합니다.\n",
        "- 전체 그룹에서의 전환율을 **`ctr_pop`** 변수에 저장\n",
        "- control 그룹에서의 전환율을 **`ctr_control`** 변수에 저장\n",
        "- experiment 그룹에서의 전환율을 **`ctr_exp`** 변수에 저장"
      ],
      "metadata": {
        "id": "aAhd0bEnnv7K"
      }
    },
    {
      "cell_type": "code",
      "source": [
        "# 전체 데이터셋에서의 전환율\n",
        "ctr_pop = ab_data_clean.클릭.mean()\n",
        "ctr_pop"
      ],
      "metadata": {
        "id": "2NruDe0mEKWy",
        "colab": {
          "base_uri": "https://localhost:8080/"
        },
        "outputId": "fc10771f-2c71-4cbc-b800-e32b062ed50b"
      },
      "execution_count": 18,
      "outputs": [
        {
          "output_type": "execute_result",
          "data": {
            "text/plain": [
              "0.11959708724499628"
            ]
          },
          "metadata": {},
          "execution_count": 18
        }
      ]
    },
    {
      "cell_type": "code",
      "source": [
        "# 대조군 그룹에서의 전환율\n",
        "ctr_control = ab_data_clean.query('그룹 == \"control\"').클릭.mean()\n",
        "ctr_control"
      ],
      "metadata": {
        "id": "GpSk9KEmEKZg",
        "colab": {
          "base_uri": "https://localhost:8080/"
        },
        "outputId": "598d5410-d47f-4e09-c460-e442f2b268cc"
      },
      "execution_count": 19,
      "outputs": [
        {
          "output_type": "execute_result",
          "data": {
            "text/plain": [
              "0.1203863045004612"
            ]
          },
          "metadata": {},
          "execution_count": 19
        }
      ]
    },
    {
      "cell_type": "code",
      "source": [
        "# 실험군 그룹에서의 전환율\n",
        "ctr_exp = ab_data_clean.query('그룹 == \"experiment\"').클릭.mean()\n",
        "ctr_exp"
      ],
      "metadata": {
        "id": "2UjfmI6EEKcL",
        "colab": {
          "base_uri": "https://localhost:8080/"
        },
        "outputId": "eb7bdbb3-03d6-4ecf-91a5-dd7a8601db77"
      },
      "execution_count": 20,
      "outputs": [
        {
          "output_type": "execute_result",
          "data": {
            "text/plain": [
              "0.11880806551510564"
            ]
          },
          "metadata": {},
          "execution_count": 20
        }
      ]
    },
    {
      "cell_type": "code",
      "source": [
        "# 두 그룹에서 전환율의 차이\n",
        "ctr_diff = ctr_exp - ctr_control\n",
        "ctr_diff"
      ],
      "metadata": {
        "colab": {
          "base_uri": "https://localhost:8080/"
        },
        "id": "jBqnbWeKscY6",
        "outputId": "fb9837ef-6c6a-4cca-bd34-1654ee97d809"
      },
      "execution_count": 21,
      "outputs": [
        {
          "output_type": "execute_result",
          "data": {
            "text/plain": [
              "-0.0015782389853555567"
            ]
          },
          "metadata": {},
          "execution_count": 21
        }
      ]
    },
    {
      "cell_type": "markdown",
      "source": [
        "> **🔎 해설** <br>\n",
        "- 샘플에서의 대조군 그룹과 실험군 그룹의 전환율 차이는 -0.15%으로 웹 사이트에 ***아무런 변화를 주지 않은 그룹의 전환율이 좀 더 높은 것***을 알 수 있습니다. <br>\n",
        "- 하지만, 이 결과는 샘플에서만의 결과이며 우리가 알고자 하는 것은 모집단에서 결과입니다. 그러므로 추후 가정검설을 통해 우리가 알고자하는 모수를 샘플에서 얻은 값을 이용해 찾아가도록 합니다. \n"
      ],
      "metadata": {
        "id": "5Xbi6L7lsp4q"
      }
    },
    {
      "cell_type": "markdown",
      "source": [
        "### **2-5. 대조군과 실험군의 명수 비교**"
      ],
      "metadata": {
        "id": "OlkWAcIOs6aH"
      }
    },
    {
      "cell_type": "code",
      "source": [
        "# 전체 방문자 중 새 페이지를 본 확률\n",
        "round(ab_data_clean[ab_data_clean.랜딩페이지 == \"new_page\"].shape[0] / ab_data_clean.shape[0],2)"
      ],
      "metadata": {
        "colab": {
          "base_uri": "https://localhost:8080/"
        },
        "id": "abvityJaDd9k",
        "outputId": "06ef7028-c582-42af-e9ef-645c951aca45"
      },
      "execution_count": 22,
      "outputs": [
        {
          "output_type": "execute_result",
          "data": {
            "text/plain": [
              "0.5"
            ]
          },
          "metadata": {},
          "execution_count": 22
        }
      ]
    },
    {
      "cell_type": "code",
      "source": [
        "# 전체 방문자 중 이전 페이지를 본 확률\n",
        "round(ab_data_clean[ab_data_clean.랜딩페이지 == \"old_page\"].shape[0] / ab_data_clean.shape[0],2)"
      ],
      "metadata": {
        "colab": {
          "base_uri": "https://localhost:8080/"
        },
        "id": "TdChtzccDd_m",
        "outputId": "4d4e0967-c75e-4fbe-d8f7-c5f2f582df99"
      },
      "execution_count": 23,
      "outputs": [
        {
          "output_type": "execute_result",
          "data": {
            "text/plain": [
              "0.5"
            ]
          },
          "metadata": {},
          "execution_count": 23
        }
      ]
    },
    {
      "cell_type": "markdown",
      "source": [
        "> **🔎 해설** <br> \n",
        "- 새 페이지를 본 방문자와 이전 페이지를 본 방문자의 비율은 각각 50%로 일치합니다. 그러므로 실험군 그룹의 방문자의 전환율이 0.15% 정도 실험군 그룹의 방문자 전환율 보다 높은 것은 샘플 개수로부터 차이는 아님을 알 수 있습니다.\n",
        "- 그럼 위의 변수들을 사용하여 아래에서 AB 테스트를 진행하도록 합니다!"
      ],
      "metadata": {
        "id": "5enJWsqvOnIz"
      }
    },
    {
      "cell_type": "markdown",
      "source": [
        "# **Part 3. AB 테스트 진행**\n",
        "\n",
        "우리는 AB 테스트를 통해 ***데이터 중심의 의사결정***을 내려보도록 합니다. \n",
        "\n",
        "우선, 여러분들은 데이터를 통해 ***대조군의 전환율이 실험군의 전환율 보다 조금 높다***는 것을 찾았습니다. \n",
        "\n",
        "하지만 여러분들이 알고자 하는 건 한정적인 개수의 샘플에서의 전환율이 아닌 전체 **모집단에서의 전환율** 일 것입니다. \n",
        "\n",
        "즉, 여러분들이 알고자 하는 건 바로 모수 **$\\mu_{old}$** 또한 **$\\mu_{new}$** 보다 높다는 것입니다. \n",
        "\n",
        "<br>\n",
        "\n",
        "**가설 세우기** <br>\n",
        "그러므로 우리는 아래와 같이 가설을 세워 우리가 가지고 있는 샘플 데이터로 가설 검정을 시행해보도록 합니다! <br>\n",
        "$H_{0}: \\mu_{old} >= \\mu_{new}$ <br>\n",
        "$H_{a}: \\mu_{old} < \\mu_{new}$ \n",
        "\n",
        "<br>\n",
        "\n",
        "> **💡 Tip** <br> \n",
        "우리는 새 페이지의 전환율이 이전 페이지의 전환율보다 **Definitely Better** 해야 새 페이지를 도입한다고 가정합니다. 그리고 **Definitely Better**의 기준은 아래와 같습니다.\n",
        "- 귀무가설 (이전 페이지가 새 페이지의 전환율과 같거나 크다)이 옳은데, 옳지 않다고 잘못 판단한 경우 생기는 에러가 5% 보다 작아야 우리는 새 페이지의 전환율이 이전 페이지의 전환율보다 **Definitely Better**라고 판단합니다. \n",
        "\n",
        "\n",
        "\n",
        "\n"
      ],
      "metadata": {
        "id": "hXARxSgeB3wK"
      }
    },
    {
      "cell_type": "markdown",
      "source": [
        "### **3-1. 귀무가설 확인**\n",
        "\n",
        "귀무가설을 검정할 때에는 대립가설과 가장 근접한 값을 기준으로 검정을 진행하며, <br> \n",
        "이러한 맥락에서 우리는 $\\mu_{old}$과 $\\mu_{new}$는 같다고 가정합니다. 그리고 이는 전체의 전환률 $\\mu_{pop}$를 의미하기도 합니다. \n",
        "\n",
        "<br>\n",
        "\n",
        "우리가 가진 샘플에서 모집단을 simulate 하여 **통계적 유의미함**을 확인하기 위해 아래의 방법을 시행하도록 합니다. \n",
        "\n",
        "- **`1.`** 대조군과 실험군 그룹의 샘플 데이터 개수를 이용하여 각각의 모집단을 simulate 합니다. \n",
        "- **`2.`** 이 두 모집단에서 실제 두 샘플에서의 전환률이 어디에 위치하는지 확인합니다.\n",
        "- **`3.`** 두 그룹의 전환률 차이를 simulate한 분포에서 샘플의 전환율 차이 보다 면적이 큰 부분을 확인합니다.\n",
        "- **`4.`** 이때 이 면적은 **p-value**를 나타내며 이 값이 0.05보다 작으면 우리는 귀무가설을 기각하고 대립가설을 채택하도록 합니다. \n",
        "\n",
        "\n"
      ],
      "metadata": {
        "id": "gw6bVOMYTVlI"
      }
    },
    {
      "cell_type": "code",
      "source": [
        "# 귀무가설에서 전환율의 모수 p-population\n",
        "ab_data_clean.클릭.mean()"
      ],
      "metadata": {
        "colab": {
          "base_uri": "https://localhost:8080/"
        },
        "id": "25YqroY_i2Bn",
        "outputId": "b9462c36-6ac1-4a88-da0f-e584c7d2070f"
      },
      "execution_count": 24,
      "outputs": [
        {
          "output_type": "execute_result",
          "data": {
            "text/plain": [
              "0.11959708724499628"
            ]
          },
          "metadata": {},
          "execution_count": 24
        }
      ]
    },
    {
      "cell_type": "code",
      "source": [
        "# 실험군 그룹에 속한 방문자수 \n",
        "n_exp = ab_data_clean.query('그룹 == \"experiment\"').shape[0]\n",
        "n_exp"
      ],
      "metadata": {
        "colab": {
          "base_uri": "https://localhost:8080/"
        },
        "id": "2rbyx1AljE56",
        "outputId": "fee3d04a-8cdb-40ad-d56d-a4b1760ec401"
      },
      "execution_count": 25,
      "outputs": [
        {
          "output_type": "execute_result",
          "data": {
            "text/plain": [
              "145310"
            ]
          },
          "metadata": {},
          "execution_count": 25
        }
      ]
    },
    {
      "cell_type": "code",
      "source": [
        "# 대조군 그룹에 속한 방문자수 \n",
        "n_control = ab_data_clean.query('그룹 == \"control\"').shape[0]\n",
        "n_control"
      ],
      "metadata": {
        "colab": {
          "base_uri": "https://localhost:8080/"
        },
        "id": "v_oyimtmjFB1",
        "outputId": "8e412b44-f429-42fd-f6ab-199a3f7cc63f"
      },
      "execution_count": 26,
      "outputs": [
        {
          "output_type": "execute_result",
          "data": {
            "text/plain": [
              "145274"
            ]
          },
          "metadata": {},
          "execution_count": 26
        }
      ]
    },
    {
      "cell_type": "markdown",
      "source": [
        "#### **a. 대조군 그룹의 귀무가설 Simulate**\n",
        "\n",
        "두 실험군과 대조군의 차이를 확인하기 전, <br> \n",
        "우선 대조군 그룹의 귀무가설을 simulate 해보고, 그것의 평균과 샘플의 평균값이 이 분포 어디쯤에 존재하는지 확인해보도록 합니다.  \n",
        "\n"
      ],
      "metadata": {
        "id": "dfrfnO0MzOIu"
      }
    },
    {
      "cell_type": "code",
      "source": [
        "import random\n",
        "np.random.seed(10)\n",
        "\n",
        "old_page_null = []\n",
        "\n",
        "for i in range(1000):\n",
        "  old_page_sim = np.random.choice([0,1], n_control, p = [1-ctr_pop, ctr_pop], replace=True)\n",
        "  old_page_null.append(old_page_sim.mean())"
      ],
      "metadata": {
        "id": "tfuDetqejFEe"
      },
      "execution_count": 56,
      "outputs": []
    },
    {
      "cell_type": "code",
      "source": [
        "old_page_null = np.array(old_page_null)"
      ],
      "metadata": {
        "id": "LrSgnUP9yYgB"
      },
      "execution_count": 57,
      "outputs": []
    },
    {
      "cell_type": "code",
      "source": [
        "old_page_null_mean = old_page_null.mean()"
      ],
      "metadata": {
        "id": "1ywSoC8CyYjB"
      },
      "execution_count": 58,
      "outputs": []
    },
    {
      "cell_type": "code",
      "source": [
        "plt.figure(figsize=(8,6))\n",
        "plt.hist(old_page_null, alpha=0.6)\n",
        "plt.axvline(old_page_null_mean, color='g', label=\"Mean under Null\")\n",
        "plt.axvline(ctr_control, color='r', label='Sample Mean')\n",
        "plt.legend();"
      ],
      "metadata": {
        "colab": {
          "base_uri": "https://localhost:8080/",
          "height": 371
        },
        "id": "_UOXHYq8yYmA",
        "outputId": "dca0ed4b-5107-4271-ed30-044c17b55560"
      },
      "execution_count": 59,
      "outputs": [
        {
          "output_type": "display_data",
          "data": {
            "text/plain": [
              "<Figure size 576x432 with 1 Axes>"
            ],
            "image/png": "[encoded data removed]"
          },
          "metadata": {}
        }
      ]
    },
    {
      "cell_type": "markdown",
      "source": [
        "#### **b. 실험군 그룹의 귀무가설 Simulate**\n",
        "그 다음 실험군 그룹의 귀무가설을 simulate 해보고, 그것의 평균과 샘플의 평균값이 이 분포 어디쯤에 존재하는지 확인해보도록 합니다.  \n"
      ],
      "metadata": {
        "id": "yS8DixpxKbJQ"
      }
    },
    {
      "cell_type": "code",
      "source": [
        "np.random.seed(10)\n",
        "\n",
        "new_page_null = []\n",
        "\n",
        "for i in range(1000):\n",
        "  new_page_sim = np.random.choice([0,1], n_exp, p = [1-ctr_pop, ctr_pop], replace=True)\n",
        "  new_page_null.append(new_page_sim.mean())"
      ],
      "metadata": {
        "id": "nR-zsWxfyYsI"
      },
      "execution_count": 60,
      "outputs": []
    },
    {
      "cell_type": "code",
      "source": [
        "new_page_null = np.array(new_page_null)\n",
        "\n",
        "new_page_null_mean = new_page_null.mean()\n",
        "new_page_null_mean"
      ],
      "metadata": {
        "colab": {
          "base_uri": "https://localhost:8080/"
        },
        "id": "79vDNmTHyYuS",
        "outputId": "3bce5650-4870-4e80-cd0f-c3d58fa571fe"
      },
      "execution_count": 61,
      "outputs": [
        {
          "output_type": "execute_result",
          "data": {
            "text/plain": [
              "0.1196229853416833"
            ]
          },
          "metadata": {},
          "execution_count": 61
        }
      ]
    },
    {
      "cell_type": "code",
      "source": [
        "plt.figure(figsize=(8,6))\n",
        "plt.hist(new_page_null, alpha=0.6)\n",
        "plt.axvline(new_page_null_mean, color='g', label='Mean under Null')\n",
        "plt.axvline(ctr_exp, color='r', label='Sample Mean')\n",
        "plt.legend();"
      ],
      "metadata": {
        "colab": {
          "base_uri": "https://localhost:8080/",
          "height": 373
        },
        "id": "Ov_vEWXhLv-c",
        "outputId": "1df95bd5-2a49-4266-c09e-cc69bffc6467"
      },
      "execution_count": 62,
      "outputs": [
        {
          "output_type": "display_data",
          "data": {
            "text/plain": [
              "<Figure size 576x432 with 1 Axes>"
            ],
            "image/png": "[encoded data removed]"
          },
          "metadata": {}
        }
      ]
    },
    {
      "cell_type": "markdown",
      "source": [
        "#### **c. 실험군 그룹 평균과 대조군 그룹 평균의 차이의 귀무가설 Simulate**\n",
        "\n",
        "그럼 우리가 세운 가설을 검정해 보도록 하겠습니다. <br>\n",
        "실험군 그룹과 대조군 그룹의 평균에 차이가 존재하는지 확인해보도록 합니다."
      ],
      "metadata": {
        "id": "ZE9fTROaN9yA"
      }
    },
    {
      "cell_type": "code",
      "source": [
        "np.random.seed(10)\n",
        "\n",
        "p_diffs = []\n",
        "\n",
        "for _ in range(1000):\n",
        "    new_page_converted = np.random.choice([0,1], n_exp, p = [1-ctr_pop, ctr_pop], replace=True)\n",
        "    old_page_converted = np.random.choice([0,1], n_control, p = [1-ctr_pop, ctr_pop], replace=True)\n",
        "    p_diffs.append(new_page_converted.mean() - old_page_converted.mean())"
      ],
      "metadata": {
        "id": "H57czEVlyYw_"
      },
      "execution_count": 63,
      "outputs": []
    },
    {
      "cell_type": "code",
      "source": [
        "p_diffs = np.array(p_diffs)"
      ],
      "metadata": {
        "id": "RsY4x2jEOacL"
      },
      "execution_count": 64,
      "outputs": []
    },
    {
      "cell_type": "code",
      "source": [
        "plt.figure(figsize=(8,6))\n",
        "plt.hist(p_diffs, alpha=0.6)\n",
        "plt.axvline(ctr_diff, color='r', label='Sample Difference')\n",
        "plt.legend();"
      ],
      "metadata": {
        "colab": {
          "base_uri": "https://localhost:8080/",
          "height": 371
        },
        "id": "c9j78yn-OdUn",
        "outputId": "a2a5f7b6-c47c-4ea5-bd25-c9ef1390dc77"
      },
      "execution_count": 65,
      "outputs": [
        {
          "output_type": "display_data",
          "data": {
            "text/plain": [
              "<Figure size 576x432 with 1 Axes>"
            ],
            "image/png": "[encoded data removed]"
          },
          "metadata": {}
        }
      ]
    },
    {
      "cell_type": "code",
      "source": [
        "(p_diffs > ctr_diff).mean()"
      ],
      "metadata": {
        "id": "nwea3YDUB3av",
        "colab": {
          "base_uri": "https://localhost:8080/"
        },
        "outputId": "cc6e77e1-6727-40a4-e8f8-a410addf0cac"
      },
      "execution_count": 66,
      "outputs": [
        {
          "output_type": "execute_result",
          "data": {
            "text/plain": [
              "0.904"
            ]
          },
          "metadata": {},
          "execution_count": 66
        }
      ]
    },
    {
      "cell_type": "markdown",
      "source": [
        "> **🔎 해설** <br>\n",
        "- 우리가 찾은 **p-value**는 0.904로 우리의 threshold인 0.05보다 더 큰 면적입니다. 그러므로 우리는 ***귀무가설을 기각할 수 없고***, 새로운 시도를 도입하지 않습니다! "
      ],
      "metadata": {
        "id": "DfYj5yNSjNge"
      }
    },
    {
      "cell_type": "markdown",
      "source": [
        "## **3-2. Binomial distribution 이용** \n",
        "\n",
        "위의 과정을 파이선의 numpy에 내장되어 있는 **Binomial Distribution**을 이용하여\n",
        "구현해보도록 합니다. \n",
        "\n",
        "이 방법은 위에서 부트스래핑인 for loop구문을 사용하여 진행하는 것보다 \n",
        "시간이 많이 절약되는 것을 확인할수 있습니다!\n",
        "\n",
        "[Numpy binomial 공식문서](https://numpy.org/doc/stable/reference/random/generated/numpy.random.binomial.html)\n"
      ],
      "metadata": {
        "id": "T1THS3FXaYcG"
      }
    },
    {
      "cell_type": "code",
      "source": [
        "np.random.seed(10)\n",
        "\n",
        "exp_converted_sim = np.random.binomial(n_exp, ctr_pop, 10000)/n_exp\n",
        "old_converted_sim = np.random.binomial(n_control, ctr_pop, 10000)/n_control"
      ],
      "metadata": {
        "id": "jpjEtIcBa1b5"
      },
      "execution_count": 77,
      "outputs": []
    },
    {
      "cell_type": "code",
      "source": [
        "p_diffs = exp_converted_sim - old_converted_sim "
      ],
      "metadata": {
        "id": "z0omEL8Xa1m9"
      },
      "execution_count": 78,
      "outputs": []
    },
    {
      "cell_type": "code",
      "source": [
        "plt.figure(figsize=(8,6))\n",
        "plt.hist(p_diffs, alpha=0.6)\n",
        "plt.axvline(ctr_diff, color='r', label='Sample Difference')\n",
        "plt.legend();"
      ],
      "metadata": {
        "colab": {
          "base_uri": "https://localhost:8080/",
          "height": 371
        },
        "id": "zFE58wb_e9ha",
        "outputId": "f13591c7-b86e-4031-d035-6be67b37027e"
      },
      "execution_count": 79,
      "outputs": [
        {
          "output_type": "display_data",
          "data": {
            "text/plain": [
              "<Figure size 576x432 with 1 Axes>"
            ],
            "image/png": "[encoded data removed]"
          },
          "metadata": {}
        }
      ]
    },
    {
      "cell_type": "code",
      "source": [
        "(p_diffs > ctr_diff).mean()"
      ],
      "metadata": {
        "colab": {
          "base_uri": "https://localhost:8080/"
        },
        "id": "6ttzkhfza1qv",
        "outputId": "f8496ee5-d144-4843-e3ca-49cfcbc261a0"
      },
      "execution_count": 80,
      "outputs": [
        {
          "output_type": "execute_result",
          "data": {
            "text/plain": [
              "0.9016"
            ]
          },
          "metadata": {},
          "execution_count": 80
        }
      ]
    },
    {
      "cell_type": "markdown",
      "source": [
        "## **2-3. Z-test 이용** \n",
        "\n",
        "위에서 Binomial distribution 메서드를 이용하여 p-value를 확인하고, 통계적 유의미함을 확인했습니다. \n",
        "\n",
        "이번에는 **z-test**를 이용하여, **`각 그룹의 샘플의 개수`**와 각 샘플에서 **`전환이 된 \n",
        "방문자수`**를 인풋으로 넣어 **`test statistics`**와 **`p-value`**를 확인하도록 합니다.\n",
        "\n",
        "[z-test 공식문서](https://www.statsmodels.org/stable/generated/statsmodels.stats.proportion.proportions_ztest.html)\n"
      ],
      "metadata": {
        "id": "_p6ATax1PFRB"
      }
    },
    {
      "cell_type": "code",
      "source": [
        "import statsmodels.api as sm"
      ],
      "metadata": {
        "id": "M-mcfULyPKJZ"
      },
      "execution_count": 81,
      "outputs": []
    },
    {
      "cell_type": "code",
      "source": [
        "old_convert = ab_data_clean.query('랜딩페이지 == \"old_page\"').클릭.sum()\n",
        "new_convert = ab_data_clean.query('랜딩페이지 == \"new_page\"').클릭.sum()"
      ],
      "metadata": {
        "id": "0t-lIkBfPKMX"
      },
      "execution_count": 82,
      "outputs": []
    },
    {
      "cell_type": "code",
      "source": [
        "z_score, p_value = sm.stats.proportions_ztest([old_convert, new_convert], [n_control, n_exp], alternative='smaller')"
      ],
      "metadata": {
        "id": "F5xmKCZPPKPM"
      },
      "execution_count": 83,
      "outputs": []
    },
    {
      "cell_type": "code",
      "source": [
        "print(z_score, p_value)"
      ],
      "metadata": {
        "colab": {
          "base_uri": "https://localhost:8080/"
        },
        "id": "pHqcKT5zPKSJ",
        "outputId": "9eeb3ee3-9cd3-4516-90e2-175ec0695348"
      },
      "execution_count": 84,
      "outputs": [
        {
          "output_type": "stream",
          "name": "stdout",
          "text": [
            "1.3109241984234394 0.9050583127590245\n"
          ]
        }
      ]
    },
    {
      "cell_type": "markdown",
      "source": [
        "# **Part 3. 결과**\n",
        "\n",
        "위에서 우리는 세 가지 방법으로 통계적 유의미함을 확인했고,\n",
        "세 개 모두 귀무가설을 기각할 수 없음을 확인했습니다. \n",
        "\n",
        "그러므로 우리는 **이전에 사용하던 웹 페이지의 디자인을 그대로 사용하면 될 것입니다!**\n",
        "\n",
        "하지만 AB테스트는 다양한 산출물을 비교 및 검증하여 최선의 디자인 안을 선택해나가는 과정이니 AB테스트는 수단이지 목적이 되어서는 안 된다는 점을 유의하시기 바랍니다! \n",
        "\n",
        "\n",
        "\n",
        "\n",
        "\n"
      ],
      "metadata": {
        "id": "1FDQbKJrxqJO"
      }
    }
  ]
}