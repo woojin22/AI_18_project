{
  "nbformat": 4,
  "nbformat_minor": 0,
  "metadata": {
    "colab": {
      "name": "\bn121a_Bayesian_Inference.ipynb",
      "provenance": [],
      "include_colab_link": true
    },
    "kernelspec": {
      "name": "python3",
      "display_name": "Python 3"
    },
    "language_info": {
      "name": "python"
    }
  },
  "cells": [
    {
      "cell_type": "markdown",
      "metadata": {
        "id": "view-in-github",
        "colab_type": "text"
      },
      "source": [
        "<a href=\"https://colab.research.google.com/github/woojin22/ds-section1-sprint2-new/blob/main/n121-Bayes-Theorem/n121a-Bayes%20Theorem.ipynb\" target=\"_parent\"><img src=\"https://colab.research.google.com/assets/colab-badge.svg\" alt=\"Open In Colab\"/></a>"
      ]
    },
    {
      "cell_type": "markdown",
      "source": [
        "<img src='https://i.imgur.com/RDAD11M.png' width = '200' align = 'right'>\n",
        "\n",
        "## *DATA SCIENCE / SECTION 1 / SPRINT 2 / NOTE 1*\n",
        "\n",
        "---\n",
        "\n",
        "# 📝 Assignment\n"
      ],
      "metadata": {
        "id": "E_gVpMwF8INA"
      }
    },
    {
      "cell_type": "markdown",
      "source": [
        "# 🌱 **기본 과제**"
      ],
      "metadata": {
        "id": "T4vVuYyM9vjo"
      }
    },
    {
      "cell_type": "markdown",
      "source": [
        "## **Part 1. 전체 확률의 법칙**\n",
        "\n",
        "> 우리에게는 구부러진 동전이 있습니다. <br>\n",
        "그리고 이 동전을 던졌을 때, 앞면이 나올 확률은 **0.8** 입니다.\n",
        "\n",
        "\n"
      ],
      "metadata": {
        "id": "2FzT4GJi-EYx"
      }
    },
    {
      "cell_type": "markdown",
      "source": [
        "##### **Q1.  해당 동전을 4번 던졌을 때의 진리표를 직접 작성해보세요. 진리표를 통해, 나올 수 있는 모든 경우의 수와, 2개의 앞면이 나오는 경우의 수를 확인한 후, (`모든 경우의 수` , `2개의 앞면이 나오는 경우의 수`) 의 형태로 쓰세요.** e.g. (12, 3)"
      ],
      "metadata": {
        "id": "UM2iqE4krN7O"
      }
    },
    {
      "cell_type": "code",
      "source": [
        "df = pd.DataFrame([['앞','앞','앞','앞'],\n",
        "                   ['뒤','앞','앞','앞'],['앞','뒤','앞','앞'],['앞','앞','뒤','앞'],['앞','앞','앞','뒤'],\n",
        "                   ['뒤','뒤','앞','앞'],['뒤','앞','뒤','앞'],['뒤','앞','앞','뒤'],['앞','뒤','뒤','앞'],['앞','뒤','앞','뒤'],['앞','앞','뒤','뒤'],\n",
        "                   ['뒤','뒤','뒤','앞'],['뒤','뒤','앞','뒤'],['앞','뒤','뒤','뒤'],['뒤','앞','뒤','뒤'],                  \n",
        "                   ['뒤,','뒤','뒤','뒤']\n",
        "                   ],\n",
        "                  index = ['첫번째 던지기','두번째 던지기','세번째 던지기','네번째 던지기',\n",
        "                           '다섯번째 던지기','여섯번째 던지기','일곱번째 던지기','여덟번째 던지기',\n",
        "                           '아홉번째 던지기','열번째 던지기','열한번째 던지기','열두번째 던지기',\n",
        "                           '열세번째 던지기','열네번째 던지기','열다섯번째 던지기','열여섯번째 던지기'\n",
        "                           ],\n",
        "                  columns = ['앞/뒤','앞/뒤','앞/뒤','앞/뒤'])\n",
        "\n",
        "df\n",
        "#정답은 (16, 6)"
      ],
      "metadata": {
        "colab": {
          "base_uri": "https://localhost:8080/",
          "height": 551
        },
        "id": "pAcTqtfk0_qH",
        "outputId": "3044b56c-ff45-454d-e9ef-6010aa13a258"
      },
      "execution_count": 68,
      "outputs": [
        {
          "output_type": "execute_result",
          "data": {
            "text/plain": [
              "          앞/뒤 앞/뒤 앞/뒤 앞/뒤\n",
              "첫번째 던지기     앞   앞   앞   앞\n",
              "두번째 던지기     뒤   앞   앞   앞\n",
              "세번째 던지기     앞   뒤   앞   앞\n",
              "네번째 던지기     앞   앞   뒤   앞\n",
              "다섯번째 던지기    앞   앞   앞   뒤\n",
              "여섯번째 던지기    뒤   뒤   앞   앞\n",
              "일곱번째 던지기    뒤   앞   뒤   앞\n",
              "여덟번째 던지기    뒤   앞   앞   뒤\n",
              "아홉번째 던지기    앞   뒤   뒤   앞\n",
              "열번째 던지기     앞   뒤   앞   뒤\n",
              "열한번째 던지기    앞   앞   뒤   뒤\n",
              "열두번째 던지기    뒤   뒤   뒤   앞\n",
              "열세번째 던지기    뒤   뒤   앞   뒤\n",
              "열네번째 던지기    앞   뒤   뒤   뒤\n",
              "열다섯번째 던지기   뒤   앞   뒤   뒤\n",
              "열여섯번째 던지기  뒤,   뒤   뒤   뒤"
            ],
            "text/html": [
              "\n",
              "  <div id=\"df-a29a72bb-d477-484a-966a-1968ca6ff0d0\">\n",
              "    <div class=\"colab-df-container\">\n",
              "      <div>\n",
              "<style scoped>\n",
              "    .dataframe tbody tr th:only-of-type {\n",
              "        vertical-align: middle;\n",
              "    }\n",
              "\n",
              "    .dataframe tbody tr th {\n",
              "        vertical-align: top;\n",
              "    }\n",
              "\n",
              "    .dataframe thead th {\n",
              "        text-align: right;\n",
              "    }\n",
              "</style>\n",
              "<table border=\"1\" class=\"dataframe\">\n",
              "  <thead>\n",
              "    <tr style=\"text-align: right;\">\n",
              "      <th></th>\n",
              "      <th>앞/뒤</th>\n",
              "      <th>앞/뒤</th>\n",
              "      <th>앞/뒤</th>\n",
              "      <th>앞/뒤</th>\n",
              "    </tr>\n",
              "  </thead>\n",
              "  <tbody>\n",
              "    <tr>\n",
              "      <th>첫번째 던지기</th>\n",
              "      <td>앞</td>\n",
              "      <td>앞</td>\n",
              "      <td>앞</td>\n",
              "      <td>앞</td>\n",
              "    </tr>\n",
              "    <tr>\n",
              "      <th>두번째 던지기</th>\n",
              "      <td>뒤</td>\n",
              "      <td>앞</td>\n",
              "      <td>앞</td>\n",
              "      <td>앞</td>\n",
              "    </tr>\n",
              "    <tr>\n",
              "      <th>세번째 던지기</th>\n",
              "      <td>앞</td>\n",
              "      <td>뒤</td>\n",
              "      <td>앞</td>\n",
              "      <td>앞</td>\n",
              "    </tr>\n",
              "    <tr>\n",
              "      <th>네번째 던지기</th>\n",
              "      <td>앞</td>\n",
              "      <td>앞</td>\n",
              "      <td>뒤</td>\n",
              "      <td>앞</td>\n",
              "    </tr>\n",
              "    <tr>\n",
              "      <th>다섯번째 던지기</th>\n",
              "      <td>앞</td>\n",
              "      <td>앞</td>\n",
              "      <td>앞</td>\n",
              "      <td>뒤</td>\n",
              "    </tr>\n",
              "    <tr>\n",
              "      <th>여섯번째 던지기</th>\n",
              "      <td>뒤</td>\n",
              "      <td>뒤</td>\n",
              "      <td>앞</td>\n",
              "      <td>앞</td>\n",
              "    </tr>\n",
              "    <tr>\n",
              "      <th>일곱번째 던지기</th>\n",
              "      <td>뒤</td>\n",
              "      <td>앞</td>\n",
              "      <td>뒤</td>\n",
              "      <td>앞</td>\n",
              "    </tr>\n",
              "    <tr>\n",
              "      <th>여덟번째 던지기</th>\n",
              "      <td>뒤</td>\n",
              "      <td>앞</td>\n",
              "      <td>앞</td>\n",
              "      <td>뒤</td>\n",
              "    </tr>\n",
              "    <tr>\n",
              "      <th>아홉번째 던지기</th>\n",
              "      <td>앞</td>\n",
              "      <td>뒤</td>\n",
              "      <td>뒤</td>\n",
              "      <td>앞</td>\n",
              "    </tr>\n",
              "    <tr>\n",
              "      <th>열번째 던지기</th>\n",
              "      <td>앞</td>\n",
              "      <td>뒤</td>\n",
              "      <td>앞</td>\n",
              "      <td>뒤</td>\n",
              "    </tr>\n",
              "    <tr>\n",
              "      <th>열한번째 던지기</th>\n",
              "      <td>앞</td>\n",
              "      <td>앞</td>\n",
              "      <td>뒤</td>\n",
              "      <td>뒤</td>\n",
              "    </tr>\n",
              "    <tr>\n",
              "      <th>열두번째 던지기</th>\n",
              "      <td>뒤</td>\n",
              "      <td>뒤</td>\n",
              "      <td>뒤</td>\n",
              "      <td>앞</td>\n",
              "    </tr>\n",
              "    <tr>\n",
              "      <th>열세번째 던지기</th>\n",
              "      <td>뒤</td>\n",
              "      <td>뒤</td>\n",
              "      <td>앞</td>\n",
              "      <td>뒤</td>\n",
              "    </tr>\n",
              "    <tr>\n",
              "      <th>열네번째 던지기</th>\n",
              "      <td>앞</td>\n",
              "      <td>뒤</td>\n",
              "      <td>뒤</td>\n",
              "      <td>뒤</td>\n",
              "    </tr>\n",
              "    <tr>\n",
              "      <th>열다섯번째 던지기</th>\n",
              "      <td>뒤</td>\n",
              "      <td>앞</td>\n",
              "      <td>뒤</td>\n",
              "      <td>뒤</td>\n",
              "    </tr>\n",
              "    <tr>\n",
              "      <th>열여섯번째 던지기</th>\n",
              "      <td>뒤,</td>\n",
              "      <td>뒤</td>\n",
              "      <td>뒤</td>\n",
              "      <td>뒤</td>\n",
              "    </tr>\n",
              "  </tbody>\n",
              "</table>\n",
              "</div>\n",
              "      <button class=\"colab-df-convert\" onclick=\"convertToInteractive('df-a29a72bb-d477-484a-966a-1968ca6ff0d0')\"\n",
              "              title=\"Convert this dataframe to an interactive table.\"\n",
              "              style=\"display:none;\">\n",
              "        \n",
              "  <svg xmlns=\"http://www.w3.org/2000/svg\" height=\"24px\"viewBox=\"0 0 24 24\"\n",
              "       width=\"24px\">\n",
              "    <path d=\"M0 0h24v24H0V0z\" fill=\"none\"/>\n",
              "    <path d=\"M18.56 5.44l.94 2.06.94-2.06 2.06-.94-2.06-.94-.94-2.06-.94 2.06-2.06.94zm-11 1L8.5 8.5l.94-2.06 2.06-.94-2.06-.94L8.5 2.5l-.94 2.06-2.06.94zm10 10l.94 2.06.94-2.06 2.06-.94-2.06-.94-.94-2.06-.94 2.06-2.06.94z\"/><path d=\"M17.41 7.96l-1.37-1.37c-.4-.4-.92-.59-1.43-.59-.52 0-1.04.2-1.43.59L10.3 9.45l-7.72 7.72c-.78.78-.78 2.05 0 2.83L4 21.41c.39.39.9.59 1.41.59.51 0 1.02-.2 1.41-.59l7.78-7.78 2.81-2.81c.8-.78.8-2.07 0-2.86zM5.41 20L4 18.59l7.72-7.72 1.47 1.35L5.41 20z\"/>\n",
              "  </svg>\n",
              "      </button>\n",
              "      \n",
              "  <style>\n",
              "    .colab-df-container {\n",
              "      display:flex;\n",
              "      flex-wrap:wrap;\n",
              "      gap: 12px;\n",
              "    }\n",
              "\n",
              "    .colab-df-convert {\n",
              "      background-color: #E8F0FE;\n",
              "      border: none;\n",
              "      border-radius: 50%;\n",
              "      cursor: pointer;\n",
              "      display: none;\n",
              "      fill: #1967D2;\n",
              "      height: 32px;\n",
              "      padding: 0 0 0 0;\n",
              "      width: 32px;\n",
              "    }\n",
              "\n",
              "    .colab-df-convert:hover {\n",
              "      background-color: #E2EBFA;\n",
              "      box-shadow: 0px 1px 2px rgba(60, 64, 67, 0.3), 0px 1px 3px 1px rgba(60, 64, 67, 0.15);\n",
              "      fill: #174EA6;\n",
              "    }\n",
              "\n",
              "    [theme=dark] .colab-df-convert {\n",
              "      background-color: #3B4455;\n",
              "      fill: #D2E3FC;\n",
              "    }\n",
              "\n",
              "    [theme=dark] .colab-df-convert:hover {\n",
              "      background-color: #434B5C;\n",
              "      box-shadow: 0px 1px 3px 1px rgba(0, 0, 0, 0.15);\n",
              "      filter: drop-shadow(0px 1px 2px rgba(0, 0, 0, 0.3));\n",
              "      fill: #FFFFFF;\n",
              "    }\n",
              "  </style>\n",
              "\n",
              "      <script>\n",
              "        const buttonEl =\n",
              "          document.querySelector('#df-a29a72bb-d477-484a-966a-1968ca6ff0d0 button.colab-df-convert');\n",
              "        buttonEl.style.display =\n",
              "          google.colab.kernel.accessAllowed ? 'block' : 'none';\n",
              "\n",
              "        async function convertToInteractive(key) {\n",
              "          const element = document.querySelector('#df-a29a72bb-d477-484a-966a-1968ca6ff0d0');\n",
              "          const dataTable =\n",
              "            await google.colab.kernel.invokeFunction('convertToInteractive',\n",
              "                                                     [key], {});\n",
              "          if (!dataTable) return;\n",
              "\n",
              "          const docLinkHtml = 'Like what you see? Visit the ' +\n",
              "            '<a target=\"_blank\" href=https://colab.research.google.com/notebooks/data_table.ipynb>data table notebook</a>'\n",
              "            + ' to learn more about interactive tables.';\n",
              "          element.innerHTML = '';\n",
              "          dataTable['output_type'] = 'display_data';\n",
              "          await google.colab.output.renderOutput(dataTable, element);\n",
              "          const docLink = document.createElement('div');\n",
              "          docLink.innerHTML = docLinkHtml;\n",
              "          element.appendChild(docLink);\n",
              "        }\n",
              "      </script>\n",
              "    </div>\n",
              "  </div>\n",
              "  "
            ]
          },
          "metadata": {},
          "execution_count": 68
        }
      ]
    },
    {
      "cell_type": "markdown",
      "source": [
        "## **Part 2. 이항 분포**\n",
        "\n",
        "앞서 진행한 것 처럼 모든 경우에 대한 진리표에서 특정 경우의 수를 확인할수도 있지만, 이는 경우의 수가 증가함에 따라 매우 비효율적인 방법입니다.\n",
        "\n",
        "따라서 이항분포의 formula를 활용하여 우리가 찾고자 하는 경우의 수를 확인해보도록 하겠습니다.\n",
        "\n",
        "<br>\n",
        "\n",
        "> 1번 문제와 마찬가지로 우리에게 주어진 동전은 구부러져있으며, 앞면이 나올 확률은 **0.8** 입니다.\n",
        "\n",
        "\n",
        "\n",
        "\n"
      ],
      "metadata": {
        "id": "HxC5medb-MdL"
      }
    },
    {
      "cell_type": "markdown",
      "source": [
        "##### **Q2. 해당 동전을 16번 던졌을 때, 8개의 앞면이 나올 확률을 반올림하여 소수점 셋째 자리까지 구하세요.**\n",
        "\n",
        "\n",
        "\n",
        "\n",
        "- `math` 라이브러리의 [`factorial`](https://www.geeksforgeeks.org/python-math-factorial-function/)을 활용해보세요."
      ],
      "metadata": {
        "id": "dQAdOZLbrRHZ"
      }
    },
    {
      "cell_type": "code",
      "source": [
        "import numpy as np\n",
        "import pandas as pd\n",
        "import math\n",
        "import matplotlib.pyplot as plt"
      ],
      "metadata": {
        "id": "uNiLgwMmF8jz"
      },
      "execution_count": 8,
      "outputs": []
    },
    {
      "cell_type": "code",
      "source": [
        "coin = (math.factorial(16) / (math.factorial(8) * math.factorial(8))) * (0.8**8) * ((0.2)**(8))\n",
        "coin = round(coin, 3)\n",
        "coin"
      ],
      "metadata": {
        "colab": {
          "base_uri": "https://localhost:8080/"
        },
        "id": "L9y7GiuUnWP3",
        "outputId": "843d93a3-c760-4079-9b13-5f76d71fade4"
      },
      "execution_count": 69,
      "outputs": [
        {
          "output_type": "execute_result",
          "data": {
            "text/plain": [
              "0.006"
            ]
          },
          "metadata": {},
          "execution_count": 69
        }
      ]
    },
    {
      "cell_type": "markdown",
      "source": [
        "## **Part 3. 조건부 확률**\n",
        "\n",
        "> 여러분은 A 학원 사이트의 로그 데이터를 확인하고 있습니다. 초기 등록자는 40명이었지만, 해당 학원에 최종적으로 등록한 학생 수와 등록하지 않은 학생 수는 다음과 같습니다. \n",
        "\n",
        "|구분| 최종 등록 | 등록 포기 |\n",
        "|:-:|:-------:|:-------:|\n",
        "|국어|10|5|\n",
        "|수학|15|10|\n",
        "\n",
        "\n"
      ],
      "metadata": {
        "id": "xr7e5rah-OKB"
      }
    },
    {
      "cell_type": "markdown",
      "source": [
        "##### **Q3. 초기 등록자 중 임의로 선택한 한 명이 최종 등록한 학생이었을 때, 그 학생이 수학 과목에 등록했을 확률을 구하세요.**"
      ],
      "metadata": {
        "id": "eSScNs7or9AZ"
      }
    },
    {
      "cell_type": "code",
      "source": [
        "초기등록 = 40\n",
        "최종등록 = 25\n",
        "수학등록 = 15\n",
        "\n",
        "수학등록확률 = (수학등록/초기등록) / (최종등록/초기등록)\n",
        "수학등록확률"
      ],
      "metadata": {
        "id": "crp7GAEFcX5p",
        "colab": {
          "base_uri": "https://localhost:8080/"
        },
        "outputId": "d03d5180-f7b0-45a3-f073-d30da16ef2be"
      },
      "execution_count": 31,
      "outputs": [
        {
          "output_type": "execute_result",
          "data": {
            "text/plain": [
              "0.6"
            ]
          },
          "metadata": {},
          "execution_count": 31
        }
      ]
    },
    {
      "cell_type": "markdown",
      "source": [
        "## **Part 4. 베이지안 추론**"
      ],
      "metadata": {
        "id": "2T_-4guR-P-h"
      }
    },
    {
      "cell_type": "markdown",
      "source": [
        "### **4-1. Exam Answer**\n",
        "\n",
        "> 오지선다 문제를 푸는 과정에서, 학생은 답을 이미 알고 있거나 찍어야 합니다. \n",
        "> \n",
        "> 학생이 답을 알 확률은 **0.3**이고, 답을 찍어서 맞출 확률은 **0.2**이며, 문제의 답을 알고있다면 반드시 맞춘다고 가정합니다.\n",
        "\n"
      ],
      "metadata": {
        "id": "SwWIyBcSQbfv"
      }
    },
    {
      "cell_type": "markdown",
      "source": [
        "##### **Q4. 학생이 문제의 답을 맞췄을 때, 답을 알고 있었을 확률을 반올림하여 소수점 둘째 자리까지 구하세요.** "
      ],
      "metadata": {
        "id": "tDJJFhL_sp2l"
      }
    },
    {
      "cell_type": "code",
      "source": [
        "알고있는확률 = 0.3\n",
        "모르는확률 = 0.7\n",
        "\n",
        "찍어서맞 = 0.2\n",
        "알아서맞 = 1\n",
        "\n",
        "결과 = round((알아서맞*알고있는확률) / ((알아서맞*알고있는확률) + (찍어서맞*모르는확률)),2)\n",
        "결과"
      ],
      "metadata": {
        "id": "gsEl0EXeQxGs",
        "colab": {
          "base_uri": "https://localhost:8080/"
        },
        "outputId": "3811333b-51cb-457e-cb1f-9edced099196"
      },
      "execution_count": 40,
      "outputs": [
        {
          "output_type": "execute_result",
          "data": {
            "text/plain": [
              "0.68"
            ]
          },
          "metadata": {},
          "execution_count": 40
        }
      ]
    },
    {
      "cell_type": "markdown",
      "source": [
        "### **4-2. Disease Detection**\n",
        "\n",
        "> 특정 질병을 가지고 있는 경우 **`tpr`** 의 확률로 탐지할 수 있는 실험 방법이 있습니다.\n",
        "> \n",
        "> 그러나 동시에 이 방법은 **`fpr`** 의 확률로 질병이 없지만 질병이 있다고 진단하는 경우도 있는데요.\n",
        "> \n",
        "> 실제로 모든 인구 중 이 질병을 가지고 있을 확률은 **`\bprior`** 입니다."
      ],
      "metadata": {
        "id": "a3p6hGnhQqma"
      }
    },
    {
      "cell_type": "markdown",
      "source": [
        "##### **Q5. 특정 사람이 이 방법을 통해 질병이 있다고 진단받았을 때, 실제로 질병을 가지고 있을 확률을 구하는 함수를 완성한 후 `tpr=0.9`, `fpr=0.01`, `prior=0.1` 일 때의 결과값(`posterior`)을 반올림하여 소수점 둘째 자리까지 구하세요.**"
      ],
      "metadata": {
        "id": "GHO2le97sxAb"
      }
    },
    {
      "cell_type": "code",
      "execution_count": 44,
      "metadata": {
        "id": "1ZgvQaQc78n5",
        "colab": {
          "base_uri": "https://localhost:8080/"
        },
        "outputId": "8024163c-3791-42e1-f935-b655aa7f49bb"
      },
      "outputs": [
        {
          "output_type": "execute_result",
          "data": {
            "text/plain": [
              "0.91"
            ]
          },
          "metadata": {},
          "execution_count": 44
        }
      ],
      "source": [
        "prior = 0.1\n",
        "notprior = 1 - prior\n",
        "tpr = 0.9\n",
        "fpr = 0.01\n",
        "\n",
        "dis = (tpr*prior)\n",
        "notdis = (tpr*prior)+(fpr*notprior)\n",
        "\n",
        "posterior = dis/notdis\n",
        "round(posterior,2)"
      ]
    },
    {
      "cell_type": "markdown",
      "source": [
        "### **4-3. \b\bGuilty or Not**\n",
        "\n",
        "> 한 범죄사건의 용의자가 유죄일 확률은 **60%**라고 형사는 확신하고 있습니다.\n",
        "> \n",
        "> 그 후 **해당 사건의 범인이 왼손잡이**라는 증거가 발견되었고, 용의자는 왼손잡이 입니다. **전체 인구의 20%**가 이 특성(왼손잡이)을 가지고 있습니다.\n",
        "\n",
        "\n",
        "\n"
      ],
      "metadata": {
        "id": "iVDrfMirvVUn"
      }
    },
    {
      "cell_type": "markdown",
      "source": [
        "##### **Q6. 증거가 발견된 후, 이제 형사는 용의자가 유죄일 확률을 얼마로 확신하고 있는지 반올림하여 소수점 둘째자리까지 구하세요.**"
      ],
      "metadata": {
        "id": "NWHi0gZAs5dm"
      }
    },
    {
      "cell_type": "code",
      "source": [
        "suspect = 0.6\n",
        "nosuspect = 1-suspect\n",
        "\n",
        "left_nosuspect = 0.2\n",
        "lefthand = 1\n",
        "\n",
        "guilty = (lefthand * suspect) / ((lefthand * suspect) + (left_nosuspect * nosuspect))\n",
        "round(guilty,2)"
      ],
      "metadata": {
        "id": "t2vBbDKoyoqq",
        "colab": {
          "base_uri": "https://localhost:8080/"
        },
        "outputId": "82203296-291e-4f7d-88e8-d2ec2df4235f"
      },
      "execution_count": 46,
      "outputs": [
        {
          "output_type": "execute_result",
          "data": {
            "text/plain": [
              "0.88"
            ]
          },
          "metadata": {},
          "execution_count": 46
        }
      ]
    },
    {
      "cell_type": "markdown",
      "source": [
        "# 🥇 **도전 과제**\n",
        "\n"
      ],
      "metadata": {
        "id": "vAnvY4cXWrnk"
      }
    },
    {
      "cell_type": "markdown",
      "source": [
        "## **Part 5. 이항분포**\n",
        "\n",
        "Scipy의 Stats 라이브러리의 [binomial 메서드](https://docs.scipy.org/doc/scipy-0.14.0/reference/generated/scipy.stats.binom.html)를 참고하여, 앞면이 나올 확률이 **0.75**인 구부러진 동전을 100번 던졌을 때, 35번 앞면이 나올 확률을 구해보세요."
      ],
      "metadata": {
        "id": "My5EBKYkCvHO"
      }
    },
    {
      "cell_type": "code",
      "source": [
        "from scipy.stats import binom\n",
        "\n",
        "binom.pmf(k=35, n=100, p=0.75)"
      ],
      "metadata": {
        "id": "mkBZOfjnD8un",
        "colab": {
          "base_uri": "https://localhost:8080/"
        },
        "outputId": "72c386ec-7b60-44fc-9fb0-6e25cb6eccc9"
      },
      "execution_count": 81,
      "outputs": [
        {
          "output_type": "execute_result",
          "data": {
            "text/plain": [
              "3.409459490793318e-17"
            ]
          },
          "metadata": {},
          "execution_count": 81
        }
      ]
    },
    {
      "cell_type": "markdown",
      "source": [
        "## **Part 6. 몬티홀 문제**\n",
        "\n",
        "\n",
        "다음 [영상](https://www.youtube.com/watch?v=UexhMS_F5Qw)에서 등장하는 몬티홀 딜레마 문제를 베이지안 공식을 활용하여 해결해보세요.\n",
        "\n",
        "- 처음에 1번 문을 선택했다고 가정합니다. 진행자가 남은 두 개의 문 중 염소가 있는 문 하나를 공개한 상태에서 기존에 선택했던 문(1번문)에 자동차가 있을 확률을 구하세요. \n",
        "\n",
        "- 처음 선택을 유지하는 것이 유리한\b지, 아니면 선택을 바꾸는 것이 유리한지 생각해보세요."
      ],
      "metadata": {
        "id": "X4tgBbitCp7-"
      }
    },
    {
      "cell_type": "markdown",
      "source": [
        "```\n",
        "Hypothesis: 1번 문 뒤에 자동차가 있음\n",
        "Evidence: 진행자가 염소가 있는 문을 열어줌\n",
        "\n",
        "우리가 알고자 하는 것: P(H|E) -> 진행자가 염소가 있는 문을 열었을 때, 우리가 먼저 선택했던 문 안에 자동차가 있을 확률\n",
        "```\n"
      ],
      "metadata": {
        "id": "ZtAxlmteTOvj"
      }
    },
    {
      "cell_type": "code",
      "source": [
        "car = 1/3\n",
        "goat = 2/3\n",
        "\n",
        "open_car = 1/2\n",
        "open_goat = 1/2\n",
        "\n",
        "keep = car * open_car / ((car * open_car) + (goat * open_goat))\n",
        "keep"
      ],
      "metadata": {
        "id": "NUau-7vXW6ZR",
        "colab": {
          "base_uri": "https://localhost:8080/"
        },
        "outputId": "c1fd34d3-3b86-4f2d-c96c-97da7c7bbb6b"
      },
      "execution_count": 84,
      "outputs": [
        {
          "output_type": "execute_result",
          "data": {
            "text/plain": [
              "0.3333333333333333"
            ]
          },
          "metadata": {},
          "execution_count": 84
        }
      ]
    },
    {
      "cell_type": "code",
      "source": [
        "change = 1 - keep\n",
        "change"
      ],
      "metadata": {
        "id": "CukDChUIHfu3",
        "outputId": "c14a78d4-60ab-488e-95d0-72eb2580f404",
        "colab": {
          "base_uri": "https://localhost:8080/"
        }
      },
      "execution_count": 86,
      "outputs": [
        {
          "output_type": "execute_result",
          "data": {
            "text/plain": [
              "0.6666666666666667"
            ]
          },
          "metadata": {},
          "execution_count": 86
        }
      ]
    },
    {
      "cell_type": "code",
      "source": [],
      "metadata": {
        "id": "qSHOeteXHqJG"
      },
      "execution_count": null,
      "outputs": []
    }
  ]
}