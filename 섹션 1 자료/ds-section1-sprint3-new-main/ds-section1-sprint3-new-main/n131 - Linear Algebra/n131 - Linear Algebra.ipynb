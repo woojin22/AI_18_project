{
  "nbformat": 4,
  "nbformat_minor": 0,
  "metadata": {
    "colab": {
      "name": "n131_Linear_Algebra.ipynb",
      "provenance": [],
      "collapsed_sections": []
    },
    "kernelspec": {
      "name": "python3",
      "display_name": "Python 3"
    },
    "language_info": {
      "name": "python"
    }
  },
  "cells": [
    {
      "cell_type": "markdown",
      "source": [
        "<img src='https://i.imgur.com/RDAD11M.png' width = '200' align = 'right'>\n",
        "\n",
        "## *DATA SCIENCE / SECTION 1 / SPRINT 3 / NOTE 1*\n",
        "\n",
        "---\n",
        "\n",
        "<br>\n",
        "\n",
        "# Linear Algebra\n",
        "\n",
        "## 🏆 학습 목표 \n",
        "\n",
        "- 스칼라, 벡터, 매트릭스에 대해서 이해한다.\n",
        "- span, basis, rank에 대해서 이해한다.  \n",
        "- NumPy를 사용하여 선형대수 연산을 할 수 있다.\n",
        "\n",
        "---\n",
        "\n",
        "# **🔢 Note: 기본 선형대수(Linear Algebra)**\n",
        "\n",
        "데이터 분석 및 Modeling을 위해 우리는 데이터를 데이터프레임 형태로 표현하고, 저장하고, 계산합니다. <br>\n",
        "이러한 데이터프레임은 행과 열로 이루어져 있기 때문에 수의 연산 체계가 아닌 새로운 연산 체계를 사용할 필요가 있습니다. \n",
        "\n",
        "이 Note에서 우리는 행과 열의 연산을 위해 벡터 공간을 다루는 선형대수에 대해서 배워보도록 합니다. \n",
        "\n",
        "이 Note는 아래의 구성으로 이루어져 있습니다.\n",
        "\n",
        "- **Part 0. 기획 배경** \n",
        "\n",
        "- **Part 1. Python 자료 구조** <br>\n",
        "  1-1. \bList <br>\n",
        "  1-2. Array\n",
        "\n",
        "- **Part 2. 기본 선형대수(Linear Algebra)** <br>\n",
        "  2-1. Scalar <br>\n",
        "  2-2. Vector <br>\n",
        "  2-3. Matrix <br>\n",
        "  2-4. Span <br>\n",
        "  2-5. Basis <br>\n",
        "  2-6. Rank "
      ],
      "metadata": {
        "id": "9sW4K0t2j2yo"
      }
    },
    {
      "cell_type": "markdown",
      "source": [
        "<img src = 'https://upload.wikimedia.org/wikipedia/commons/thumb/2/2f/Linear_subspaces_with_shading.svg/1280px-Linear_subspaces_with_shading.svg.png' width=500>\n",
        "\n",
        "(출처 : [선형대수학 - 위키백과, 우리 모두의 백과사전](https://ko.wikipedia.org/wiki/%EC%84%A0%ED%98%95%EB%8C%80%EC%88%98%ED%95%99))"
      ],
      "metadata": {
        "id": "qj8q4pLumAmy"
      }
    },
    {
      "cell_type": "markdown",
      "source": [
        "# **Part 0. 기획 배경**\n",
        "\n",
        "다음과 같은 연립방정식을 살펴봅시다.\n",
        "\n",
        "$\\begin{cases}\n",
        "a_0x + b_0y = c_0\\\\\n",
        "a_1x + b_1y = c_1\n",
        "\\end{cases}$\n",
        "\n",
        "위 연립방정식은 다음과 같이 행렬로 나타낼 수 있습니다.\n",
        "\n",
        "$\\begin{pmatrix}a_0&b_0\\\\a_1&b_1\\\\ \\end{pmatrix}\\begin{pmatrix}x\\\\y\\\\ \\end{pmatrix} = \\begin{pmatrix}c_0\\\\c_1\\\\ \\end{pmatrix}$\n",
        "\n",
        "이때 $a_0$, $x$, ...와 같이 상수 또는 변수로 저장되어 있는 숫자를 **스칼라**, \n",
        "\n",
        "$(x, y)$, $(c_0, c_1)$과 같이 성분을 1차원 형태로 배열한 것을 **벡터**, \n",
        "\n",
        "$\\begin{pmatrix}a_0&b_0\\\\a_1&b_1\\\\ \\end{pmatrix}$과 같이 성분을 2차원 형태로 배열한 것을 **매트릭스(행렬)**라고 합니다. "
      ],
      "metadata": {
        "id": "YhfyrYbKlncA"
      }
    },
    {
      "cell_type": "markdown",
      "source": [
        "> 💡 **Tip**\n",
        "- 방정식 : 미지수의 값에 따라 참, 거짓을 판별할 수 있는 등식 \n",
        "- 연립방정식 : 둘 이상의 방정식을 묶은 것입니다. \n",
        "- 성분 : 행렬을 구성하고 있는 각각의 수 또는 문자 "
      ],
      "metadata": {
        "id": "IcVVqfvxwg4H"
      }
    },
    {
      "cell_type": "markdown",
      "source": [
        "# **Part 1. Python 자료 구조** \n",
        "\n",
        "pandas 자료형인 list와 numpy에서 제공하는 배열인 array의 차이를 살펴봅니다. "
      ],
      "metadata": {
        "id": "5hAE1uNLpowy"
      }
    },
    {
      "cell_type": "markdown",
      "source": [
        "## **1-1. List**\n",
        "\n",
        "- 데이터를 연속적인 공간에 저장하는 pandas 자료형입니다.  \n",
        "- 순서를 가지며 각 원소에 차례대로 index가 할당됩니다. \n",
        "- 서로 다른 자료형을 원소로 가질 수 있습니다. \n",
        "- 수치적 연산이 불가능합니다. \n"
      ],
      "metadata": {
        "id": "nbWXqRPnpyhJ"
      }
    },
    {
      "cell_type": "code",
      "source": [
        "# list()로 문자열 원소를 갖는 list 생성\n",
        "strList = list('AIBootcamp')\n",
        "strList"
      ],
      "metadata": {
        "colab": {
          "base_uri": "https://localhost:8080/"
        },
        "id": "kGblg-5D6A7S",
        "outputId": "35a633c2-9f09-4a3c-8f26-7473d7b5f1c0"
      },
      "execution_count": null,
      "outputs": [
        {
          "output_type": "execute_result",
          "data": {
            "text/plain": [
              "['A', 'I', 'B', 'o', 'o', 't', 'c', 'a', 'm', 'p']"
            ]
          },
          "metadata": {},
          "execution_count": 1
        }
      ]
    },
    {
      "cell_type": "code",
      "source": [
        "# index가 0~2인 원소 출력\n",
        "for i in range(3):\n",
        "    print(strList[i])"
      ],
      "metadata": {
        "colab": {
          "base_uri": "https://localhost:8080/"
        },
        "id": "pHlyQ3n16H0n",
        "outputId": "a2a00ef3-3883-42e1-bcce-cd80bf358b47"
      },
      "execution_count": null,
      "outputs": [
        {
          "output_type": "stream",
          "name": "stdout",
          "text": [
            "A\n",
            "I\n",
            "B\n"
          ]
        }
      ]
    },
    {
      "cell_type": "code",
      "source": [
        "# []로 숫자형 원소를 갖는 list 생성\n",
        "numList = [1,2,3]\n",
        "numList"
      ],
      "metadata": {
        "colab": {
          "base_uri": "https://localhost:8080/"
        },
        "id": "oETfrFxp6Rox",
        "outputId": "4b61ac47-e779-41e7-b49d-15eaee68e90c"
      },
      "execution_count": null,
      "outputs": [
        {
          "output_type": "execute_result",
          "data": {
            "text/plain": [
              "[1, 2, 3]"
            ]
          },
          "metadata": {},
          "execution_count": 2
        }
      ]
    },
    {
      "cell_type": "code",
      "source": [
        "# list의 합\n",
        "strList + numList"
      ],
      "metadata": {
        "colab": {
          "base_uri": "https://localhost:8080/"
        },
        "id": "Nio11n5l6ULo",
        "outputId": "0c07cc7a-ddcb-409e-b933-0de7888506b9"
      },
      "execution_count": null,
      "outputs": [
        {
          "output_type": "execute_result",
          "data": {
            "text/plain": [
              "['A', 'I', 'B', 'o', 'o', 't', 'c', 'a', 'm', 'p', 1, 2, 3]"
            ]
          },
          "metadata": {},
          "execution_count": 74
        }
      ]
    },
    {
      "cell_type": "code",
      "source": [
        "# list의 곱\n",
        "print(strList*2)\n",
        "print(numList*3)"
      ],
      "metadata": {
        "colab": {
          "base_uri": "https://localhost:8080/"
        },
        "id": "myAA3OgH6ldZ",
        "outputId": "d3ec409e-4bbb-4c53-bbe7-7867a084735c"
      },
      "execution_count": null,
      "outputs": [
        {
          "output_type": "stream",
          "name": "stdout",
          "text": [
            "['A', 'I', 'B', 'o', 'o', 't', 'c', 'a', 'm', 'p', 'A', 'I', 'B', 'o', 'o', 't', 'c', 'a', 'm', 'p']\n",
            "[1, 2, 3, 1, 2, 3, 1, 2, 3]\n"
          ]
        }
      ]
    },
    {
      "cell_type": "code",
      "source": [
        "# 문자열과 숫자형을 원소로 갖는 list 생성\n",
        "testList = [0, 1.5, 'a']\n",
        "testList # 자료형이 혼합되어도 본래 자료형이 그대로 유지됩니다. "
      ],
      "metadata": {
        "colab": {
          "base_uri": "https://localhost:8080/"
        },
        "id": "_I37gPrQTVNS",
        "outputId": "2f987ef3-f60d-4367-b8ea-3775d44b5681"
      },
      "execution_count": null,
      "outputs": [
        {
          "output_type": "execute_result",
          "data": {
            "text/plain": [
              "[0, 1.5, 'a']"
            ]
          },
          "metadata": {},
          "execution_count": 3
        }
      ]
    },
    {
      "cell_type": "code",
      "source": [
        "type(testList[0])"
      ],
      "metadata": {
        "colab": {
          "base_uri": "https://localhost:8080/"
        },
        "id": "BjvJwI_mUZxA",
        "outputId": "eeb4d692-573e-4487-b719-f87e05cc12ef"
      },
      "execution_count": null,
      "outputs": [
        {
          "output_type": "execute_result",
          "data": {
            "text/plain": [
              "int"
            ]
          },
          "metadata": {},
          "execution_count": 10
        }
      ]
    },
    {
      "cell_type": "code",
      "source": [
        "type(testList[2])"
      ],
      "metadata": {
        "colab": {
          "base_uri": "https://localhost:8080/"
        },
        "id": "61ZCM_tMUb1Q",
        "outputId": "37367376-9092-4a4b-e2a4-a92bc7965c0a"
      },
      "execution_count": null,
      "outputs": [
        {
          "output_type": "execute_result",
          "data": {
            "text/plain": [
              "str"
            ]
          },
          "metadata": {},
          "execution_count": 11
        }
      ]
    },
    {
      "cell_type": "markdown",
      "source": [
        "## **1-2. Array**\n",
        "\n",
        "- numpy 배열입니다. \n",
        "- 순서를 가지며 각 원소에 차례대로 index가 할당됩니다.\n",
        "- 동일한 자료형만 원소로 가질 수 있습니다. \n",
        "- 수치적 연산이 가능합니다. "
      ],
      "metadata": {
        "id": "-A1CEWTA7KdS"
      }
    },
    {
      "cell_type": "code",
      "source": [
        "# np.array()로 array 생성\n",
        "\n",
        "import numpy as np\n",
        "\n",
        "a = [1,3,5]\n",
        "b = [2,4,6]\n",
        "\n",
        "arr_a = np.array(a)\n",
        "arr_b = np.array(b) "
      ],
      "metadata": {
        "id": "CphOKGiw7PQG"
      },
      "execution_count": null,
      "outputs": []
    },
    {
      "cell_type": "code",
      "source": [
        "arr_a"
      ],
      "metadata": {
        "colab": {
          "base_uri": "https://localhost:8080/"
        },
        "id": "xaTrsS6ENc2g",
        "outputId": "862dd7d8-52f1-4d93-edbb-f32a99d30b90"
      },
      "execution_count": null,
      "outputs": [
        {
          "output_type": "execute_result",
          "data": {
            "text/plain": [
              "array([1, 3, 5])"
            ]
          },
          "metadata": {},
          "execution_count": 77
        }
      ]
    },
    {
      "cell_type": "code",
      "source": [
        "arr_b"
      ],
      "metadata": {
        "colab": {
          "base_uri": "https://localhost:8080/"
        },
        "id": "c1Dn2KSENd3f",
        "outputId": "54812d4b-ab21-499d-f130-6545fb84564c"
      },
      "execution_count": null,
      "outputs": [
        {
          "output_type": "execute_result",
          "data": {
            "text/plain": [
              "array([2, 4, 6])"
            ]
          },
          "metadata": {},
          "execution_count": 78
        }
      ]
    },
    {
      "cell_type": "code",
      "source": [
        "# index가 0~2인 원소 출력\n",
        "for i in range(3):\n",
        "    print(arr_a[i])"
      ],
      "metadata": {
        "colab": {
          "base_uri": "https://localhost:8080/"
        },
        "id": "fuonw1tPNifw",
        "outputId": "2a0bd583-be10-4b81-8251-1b9815961348"
      },
      "execution_count": null,
      "outputs": [
        {
          "output_type": "stream",
          "name": "stdout",
          "text": [
            "1\n",
            "3\n",
            "5\n"
          ]
        }
      ]
    },
    {
      "cell_type": "code",
      "source": [
        "# array의 합\n",
        "arr_a + arr_b"
      ],
      "metadata": {
        "colab": {
          "base_uri": "https://localhost:8080/"
        },
        "id": "kowz7ni6N7R_",
        "outputId": "81799a0c-3385-460b-eda3-354d605e1a98"
      },
      "execution_count": null,
      "outputs": [
        {
          "output_type": "execute_result",
          "data": {
            "text/plain": [
              "array([ 3,  7, 11])"
            ]
          },
          "metadata": {},
          "execution_count": 81
        }
      ]
    },
    {
      "cell_type": "code",
      "source": [
        "# array의 곱\n",
        "arr_a*(-1)"
      ],
      "metadata": {
        "colab": {
          "base_uri": "https://localhost:8080/"
        },
        "id": "_pMNSn5OOCob",
        "outputId": "0462f5d6-edf4-44b8-9787-4674d57320bd"
      },
      "execution_count": null,
      "outputs": [
        {
          "output_type": "execute_result",
          "data": {
            "text/plain": [
              "array([-1, -3, -5])"
            ]
          },
          "metadata": {},
          "execution_count": 82
        }
      ]
    },
    {
      "cell_type": "code",
      "source": [
        "arr_a*arr_b"
      ],
      "metadata": {
        "colab": {
          "base_uri": "https://localhost:8080/"
        },
        "id": "mzdeel6SQ1ZY",
        "outputId": "65a75164-66ff-422d-99a1-32c8b8bb4c2f"
      },
      "execution_count": null,
      "outputs": [
        {
          "output_type": "execute_result",
          "data": {
            "text/plain": [
              "array([ 2, 12, 30])"
            ]
          },
          "metadata": {},
          "execution_count": 2
        }
      ]
    },
    {
      "cell_type": "code",
      "source": [
        "# 문자열과 숫자형을 원소로 갖는 array 생성 \n",
        "arr_c = np.array([0, 1.5, 'a'])\n",
        "arr_c # 자료형이 혼합되어 있는 경우 모두 문자열로 처리됩니다. "
      ],
      "metadata": {
        "colab": {
          "base_uri": "https://localhost:8080/"
        },
        "id": "c4a0xu5iTxcR",
        "outputId": "7ec3fd6d-d465-4108-c8fc-2a228e99efa8"
      },
      "execution_count": null,
      "outputs": [
        {
          "output_type": "execute_result",
          "data": {
            "text/plain": [
              "array(['0', '1.5', 'a'], dtype='<U32')"
            ]
          },
          "metadata": {},
          "execution_count": 7
        }
      ]
    },
    {
      "cell_type": "code",
      "source": [
        "type(arr_c[0]) "
      ],
      "metadata": {
        "colab": {
          "base_uri": "https://localhost:8080/"
        },
        "id": "J8B6ajJtT5KS",
        "outputId": "402bc289-375c-4b53-b86c-52bea57e7a48"
      },
      "execution_count": null,
      "outputs": [
        {
          "output_type": "execute_result",
          "data": {
            "text/plain": [
              "numpy.str_"
            ]
          },
          "metadata": {},
          "execution_count": 8
        }
      ]
    },
    {
      "cell_type": "code",
      "source": [
        "type(arr_a[0])"
      ],
      "metadata": {
        "colab": {
          "base_uri": "https://localhost:8080/"
        },
        "id": "7wHZZw4EUL8H",
        "outputId": "81720617-5000-4c54-9d95-1b19ed4d8a76"
      },
      "execution_count": null,
      "outputs": [
        {
          "output_type": "execute_result",
          "data": {
            "text/plain": [
              "numpy.int64"
            ]
          },
          "metadata": {},
          "execution_count": 9
        }
      ]
    },
    {
      "cell_type": "markdown",
      "source": [
        "> 💡**Tip**\n",
        ">\n",
        "> 순서를 갖지 않는 자료형에는 무엇이 있을까요? 'set'에 대해서 한번 알아보세요!"
      ],
      "metadata": {
        "id": "WPwQkYhOQJdF"
      }
    },
    {
      "cell_type": "markdown",
      "source": [
        "# **Part 2. 기본 선형대수(Linear Algebra)**\n",
        "[NumPy의 Linear Algebra 모음](https://numpy.org/doc/stable/reference/routines.linalg.html)"
      ],
      "metadata": {
        "id": "n634g_wdqhst"
      }
    },
    {
      "cell_type": "markdown",
      "source": [
        "## **2-1. \bScalar**\n",
        "\n",
        "- 하나의 숫자(실수)를 나타냅니다.\n",
        "- 변수에 저장하여 표기할 수 있습니다.\n",
        "- 양수, 음수 모두 가능합니다.\n",
        "> $a = 5 \\quad b = 1.81 \\quad c=-3e \\quad d=\\pi$"
      ],
      "metadata": {
        "id": "1WtHwhqLk6cd"
      }
    },
    {
      "cell_type": "markdown",
      "source": [
        "## **2-2. Vector**\n",
        "\n",
        "- 순서를 갖는 1차원 형태의 배열로 list 또는 array로 나타냅니다. \n",
        "- 성분의 개수는 **벡터의 차원**을 의미합니다.\n",
        "> $\\begin{align}\n",
        "   \\vec{a} = \n",
        "   \\begin{bmatrix}\n",
        "           8\\\\\n",
        "           9\n",
        "    \\end{bmatrix}\n",
        "    \\qquad\n",
        "    \\vec{b} =\n",
        "    \\begin{bmatrix}\n",
        "          -4\\\\\n",
        "           7\\\\\n",
        "           1\n",
        "    \\end{bmatrix}\n",
        "    \\qquad\n",
        "    \\vec{c} =\n",
        "    \\begin{bmatrix}\n",
        "           5.5332\n",
        "    \\end{bmatrix}\n",
        "    \\qquad\n",
        "    \\vec{d} =\n",
        "    \\begin{bmatrix}\n",
        "           Pl\\\\\n",
        "           x\\\\\n",
        "           y\\\\\n",
        "           \\frac{2}{3}\n",
        "    \\end{bmatrix}\n",
        "\\end{align}$"
      ],
      "metadata": {
        "id": "MjYb-M2Wk8UA"
      }
    },
    {
      "cell_type": "markdown",
      "source": [
        "> 💡 **Tip**\n",
        ">\n",
        "> 성분의 개수로 표현하는 벡터의 차원은 list나 array를 나타낼 때의 1차원 배열과는 다른 의미입니다."
      ],
      "metadata": {
        "id": "7nlUmAx14LC0"
      }
    },
    {
      "cell_type": "code",
      "source": [
        "# 파이썬으로 벡터 나타내기 \n",
        "\n",
        "import matplotlib.pyplot as plt\n",
        "import numpy as np\n",
        "\n",
        "v1 = [2, 1]\n",
        "v2 = [-3, 2]\n",
        "v3 = [1, -1]\n",
        "\n",
        "plt.xticks(np.arange(-4, 4))\n",
        "plt.yticks(np.arange(-2, 4))\n",
        "\n",
        "plt.axhline(0, 0, 1, color='lightgray', linestyle='--', linewidth=1)\n",
        "plt.axvline(0, 0, 1, color='lightgray', linestyle='--', linewidth=1)\n",
        "plt.arrow(0, 0, v1[0], v1[1], head_width=0.1, color='#790D90')\n",
        "plt.text(2.2, 1.1, 'v1')\n",
        "plt.arrow(0, 0, v2[0], v2[1], head_width=0.1, color='#0E6A88')\n",
        "plt.text(-3.3, 2.2, 'v2')\n",
        "plt.arrow(0, 0, v3[0], v3[1], head_width=0.1, color='#DAB00F')\n",
        "plt.text(1.2, -1.2, 'v3')\n",
        "plt.title('Vector example1')\n",
        "plt.show()"
      ],
      "metadata": {
        "colab": {
          "base_uri": "https://localhost:8080/",
          "height": 281
        },
        "id": "REl7c6lH3PMp",
        "outputId": "43a8d115-2cfd-457b-e1b6-9624b0c8ef9f"
      },
      "execution_count": null,
      "outputs": [
        {
          "output_type": "display_data",
          "data": {
            "text/plain": [
              "<Figure size 432x288 with 1 Axes>"
            ],
            "image/png": "[encoded data removed]"
          },
          "metadata": {
            "needs_background": "light"
          }
        }
      ]
    },
    {
      "cell_type": "code",
      "source": [
        "# 벡터의 스칼라곱(실수배)\n",
        "\n",
        "w1 = np.array(v1)*2\n",
        "w2 = np.array(v1)*(-1)\n",
        "\n",
        "plt.xticks(np.arange(-3, 6))\n",
        "plt.yticks(np.arange(-2, 4))\n",
        "\n",
        "plt.axhline(0, 0, 1, color='lightgray', linestyle='--', linewidth=1)\n",
        "plt.axvline(0, 0, 1, color='lightgray', linestyle='--', linewidth=1)\n",
        "plt.arrow(0, 0, w1[0], w1[1], head_width=0.1, color='#8EB57B')\n",
        "plt.text(4.1, 2.2, 'w1')\n",
        "plt.arrow(0, 0, v1[0], v1[1], head_width=0.1, color='#790D90')\n",
        "plt.text(2, 1.2, 'v1')\n",
        "plt.arrow(0, 0, w2[0], w2[1], head_width=0.1, color='#FFC23D')\n",
        "plt.text(-2.4, -1.3, 'w2')\n",
        "plt.title('Vector example2')\n",
        "plt.show()"
      ],
      "metadata": {
        "colab": {
          "base_uri": "https://localhost:8080/",
          "height": 281
        },
        "id": "G6hFfFZdVzgr",
        "outputId": "261d44fb-9612-4ad2-c6cc-f0b552f758fd"
      },
      "execution_count": null,
      "outputs": [
        {
          "output_type": "display_data",
          "data": {
            "text/plain": [
              "<Figure size 432x288 with 1 Axes>"
            ],
            "image/png": "[encoded data removed]"
          },
          "metadata": {
            "needs_background": "light"
          }
        }
      ]
    },
    {
      "cell_type": "markdown",
      "source": [
        "### **a. 벡터의 크기**\n",
        "\n",
        "- Norm 혹은 length, Magnitude라고 합니다. \n",
        "- 벡터의 길이를 나타냅니다. 따라서 음수가 될 수 없습니다.  \n",
        "- 벡터의 모든 성분이 $0$이면 벡터의 크기도 $0$입니다.\n",
        "- $||v||$와 같이 표기합니다. \n",
        "- 피타고라스 정리를 사용하여 구할 수 있습니다.\n",
        "> $v = [a, b, c, \\cdots]$\n",
        ">\n",
        "> $||v|| = \\sqrt{a^2 + b^2 + c^2 + \\cdots}$\n"
      ],
      "metadata": {
        "id": "YMQkVgEgl3O-"
      }
    },
    {
      "cell_type": "markdown",
      "source": [
        "### **b. 벡터의 내적**\n",
        "\n",
        "- Dot Product라고 합니다. \n",
        "- 두 벡터에 대해서 서로 대응하는 각각의 성분을 곱한 뒤 모두 합하여 구합니다. 이때 두 벡터의 차원이 같아야 합니다. \n",
        "- [`np.dot()`](https://numpy.org/doc/stable/reference/generated/numpy.dot.html)을 사용해 구할 수 있습니다. \n",
        "- 벡터를 내적한 값은 스칼라입니다. \n",
        "> $v_1 = [a_1, a_2, a_3, \\cdots]$\n",
        ">\n",
        "> $v_2 = [b_1, b_2, b_3, \\cdots]$\n",
        ">\n",
        "> $v_1 \\cdot v_2 = a_1b_1 + a_2b_2 + a_3b_3 + \\cdots$  "
      ],
      "metadata": {
        "id": "TzYGCalll5F-"
      }
    },
    {
      "cell_type": "code",
      "source": [
        "# 벡터의 내적 계산하기 \n",
        "\n",
        "'''\n",
        "v1 = [2, 1]\n",
        "v2 = [-3, 2]\n",
        "'''\n",
        "\n",
        "arr_v1 = np.array(v1)\n",
        "arr_v2 = np.array(v2)\n",
        "\n",
        "arr_v1*arr_v2"
      ],
      "metadata": {
        "colab": {
          "base_uri": "https://localhost:8080/"
        },
        "id": "wQ_tJ-SexTML",
        "outputId": "7c127ea1-5513-41f7-b035-fd182a392c26"
      },
      "execution_count": null,
      "outputs": [
        {
          "output_type": "execute_result",
          "data": {
            "text/plain": [
              "array([-6,  2])"
            ]
          },
          "metadata": {},
          "execution_count": 85
        }
      ]
    },
    {
      "cell_type": "code",
      "source": [
        "(arr_v1*arr_v2).sum()"
      ],
      "metadata": {
        "colab": {
          "base_uri": "https://localhost:8080/"
        },
        "id": "eqjUa4j-O_a1",
        "outputId": "b8f6a8d4-b950-45fd-af83-e42eac9b56ac"
      },
      "execution_count": null,
      "outputs": [
        {
          "output_type": "execute_result",
          "data": {
            "text/plain": [
              "-4"
            ]
          },
          "metadata": {},
          "execution_count": 86
        }
      ]
    },
    {
      "cell_type": "code",
      "source": [
        "# np.dot()으로 벡터의 내적 구하기 \n",
        "np.dot(v1, v2)"
      ],
      "metadata": {
        "colab": {
          "base_uri": "https://localhost:8080/"
        },
        "id": "2S4Geo1FOtmp",
        "outputId": "5094a827-cccd-401d-8b7e-9ca53521454f"
      },
      "execution_count": null,
      "outputs": [
        {
          "output_type": "execute_result",
          "data": {
            "text/plain": [
              "-4"
            ]
          },
          "metadata": {},
          "execution_count": 84
        }
      ]
    },
    {
      "cell_type": "markdown",
      "source": [
        "### **c. 벡터의 직교(Orthogonality)와 그 조건**\n",
        "두 벡터의 내적이 $0$이면 두 벡터는 서로 수직입니다. "
      ],
      "metadata": {
        "id": "h9cpGPMsl6SZ"
      }
    },
    {
      "cell_type": "code",
      "source": [
        "vec_x = [1,3]\n",
        "vec_y = [-3,1]\n",
        "\n",
        "np.dot(vec_x, vec_y)"
      ],
      "metadata": {
        "colab": {
          "base_uri": "https://localhost:8080/"
        },
        "id": "zHZ9RX-q5Nzb",
        "outputId": "393edb62-2ce2-424c-d29c-f58d896f9ddd"
      },
      "execution_count": null,
      "outputs": [
        {
          "output_type": "execute_result",
          "data": {
            "text/plain": [
              "0"
            ]
          },
          "metadata": {},
          "execution_count": 18
        }
      ]
    },
    {
      "cell_type": "code",
      "source": [
        "import matplotlib.pyplot as plt\n",
        "\n",
        "plt.axvline(0, 0, 1, color='lightgray', linestyle='--', linewidth=1)\n",
        "plt.arrow(0, 0, vec_x[0], vec_x[1], head_width = .05, head_length = .05, color ='#947EC3')\n",
        "plt.text(1.1, 3.1, 'vec_x')\n",
        "plt.arrow(0, 0, vec_y[0], vec_y[1], head_width = .05, head_length = .05, color ='#EC994B')\n",
        "plt.text(-3.2, 1.2, 'vec_y')\n",
        "plt.xlim(-4, 2)          \n",
        "plt.ylim(0, 4)\n",
        "plt.title(\"Orthogonal Vectors\")\n",
        "plt.show()"
      ],
      "metadata": {
        "colab": {
          "base_uri": "https://localhost:8080/",
          "height": 281
        },
        "id": "27hVvbFX57nm",
        "outputId": "a1c003ab-5ee2-4058-bbc3-ebfa03aeb052"
      },
      "execution_count": null,
      "outputs": [
        {
          "output_type": "display_data",
          "data": {
            "text/plain": [
              "<Figure size 432x288 with 1 Axes>"
            ],
            "image/png": "[encoded data removed]"
          },
          "metadata": {
            "needs_background": "light"
          }
        }
      ]
    },
    {
      "cell_type": "markdown",
      "source": [
        "### **d. 단위 벡터(Unit Vector)**\n",
        "- 길이가 $1$인 벡터입니다. \n",
        "- 모든 벡터는 단위 벡터의 선형 결합으로 표기할 수 있습니다. \n",
        "> $v = [2,5] = [2,0] + [0,5] = 2[1,0] + 5[0,1] = 2\\hat{i} + 5\\hat{j}$"
      ],
      "metadata": {
        "id": "KjhaIzKGl7r6"
      }
    },
    {
      "cell_type": "markdown",
      "source": [
        "> 💡**Tip**\n",
        "- 크기가 $1$인 길이를 단위 길이(unit length)라고 합니다. \n",
        "- 선형 결합(linear combination) : 벡터 $v_1, v_2, \\cdots, v_n$와 스칼라 $a_1, a_2, \\cdots, a_n$에 대하여 다음과 같이 벡터의 스칼라곱과 합으로 나타낸 것입니다.\n",
        " >> $a_1v_1 + a_2v_2 + \\cdots + a_nv_n$"
      ],
      "metadata": {
        "id": "cMunOMV873v2"
      }
    },
    {
      "cell_type": "markdown",
      "source": [
        "## **2-3. Matrix**\n",
        "- 수 또는 변수를 ( ) 안에 행과 열로 배열한 것입니다.\n",
        "- 2차원 형태의 array 또는 list로 나타냅니다. \n",
        "- 행과 열의 개수는 **매트릭스의 차원**을 의미합니다. 이는 `.shape`을 통해 확인할 수 있습니다. \n",
        "- 두 매트릭스가 일치하려면 차원과 성분이 동일해야 합니다.\n",
        "> $\\begin{align}\n",
        "X = \n",
        "    \\begin{bmatrix}\n",
        "           1 & 2 & 3\\\\\n",
        "           4 & 5 & 6\\\\\n",
        "           7 & 8 & 9\n",
        "    \\end{bmatrix}\n",
        "    \\qquad\n",
        "    Y = \\begin{pmatrix}\n",
        "           1 & 2 & 3\\\\\n",
        "           4 & 5 & 6\n",
        "    \\end{pmatrix}\n",
        " \\end{align}$"
      ],
      "metadata": {
        "id": "aiOrjnimk9I9"
      }
    },
    {
      "cell_type": "markdown",
      "source": [
        "> 💡 **Tip**\n",
        ">\n",
        "> 행과 열의 개수로 표현하는 매트릭스의 차원은 2차원 배열과는 다른 의미입니다."
      ],
      "metadata": {
        "id": "hrVskx_G5V4P"
      }
    },
    {
      "cell_type": "code",
      "source": [
        "# 1차원 array : 벡터\n",
        "\n",
        "array_1d = np.array([1,2,3,4,5])\n",
        "array_1d"
      ],
      "metadata": {
        "colab": {
          "base_uri": "https://localhost:8080/"
        },
        "id": "Rd27x40T3dvW",
        "outputId": "cb5ef360-481b-45c9-e67b-1294dffd95fd"
      },
      "execution_count": null,
      "outputs": [
        {
          "output_type": "execute_result",
          "data": {
            "text/plain": [
              "array([1, 2, 3, 4, 5])"
            ]
          },
          "metadata": {},
          "execution_count": 1
        }
      ]
    },
    {
      "cell_type": "code",
      "source": [
        "# .ndim을 사용하여 배열의 차원 확인\n",
        "array_1d.ndim"
      ],
      "metadata": {
        "colab": {
          "base_uri": "https://localhost:8080/"
        },
        "id": "jp0OKc_V3ya-",
        "outputId": "3e03eb67-18eb-4c59-d084-d468f5a29a1a"
      },
      "execution_count": null,
      "outputs": [
        {
          "output_type": "execute_result",
          "data": {
            "text/plain": [
              "1"
            ]
          },
          "metadata": {},
          "execution_count": 2
        }
      ]
    },
    {
      "cell_type": "code",
      "source": [
        "# .shape을 사용하여 벡터의 차원 확인\n",
        "array_1d.shape "
      ],
      "metadata": {
        "colab": {
          "base_uri": "https://localhost:8080/"
        },
        "id": "6qL9OI2-33CI",
        "outputId": "04776a11-da65-4265-f5d2-582dae236fb3"
      },
      "execution_count": null,
      "outputs": [
        {
          "output_type": "execute_result",
          "data": {
            "text/plain": [
              "(5,)"
            ]
          },
          "metadata": {},
          "execution_count": 3
        }
      ]
    },
    {
      "cell_type": "markdown",
      "source": [
        "> 💡 **Tip**\n",
        ">\n",
        "> `array_1d`는 1차원 벡터로 행과 열로 구분되지 않습니다. <br>\n",
        "따라서 콤마 뒤가 공란이며 콤마 앞의 수는 벡터의 차원, 즉 성분의 개수를 나타냅니다. "
      ],
      "metadata": {
        "id": "1KivknJL4Eln"
      }
    },
    {
      "cell_type": "code",
      "source": [
        "# 2차원 array : 매트릭스 \n",
        "array_2d = np.array([[1,3,5], [2,4,6]])\n",
        "array_2d"
      ],
      "metadata": {
        "colab": {
          "base_uri": "https://localhost:8080/"
        },
        "id": "I5DTVQ1u4hyA",
        "outputId": "b935450b-bcc8-4f88-e25a-d83c833d1d2b"
      },
      "execution_count": null,
      "outputs": [
        {
          "output_type": "execute_result",
          "data": {
            "text/plain": [
              "array([[1, 3, 5],\n",
              "       [2, 4, 6]])"
            ]
          },
          "metadata": {},
          "execution_count": 4
        }
      ]
    },
    {
      "cell_type": "code",
      "source": [
        "# .ndim을 사용하여 배열의 차원 확인\n",
        "array_2d.ndim"
      ],
      "metadata": {
        "colab": {
          "base_uri": "https://localhost:8080/"
        },
        "id": "Ds8ER8iQ4rcB",
        "outputId": "adbd16d5-938b-4226-d3bc-ea0b9c07c8f4"
      },
      "execution_count": null,
      "outputs": [
        {
          "output_type": "execute_result",
          "data": {
            "text/plain": [
              "2"
            ]
          },
          "metadata": {},
          "execution_count": 5
        }
      ]
    },
    {
      "cell_type": "code",
      "source": [
        "# .shape을 사용하여 매트릭스의 차원 (행의 수, 열의 수) 확인\n",
        "array_2d.shape"
      ],
      "metadata": {
        "colab": {
          "base_uri": "https://localhost:8080/"
        },
        "id": "hneTDLu_3Iyr",
        "outputId": "61daba58-03e8-4538-aad3-13e2e965a1df"
      },
      "execution_count": null,
      "outputs": [
        {
          "output_type": "execute_result",
          "data": {
            "text/plain": [
              "(2, 3)"
            ]
          },
          "metadata": {},
          "execution_count": 6
        }
      ]
    },
    {
      "cell_type": "markdown",
      "source": [
        "### **a. 행렬의 연산**"
      ],
      "metadata": {
        "id": "rtoVgm3jmEbq"
      }
    },
    {
      "cell_type": "markdown",
      "source": [
        "#### **a-1. 행렬의 전치(Transpose)**\n",
        "- 행과 열을 바꾸어 나타내는 것입니다.\n",
        "- 일반적으로 $A^T$로 표기합니다. \n",
        "- `.T` 또는 [`np.transpose()`](https://numpy.org/doc/stable/reference/generated/numpy.transpose.html)를 사용하여 구할 수 있습니다. \n",
        "- 전치의 전치는 자기 자신입니다.\n",
        "> $(A^T)^T=A$ "
      ],
      "metadata": {
        "id": "iC1bw1g0qstj"
      }
    },
    {
      "cell_type": "code",
      "source": [
        "mat_a = np.array([[1,2,3], [4,5,6]])\n",
        "mat_a"
      ],
      "metadata": {
        "colab": {
          "base_uri": "https://localhost:8080/"
        },
        "id": "8OZwfAnrnEiJ",
        "outputId": "da9e38f6-be4e-48ad-fd30-b666af7684cb"
      },
      "execution_count": null,
      "outputs": [
        {
          "output_type": "execute_result",
          "data": {
            "text/plain": [
              "array([[1, 2, 3],\n",
              "       [4, 5, 6]])"
            ]
          },
          "metadata": {},
          "execution_count": 3
        }
      ]
    },
    {
      "cell_type": "code",
      "source": [
        "mat_a.T"
      ],
      "metadata": {
        "colab": {
          "base_uri": "https://localhost:8080/"
        },
        "id": "MQ2r_RnvuLva",
        "outputId": "6e430906-1265-45e4-80e1-217d49719901"
      },
      "execution_count": null,
      "outputs": [
        {
          "output_type": "execute_result",
          "data": {
            "text/plain": [
              "array([[1, 4],\n",
              "       [2, 5],\n",
              "       [3, 6]])"
            ]
          },
          "metadata": {},
          "execution_count": 2
        }
      ]
    },
    {
      "cell_type": "code",
      "source": [
        "(mat_a.T).T"
      ],
      "metadata": {
        "colab": {
          "base_uri": "https://localhost:8080/"
        },
        "id": "oXEuGokXUalc",
        "outputId": "ed10be60-128e-4c42-88d1-6fb0abf7a2d0"
      },
      "execution_count": null,
      "outputs": [
        {
          "output_type": "execute_result",
          "data": {
            "text/plain": [
              "array([[1, 2, 3],\n",
              "       [4, 5, 6]])"
            ]
          },
          "metadata": {},
          "execution_count": 4
        }
      ]
    },
    {
      "cell_type": "code",
      "source": [
        "np.transpose(mat_a)"
      ],
      "metadata": {
        "colab": {
          "base_uri": "https://localhost:8080/"
        },
        "id": "STG_R9DnuRL_",
        "outputId": "0bc42ae9-4fee-4b3a-dbec-d7d13834cf07"
      },
      "execution_count": null,
      "outputs": [
        {
          "output_type": "execute_result",
          "data": {
            "text/plain": [
              "array([[1, 4],\n",
              "       [2, 5],\n",
              "       [3, 6]])"
            ]
          },
          "metadata": {},
          "execution_count": 3
        }
      ]
    },
    {
      "cell_type": "markdown",
      "source": [
        "#### **a-2. 행렬곱(Matrix Multiplication)**\n",
        "- 두 행렬에 대해서 앞 행렬의 열과 뒷 행렬의 행의 수가 같으면 행렬끼리 곱할 수 있습니다. \n",
        "- [`np.matmul()`](https://numpy.org/doc/stable/reference/generated/numpy.matmul.html)을 사용하여 구할 수 있습니다.\n",
        "- 행렬곱의 결과는 행렬입니다. \n",
        "- 두 행렬의 차원이 $m\\times l$, $l\\times n$이면 행렬곱으로 얻은 행렬의 차원은 $m\\times n$입니다. \n",
        "> <img src=\"https://i.imgur.com/7vqk4vd.jpg\" width=450> "
      ],
      "metadata": {
        "id": "p7jIsrQ6qyqY"
      }
    },
    {
      "cell_type": "code",
      "source": [
        "mat_b = np.array([[1,-1,0,2],[0,1,2,-1],[2,3,-1,1]])\n",
        "mat_b"
      ],
      "metadata": {
        "colab": {
          "base_uri": "https://localhost:8080/"
        },
        "id": "GbE9BEvZtIx8",
        "outputId": "a56c2498-a15f-42ab-d1cf-2f52b741a62e"
      },
      "execution_count": null,
      "outputs": [
        {
          "output_type": "execute_result",
          "data": {
            "text/plain": [
              "array([[ 1, -1,  0,  2],\n",
              "       [ 0,  1,  2, -1],\n",
              "       [ 2,  3, -1,  1]])"
            ]
          },
          "metadata": {},
          "execution_count": 4
        }
      ]
    },
    {
      "cell_type": "code",
      "source": [
        "np.matmul(mat_a, mat_b) # 2x3와 3x4의 행렬곱 결과는 2x4"
      ],
      "metadata": {
        "colab": {
          "base_uri": "https://localhost:8080/"
        },
        "id": "DXY0mW-Iu5kc",
        "outputId": "30f5832d-ec51-4925-9ffd-dc1bf21c1145"
      },
      "execution_count": null,
      "outputs": [
        {
          "output_type": "execute_result",
          "data": {
            "text/plain": [
              "array([[ 7, 10,  1,  3],\n",
              "       [16, 19,  4,  9]])"
            ]
          },
          "metadata": {},
          "execution_count": 5
        }
      ]
    },
    {
      "cell_type": "markdown",
      "source": [
        "### **b. 정사각 행렬(Square Matrix)**\n",
        "행과 열의 수가 동일한 매트릭스입니다.\n",
        "> $A =\n",
        "\\begin{bmatrix}\n",
        "  a_{1,1}\n",
        "\\end{bmatrix}\n",
        "\\qquad\n",
        "B =\n",
        "\\begin{bmatrix}\n",
        "b_{1,1} & b_{1,2} \\\\\n",
        "b_{2,1} & b_{2,2}\n",
        "\\end{bmatrix}\n",
        "\\qquad\n",
        "C =\n",
        "\\begin{bmatrix}\n",
        "c_{1,1} & c_{1,2} & c_{1,3} \\\\\n",
        "c_{2,1} & c_{2,2} & c_{2,3} \\\\\n",
        "c_{3,1} & c_{3,2} & c_{3,3} \n",
        "\\end{bmatrix}$"
      ],
      "metadata": {
        "id": "S4QFZqXFl_Vm"
      }
    },
    {
      "cell_type": "markdown",
      "source": [
        "#### **b-1. 대각 행렬(Diagonal Matrix)**\n",
        "주 대각선(principal diagonal)을 제외한 모든 성분이 $0$인 정사각 행렬입니다.\n",
        "> $D =\n",
        "\\begin{bmatrix}\n",
        "a_{1,1} & 0 & 0 \\\\\n",
        "0 & a_{2,2} & 0 \\\\\n",
        "0 & 0 & a_{3,3} \n",
        "\\end{bmatrix}$"
      ],
      "metadata": {
        "id": "xJwkxOdAmogR"
      }
    },
    {
      "cell_type": "markdown",
      "source": [
        "#### **b-2. 단위 행렬(Identity Matrix)**\n",
        "- 대각 행렬 중에서 주 대각선 성분이 모두 $1$인 매트릭스입니다. \n",
        "- [`np.identity()`](https://numpy.org/doc/stable/reference/generated/numpy.identity.html) 또는 [`np.eye()`](https://numpy.org/devdocs/reference/generated/numpy.eye.html)를 사용하여 나타낼 수 있습니다.\n",
        "> $I_1 =\n",
        "\\begin{bmatrix}\n",
        "  1\n",
        "\\end{bmatrix}\n",
        "\\qquad\n",
        "I_2 =\n",
        "\\begin{bmatrix}\n",
        "1 & 0 \\\\\n",
        "0 & 1\n",
        "\\end{bmatrix}\n",
        "\\qquad\n",
        "I_3 =\n",
        "\\begin{bmatrix}\n",
        "1 & 0 & 0 \\\\\n",
        "0 & 1 & 0 \\\\\n",
        "0 & 0 & 1 \n",
        "\\end{bmatrix}$\n",
        "- 임의의 정사각 행렬에 단위 행렬을 곱한 것은 자기 자신과 같습니다.\n",
        "> $AI=A$"
      ],
      "metadata": {
        "id": "xkwQi14MmnoQ"
      }
    },
    {
      "cell_type": "code",
      "source": [
        "# np.eye()를 사용하여 단위 행렬 생성\n",
        "\n",
        "print('1차원 단위 행렬 :\\n', np.eye(1, dtype=int), '\\n')\n",
        "print('2차원 단위 행렬 :\\n', np.eye(2, dtype=int), '\\n')\n",
        "print('3차원 단위 행렬 :\\n', np.eye(3, dtype=int))"
      ],
      "metadata": {
        "colab": {
          "base_uri": "https://localhost:8080/"
        },
        "id": "hcsFowVPJP6X",
        "outputId": "ba2cfd26-654a-4cf2-c191-b36b926e50f7"
      },
      "execution_count": null,
      "outputs": [
        {
          "output_type": "stream",
          "name": "stdout",
          "text": [
            "1차원 단위 행렬 :\n",
            " [[1]] \n",
            "\n",
            "2차원 단위 행렬 :\n",
            " [[1 0]\n",
            " [0 1]] \n",
            "\n",
            "3차원 단위 행렬 :\n",
            " [[1 0 0]\n",
            " [0 1 0]\n",
            " [0 0 1]]\n"
          ]
        }
      ]
    },
    {
      "cell_type": "markdown",
      "source": [
        "> 💡**Tip**\n",
        ">\n",
        ">`np.identity()`와 `np.eye()`의 차이를 알아보세요.\n"
      ],
      "metadata": {
        "id": "SuBHx61OxakP"
      }
    },
    {
      "cell_type": "markdown",
      "source": [
        "#### **b-3. 역행렬**\n",
        "- 임의의 정사각 행렬에 대하여 곱했을 때 단위 행렬이 되도록 하는 행렬을 **역행렬(Inverse)**이라고 하며 $A^{-1}$과 같이 표기합니다. \n",
        "> $AA^{-1}=I$\n",
        "- 역행렬을 구하는 식은 다음과 같습니다.\n",
        "> $A^{-1} = {1 \\over ad-bc}\\begin{bmatrix}d & -b\\\\-c & a\\end{bmatrix} \\quad$ \n",
        "where $A = \\begin{bmatrix}a & b \\\\c & d\\end{bmatrix}$\n",
        "- [`np.linalg.inv()`](https://numpy.org/doc/stable/reference/generated/numpy.linalg.inv.html)를 사용하여 구할 수 있습니다. "
      ],
      "metadata": {
        "id": "yCFmwpH3lsqS"
      }
    },
    {
      "cell_type": "code",
      "source": [
        "mat_c = np.array([[8,12],[9,16]])\n",
        "mat_c"
      ],
      "metadata": {
        "colab": {
          "base_uri": "https://localhost:8080/"
        },
        "id": "TFeuq0Ueve0D",
        "outputId": "1bdbc6cc-4e4d-495c-9d06-60f5e372ffbc"
      },
      "execution_count": null,
      "outputs": [
        {
          "output_type": "execute_result",
          "data": {
            "text/plain": [
              "array([[ 8, 12],\n",
              "       [ 9, 16]])"
            ]
          },
          "metadata": {},
          "execution_count": 13
        }
      ]
    },
    {
      "cell_type": "code",
      "source": [
        "np.linalg.inv(mat_c)"
      ],
      "metadata": {
        "colab": {
          "base_uri": "https://localhost:8080/"
        },
        "id": "_2EjlKWvnD3B",
        "outputId": "3e876c43-857a-47a8-fcbb-8d23f2aaa6a6"
      },
      "execution_count": null,
      "outputs": [
        {
          "output_type": "execute_result",
          "data": {
            "text/plain": [
              "array([[ 0.8 , -0.6 ],\n",
              "       [-0.45,  0.4 ]])"
            ]
          },
          "metadata": {},
          "execution_count": 14
        }
      ]
    },
    {
      "cell_type": "markdown",
      "source": [
        "### **c. 행렬식(Determinant)**\n",
        "- 정사각 행렬 $A$에 대해서 det($A$) 또는 $|A|$로 표기합니다.\n",
        "- $2\\times2$ 행렬식은 다음과 같습니다.  \n",
        "> $|A| = ad-bc \\quad$ where $\\ A = \\begin{bmatrix} a & b \\\\ c & d \\end{bmatrix}$\n",
        "- $3\\times3$ 행렬식은 다음과 같습니다. \n",
        "> $|A| = a(ei-fh)-b(di-fg)+c(dh-eg) \\quad$ \n",
        "where $\\ A = \\begin{bmatrix} a & b &c \\\\ d & e & f \\\\ g & h & i \\end{bmatrix}$\n",
        "- 이와 같이 $n\\times n$ 행렬에 대한 행렬식을 구할 수 있습니다.\n",
        "- [`np.linalg.det()`](https://numpy.org/doc/stable/reference/generated/numpy.linalg.det.html)를 사용하여 구할 수 있습니다.  "
      ],
      "metadata": {
        "id": "w22xEfQ4mCEO"
      }
    },
    {
      "cell_type": "code",
      "source": [
        "mat_d = np.array([[1,2],[3,6]])\n",
        "mat_d"
      ],
      "metadata": {
        "colab": {
          "base_uri": "https://localhost:8080/"
        },
        "id": "jyzdCbdwI3_e",
        "outputId": "41295271-d6c1-4ed6-ef95-ca3b0879fdcb"
      },
      "execution_count": null,
      "outputs": [
        {
          "output_type": "execute_result",
          "data": {
            "text/plain": [
              "array([[1, 2],\n",
              "       [3, 6]])"
            ]
          },
          "metadata": {},
          "execution_count": 16
        }
      ]
    },
    {
      "cell_type": "code",
      "source": [
        "np.linalg.det(mat_d)"
      ],
      "metadata": {
        "colab": {
          "base_uri": "https://localhost:8080/"
        },
        "id": "yWdOvNG6w5Ei",
        "outputId": "b32cab75-8238-48c7-cd97-ebdb6806a10a"
      },
      "execution_count": null,
      "outputs": [
        {
          "output_type": "execute_result",
          "data": {
            "text/plain": [
              "0.0"
            ]
          },
          "metadata": {},
          "execution_count": 17
        }
      ]
    },
    {
      "cell_type": "markdown",
      "source": [
        "> 💡**Tip** \n",
        ">\n",
        "> 행렬식이 $0$이면 역행렬이 존재하지 않습니다. "
      ],
      "metadata": {
        "id": "tw5pduAucG05"
      }
    },
    {
      "cell_type": "markdown",
      "source": [
        "## **2-4. Span**\n",
        "주어진 두 벡터의 조합으로 만들 수 있는 모든 가능한 벡터의 집합입니다. "
      ],
      "metadata": {
        "id": "rIahuK_tOceQ"
      }
    },
    {
      "cell_type": "markdown",
      "source": [
        "### **a. 선형 관계의 벡터(Linearly Dependent Vectors)**\n",
        "- 두 벡터가 같은 선상에 있는 경우, 이 벡터들은 선형 관계에 있다고 표현합니다.\n",
        "- 선형 관계에 있는 두 벡터는 조합을 통해서 선 외부의 새로운 벡터를 생성할 수 없습니다.\n",
        "- 선형 관계에 있는 벡터들이 만들어내는 Span은 벡터의 수보다 더 적은 차원을 가집니다. "
      ],
      "metadata": {
        "id": "gpoDvkyTKtPh"
      }
    },
    {
      "cell_type": "code",
      "source": [
        "u1 = [1, 0]\n",
        "u2 = np.multiply(3, u1)\n",
        "\n",
        "plt.xlim(-1,4)\n",
        "plt.ylim(-1,1)\n",
        "\n",
        "plt.axhline(0, 0, 1, color='lightgray', linestyle='--', linewidth=1)\n",
        "plt.axvline(0, 0, 1, color='lightgray', linestyle='--', linewidth=1)\n",
        "plt.arrow(0, 0, u2[0], u2[1], head_width=0.05, color='#DAB00F')\n",
        "plt.text(3, 0.1, 'u2')\n",
        "plt.arrow(0, 0, u1[0], u1[1], head_width=0.05, color='#0E6A88')\n",
        "plt.text(1, 0.1, 'u1')\n",
        "plt.title('Linearly Dependent Vectors')\n",
        "plt.show()"
      ],
      "metadata": {
        "colab": {
          "base_uri": "https://localhost:8080/",
          "height": 281
        },
        "id": "0TWbPZu9MNKf",
        "outputId": "67bac4b5-36c9-4ce2-c86b-b8af262c4fcb"
      },
      "execution_count": null,
      "outputs": [
        {
          "output_type": "display_data",
          "data": {
            "text/plain": [
              "<Figure size 432x288 with 1 Axes>"
            ],
            "image/png": "[encoded data removed]"
          },
          "metadata": {
            "needs_background": "light"
          }
        }
      ]
    },
    {
      "cell_type": "markdown",
      "source": [
        "### **b. 선형 관계가 없는 벡터(Linearly Independent Vectors)**\n",
        "- 같은 선상에 있지 않은 벡터들은 선형적으로 독립되어 있다고 표현합니다.\n",
        "- 선형 관계에 있지 않은 벡터들이 만들어내는 Span의 차원은 벡터의 수와 같습니다. "
      ],
      "metadata": {
        "id": "itr5kPNCLj-O"
      }
    },
    {
      "cell_type": "code",
      "source": [
        "u3 = [-2, 1]\n",
        "u4 = [3, 2]\n",
        "\n",
        "plt.xlim(-3, 5)\n",
        "plt.ylim(-1, 4)\n",
        "\n",
        "plt.axhline(0, 0, 1, color='lightgray', linestyle='--', linewidth=1)\n",
        "plt.axvline(0, 0, 1, color='lightgray', linestyle='--', linewidth=1)\n",
        "plt.arrow(0, 0, u3[0], u3[1], head_width = .05, color = '#74b9ff')\n",
        "plt.text(-2.2, 1.2, 'u3')\n",
        "plt.arrow(0, 0, u4[0], u4[1], head_width = .05, color = '#e84393')\n",
        "plt.text(3.1, 2.1, 'u4')\n",
        "\n",
        "plt.title(\"Linearly Independent Vectors\")\n",
        "plt.show()"
      ],
      "metadata": {
        "colab": {
          "base_uri": "https://localhost:8080/",
          "height": 281
        },
        "id": "a86OOLugOQNH",
        "outputId": "79cac66f-40c0-46c1-ac66-c2fadf3af8d4"
      },
      "execution_count": null,
      "outputs": [
        {
          "output_type": "display_data",
          "data": {
            "text/plain": [
              "<Figure size 432x288 with 1 Axes>"
            ],
            "image/png": "[encoded data removed]"
          },
          "metadata": {
            "needs_background": "light"
          }
        }
      ]
    },
    {
      "cell_type": "markdown",
      "source": [
        "> 💡**Tip**\n",
        ">\n",
        "> 2개의 행 혹은 열이 선형 관계에 있으면 행렬식은 $0$이 됩니다. "
      ],
      "metadata": {
        "id": "rkdO2tnA-Z75"
      }
    },
    {
      "cell_type": "markdown",
      "source": [
        "## **2-5. Basis**\n",
        "- 벡터 공간 $V$의 basis는 $V$라는 공간을 채울 수 있는 선형 관계에 있지 않은 벡터들의 모음입니다. (span의 역개념)\n",
        "- 위의 그림에서 2개의 벡터(빨강, 파랑)는 벡터 공간 $\\mathbb{R}^2$(2차원 평면)의 basis입니다."
      ],
      "metadata": {
        "id": "8tm-iirvOhvd"
      }
    },
    {
      "cell_type": "markdown",
      "source": [
        "## **2-6. Rank**\n",
        "- 매트릭스의 열을 이루는 벡터들로 만들 수 있는 공간(span)의 차원입니다. \n",
        "- 행렬의 선형 독립인 행 또는 열의 최대 개수입니다. \n",
        "- 행 또는 열을 이루는 벡터들 중 선형 관계에 있는 경우 행렬의 차원과 다를 수 있습니다. \n",
        "- [`np.linalg.matrix_rank()`](https://numpy.org/doc/stable/reference/generated/numpy.linalg.matrix_rank.html)를 사용해 구할 수 있습니다. "
      ],
      "metadata": {
        "id": "hCxtDw9nOkZJ"
      }
    },
    {
      "cell_type": "code",
      "source": [
        "testMat = np.array([[1,1,3],[0,1,2],[2,1,4]])\n",
        "testMat"
      ],
      "metadata": {
        "colab": {
          "base_uri": "https://localhost:8080/"
        },
        "id": "rAeDdTHO-j_E",
        "outputId": "215d3519-4ab0-46ac-9d95-325fd8afea5f"
      },
      "execution_count": null,
      "outputs": [
        {
          "output_type": "execute_result",
          "data": {
            "text/plain": [
              "array([[1, 1, 3],\n",
              "       [0, 1, 2],\n",
              "       [2, 1, 4]])"
            ]
          },
          "metadata": {},
          "execution_count": 5
        }
      ]
    },
    {
      "cell_type": "code",
      "source": [
        "np.linalg.matrix_rank(testMat)"
      ],
      "metadata": {
        "colab": {
          "base_uri": "https://localhost:8080/"
        },
        "id": "B9jvCVIZ_NKP",
        "outputId": "5ecf77d5-fb10-4387-ba78-c5571c6ba82a"
      },
      "execution_count": null,
      "outputs": [
        {
          "output_type": "execute_result",
          "data": {
            "text/plain": [
              "2"
            ]
          },
          "metadata": {},
          "execution_count": 6
        }
      ]
    },
    {
      "cell_type": "markdown",
      "source": [
        "> 💡**Tip**\n",
        "- `testMat`는 3개의 행벡터로 이루어져 있으므로 3차원 공간의 span을 생성할 수 있습니다. 하지만 실제로는 3번째 행벡터가 1번째와 2번째 행벡터가 생성하는 2차원 평면의 span에 속해있어 rank가 2로 나타납니다. 즉, `testMat`의 행벡터는 선형 관계에 있으며 선형 독립인 행(열)의 최대 개수는 2입니다. \n",
        "- Gaussian Elimination을 참고해 보세요. "
      ],
      "metadata": {
        "id": "jKojmcuC_Shr"
      }
    }
  ]
}
