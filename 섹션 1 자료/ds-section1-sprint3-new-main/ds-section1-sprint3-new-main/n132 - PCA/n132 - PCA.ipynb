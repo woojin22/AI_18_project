{
  "nbformat": 4,
  "nbformat_minor": 0,
  "metadata": {
    "colab": {
      "name": "n132_PCA.ipynb",
      "provenance": [],
      "include_colab_link": true
    },
    "kernelspec": {
      "name": "python3",
      "display_name": "Python 3"
    },
    "language_info": {
      "name": "python"
    }
  },
  "cells": [
    {
      "cell_type": "markdown",
      "metadata": {
        "id": "view-in-github",
        "colab_type": "text"
      },
      "source": [
        "<a href=\"https://colab.research.google.com/github/codestates/ds-section1-sprint3-new/blob/main/n132%20-%20PCA/n132%20-%20PCA.ipynb\" target=\"_parent\"><img src=\"https://colab.research.google.com/assets/colab-badge.svg\" alt=\"Open In Colab\"/></a>"
      ]
    },
    {
      "cell_type": "markdown",
      "source": [
        "<img src='https://i.imgur.com/RDAD11M.png' width = '200' align = 'right'>\n",
        "\n",
        "## *DATA SCIENCE / SECTION 1 / SPRINT 3 / NOTE 2*\n",
        "\n",
        "---\n",
        "\n",
        "<br>\n",
        "\n",
        "# PCA\n",
        "\n",
        "## 🏆 학습 목표 \n",
        "\n",
        "- 공분산, 상관계수의 목적과 차이점을 설명할 수 있다.\n",
        "- Vector transformation에 대해서 이해한다. \n",
        "- eigenvector / eigenvalue를 설명할 수 있다.\n",
        "- linear projection에 대해서 이해한다. \n",
        "- High dimensional data의 문제점을 이해하고, 이를 handling 하기 위한 방법을 설명할 수 있다.\n",
        "- PCA의 목적과 기본원리를 설명할 수 있다.\n",
        "\n",
        "---\n",
        "\n",
        "# ✂️ **Note: 차원 축소(Dimensionality Reduction)**\n",
        "\n",
        "Feature 수가 매우 많은 데이터셋을 분석 및 모델링 할 때에 생기는 여러 문제점들을 **`고차원의 문제(The Curse of Dimensionality; 차원의 저주)`**라고 합니다.\n",
        "\n",
        "이 Note를 통해 어떠한 문제점들이 발생하는지 알아보고, 이를 핸들링하기 위한 기법들을 살펴봅니다. <br>\n",
        "그중에서도 **`PCA`**란 무엇인지 배워보도록 하겠습니다.\n",
        "\n",
        "이 Note는 아래의 구성으로 이루어져 있습니다.\n",
        "\n",
        "- **Part 0. 기획 배경** \n",
        "\n",
        "- **Part 1. 공분산(Covariance)과 상관계수(Correlation coefficient)** <br>\n",
        "  1-1. 분산(Variance) <br>\n",
        "  1-2. 표준편차(Standard Deviation) <br>\n",
        "  1-3.\b공분산(Covariance) <br>\n",
        "  1-4. 상관계수(Correlation coefficient)\n",
        "\n",
        "- **Part 2. 선형대수(Linear Algebra) +** <br>\n",
        "  2-1. Vector Transformation <br>\n",
        "  2-2. Eigenstuff \n",
        "  \n",
        "- **Part 3. PCA** <br>\n",
        "  3-1. 고차원의 문제(The Curse of Dimensionality; 차원의 저주) <br>\n",
        "  3-2. 차원 축소(Dimensionality Reduction) <br>\n",
        "  3-2. 주성분 분석(Principal Component Analysis, PCA) \n",
        "\n",
        "- **Part 4. Introduction to Machine Learning** <br>\n",
        "  4-1. 지도학습 (Supervised Learning) <br>\n",
        "  4-2. 비지도학습 (Unsupervised Learning)<br>\n",
        "  4-3. ML Cheat Sheets"
      ],
      "metadata": {
        "id": "CvW37EvhqWWr"
      }
    },
    {
      "cell_type": "markdown",
      "source": [
        "<img src = 'http://i.imgur.com/Uv2dlsH.gif'>"
      ],
      "metadata": {
        "id": "lgbUttN54_My"
      }
    },
    {
      "cell_type": "markdown",
      "source": [
        "# **Part 0. 기획 배경**\n",
        "\n",
        "**`PCA`**의 목적과 과정을 이해하기 위해서  \n",
        "- 두 변수의 공변(covariant)\n",
        "- 벡터 변환(vector transformation)\n",
        "- 벡터의 투영(projection)\n",
        "\n",
        "등에 대해 배워보도록 합니다. "
      ],
      "metadata": {
        "id": "quDpf24E6Dyv"
      }
    },
    {
      "cell_type": "markdown",
      "source": [
        "# **Part 1. 공분산(Covariance)과 상관계수(Correlation coefficient)**"
      ],
      "metadata": {
        "id": "mFwL-hz1X1sB"
      }
    },
    {
      "cell_type": "markdown",
      "source": [
        "## **1-1. 분산(Variance)**\n",
        "- 데이터가 흩어져 있는 정도를 하나의 값으로 나타낸 것입니다. \n",
        "- 데이터가 서로 멀리 떨어져 있을수록 분산의 값이 커집니다. \n",
        "- 편차 제곱의 평균으로 구합니다.\n",
        "> $\\sigma^2 = \\frac{\\sum{(X_{i} - \\overline{X})^{2}} }{N} \\quad$ where $\\ $ $X_i$:관측값 , $\\bar{X}$:평균 , $N$: 관측값 개수\n",
        "- [`df.var()`](https://pandas.pydata.org/docs/reference/api/pandas.DataFrame.var.html) 또는 [`np.var()`](https://numpy.org/doc/stable/reference/generated/numpy.var.html)를 사용해 구할 수 있습니다. \n"
      ],
      "metadata": {
        "id": "i_yB6P1nX81D"
      }
    },
    {
      "cell_type": "markdown",
      "source": [
        "> 💡**Tip**\n",
        "- 편차 = (관측값) - (평균)\n",
        "- 편차의 합은 항상 $0$이기 때문에 편차의 평균도 항상 $0$입니다.\n"
      ],
      "metadata": {
        "id": "dh7coVhHe0B9"
      }
    },
    {
      "cell_type": "code",
      "source": [
        "import pandas as pd\n",
        "import numpy as np\n",
        "import matplotlib.pyplot as plt\n",
        "import random\n",
        "\n",
        "variance_one = []\n",
        "variance_two = []\n",
        "for x in range(50):\n",
        "    variance_one.append(random.randint(25,76)) # 25부터 75까지 랜덤한 50개의 정수 저장\n",
        "    variance_two.append(random.randint(0,101)) # 0부터 100까지 랜덤한 50개의 정수 저장 \n",
        "  \n",
        "variance_data = {'v1': variance_one, 'v2': variance_two}\n",
        "\n",
        "variance_df = pd.DataFrame(variance_data)\n",
        "variance_df['zeros'] = list(np.zeros(50))\n",
        "\n",
        "variance_df.head()"
      ],
      "metadata": {
        "colab": {
          "base_uri": "https://localhost:8080/",
          "height": 206
        },
        "id": "58n0i7XafncZ",
        "outputId": "23a99fa5-4b77-4f01-9add-c0a943a90255"
      },
      "execution_count": null,
      "outputs": [
        {
          "output_type": "execute_result",
          "data": {
            "text/plain": [
              "   v1  v2  zeros\n",
              "0  55  67    0.0\n",
              "1  50  91    0.0\n",
              "2  43  13    0.0\n",
              "3  39  36    0.0\n",
              "4  70  66    0.0"
            ],
            "text/html": [
              "\n",
              "  <div id=\"df-e8b58e35-99b1-4357-b04d-6e10f00c1cf6\">\n",
              "    <div class=\"colab-df-container\">\n",
              "      <div>\n",
              "<style scoped>\n",
              "    .dataframe tbody tr th:only-of-type {\n",
              "        vertical-align: middle;\n",
              "    }\n",
              "\n",
              "    .dataframe tbody tr th {\n",
              "        vertical-align: top;\n",
              "    }\n",
              "\n",
              "    .dataframe thead th {\n",
              "        text-align: right;\n",
              "    }\n",
              "</style>\n",
              "<table border=\"1\" class=\"dataframe\">\n",
              "  <thead>\n",
              "    <tr style=\"text-align: right;\">\n",
              "      <th></th>\n",
              "      <th>v1</th>\n",
              "      <th>v2</th>\n",
              "      <th>zeros</th>\n",
              "    </tr>\n",
              "  </thead>\n",
              "  <tbody>\n",
              "    <tr>\n",
              "      <th>0</th>\n",
              "      <td>55</td>\n",
              "      <td>67</td>\n",
              "      <td>0.0</td>\n",
              "    </tr>\n",
              "    <tr>\n",
              "      <th>1</th>\n",
              "      <td>50</td>\n",
              "      <td>91</td>\n",
              "      <td>0.0</td>\n",
              "    </tr>\n",
              "    <tr>\n",
              "      <th>2</th>\n",
              "      <td>43</td>\n",
              "      <td>13</td>\n",
              "      <td>0.0</td>\n",
              "    </tr>\n",
              "    <tr>\n",
              "      <th>3</th>\n",
              "      <td>39</td>\n",
              "      <td>36</td>\n",
              "      <td>0.0</td>\n",
              "    </tr>\n",
              "    <tr>\n",
              "      <th>4</th>\n",
              "      <td>70</td>\n",
              "      <td>66</td>\n",
              "      <td>0.0</td>\n",
              "    </tr>\n",
              "  </tbody>\n",
              "</table>\n",
              "</div>\n",
              "      <button class=\"colab-df-convert\" onclick=\"convertToInteractive('df-e8b58e35-99b1-4357-b04d-6e10f00c1cf6')\"\n",
              "              title=\"Convert this dataframe to an interactive table.\"\n",
              "              style=\"display:none;\">\n",
              "        \n",
              "  <svg xmlns=\"http://www.w3.org/2000/svg\" height=\"24px\"viewBox=\"0 0 24 24\"\n",
              "       width=\"24px\">\n",
              "    <path d=\"M0 0h24v24H0V0z\" fill=\"none\"/>\n",
              "    <path d=\"M18.56 5.44l.94 2.06.94-2.06 2.06-.94-2.06-.94-.94-2.06-.94 2.06-2.06.94zm-11 1L8.5 8.5l.94-2.06 2.06-.94-2.06-.94L8.5 2.5l-.94 2.06-2.06.94zm10 10l.94 2.06.94-2.06 2.06-.94-2.06-.94-.94-2.06-.94 2.06-2.06.94z\"/><path d=\"M17.41 7.96l-1.37-1.37c-.4-.4-.92-.59-1.43-.59-.52 0-1.04.2-1.43.59L10.3 9.45l-7.72 7.72c-.78.78-.78 2.05 0 2.83L4 21.41c.39.39.9.59 1.41.59.51 0 1.02-.2 1.41-.59l7.78-7.78 2.81-2.81c.8-.78.8-2.07 0-2.86zM5.41 20L4 18.59l7.72-7.72 1.47 1.35L5.41 20z\"/>\n",
              "  </svg>\n",
              "      </button>\n",
              "      \n",
              "  <style>\n",
              "    .colab-df-container {\n",
              "      display:flex;\n",
              "      flex-wrap:wrap;\n",
              "      gap: 12px;\n",
              "    }\n",
              "\n",
              "    .colab-df-convert {\n",
              "      background-color: #E8F0FE;\n",
              "      border: none;\n",
              "      border-radius: 50%;\n",
              "      cursor: pointer;\n",
              "      display: none;\n",
              "      fill: #1967D2;\n",
              "      height: 32px;\n",
              "      padding: 0 0 0 0;\n",
              "      width: 32px;\n",
              "    }\n",
              "\n",
              "    .colab-df-convert:hover {\n",
              "      background-color: #E2EBFA;\n",
              "      box-shadow: 0px 1px 2px rgba(60, 64, 67, 0.3), 0px 1px 3px 1px rgba(60, 64, 67, 0.15);\n",
              "      fill: #174EA6;\n",
              "    }\n",
              "\n",
              "    [theme=dark] .colab-df-convert {\n",
              "      background-color: #3B4455;\n",
              "      fill: #D2E3FC;\n",
              "    }\n",
              "\n",
              "    [theme=dark] .colab-df-convert:hover {\n",
              "      background-color: #434B5C;\n",
              "      box-shadow: 0px 1px 3px 1px rgba(0, 0, 0, 0.15);\n",
              "      filter: drop-shadow(0px 1px 2px rgba(0, 0, 0, 0.3));\n",
              "      fill: #FFFFFF;\n",
              "    }\n",
              "  </style>\n",
              "\n",
              "      <script>\n",
              "        const buttonEl =\n",
              "          document.querySelector('#df-e8b58e35-99b1-4357-b04d-6e10f00c1cf6 button.colab-df-convert');\n",
              "        buttonEl.style.display =\n",
              "          google.colab.kernel.accessAllowed ? 'block' : 'none';\n",
              "\n",
              "        async function convertToInteractive(key) {\n",
              "          const element = document.querySelector('#df-e8b58e35-99b1-4357-b04d-6e10f00c1cf6');\n",
              "          const dataTable =\n",
              "            await google.colab.kernel.invokeFunction('convertToInteractive',\n",
              "                                                     [key], {});\n",
              "          if (!dataTable) return;\n",
              "\n",
              "          const docLinkHtml = 'Like what you see? Visit the ' +\n",
              "            '<a target=\"_blank\" href=https://colab.research.google.com/notebooks/data_table.ipynb>data table notebook</a>'\n",
              "            + ' to learn more about interactive tables.';\n",
              "          element.innerHTML = '';\n",
              "          dataTable['output_type'] = 'display_data';\n",
              "          await google.colab.output.renderOutput(dataTable, element);\n",
              "          const docLink = document.createElement('div');\n",
              "          docLink.innerHTML = docLinkHtml;\n",
              "          element.appendChild(docLink);\n",
              "        }\n",
              "      </script>\n",
              "    </div>\n",
              "  </div>\n",
              "  "
            ]
          },
          "metadata": {},
          "execution_count": 1
        }
      ]
    },
    {
      "cell_type": "code",
      "source": [
        "# 어느 데이터의 분산이 더 클지 scatter plot을 통해 확인해 봅니다. \n",
        "\n",
        "plt.scatter(variance_df.v1, variance_df.zeros)\n",
        "plt.xlim(0,100)\n",
        "plt.title(\"v1\")\n",
        "plt.show()\n",
        "\n",
        "plt.scatter(variance_df.v2, variance_df.zeros)\n",
        "plt.xlim(0,100)\n",
        "plt.title(\"v2\")\n",
        "plt.show()"
      ],
      "metadata": {
        "colab": {
          "base_uri": "https://localhost:8080/",
          "height": 545
        },
        "id": "JYdZ6-QAgpk2",
        "outputId": "7c403353-c83f-4610-ce86-8623c7275691"
      },
      "execution_count": null,
      "outputs": [
        {
          "output_type": "display_data",
          "data": {
            "text/plain": [
              "<Figure size 432x288 with 1 Axes>"
            ],
            "image/png": "[encoded data removed]"
          },
          "metadata": {
            "needs_background": "light"
          }
        },
        {
          "output_type": "display_data",
          "data": {
            "text/plain": [
              "<Figure size 432x288 with 1 Axes>"
            ],
            "image/png": "[encoded data removed]"
          },
          "metadata": {
            "needs_background": "light"
          }
        }
      ]
    },
    {
      "cell_type": "code",
      "source": [
        "# df.var()를 사용해 분산 구하기\n",
        "print('v1 분산 :', variance_df.v1.var())\n",
        "print('v2 분산 :', variance_df.v2.var())"
      ],
      "metadata": {
        "colab": {
          "base_uri": "https://localhost:8080/"
        },
        "id": "RAb1srs_i5Ve",
        "outputId": "93726ef8-0349-4702-ef39-e9b7dee32054"
      },
      "execution_count": null,
      "outputs": [
        {
          "output_type": "stream",
          "name": "stdout",
          "text": [
            "v1 분산 : 267.0220408163266\n",
            "v2 분산 : 798.4146938775509\n"
          ]
        }
      ]
    },
    {
      "cell_type": "code",
      "source": [
        "# np.var()를 사용해 분산 구하기\n",
        "print('v1 분산 :', np.var(variance_df.v1, ddof=1))\n",
        "print('v2 분산 :', np.var(variance_df.v2, ddof=1))"
      ],
      "metadata": {
        "colab": {
          "base_uri": "https://localhost:8080/"
        },
        "id": "X-UraV-xD2yt",
        "outputId": "60d69532-c941-498b-c378-2c20e7652093"
      },
      "execution_count": null,
      "outputs": [
        {
          "output_type": "stream",
          "name": "stdout",
          "text": [
            "v1 분산 : 267.0220408163266\n",
            "v2 분산 : 798.4146938775509\n"
          ]
        }
      ]
    },
    {
      "cell_type": "markdown",
      "source": [
        "## **1-2. 표준편차(Standard Deviation)**\n",
        "- 분산의 제곱근($\\sqrt{ﾠ}$) 값입니다. \n",
        "- 분산의 스케일을 조정하는 효과가 있습니다. \n",
        "- [`df.std()`](https://pandas.pydata.org/docs/reference/api/pandas.DataFrame.std.html) 또는 [`np.std()`](https://numpy.org/doc/stable/reference/generated/numpy.std.html)를 사용해 구할 수 있습니다."
      ],
      "metadata": {
        "id": "EzvZj4aRX_YV"
      }
    },
    {
      "cell_type": "code",
      "source": [
        "# df.std()를 사용해 표준편차 구하기\n",
        "print('v1 표준편차 :', variance_df.v1.std())\n",
        "print('v2 표준편차 :', variance_df.v2.std())"
      ],
      "metadata": {
        "colab": {
          "base_uri": "https://localhost:8080/"
        },
        "id": "IIIe39fllmrm",
        "outputId": "2613d266-f7c9-4b37-a8e7-6a581f542966"
      },
      "execution_count": null,
      "outputs": [
        {
          "output_type": "stream",
          "name": "stdout",
          "text": [
            "v1 표준편차 : 16.340809062476882\n",
            "v2 표준편차 : 28.2562328323779\n"
          ]
        }
      ]
    },
    {
      "cell_type": "code",
      "source": [
        "# np.std()를 사용해 표준편차 구하기\n",
        "print('v1 표준편차 :', np.std(variance_df.v1, ddof=1))\n",
        "print('v2 표준편차 :', np.std(variance_df.v2, ddof=1))"
      ],
      "metadata": {
        "colab": {
          "base_uri": "https://localhost:8080/"
        },
        "id": "ntNUMJdSEhi5",
        "outputId": "1322c1a9-a9b5-407c-e21d-d843e5c3afd0"
      },
      "execution_count": null,
      "outputs": [
        {
          "output_type": "stream",
          "name": "stdout",
          "text": [
            "v1 표준편차 : 16.340809062476882\n",
            "v2 표준편차 : 28.2562328323779\n"
          ]
        }
      ]
    },
    {
      "cell_type": "markdown",
      "source": [
        "> 💡**Tip**\n",
        ">\n",
        "> 공식문서를 통해 `ddof` 파라미터에 대해 알아보세요. "
      ],
      "metadata": {
        "id": "bZkrWoCtEScx"
      }
    },
    {
      "cell_type": "markdown",
      "source": [
        "## **1-3.\b공분산(Covariance)**\n",
        "- 두 변수에 대하여 한 변수가 변화할 때 다른 변수가 어떠한 연관성을 갖고 변하는지를 나타낸 값입니다. <br>\n",
        "  <img src = 'https://i.imgur.com/tWPxfyI.png' width=500>\n",
        "- 두 변수의 연관성이 클수록 공분산 값도 커집니다. "
      ],
      "metadata": {
        "id": "-Bz3VYqeYErr"
      }
    },
    {
      "cell_type": "markdown",
      "source": [
        "> 💡**Tip**\n",
        ">\n",
        "> 두 변수의 스케일이 크다면 공분산 값은 어떻게 될까요? "
      ],
      "metadata": {
        "id": "xTApwWdYnfhR"
      }
    },
    {
      "cell_type": "code",
      "source": [
        "a = b = np.arange(5, 50, 5)\n",
        "c = d = np.arange(10,100,10)\n",
        "\n",
        "data = {\"a\": a, \"b\": b, \"c\": c, \"d\": d}\n",
        "\n",
        "df = pd.DataFrame(data)\n",
        "df"
      ],
      "metadata": {
        "colab": {
          "base_uri": "https://localhost:8080/",
          "height": 331
        },
        "id": "qyuClYwWoA2o",
        "outputId": "e803438d-9608-410f-bbf5-e3403f520b52"
      },
      "execution_count": null,
      "outputs": [
        {
          "output_type": "execute_result",
          "data": {
            "text/plain": [
              "    a   b   c   d\n",
              "0   5   5  10  10\n",
              "1  10  10  20  20\n",
              "2  15  15  30  30\n",
              "3  20  20  40  40\n",
              "4  25  25  50  50\n",
              "5  30  30  60  60\n",
              "6  35  35  70  70\n",
              "7  40  40  80  80\n",
              "8  45  45  90  90"
            ],
            "text/html": [
              "\n",
              "  <div id=\"df-84a7f5c9-857c-425f-b2bb-487cdd995ae6\">\n",
              "    <div class=\"colab-df-container\">\n",
              "      <div>\n",
              "<style scoped>\n",
              "    .dataframe tbody tr th:only-of-type {\n",
              "        vertical-align: middle;\n",
              "    }\n",
              "\n",
              "    .dataframe tbody tr th {\n",
              "        vertical-align: top;\n",
              "    }\n",
              "\n",
              "    .dataframe thead th {\n",
              "        text-align: right;\n",
              "    }\n",
              "</style>\n",
              "<table border=\"1\" class=\"dataframe\">\n",
              "  <thead>\n",
              "    <tr style=\"text-align: right;\">\n",
              "      <th></th>\n",
              "      <th>a</th>\n",
              "      <th>b</th>\n",
              "      <th>c</th>\n",
              "      <th>d</th>\n",
              "    </tr>\n",
              "  </thead>\n",
              "  <tbody>\n",
              "    <tr>\n",
              "      <th>0</th>\n",
              "      <td>5</td>\n",
              "      <td>5</td>\n",
              "      <td>10</td>\n",
              "      <td>10</td>\n",
              "    </tr>\n",
              "    <tr>\n",
              "      <th>1</th>\n",
              "      <td>10</td>\n",
              "      <td>10</td>\n",
              "      <td>20</td>\n",
              "      <td>20</td>\n",
              "    </tr>\n",
              "    <tr>\n",
              "      <th>2</th>\n",
              "      <td>15</td>\n",
              "      <td>15</td>\n",
              "      <td>30</td>\n",
              "      <td>30</td>\n",
              "    </tr>\n",
              "    <tr>\n",
              "      <th>3</th>\n",
              "      <td>20</td>\n",
              "      <td>20</td>\n",
              "      <td>40</td>\n",
              "      <td>40</td>\n",
              "    </tr>\n",
              "    <tr>\n",
              "      <th>4</th>\n",
              "      <td>25</td>\n",
              "      <td>25</td>\n",
              "      <td>50</td>\n",
              "      <td>50</td>\n",
              "    </tr>\n",
              "    <tr>\n",
              "      <th>5</th>\n",
              "      <td>30</td>\n",
              "      <td>30</td>\n",
              "      <td>60</td>\n",
              "      <td>60</td>\n",
              "    </tr>\n",
              "    <tr>\n",
              "      <th>6</th>\n",
              "      <td>35</td>\n",
              "      <td>35</td>\n",
              "      <td>70</td>\n",
              "      <td>70</td>\n",
              "    </tr>\n",
              "    <tr>\n",
              "      <th>7</th>\n",
              "      <td>40</td>\n",
              "      <td>40</td>\n",
              "      <td>80</td>\n",
              "      <td>80</td>\n",
              "    </tr>\n",
              "    <tr>\n",
              "      <th>8</th>\n",
              "      <td>45</td>\n",
              "      <td>45</td>\n",
              "      <td>90</td>\n",
              "      <td>90</td>\n",
              "    </tr>\n",
              "  </tbody>\n",
              "</table>\n",
              "</div>\n",
              "      <button class=\"colab-df-convert\" onclick=\"convertToInteractive('df-84a7f5c9-857c-425f-b2bb-487cdd995ae6')\"\n",
              "              title=\"Convert this dataframe to an interactive table.\"\n",
              "              style=\"display:none;\">\n",
              "        \n",
              "  <svg xmlns=\"http://www.w3.org/2000/svg\" height=\"24px\"viewBox=\"0 0 24 24\"\n",
              "       width=\"24px\">\n",
              "    <path d=\"M0 0h24v24H0V0z\" fill=\"none\"/>\n",
              "    <path d=\"M18.56 5.44l.94 2.06.94-2.06 2.06-.94-2.06-.94-.94-2.06-.94 2.06-2.06.94zm-11 1L8.5 8.5l.94-2.06 2.06-.94-2.06-.94L8.5 2.5l-.94 2.06-2.06.94zm10 10l.94 2.06.94-2.06 2.06-.94-2.06-.94-.94-2.06-.94 2.06-2.06.94z\"/><path d=\"M17.41 7.96l-1.37-1.37c-.4-.4-.92-.59-1.43-.59-.52 0-1.04.2-1.43.59L10.3 9.45l-7.72 7.72c-.78.78-.78 2.05 0 2.83L4 21.41c.39.39.9.59 1.41.59.51 0 1.02-.2 1.41-.59l7.78-7.78 2.81-2.81c.8-.78.8-2.07 0-2.86zM5.41 20L4 18.59l7.72-7.72 1.47 1.35L5.41 20z\"/>\n",
              "  </svg>\n",
              "      </button>\n",
              "      \n",
              "  <style>\n",
              "    .colab-df-container {\n",
              "      display:flex;\n",
              "      flex-wrap:wrap;\n",
              "      gap: 12px;\n",
              "    }\n",
              "\n",
              "    .colab-df-convert {\n",
              "      background-color: #E8F0FE;\n",
              "      border: none;\n",
              "      border-radius: 50%;\n",
              "      cursor: pointer;\n",
              "      display: none;\n",
              "      fill: #1967D2;\n",
              "      height: 32px;\n",
              "      padding: 0 0 0 0;\n",
              "      width: 32px;\n",
              "    }\n",
              "\n",
              "    .colab-df-convert:hover {\n",
              "      background-color: #E2EBFA;\n",
              "      box-shadow: 0px 1px 2px rgba(60, 64, 67, 0.3), 0px 1px 3px 1px rgba(60, 64, 67, 0.15);\n",
              "      fill: #174EA6;\n",
              "    }\n",
              "\n",
              "    [theme=dark] .colab-df-convert {\n",
              "      background-color: #3B4455;\n",
              "      fill: #D2E3FC;\n",
              "    }\n",
              "\n",
              "    [theme=dark] .colab-df-convert:hover {\n",
              "      background-color: #434B5C;\n",
              "      box-shadow: 0px 1px 3px 1px rgba(0, 0, 0, 0.15);\n",
              "      filter: drop-shadow(0px 1px 2px rgba(0, 0, 0, 0.3));\n",
              "      fill: #FFFFFF;\n",
              "    }\n",
              "  </style>\n",
              "\n",
              "      <script>\n",
              "        const buttonEl =\n",
              "          document.querySelector('#df-84a7f5c9-857c-425f-b2bb-487cdd995ae6 button.colab-df-convert');\n",
              "        buttonEl.style.display =\n",
              "          google.colab.kernel.accessAllowed ? 'block' : 'none';\n",
              "\n",
              "        async function convertToInteractive(key) {\n",
              "          const element = document.querySelector('#df-84a7f5c9-857c-425f-b2bb-487cdd995ae6');\n",
              "          const dataTable =\n",
              "            await google.colab.kernel.invokeFunction('convertToInteractive',\n",
              "                                                     [key], {});\n",
              "          if (!dataTable) return;\n",
              "\n",
              "          const docLinkHtml = 'Like what you see? Visit the ' +\n",
              "            '<a target=\"_blank\" href=https://colab.research.google.com/notebooks/data_table.ipynb>data table notebook</a>'\n",
              "            + ' to learn more about interactive tables.';\n",
              "          element.innerHTML = '';\n",
              "          dataTable['output_type'] = 'display_data';\n",
              "          await google.colab.output.renderOutput(dataTable, element);\n",
              "          const docLink = document.createElement('div');\n",
              "          docLink.innerHTML = docLinkHtml;\n",
              "          element.appendChild(docLink);\n",
              "        }\n",
              "      </script>\n",
              "    </div>\n",
              "  </div>\n",
              "  "
            ]
          },
          "metadata": {},
          "execution_count": 45
        }
      ]
    },
    {
      "cell_type": "code",
      "source": [
        "# scatter plot을 통해 두 변수 간의 연관성 확인 \n",
        "\n",
        "# a와 b의 관계 \n",
        "plt.scatter(df.a, df.b)\n",
        "plt.xlim(0,100)\n",
        "plt.ylim(0,100)\n",
        "plt.show()\n",
        "\n",
        "# c와 d의 관계 \n",
        "plt.scatter(df.c, df.d)\n",
        "plt.xlim(0,100)\n",
        "plt.ylim(0,100)\n",
        "plt.show()"
      ],
      "metadata": {
        "colab": {
          "base_uri": "https://localhost:8080/",
          "height": 521
        },
        "id": "3kavkYVb5REA",
        "outputId": "83ea3401-e59e-4fa4-9f81-fccb168f8843"
      },
      "execution_count": null,
      "outputs": [
        {
          "output_type": "display_data",
          "data": {
            "text/plain": [
              "<Figure size 432x288 with 1 Axes>"
            ],
            "image/png": "[encoded data removed]"
          },
          "metadata": {
            "needs_background": "light"
          }
        },
        {
          "output_type": "display_data",
          "data": {
            "text/plain": [
              "<Figure size 432x288 with 1 Axes>"
            ],
            "image/png": "[encoded data removed]"
          },
          "metadata": {
            "needs_background": "light"
          }
        }
      ]
    },
    {
      "cell_type": "markdown",
      "source": [
        "### **a. 분산-공분산 행렬(variance-covariance matrix)**\n",
        "- 모든 변수에 대하여 분산과 공분산 값을 나타내는 정사각 행렬입니다. \n",
        "  - 주 대각선 성분은 자기 자신의 분산 값을 나타냅니다.\n",
        "  - 주 대각선 이외의 성분은 가능한 두 변수의 공분산 값을 나타냅니다.\n",
        "- [`df.cov()`](https://pandas.pydata.org/docs/reference/api/pandas.DataFrame.cov.html) 또는 [`np.cov()`](https://numpy.org/doc/stable/reference/generated/numpy.cov.html)를 사용하여 구할 수 있습니다. "
      ],
      "metadata": {
        "id": "xJMcNLnv6K1Z"
      }
    },
    {
      "cell_type": "code",
      "source": [
        "# df.cov()를 사용하여 공분산 행렬 나타내기 \n",
        "df.cov()"
      ],
      "metadata": {
        "colab": {
          "base_uri": "https://localhost:8080/",
          "height": 175
        },
        "id": "etbvNcow6UZF",
        "outputId": "78a86278-4ea3-4c81-b534-9da73bac9c57"
      },
      "execution_count": null,
      "outputs": [
        {
          "output_type": "execute_result",
          "data": {
            "text/plain": [
              "       a      b      c      d\n",
              "a  187.5  187.5  375.0  375.0\n",
              "b  187.5  187.5  375.0  375.0\n",
              "c  375.0  375.0  750.0  750.0\n",
              "d  375.0  375.0  750.0  750.0"
            ],
            "text/html": [
              "\n",
              "  <div id=\"df-0ee4a063-9c58-4547-97b4-d8c6a7622636\">\n",
              "    <div class=\"colab-df-container\">\n",
              "      <div>\n",
              "<style scoped>\n",
              "    .dataframe tbody tr th:only-of-type {\n",
              "        vertical-align: middle;\n",
              "    }\n",
              "\n",
              "    .dataframe tbody tr th {\n",
              "        vertical-align: top;\n",
              "    }\n",
              "\n",
              "    .dataframe thead th {\n",
              "        text-align: right;\n",
              "    }\n",
              "</style>\n",
              "<table border=\"1\" class=\"dataframe\">\n",
              "  <thead>\n",
              "    <tr style=\"text-align: right;\">\n",
              "      <th></th>\n",
              "      <th>a</th>\n",
              "      <th>b</th>\n",
              "      <th>c</th>\n",
              "      <th>d</th>\n",
              "    </tr>\n",
              "  </thead>\n",
              "  <tbody>\n",
              "    <tr>\n",
              "      <th>a</th>\n",
              "      <td>187.5</td>\n",
              "      <td>187.5</td>\n",
              "      <td>375.0</td>\n",
              "      <td>375.0</td>\n",
              "    </tr>\n",
              "    <tr>\n",
              "      <th>b</th>\n",
              "      <td>187.5</td>\n",
              "      <td>187.5</td>\n",
              "      <td>375.0</td>\n",
              "      <td>375.0</td>\n",
              "    </tr>\n",
              "    <tr>\n",
              "      <th>c</th>\n",
              "      <td>375.0</td>\n",
              "      <td>375.0</td>\n",
              "      <td>750.0</td>\n",
              "      <td>750.0</td>\n",
              "    </tr>\n",
              "    <tr>\n",
              "      <th>d</th>\n",
              "      <td>375.0</td>\n",
              "      <td>375.0</td>\n",
              "      <td>750.0</td>\n",
              "      <td>750.0</td>\n",
              "    </tr>\n",
              "  </tbody>\n",
              "</table>\n",
              "</div>\n",
              "      <button class=\"colab-df-convert\" onclick=\"convertToInteractive('df-0ee4a063-9c58-4547-97b4-d8c6a7622636')\"\n",
              "              title=\"Convert this dataframe to an interactive table.\"\n",
              "              style=\"display:none;\">\n",
              "        \n",
              "  <svg xmlns=\"http://www.w3.org/2000/svg\" height=\"24px\"viewBox=\"0 0 24 24\"\n",
              "       width=\"24px\">\n",
              "    <path d=\"M0 0h24v24H0V0z\" fill=\"none\"/>\n",
              "    <path d=\"M18.56 5.44l.94 2.06.94-2.06 2.06-.94-2.06-.94-.94-2.06-.94 2.06-2.06.94zm-11 1L8.5 8.5l.94-2.06 2.06-.94-2.06-.94L8.5 2.5l-.94 2.06-2.06.94zm10 10l.94 2.06.94-2.06 2.06-.94-2.06-.94-.94-2.06-.94 2.06-2.06.94z\"/><path d=\"M17.41 7.96l-1.37-1.37c-.4-.4-.92-.59-1.43-.59-.52 0-1.04.2-1.43.59L10.3 9.45l-7.72 7.72c-.78.78-.78 2.05 0 2.83L4 21.41c.39.39.9.59 1.41.59.51 0 1.02-.2 1.41-.59l7.78-7.78 2.81-2.81c.8-.78.8-2.07 0-2.86zM5.41 20L4 18.59l7.72-7.72 1.47 1.35L5.41 20z\"/>\n",
              "  </svg>\n",
              "      </button>\n",
              "      \n",
              "  <style>\n",
              "    .colab-df-container {\n",
              "      display:flex;\n",
              "      flex-wrap:wrap;\n",
              "      gap: 12px;\n",
              "    }\n",
              "\n",
              "    .colab-df-convert {\n",
              "      background-color: #E8F0FE;\n",
              "      border: none;\n",
              "      border-radius: 50%;\n",
              "      cursor: pointer;\n",
              "      display: none;\n",
              "      fill: #1967D2;\n",
              "      height: 32px;\n",
              "      padding: 0 0 0 0;\n",
              "      width: 32px;\n",
              "    }\n",
              "\n",
              "    .colab-df-convert:hover {\n",
              "      background-color: #E2EBFA;\n",
              "      box-shadow: 0px 1px 2px rgba(60, 64, 67, 0.3), 0px 1px 3px 1px rgba(60, 64, 67, 0.15);\n",
              "      fill: #174EA6;\n",
              "    }\n",
              "\n",
              "    [theme=dark] .colab-df-convert {\n",
              "      background-color: #3B4455;\n",
              "      fill: #D2E3FC;\n",
              "    }\n",
              "\n",
              "    [theme=dark] .colab-df-convert:hover {\n",
              "      background-color: #434B5C;\n",
              "      box-shadow: 0px 1px 3px 1px rgba(0, 0, 0, 0.15);\n",
              "      filter: drop-shadow(0px 1px 2px rgba(0, 0, 0, 0.3));\n",
              "      fill: #FFFFFF;\n",
              "    }\n",
              "  </style>\n",
              "\n",
              "      <script>\n",
              "        const buttonEl =\n",
              "          document.querySelector('#df-0ee4a063-9c58-4547-97b4-d8c6a7622636 button.colab-df-convert');\n",
              "        buttonEl.style.display =\n",
              "          google.colab.kernel.accessAllowed ? 'block' : 'none';\n",
              "\n",
              "        async function convertToInteractive(key) {\n",
              "          const element = document.querySelector('#df-0ee4a063-9c58-4547-97b4-d8c6a7622636');\n",
              "          const dataTable =\n",
              "            await google.colab.kernel.invokeFunction('convertToInteractive',\n",
              "                                                     [key], {});\n",
              "          if (!dataTable) return;\n",
              "\n",
              "          const docLinkHtml = 'Like what you see? Visit the ' +\n",
              "            '<a target=\"_blank\" href=https://colab.research.google.com/notebooks/data_table.ipynb>data table notebook</a>'\n",
              "            + ' to learn more about interactive tables.';\n",
              "          element.innerHTML = '';\n",
              "          dataTable['output_type'] = 'display_data';\n",
              "          await google.colab.output.renderOutput(dataTable, element);\n",
              "          const docLink = document.createElement('div');\n",
              "          docLink.innerHTML = docLinkHtml;\n",
              "          element.appendChild(docLink);\n",
              "        }\n",
              "      </script>\n",
              "    </div>\n",
              "  </div>\n",
              "  "
            ]
          },
          "metadata": {},
          "execution_count": 48
        }
      ]
    },
    {
      "cell_type": "code",
      "source": [
        "# np.cov()를 사용하여 공분산 행렬 나타내기 \n",
        "np.cov(df.T)"
      ],
      "metadata": {
        "colab": {
          "base_uri": "https://localhost:8080/"
        },
        "id": "6D4TechA_vs2",
        "outputId": "e3aa88bb-2e0e-4455-a075-3801d88a575a"
      },
      "execution_count": null,
      "outputs": [
        {
          "output_type": "execute_result",
          "data": {
            "text/plain": [
              "array([[187.5, 187.5, 375. , 375. ],\n",
              "       [187.5, 187.5, 375. , 375. ],\n",
              "       [375. , 375. , 750. , 750. ],\n",
              "       [375. , 375. , 750. , 750. ]])"
            ]
          },
          "metadata": {},
          "execution_count": 49
        }
      ]
    },
    {
      "cell_type": "markdown",
      "source": [
        "> 💡**Tip**\n",
        "> \n",
        "> 유사한 연관성이라도, 스케일이 큰 변수들은 스케일이 작은 변수들에 비해서 높은 공분산 값을 가지게 될 것입니다."
      ],
      "metadata": {
        "id": "Q5J1uPX5JUBs"
      }
    },
    {
      "cell_type": "markdown",
      "source": [
        "## **1-4. 상관계수(Correlation coefficient)**\n",
        "- 공분산을 두 변수의 표준편차로 나눠준 값입니다. \n",
        "  > $r_{x, y} = \\frac{cov(X,Y)}{\\sigma_{X}\\sigma_{Y}}$\n",
        "- 공분산의 스케일을 조정하는 효과가 있습니다.\n",
        "- 변수의 스케일에 영향을 받지 않습니다. \n",
        "- -1에서 1 사이의 값을 가집니다. 상관계수가 1이라는 것은 한 변수가 다른 변수에 대해서 완벽한 양의 선형 관계를 갖고 있다는 것을 의미합니다. <br>\n",
        "  <img src = 'https://i.imgur.com/25t6mK2.png' width=500>\n",
        "- [`df.corr()`](https://pandas.pydata.org/docs/reference/api/pandas.DataFrame.corr.html) 또는 [`np.corrcoef()`](https://numpy.org/doc/stable/reference/generated/numpy.corrcoef.html)를 사용하여 구할 수 있습니다.\n",
        "\n",
        "\n",
        "\n"
      ],
      "metadata": {
        "id": "iPEPqr7BYF_h"
      }
    },
    {
      "cell_type": "code",
      "source": [
        "# df.corr()를 사용하여 상관계수 나타내기\n",
        "df.corr()"
      ],
      "metadata": {
        "colab": {
          "base_uri": "https://localhost:8080/",
          "height": 175
        },
        "id": "lugNI4dt_hYO",
        "outputId": "7b30ac3e-4973-4120-fbaa-8523ecca0111"
      },
      "execution_count": null,
      "outputs": [
        {
          "output_type": "execute_result",
          "data": {
            "text/plain": [
              "     a    b    c    d\n",
              "a  1.0  1.0  1.0  1.0\n",
              "b  1.0  1.0  1.0  1.0\n",
              "c  1.0  1.0  1.0  1.0\n",
              "d  1.0  1.0  1.0  1.0"
            ],
            "text/html": [
              "\n",
              "  <div id=\"df-37d11c26-4cce-4cb9-8879-d829f819597c\">\n",
              "    <div class=\"colab-df-container\">\n",
              "      <div>\n",
              "<style scoped>\n",
              "    .dataframe tbody tr th:only-of-type {\n",
              "        vertical-align: middle;\n",
              "    }\n",
              "\n",
              "    .dataframe tbody tr th {\n",
              "        vertical-align: top;\n",
              "    }\n",
              "\n",
              "    .dataframe thead th {\n",
              "        text-align: right;\n",
              "    }\n",
              "</style>\n",
              "<table border=\"1\" class=\"dataframe\">\n",
              "  <thead>\n",
              "    <tr style=\"text-align: right;\">\n",
              "      <th></th>\n",
              "      <th>a</th>\n",
              "      <th>b</th>\n",
              "      <th>c</th>\n",
              "      <th>d</th>\n",
              "    </tr>\n",
              "  </thead>\n",
              "  <tbody>\n",
              "    <tr>\n",
              "      <th>a</th>\n",
              "      <td>1.0</td>\n",
              "      <td>1.0</td>\n",
              "      <td>1.0</td>\n",
              "      <td>1.0</td>\n",
              "    </tr>\n",
              "    <tr>\n",
              "      <th>b</th>\n",
              "      <td>1.0</td>\n",
              "      <td>1.0</td>\n",
              "      <td>1.0</td>\n",
              "      <td>1.0</td>\n",
              "    </tr>\n",
              "    <tr>\n",
              "      <th>c</th>\n",
              "      <td>1.0</td>\n",
              "      <td>1.0</td>\n",
              "      <td>1.0</td>\n",
              "      <td>1.0</td>\n",
              "    </tr>\n",
              "    <tr>\n",
              "      <th>d</th>\n",
              "      <td>1.0</td>\n",
              "      <td>1.0</td>\n",
              "      <td>1.0</td>\n",
              "      <td>1.0</td>\n",
              "    </tr>\n",
              "  </tbody>\n",
              "</table>\n",
              "</div>\n",
              "      <button class=\"colab-df-convert\" onclick=\"convertToInteractive('df-37d11c26-4cce-4cb9-8879-d829f819597c')\"\n",
              "              title=\"Convert this dataframe to an interactive table.\"\n",
              "              style=\"display:none;\">\n",
              "        \n",
              "  <svg xmlns=\"http://www.w3.org/2000/svg\" height=\"24px\"viewBox=\"0 0 24 24\"\n",
              "       width=\"24px\">\n",
              "    <path d=\"M0 0h24v24H0V0z\" fill=\"none\"/>\n",
              "    <path d=\"M18.56 5.44l.94 2.06.94-2.06 2.06-.94-2.06-.94-.94-2.06-.94 2.06-2.06.94zm-11 1L8.5 8.5l.94-2.06 2.06-.94-2.06-.94L8.5 2.5l-.94 2.06-2.06.94zm10 10l.94 2.06.94-2.06 2.06-.94-2.06-.94-.94-2.06-.94 2.06-2.06.94z\"/><path d=\"M17.41 7.96l-1.37-1.37c-.4-.4-.92-.59-1.43-.59-.52 0-1.04.2-1.43.59L10.3 9.45l-7.72 7.72c-.78.78-.78 2.05 0 2.83L4 21.41c.39.39.9.59 1.41.59.51 0 1.02-.2 1.41-.59l7.78-7.78 2.81-2.81c.8-.78.8-2.07 0-2.86zM5.41 20L4 18.59l7.72-7.72 1.47 1.35L5.41 20z\"/>\n",
              "  </svg>\n",
              "      </button>\n",
              "      \n",
              "  <style>\n",
              "    .colab-df-container {\n",
              "      display:flex;\n",
              "      flex-wrap:wrap;\n",
              "      gap: 12px;\n",
              "    }\n",
              "\n",
              "    .colab-df-convert {\n",
              "      background-color: #E8F0FE;\n",
              "      border: none;\n",
              "      border-radius: 50%;\n",
              "      cursor: pointer;\n",
              "      display: none;\n",
              "      fill: #1967D2;\n",
              "      height: 32px;\n",
              "      padding: 0 0 0 0;\n",
              "      width: 32px;\n",
              "    }\n",
              "\n",
              "    .colab-df-convert:hover {\n",
              "      background-color: #E2EBFA;\n",
              "      box-shadow: 0px 1px 2px rgba(60, 64, 67, 0.3), 0px 1px 3px 1px rgba(60, 64, 67, 0.15);\n",
              "      fill: #174EA6;\n",
              "    }\n",
              "\n",
              "    [theme=dark] .colab-df-convert {\n",
              "      background-color: #3B4455;\n",
              "      fill: #D2E3FC;\n",
              "    }\n",
              "\n",
              "    [theme=dark] .colab-df-convert:hover {\n",
              "      background-color: #434B5C;\n",
              "      box-shadow: 0px 1px 3px 1px rgba(0, 0, 0, 0.15);\n",
              "      filter: drop-shadow(0px 1px 2px rgba(0, 0, 0, 0.3));\n",
              "      fill: #FFFFFF;\n",
              "    }\n",
              "  </style>\n",
              "\n",
              "      <script>\n",
              "        const buttonEl =\n",
              "          document.querySelector('#df-37d11c26-4cce-4cb9-8879-d829f819597c button.colab-df-convert');\n",
              "        buttonEl.style.display =\n",
              "          google.colab.kernel.accessAllowed ? 'block' : 'none';\n",
              "\n",
              "        async function convertToInteractive(key) {\n",
              "          const element = document.querySelector('#df-37d11c26-4cce-4cb9-8879-d829f819597c');\n",
              "          const dataTable =\n",
              "            await google.colab.kernel.invokeFunction('convertToInteractive',\n",
              "                                                     [key], {});\n",
              "          if (!dataTable) return;\n",
              "\n",
              "          const docLinkHtml = 'Like what you see? Visit the ' +\n",
              "            '<a target=\"_blank\" href=https://colab.research.google.com/notebooks/data_table.ipynb>data table notebook</a>'\n",
              "            + ' to learn more about interactive tables.';\n",
              "          element.innerHTML = '';\n",
              "          dataTable['output_type'] = 'display_data';\n",
              "          await google.colab.output.renderOutput(dataTable, element);\n",
              "          const docLink = document.createElement('div');\n",
              "          docLink.innerHTML = docLinkHtml;\n",
              "          element.appendChild(docLink);\n",
              "        }\n",
              "      </script>\n",
              "    </div>\n",
              "  </div>\n",
              "  "
            ]
          },
          "metadata": {},
          "execution_count": 50
        }
      ]
    },
    {
      "cell_type": "code",
      "source": [
        "# np.corrcoef()를 사용하여 상관계수 나타내기\n",
        "np.corrcoef(df.T)"
      ],
      "metadata": {
        "colab": {
          "base_uri": "https://localhost:8080/"
        },
        "id": "lX-2FX5LI-Up",
        "outputId": "1003c425-b924-4d5e-c789-4ca62c55e709"
      },
      "execution_count": null,
      "outputs": [
        {
          "output_type": "execute_result",
          "data": {
            "text/plain": [
              "array([[1., 1., 1., 1.],\n",
              "       [1., 1., 1., 1.],\n",
              "       [1., 1., 1., 1.],\n",
              "       [1., 1., 1., 1.]])"
            ]
          },
          "metadata": {},
          "execution_count": 51
        }
      ]
    },
    {
      "cell_type": "markdown",
      "source": [
        "> 💡**Tip**\n",
        "- 공식문서를 통해 numpy를 사용하는 경우 df를 transpose 한 이유를 알아보세요. \n",
        "- 아래의 코드를 활용하여 상관관계를 heatmap으로 나타내는 프로세스도 한번 살펴보세요. "
      ],
      "metadata": {
        "id": "wTbkqZcK9UU5"
      }
    },
    {
      "cell_type": "code",
      "source": [
        "import seaborn as sns\n",
        "\n",
        "# seaborn의 내장 데이터셋 - 연도별 월별 승객 수 \n",
        "\n",
        "flights = sns.load_dataset('flights')\n",
        "flights.head()"
      ],
      "metadata": {
        "colab": {
          "base_uri": "https://localhost:8080/",
          "height": 206
        },
        "id": "8wdbrRDaLltG",
        "outputId": "fa559892-b402-4fe0-d4d7-85ff80bec839"
      },
      "execution_count": null,
      "outputs": [
        {
          "output_type": "execute_result",
          "data": {
            "text/plain": [
              "   year month  passengers\n",
              "0  1949   Jan         112\n",
              "1  1949   Feb         118\n",
              "2  1949   Mar         132\n",
              "3  1949   Apr         129\n",
              "4  1949   May         121"
            ],
            "text/html": [
              "\n",
              "  <div id=\"df-730fb49a-0f39-4341-8507-624c65d6a3c9\">\n",
              "    <div class=\"colab-df-container\">\n",
              "      <div>\n",
              "<style scoped>\n",
              "    .dataframe tbody tr th:only-of-type {\n",
              "        vertical-align: middle;\n",
              "    }\n",
              "\n",
              "    .dataframe tbody tr th {\n",
              "        vertical-align: top;\n",
              "    }\n",
              "\n",
              "    .dataframe thead th {\n",
              "        text-align: right;\n",
              "    }\n",
              "</style>\n",
              "<table border=\"1\" class=\"dataframe\">\n",
              "  <thead>\n",
              "    <tr style=\"text-align: right;\">\n",
              "      <th></th>\n",
              "      <th>year</th>\n",
              "      <th>month</th>\n",
              "      <th>passengers</th>\n",
              "    </tr>\n",
              "  </thead>\n",
              "  <tbody>\n",
              "    <tr>\n",
              "      <th>0</th>\n",
              "      <td>1949</td>\n",
              "      <td>Jan</td>\n",
              "      <td>112</td>\n",
              "    </tr>\n",
              "    <tr>\n",
              "      <th>1</th>\n",
              "      <td>1949</td>\n",
              "      <td>Feb</td>\n",
              "      <td>118</td>\n",
              "    </tr>\n",
              "    <tr>\n",
              "      <th>2</th>\n",
              "      <td>1949</td>\n",
              "      <td>Mar</td>\n",
              "      <td>132</td>\n",
              "    </tr>\n",
              "    <tr>\n",
              "      <th>3</th>\n",
              "      <td>1949</td>\n",
              "      <td>Apr</td>\n",
              "      <td>129</td>\n",
              "    </tr>\n",
              "    <tr>\n",
              "      <th>4</th>\n",
              "      <td>1949</td>\n",
              "      <td>May</td>\n",
              "      <td>121</td>\n",
              "    </tr>\n",
              "  </tbody>\n",
              "</table>\n",
              "</div>\n",
              "      <button class=\"colab-df-convert\" onclick=\"convertToInteractive('df-730fb49a-0f39-4341-8507-624c65d6a3c9')\"\n",
              "              title=\"Convert this dataframe to an interactive table.\"\n",
              "              style=\"display:none;\">\n",
              "        \n",
              "  <svg xmlns=\"http://www.w3.org/2000/svg\" height=\"24px\"viewBox=\"0 0 24 24\"\n",
              "       width=\"24px\">\n",
              "    <path d=\"M0 0h24v24H0V0z\" fill=\"none\"/>\n",
              "    <path d=\"M18.56 5.44l.94 2.06.94-2.06 2.06-.94-2.06-.94-.94-2.06-.94 2.06-2.06.94zm-11 1L8.5 8.5l.94-2.06 2.06-.94-2.06-.94L8.5 2.5l-.94 2.06-2.06.94zm10 10l.94 2.06.94-2.06 2.06-.94-2.06-.94-.94-2.06-.94 2.06-2.06.94z\"/><path d=\"M17.41 7.96l-1.37-1.37c-.4-.4-.92-.59-1.43-.59-.52 0-1.04.2-1.43.59L10.3 9.45l-7.72 7.72c-.78.78-.78 2.05 0 2.83L4 21.41c.39.39.9.59 1.41.59.51 0 1.02-.2 1.41-.59l7.78-7.78 2.81-2.81c.8-.78.8-2.07 0-2.86zM5.41 20L4 18.59l7.72-7.72 1.47 1.35L5.41 20z\"/>\n",
              "  </svg>\n",
              "      </button>\n",
              "      \n",
              "  <style>\n",
              "    .colab-df-container {\n",
              "      display:flex;\n",
              "      flex-wrap:wrap;\n",
              "      gap: 12px;\n",
              "    }\n",
              "\n",
              "    .colab-df-convert {\n",
              "      background-color: #E8F0FE;\n",
              "      border: none;\n",
              "      border-radius: 50%;\n",
              "      cursor: pointer;\n",
              "      display: none;\n",
              "      fill: #1967D2;\n",
              "      height: 32px;\n",
              "      padding: 0 0 0 0;\n",
              "      width: 32px;\n",
              "    }\n",
              "\n",
              "    .colab-df-convert:hover {\n",
              "      background-color: #E2EBFA;\n",
              "      box-shadow: 0px 1px 2px rgba(60, 64, 67, 0.3), 0px 1px 3px 1px rgba(60, 64, 67, 0.15);\n",
              "      fill: #174EA6;\n",
              "    }\n",
              "\n",
              "    [theme=dark] .colab-df-convert {\n",
              "      background-color: #3B4455;\n",
              "      fill: #D2E3FC;\n",
              "    }\n",
              "\n",
              "    [theme=dark] .colab-df-convert:hover {\n",
              "      background-color: #434B5C;\n",
              "      box-shadow: 0px 1px 3px 1px rgba(0, 0, 0, 0.15);\n",
              "      filter: drop-shadow(0px 1px 2px rgba(0, 0, 0, 0.3));\n",
              "      fill: #FFFFFF;\n",
              "    }\n",
              "  </style>\n",
              "\n",
              "      <script>\n",
              "        const buttonEl =\n",
              "          document.querySelector('#df-730fb49a-0f39-4341-8507-624c65d6a3c9 button.colab-df-convert');\n",
              "        buttonEl.style.display =\n",
              "          google.colab.kernel.accessAllowed ? 'block' : 'none';\n",
              "\n",
              "        async function convertToInteractive(key) {\n",
              "          const element = document.querySelector('#df-730fb49a-0f39-4341-8507-624c65d6a3c9');\n",
              "          const dataTable =\n",
              "            await google.colab.kernel.invokeFunction('convertToInteractive',\n",
              "                                                     [key], {});\n",
              "          if (!dataTable) return;\n",
              "\n",
              "          const docLinkHtml = 'Like what you see? Visit the ' +\n",
              "            '<a target=\"_blank\" href=https://colab.research.google.com/notebooks/data_table.ipynb>data table notebook</a>'\n",
              "            + ' to learn more about interactive tables.';\n",
              "          element.innerHTML = '';\n",
              "          dataTable['output_type'] = 'display_data';\n",
              "          await google.colab.output.renderOutput(dataTable, element);\n",
              "          const docLink = document.createElement('div');\n",
              "          docLink.innerHTML = docLinkHtml;\n",
              "          element.appendChild(docLink);\n",
              "        }\n",
              "      </script>\n",
              "    </div>\n",
              "  </div>\n",
              "  "
            ]
          },
          "metadata": {},
          "execution_count": 52
        }
      ]
    },
    {
      "cell_type": "code",
      "source": [
        "# 월별 연도별 승객수를 집계한 피벗 테이블(pivot table)\n",
        "\n",
        "df = flights.pivot('month', 'year', 'passengers')\n",
        "df"
      ],
      "metadata": {
        "colab": {
          "base_uri": "https://localhost:8080/",
          "height": 457
        },
        "id": "xxnVqEi-Lt75",
        "outputId": "b38a8b09-0c7c-44f6-f5bf-26a0d84a22c0"
      },
      "execution_count": null,
      "outputs": [
        {
          "output_type": "execute_result",
          "data": {
            "text/plain": [
              "year   1949  1950  1951  1952  1953  1954  1955  1956  1957  1958  1959  1960\n",
              "month                                                                        \n",
              "Jan     112   115   145   171   196   204   242   284   315   340   360   417\n",
              "Feb     118   126   150   180   196   188   233   277   301   318   342   391\n",
              "Mar     132   141   178   193   236   235   267   317   356   362   406   419\n",
              "Apr     129   135   163   181   235   227   269   313   348   348   396   461\n",
              "May     121   125   172   183   229   234   270   318   355   363   420   472\n",
              "Jun     135   149   178   218   243   264   315   374   422   435   472   535\n",
              "Jul     148   170   199   230   264   302   364   413   465   491   548   622\n",
              "Aug     148   170   199   242   272   293   347   405   467   505   559   606\n",
              "Sep     136   158   184   209   237   259   312   355   404   404   463   508\n",
              "Oct     119   133   162   191   211   229   274   306   347   359   407   461\n",
              "Nov     104   114   146   172   180   203   237   271   305   310   362   390\n",
              "Dec     118   140   166   194   201   229   278   306   336   337   405   432"
            ],
            "text/html": [
              "\n",
              "  <div id=\"df-84401b3f-990a-4189-8ef3-8cc81c81c45b\">\n",
              "    <div class=\"colab-df-container\">\n",
              "      <div>\n",
              "<style scoped>\n",
              "    .dataframe tbody tr th:only-of-type {\n",
              "        vertical-align: middle;\n",
              "    }\n",
              "\n",
              "    .dataframe tbody tr th {\n",
              "        vertical-align: top;\n",
              "    }\n",
              "\n",
              "    .dataframe thead th {\n",
              "        text-align: right;\n",
              "    }\n",
              "</style>\n",
              "<table border=\"1\" class=\"dataframe\">\n",
              "  <thead>\n",
              "    <tr style=\"text-align: right;\">\n",
              "      <th>year</th>\n",
              "      <th>1949</th>\n",
              "      <th>1950</th>\n",
              "      <th>1951</th>\n",
              "      <th>1952</th>\n",
              "      <th>1953</th>\n",
              "      <th>1954</th>\n",
              "      <th>1955</th>\n",
              "      <th>1956</th>\n",
              "      <th>1957</th>\n",
              "      <th>1958</th>\n",
              "      <th>1959</th>\n",
              "      <th>1960</th>\n",
              "    </tr>\n",
              "    <tr>\n",
              "      <th>month</th>\n",
              "      <th></th>\n",
              "      <th></th>\n",
              "      <th></th>\n",
              "      <th></th>\n",
              "      <th></th>\n",
              "      <th></th>\n",
              "      <th></th>\n",
              "      <th></th>\n",
              "      <th></th>\n",
              "      <th></th>\n",
              "      <th></th>\n",
              "      <th></th>\n",
              "    </tr>\n",
              "  </thead>\n",
              "  <tbody>\n",
              "    <tr>\n",
              "      <th>Jan</th>\n",
              "      <td>112</td>\n",
              "      <td>115</td>\n",
              "      <td>145</td>\n",
              "      <td>171</td>\n",
              "      <td>196</td>\n",
              "      <td>204</td>\n",
              "      <td>242</td>\n",
              "      <td>284</td>\n",
              "      <td>315</td>\n",
              "      <td>340</td>\n",
              "      <td>360</td>\n",
              "      <td>417</td>\n",
              "    </tr>\n",
              "    <tr>\n",
              "      <th>Feb</th>\n",
              "      <td>118</td>\n",
              "      <td>126</td>\n",
              "      <td>150</td>\n",
              "      <td>180</td>\n",
              "      <td>196</td>\n",
              "      <td>188</td>\n",
              "      <td>233</td>\n",
              "      <td>277</td>\n",
              "      <td>301</td>\n",
              "      <td>318</td>\n",
              "      <td>342</td>\n",
              "      <td>391</td>\n",
              "    </tr>\n",
              "    <tr>\n",
              "      <th>Mar</th>\n",
              "      <td>132</td>\n",
              "      <td>141</td>\n",
              "      <td>178</td>\n",
              "      <td>193</td>\n",
              "      <td>236</td>\n",
              "      <td>235</td>\n",
              "      <td>267</td>\n",
              "      <td>317</td>\n",
              "      <td>356</td>\n",
              "      <td>362</td>\n",
              "      <td>406</td>\n",
              "      <td>419</td>\n",
              "    </tr>\n",
              "    <tr>\n",
              "      <th>Apr</th>\n",
              "      <td>129</td>\n",
              "      <td>135</td>\n",
              "      <td>163</td>\n",
              "      <td>181</td>\n",
              "      <td>235</td>\n",
              "      <td>227</td>\n",
              "      <td>269</td>\n",
              "      <td>313</td>\n",
              "      <td>348</td>\n",
              "      <td>348</td>\n",
              "      <td>396</td>\n",
              "      <td>461</td>\n",
              "    </tr>\n",
              "    <tr>\n",
              "      <th>May</th>\n",
              "      <td>121</td>\n",
              "      <td>125</td>\n",
              "      <td>172</td>\n",
              "      <td>183</td>\n",
              "      <td>229</td>\n",
              "      <td>234</td>\n",
              "      <td>270</td>\n",
              "      <td>318</td>\n",
              "      <td>355</td>\n",
              "      <td>363</td>\n",
              "      <td>420</td>\n",
              "      <td>472</td>\n",
              "    </tr>\n",
              "    <tr>\n",
              "      <th>Jun</th>\n",
              "      <td>135</td>\n",
              "      <td>149</td>\n",
              "      <td>178</td>\n",
              "      <td>218</td>\n",
              "      <td>243</td>\n",
              "      <td>264</td>\n",
              "      <td>315</td>\n",
              "      <td>374</td>\n",
              "      <td>422</td>\n",
              "      <td>435</td>\n",
              "      <td>472</td>\n",
              "      <td>535</td>\n",
              "    </tr>\n",
              "    <tr>\n",
              "      <th>Jul</th>\n",
              "      <td>148</td>\n",
              "      <td>170</td>\n",
              "      <td>199</td>\n",
              "      <td>230</td>\n",
              "      <td>264</td>\n",
              "      <td>302</td>\n",
              "      <td>364</td>\n",
              "      <td>413</td>\n",
              "      <td>465</td>\n",
              "      <td>491</td>\n",
              "      <td>548</td>\n",
              "      <td>622</td>\n",
              "    </tr>\n",
              "    <tr>\n",
              "      <th>Aug</th>\n",
              "      <td>148</td>\n",
              "      <td>170</td>\n",
              "      <td>199</td>\n",
              "      <td>242</td>\n",
              "      <td>272</td>\n",
              "      <td>293</td>\n",
              "      <td>347</td>\n",
              "      <td>405</td>\n",
              "      <td>467</td>\n",
              "      <td>505</td>\n",
              "      <td>559</td>\n",
              "      <td>606</td>\n",
              "    </tr>\n",
              "    <tr>\n",
              "      <th>Sep</th>\n",
              "      <td>136</td>\n",
              "      <td>158</td>\n",
              "      <td>184</td>\n",
              "      <td>209</td>\n",
              "      <td>237</td>\n",
              "      <td>259</td>\n",
              "      <td>312</td>\n",
              "      <td>355</td>\n",
              "      <td>404</td>\n",
              "      <td>404</td>\n",
              "      <td>463</td>\n",
              "      <td>508</td>\n",
              "    </tr>\n",
              "    <tr>\n",
              "      <th>Oct</th>\n",
              "      <td>119</td>\n",
              "      <td>133</td>\n",
              "      <td>162</td>\n",
              "      <td>191</td>\n",
              "      <td>211</td>\n",
              "      <td>229</td>\n",
              "      <td>274</td>\n",
              "      <td>306</td>\n",
              "      <td>347</td>\n",
              "      <td>359</td>\n",
              "      <td>407</td>\n",
              "      <td>461</td>\n",
              "    </tr>\n",
              "    <tr>\n",
              "      <th>Nov</th>\n",
              "      <td>104</td>\n",
              "      <td>114</td>\n",
              "      <td>146</td>\n",
              "      <td>172</td>\n",
              "      <td>180</td>\n",
              "      <td>203</td>\n",
              "      <td>237</td>\n",
              "      <td>271</td>\n",
              "      <td>305</td>\n",
              "      <td>310</td>\n",
              "      <td>362</td>\n",
              "      <td>390</td>\n",
              "    </tr>\n",
              "    <tr>\n",
              "      <th>Dec</th>\n",
              "      <td>118</td>\n",
              "      <td>140</td>\n",
              "      <td>166</td>\n",
              "      <td>194</td>\n",
              "      <td>201</td>\n",
              "      <td>229</td>\n",
              "      <td>278</td>\n",
              "      <td>306</td>\n",
              "      <td>336</td>\n",
              "      <td>337</td>\n",
              "      <td>405</td>\n",
              "      <td>432</td>\n",
              "    </tr>\n",
              "  </tbody>\n",
              "</table>\n",
              "</div>\n",
              "      <button class=\"colab-df-convert\" onclick=\"convertToInteractive('df-84401b3f-990a-4189-8ef3-8cc81c81c45b')\"\n",
              "              title=\"Convert this dataframe to an interactive table.\"\n",
              "              style=\"display:none;\">\n",
              "        \n",
              "  <svg xmlns=\"http://www.w3.org/2000/svg\" height=\"24px\"viewBox=\"0 0 24 24\"\n",
              "       width=\"24px\">\n",
              "    <path d=\"M0 0h24v24H0V0z\" fill=\"none\"/>\n",
              "    <path d=\"M18.56 5.44l.94 2.06.94-2.06 2.06-.94-2.06-.94-.94-2.06-.94 2.06-2.06.94zm-11 1L8.5 8.5l.94-2.06 2.06-.94-2.06-.94L8.5 2.5l-.94 2.06-2.06.94zm10 10l.94 2.06.94-2.06 2.06-.94-2.06-.94-.94-2.06-.94 2.06-2.06.94z\"/><path d=\"M17.41 7.96l-1.37-1.37c-.4-.4-.92-.59-1.43-.59-.52 0-1.04.2-1.43.59L10.3 9.45l-7.72 7.72c-.78.78-.78 2.05 0 2.83L4 21.41c.39.39.9.59 1.41.59.51 0 1.02-.2 1.41-.59l7.78-7.78 2.81-2.81c.8-.78.8-2.07 0-2.86zM5.41 20L4 18.59l7.72-7.72 1.47 1.35L5.41 20z\"/>\n",
              "  </svg>\n",
              "      </button>\n",
              "      \n",
              "  <style>\n",
              "    .colab-df-container {\n",
              "      display:flex;\n",
              "      flex-wrap:wrap;\n",
              "      gap: 12px;\n",
              "    }\n",
              "\n",
              "    .colab-df-convert {\n",
              "      background-color: #E8F0FE;\n",
              "      border: none;\n",
              "      border-radius: 50%;\n",
              "      cursor: pointer;\n",
              "      display: none;\n",
              "      fill: #1967D2;\n",
              "      height: 32px;\n",
              "      padding: 0 0 0 0;\n",
              "      width: 32px;\n",
              "    }\n",
              "\n",
              "    .colab-df-convert:hover {\n",
              "      background-color: #E2EBFA;\n",
              "      box-shadow: 0px 1px 2px rgba(60, 64, 67, 0.3), 0px 1px 3px 1px rgba(60, 64, 67, 0.15);\n",
              "      fill: #174EA6;\n",
              "    }\n",
              "\n",
              "    [theme=dark] .colab-df-convert {\n",
              "      background-color: #3B4455;\n",
              "      fill: #D2E3FC;\n",
              "    }\n",
              "\n",
              "    [theme=dark] .colab-df-convert:hover {\n",
              "      background-color: #434B5C;\n",
              "      box-shadow: 0px 1px 3px 1px rgba(0, 0, 0, 0.15);\n",
              "      filter: drop-shadow(0px 1px 2px rgba(0, 0, 0, 0.3));\n",
              "      fill: #FFFFFF;\n",
              "    }\n",
              "  </style>\n",
              "\n",
              "      <script>\n",
              "        const buttonEl =\n",
              "          document.querySelector('#df-84401b3f-990a-4189-8ef3-8cc81c81c45b button.colab-df-convert');\n",
              "        buttonEl.style.display =\n",
              "          google.colab.kernel.accessAllowed ? 'block' : 'none';\n",
              "\n",
              "        async function convertToInteractive(key) {\n",
              "          const element = document.querySelector('#df-84401b3f-990a-4189-8ef3-8cc81c81c45b');\n",
              "          const dataTable =\n",
              "            await google.colab.kernel.invokeFunction('convertToInteractive',\n",
              "                                                     [key], {});\n",
              "          if (!dataTable) return;\n",
              "\n",
              "          const docLinkHtml = 'Like what you see? Visit the ' +\n",
              "            '<a target=\"_blank\" href=https://colab.research.google.com/notebooks/data_table.ipynb>data table notebook</a>'\n",
              "            + ' to learn more about interactive tables.';\n",
              "          element.innerHTML = '';\n",
              "          dataTable['output_type'] = 'display_data';\n",
              "          await google.colab.output.renderOutput(dataTable, element);\n",
              "          const docLink = document.createElement('div');\n",
              "          docLink.innerHTML = docLinkHtml;\n",
              "          element.appendChild(docLink);\n",
              "        }\n",
              "      </script>\n",
              "    </div>\n",
              "  </div>\n",
              "  "
            ]
          },
          "metadata": {},
          "execution_count": 53
        }
      ]
    },
    {
      "cell_type": "code",
      "source": [
        "# 연도별 상관계수 \n",
        "\n",
        "df_corr = df.corr()\n",
        "df_corr"
      ],
      "metadata": {
        "colab": {
          "base_uri": "https://localhost:8080/",
          "height": 457
        },
        "id": "Rjzh1Fw9Lw7l",
        "outputId": "2d1e9c1e-7562-4d92-8629-0a6534e24248"
      },
      "execution_count": null,
      "outputs": [
        {
          "output_type": "execute_result",
          "data": {
            "text/plain": [
              "year      1949      1950      1951      1952      1953      1954      1955  \\\n",
              "year                                                                         \n",
              "1949  1.000000  0.949435  0.944994  0.905623  0.970144  0.911553  0.908190   \n",
              "1950  0.949435  1.000000  0.946923  0.957062  0.880477  0.930967  0.949866   \n",
              "1951  0.944994  0.946923  1.000000  0.923131  0.939609  0.959165  0.939515   \n",
              "1952  0.905623  0.957062  0.923131  1.000000  0.861005  0.942879  0.956044   \n",
              "1953  0.970144  0.880477  0.939609  0.861005  1.000000  0.913945  0.884986   \n",
              "1954  0.911553  0.930967  0.959165  0.942879  0.913945  1.000000  0.989433   \n",
              "1955  0.908190  0.949866  0.939515  0.956044  0.884986  0.989433  1.000000   \n",
              "1956  0.940419  0.938707  0.946961  0.960854  0.929524  0.984947  0.985527   \n",
              "1957  0.933350  0.934320  0.946232  0.963146  0.928578  0.986983  0.982708   \n",
              "1958  0.912513  0.904400  0.911054  0.960107  0.907120  0.962541  0.961328   \n",
              "1959  0.901456  0.927191  0.947280  0.962860  0.902622  0.988882  0.984109   \n",
              "1960  0.887272  0.887417  0.894268  0.925008  0.894288  0.965944  0.974451   \n",
              "\n",
              "year      1956      1957      1958      1959      1960  \n",
              "year                                                    \n",
              "1949  0.940419  0.933350  0.912513  0.901456  0.887272  \n",
              "1950  0.938707  0.934320  0.904400  0.927191  0.887417  \n",
              "1951  0.946961  0.946232  0.911054  0.947280  0.894268  \n",
              "1952  0.960854  0.963146  0.960107  0.962860  0.925008  \n",
              "1953  0.929524  0.928578  0.907120  0.902622  0.894288  \n",
              "1954  0.984947  0.986983  0.962541  0.988882  0.965944  \n",
              "1955  0.985527  0.982708  0.961328  0.984109  0.974451  \n",
              "1956  1.000000  0.997125  0.983194  0.983704  0.977851  \n",
              "1957  0.997125  1.000000  0.986762  0.988408  0.977076  \n",
              "1958  0.983194  0.986762  1.000000  0.980656  0.976757  \n",
              "1959  0.983704  0.988408  0.980656  1.000000  0.977292  \n",
              "1960  0.977851  0.977076  0.976757  0.977292  1.000000  "
            ],
            "text/html": [
              "\n",
              "  <div id=\"df-aa2600d9-2b2e-4d8d-833f-e96d94d83eff\">\n",
              "    <div class=\"colab-df-container\">\n",
              "      <div>\n",
              "<style scoped>\n",
              "    .dataframe tbody tr th:only-of-type {\n",
              "        vertical-align: middle;\n",
              "    }\n",
              "\n",
              "    .dataframe tbody tr th {\n",
              "        vertical-align: top;\n",
              "    }\n",
              "\n",
              "    .dataframe thead th {\n",
              "        text-align: right;\n",
              "    }\n",
              "</style>\n",
              "<table border=\"1\" class=\"dataframe\">\n",
              "  <thead>\n",
              "    <tr style=\"text-align: right;\">\n",
              "      <th>year</th>\n",
              "      <th>1949</th>\n",
              "      <th>1950</th>\n",
              "      <th>1951</th>\n",
              "      <th>1952</th>\n",
              "      <th>1953</th>\n",
              "      <th>1954</th>\n",
              "      <th>1955</th>\n",
              "      <th>1956</th>\n",
              "      <th>1957</th>\n",
              "      <th>1958</th>\n",
              "      <th>1959</th>\n",
              "      <th>1960</th>\n",
              "    </tr>\n",
              "    <tr>\n",
              "      <th>year</th>\n",
              "      <th></th>\n",
              "      <th></th>\n",
              "      <th></th>\n",
              "      <th></th>\n",
              "      <th></th>\n",
              "      <th></th>\n",
              "      <th></th>\n",
              "      <th></th>\n",
              "      <th></th>\n",
              "      <th></th>\n",
              "      <th></th>\n",
              "      <th></th>\n",
              "    </tr>\n",
              "  </thead>\n",
              "  <tbody>\n",
              "    <tr>\n",
              "      <th>1949</th>\n",
              "      <td>1.000000</td>\n",
              "      <td>0.949435</td>\n",
              "      <td>0.944994</td>\n",
              "      <td>0.905623</td>\n",
              "      <td>0.970144</td>\n",
              "      <td>0.911553</td>\n",
              "      <td>0.908190</td>\n",
              "      <td>0.940419</td>\n",
              "      <td>0.933350</td>\n",
              "      <td>0.912513</td>\n",
              "      <td>0.901456</td>\n",
              "      <td>0.887272</td>\n",
              "    </tr>\n",
              "    <tr>\n",
              "      <th>1950</th>\n",
              "      <td>0.949435</td>\n",
              "      <td>1.000000</td>\n",
              "      <td>0.946923</td>\n",
              "      <td>0.957062</td>\n",
              "      <td>0.880477</td>\n",
              "      <td>0.930967</td>\n",
              "      <td>0.949866</td>\n",
              "      <td>0.938707</td>\n",
              "      <td>0.934320</td>\n",
              "      <td>0.904400</td>\n",
              "      <td>0.927191</td>\n",
              "      <td>0.887417</td>\n",
              "    </tr>\n",
              "    <tr>\n",
              "      <th>1951</th>\n",
              "      <td>0.944994</td>\n",
              "      <td>0.946923</td>\n",
              "      <td>1.000000</td>\n",
              "      <td>0.923131</td>\n",
              "      <td>0.939609</td>\n",
              "      <td>0.959165</td>\n",
              "      <td>0.939515</td>\n",
              "      <td>0.946961</td>\n",
              "      <td>0.946232</td>\n",
              "      <td>0.911054</td>\n",
              "      <td>0.947280</td>\n",
              "      <td>0.894268</td>\n",
              "    </tr>\n",
              "    <tr>\n",
              "      <th>1952</th>\n",
              "      <td>0.905623</td>\n",
              "      <td>0.957062</td>\n",
              "      <td>0.923131</td>\n",
              "      <td>1.000000</td>\n",
              "      <td>0.861005</td>\n",
              "      <td>0.942879</td>\n",
              "      <td>0.956044</td>\n",
              "      <td>0.960854</td>\n",
              "      <td>0.963146</td>\n",
              "      <td>0.960107</td>\n",
              "      <td>0.962860</td>\n",
              "      <td>0.925008</td>\n",
              "    </tr>\n",
              "    <tr>\n",
              "      <th>1953</th>\n",
              "      <td>0.970144</td>\n",
              "      <td>0.880477</td>\n",
              "      <td>0.939609</td>\n",
              "      <td>0.861005</td>\n",
              "      <td>1.000000</td>\n",
              "      <td>0.913945</td>\n",
              "      <td>0.884986</td>\n",
              "      <td>0.929524</td>\n",
              "      <td>0.928578</td>\n",
              "      <td>0.907120</td>\n",
              "      <td>0.902622</td>\n",
              "      <td>0.894288</td>\n",
              "    </tr>\n",
              "    <tr>\n",
              "      <th>1954</th>\n",
              "      <td>0.911553</td>\n",
              "      <td>0.930967</td>\n",
              "      <td>0.959165</td>\n",
              "      <td>0.942879</td>\n",
              "      <td>0.913945</td>\n",
              "      <td>1.000000</td>\n",
              "      <td>0.989433</td>\n",
              "      <td>0.984947</td>\n",
              "      <td>0.986983</td>\n",
              "      <td>0.962541</td>\n",
              "      <td>0.988882</td>\n",
              "      <td>0.965944</td>\n",
              "    </tr>\n",
              "    <tr>\n",
              "      <th>1955</th>\n",
              "      <td>0.908190</td>\n",
              "      <td>0.949866</td>\n",
              "      <td>0.939515</td>\n",
              "      <td>0.956044</td>\n",
              "      <td>0.884986</td>\n",
              "      <td>0.989433</td>\n",
              "      <td>1.000000</td>\n",
              "      <td>0.985527</td>\n",
              "      <td>0.982708</td>\n",
              "      <td>0.961328</td>\n",
              "      <td>0.984109</td>\n",
              "      <td>0.974451</td>\n",
              "    </tr>\n",
              "    <tr>\n",
              "      <th>1956</th>\n",
              "      <td>0.940419</td>\n",
              "      <td>0.938707</td>\n",
              "      <td>0.946961</td>\n",
              "      <td>0.960854</td>\n",
              "      <td>0.929524</td>\n",
              "      <td>0.984947</td>\n",
              "      <td>0.985527</td>\n",
              "      <td>1.000000</td>\n",
              "      <td>0.997125</td>\n",
              "      <td>0.983194</td>\n",
              "      <td>0.983704</td>\n",
              "      <td>0.977851</td>\n",
              "    </tr>\n",
              "    <tr>\n",
              "      <th>1957</th>\n",
              "      <td>0.933350</td>\n",
              "      <td>0.934320</td>\n",
              "      <td>0.946232</td>\n",
              "      <td>0.963146</td>\n",
              "      <td>0.928578</td>\n",
              "      <td>0.986983</td>\n",
              "      <td>0.982708</td>\n",
              "      <td>0.997125</td>\n",
              "      <td>1.000000</td>\n",
              "      <td>0.986762</td>\n",
              "      <td>0.988408</td>\n",
              "      <td>0.977076</td>\n",
              "    </tr>\n",
              "    <tr>\n",
              "      <th>1958</th>\n",
              "      <td>0.912513</td>\n",
              "      <td>0.904400</td>\n",
              "      <td>0.911054</td>\n",
              "      <td>0.960107</td>\n",
              "      <td>0.907120</td>\n",
              "      <td>0.962541</td>\n",
              "      <td>0.961328</td>\n",
              "      <td>0.983194</td>\n",
              "      <td>0.986762</td>\n",
              "      <td>1.000000</td>\n",
              "      <td>0.980656</td>\n",
              "      <td>0.976757</td>\n",
              "    </tr>\n",
              "    <tr>\n",
              "      <th>1959</th>\n",
              "      <td>0.901456</td>\n",
              "      <td>0.927191</td>\n",
              "      <td>0.947280</td>\n",
              "      <td>0.962860</td>\n",
              "      <td>0.902622</td>\n",
              "      <td>0.988882</td>\n",
              "      <td>0.984109</td>\n",
              "      <td>0.983704</td>\n",
              "      <td>0.988408</td>\n",
              "      <td>0.980656</td>\n",
              "      <td>1.000000</td>\n",
              "      <td>0.977292</td>\n",
              "    </tr>\n",
              "    <tr>\n",
              "      <th>1960</th>\n",
              "      <td>0.887272</td>\n",
              "      <td>0.887417</td>\n",
              "      <td>0.894268</td>\n",
              "      <td>0.925008</td>\n",
              "      <td>0.894288</td>\n",
              "      <td>0.965944</td>\n",
              "      <td>0.974451</td>\n",
              "      <td>0.977851</td>\n",
              "      <td>0.977076</td>\n",
              "      <td>0.976757</td>\n",
              "      <td>0.977292</td>\n",
              "      <td>1.000000</td>\n",
              "    </tr>\n",
              "  </tbody>\n",
              "</table>\n",
              "</div>\n",
              "      <button class=\"colab-df-convert\" onclick=\"convertToInteractive('df-aa2600d9-2b2e-4d8d-833f-e96d94d83eff')\"\n",
              "              title=\"Convert this dataframe to an interactive table.\"\n",
              "              style=\"display:none;\">\n",
              "        \n",
              "  <svg xmlns=\"http://www.w3.org/2000/svg\" height=\"24px\"viewBox=\"0 0 24 24\"\n",
              "       width=\"24px\">\n",
              "    <path d=\"M0 0h24v24H0V0z\" fill=\"none\"/>\n",
              "    <path d=\"M18.56 5.44l.94 2.06.94-2.06 2.06-.94-2.06-.94-.94-2.06-.94 2.06-2.06.94zm-11 1L8.5 8.5l.94-2.06 2.06-.94-2.06-.94L8.5 2.5l-.94 2.06-2.06.94zm10 10l.94 2.06.94-2.06 2.06-.94-2.06-.94-.94-2.06-.94 2.06-2.06.94z\"/><path d=\"M17.41 7.96l-1.37-1.37c-.4-.4-.92-.59-1.43-.59-.52 0-1.04.2-1.43.59L10.3 9.45l-7.72 7.72c-.78.78-.78 2.05 0 2.83L4 21.41c.39.39.9.59 1.41.59.51 0 1.02-.2 1.41-.59l7.78-7.78 2.81-2.81c.8-.78.8-2.07 0-2.86zM5.41 20L4 18.59l7.72-7.72 1.47 1.35L5.41 20z\"/>\n",
              "  </svg>\n",
              "      </button>\n",
              "      \n",
              "  <style>\n",
              "    .colab-df-container {\n",
              "      display:flex;\n",
              "      flex-wrap:wrap;\n",
              "      gap: 12px;\n",
              "    }\n",
              "\n",
              "    .colab-df-convert {\n",
              "      background-color: #E8F0FE;\n",
              "      border: none;\n",
              "      border-radius: 50%;\n",
              "      cursor: pointer;\n",
              "      display: none;\n",
              "      fill: #1967D2;\n",
              "      height: 32px;\n",
              "      padding: 0 0 0 0;\n",
              "      width: 32px;\n",
              "    }\n",
              "\n",
              "    .colab-df-convert:hover {\n",
              "      background-color: #E2EBFA;\n",
              "      box-shadow: 0px 1px 2px rgba(60, 64, 67, 0.3), 0px 1px 3px 1px rgba(60, 64, 67, 0.15);\n",
              "      fill: #174EA6;\n",
              "    }\n",
              "\n",
              "    [theme=dark] .colab-df-convert {\n",
              "      background-color: #3B4455;\n",
              "      fill: #D2E3FC;\n",
              "    }\n",
              "\n",
              "    [theme=dark] .colab-df-convert:hover {\n",
              "      background-color: #434B5C;\n",
              "      box-shadow: 0px 1px 3px 1px rgba(0, 0, 0, 0.15);\n",
              "      filter: drop-shadow(0px 1px 2px rgba(0, 0, 0, 0.3));\n",
              "      fill: #FFFFFF;\n",
              "    }\n",
              "  </style>\n",
              "\n",
              "      <script>\n",
              "        const buttonEl =\n",
              "          document.querySelector('#df-aa2600d9-2b2e-4d8d-833f-e96d94d83eff button.colab-df-convert');\n",
              "        buttonEl.style.display =\n",
              "          google.colab.kernel.accessAllowed ? 'block' : 'none';\n",
              "\n",
              "        async function convertToInteractive(key) {\n",
              "          const element = document.querySelector('#df-aa2600d9-2b2e-4d8d-833f-e96d94d83eff');\n",
              "          const dataTable =\n",
              "            await google.colab.kernel.invokeFunction('convertToInteractive',\n",
              "                                                     [key], {});\n",
              "          if (!dataTable) return;\n",
              "\n",
              "          const docLinkHtml = 'Like what you see? Visit the ' +\n",
              "            '<a target=\"_blank\" href=https://colab.research.google.com/notebooks/data_table.ipynb>data table notebook</a>'\n",
              "            + ' to learn more about interactive tables.';\n",
              "          element.innerHTML = '';\n",
              "          dataTable['output_type'] = 'display_data';\n",
              "          await google.colab.output.renderOutput(dataTable, element);\n",
              "          const docLink = document.createElement('div');\n",
              "          docLink.innerHTML = docLinkHtml;\n",
              "          element.appendChild(docLink);\n",
              "        }\n",
              "      </script>\n",
              "    </div>\n",
              "  </div>\n",
              "  "
            ]
          },
          "metadata": {},
          "execution_count": 54
        }
      ]
    },
    {
      "cell_type": "code",
      "source": [
        "# matplotlib을 이용한 히트맵 그리기 (Heatmap by matplotlib)\n",
        "\n",
        "plt.pcolor(df_corr)\n",
        "plt.xticks(np.arange(0.5, len(df_corr.columns), 1), df_corr.columns)\n",
        "plt.yticks(np.arange(0.5, len(df_corr.index), 1), df_corr.index)\n",
        "plt.title('Heatmap by plt.pcolor()', fontsize=20)\n",
        "plt.xlabel('Year', fontsize=14)\n",
        "plt.ylabel('Month', fontsize=14)\n",
        "plt.colorbar()\n",
        "\n",
        "plt.show()"
      ],
      "metadata": {
        "colab": {
          "base_uri": "https://localhost:8080/",
          "height": 304
        },
        "id": "dasKrRWaL2UG",
        "outputId": "0735b487-cda0-49ab-b3a3-5078de7e4cb8"
      },
      "execution_count": null,
      "outputs": [
        {
          "output_type": "display_data",
          "data": {
            "text/plain": [
              "<Figure size 432x288 with 2 Axes>"
            ],
            "image/png": "[encoded data removed]"
          },
          "metadata": {
            "needs_background": "light"
          }
        }
      ]
    },
    {
      "cell_type": "code",
      "source": [
        "# seaborn을 이용한 히트맵 그리기 (Heatmap by seaborn)\n",
        "\n",
        "ax = sns.heatmap(df_corr)\n",
        "plt.title('Heatmap of Flight by seaborn', fontsize=20)\n",
        "plt.show() "
      ],
      "metadata": {
        "colab": {
          "base_uri": "https://localhost:8080/",
          "height": 316
        },
        "id": "WN27oKqqL5CH",
        "outputId": "39f444ce-a5f2-4629-be7c-d88c2a68794b"
      },
      "execution_count": null,
      "outputs": [
        {
          "output_type": "display_data",
          "data": {
            "text/plain": [
              "<Figure size 432x288 with 2 Axes>"
            ],
            "image/png": "[encoded data removed]"
          },
          "metadata": {
            "needs_background": "light"
          }
        }
      ]
    },
    {
      "cell_type": "code",
      "source": [
        "# annot=True argument를 써서 각 셀에 숫자를 입력(annotate each cell with numeric value)\n",
        "\n",
        "sns.set(rc = {'figure.figsize':(15,8)})\n",
        "sns.heatmap(df_corr, annot=True)\n",
        "plt.title('Annoteat cell with numeric value', fontsize=20)\n",
        "plt.show()"
      ],
      "metadata": {
        "colab": {
          "base_uri": "https://localhost:8080/",
          "height": 523
        },
        "id": "2mefn-qPL88l",
        "outputId": "fe42984b-3adf-4dd5-db7b-65930e52b146"
      },
      "execution_count": null,
      "outputs": [
        {
          "output_type": "display_data",
          "data": {
            "text/plain": [
              "<Figure size 1080x576 with 2 Axes>"
            ],
            "image/png": "[encoded data removed]"
          },
          "metadata": {}
        }
      ]
    },
    {
      "cell_type": "code",
      "source": [
        "# pandas를 이용한 히트맵 그리기 (Heatmap by pandas)\n",
        "\n",
        "df_corr.style.background_gradient(cmap='summer')"
      ],
      "metadata": {
        "colab": {
          "base_uri": "https://localhost:8080/",
          "height": 457
        },
        "id": "KlR-nrboL_M2",
        "outputId": "0c2ae927-f84e-4830-a340-e2669371addc"
      },
      "execution_count": null,
      "outputs": [
        {
          "output_type": "execute_result",
          "data": {
            "text/plain": [
              "<pandas.io.formats.style.Styler at 0x7effff291d10>"
            ],
            "text/html": [
              "<style type=\"text/css\">\n",
              "#T_0ee23_row0_col0, #T_0ee23_row1_col1, #T_0ee23_row2_col2, #T_0ee23_row3_col3, #T_0ee23_row4_col4, #T_0ee23_row5_col5, #T_0ee23_row6_col6, #T_0ee23_row7_col7, #T_0ee23_row8_col8, #T_0ee23_row9_col9, #T_0ee23_row10_col10, #T_0ee23_row11_col11 {\n",
              "  background-color: #ffff66;\n",
              "  color: #000000;\n",
              "}\n",
              "#T_0ee23_row0_col1, #T_0ee23_row9_col5 {\n",
              "  background-color: #93c966;\n",
              "  color: #000000;\n",
              "}\n",
              "#T_0ee23_row0_col2 {\n",
              "  background-color: #7abc66;\n",
              "  color: #000000;\n",
              "}\n",
              "#T_0ee23_row0_col3 {\n",
              "  background-color: #52a866;\n",
              "  color: #f1f1f1;\n",
              "}\n",
              "#T_0ee23_row0_col4, #T_0ee23_row5_col7 {\n",
              "  background-color: #c9e466;\n",
              "  color: #000000;\n",
              "}\n",
              "#T_0ee23_row0_col5, #T_0ee23_row0_col10, #T_0ee23_row0_col11, #T_0ee23_row1_col9, #T_0ee23_row1_col11, #T_0ee23_row3_col4, #T_0ee23_row4_col1, #T_0ee23_row4_col3, #T_0ee23_row4_col6, #T_0ee23_row4_col7, #T_0ee23_row4_col8, #T_0ee23_row11_col0, #T_0ee23_row11_col2 {\n",
              "  background-color: #008066;\n",
              "  color: #f1f1f1;\n",
              "}\n",
              "#T_0ee23_row0_col6, #T_0ee23_row9_col1 {\n",
              "  background-color: #339966;\n",
              "  color: #f1f1f1;\n",
              "}\n",
              "#T_0ee23_row0_col7 {\n",
              "  background-color: #279366;\n",
              "  color: #f1f1f1;\n",
              "}\n",
              "#T_0ee23_row0_col8, #T_0ee23_row2_col9 {\n",
              "  background-color: #118866;\n",
              "  color: #f1f1f1;\n",
              "}\n",
              "#T_0ee23_row0_col9 {\n",
              "  background-color: #158a66;\n",
              "  color: #f1f1f1;\n",
              "}\n",
              "#T_0ee23_row1_col0 {\n",
              "  background-color: #8dc666;\n",
              "  color: #000000;\n",
              "}\n",
              "#T_0ee23_row1_col2, #T_0ee23_row7_col2 {\n",
              "  background-color: #7fbf66;\n",
              "  color: #000000;\n",
              "}\n",
              "#T_0ee23_row1_col3 {\n",
              "  background-color: #b0d866;\n",
              "  color: #000000;\n",
              "}\n",
              "#T_0ee23_row1_col4 {\n",
              "  background-color: #239166;\n",
              "  color: #f1f1f1;\n",
              "}\n",
              "#T_0ee23_row1_col5 {\n",
              "  background-color: #389c66;\n",
              "  color: #f1f1f1;\n",
              "}\n",
              "#T_0ee23_row1_col6, #T_0ee23_row2_col4 {\n",
              "  background-color: #90c866;\n",
              "  color: #000000;\n",
              "}\n",
              "#T_0ee23_row1_col7 {\n",
              "  background-color: #219066;\n",
              "  color: #f1f1f1;\n",
              "}\n",
              "#T_0ee23_row1_col8 {\n",
              "  background-color: #148a66;\n",
              "  color: #f1f1f1;\n",
              "}\n",
              "#T_0ee23_row1_col10 {\n",
              "  background-color: #42a066;\n",
              "  color: #f1f1f1;\n",
              "}\n",
              "#T_0ee23_row2_col0 {\n",
              "  background-color: #83c166;\n",
              "  color: #000000;\n",
              "}\n",
              "#T_0ee23_row2_col1 {\n",
              "  background-color: #8ec666;\n",
              "  color: #000000;\n",
              "}\n",
              "#T_0ee23_row2_col3 {\n",
              "  background-color: #72b866;\n",
              "  color: #f1f1f1;\n",
              "}\n",
              "#T_0ee23_row2_col5 {\n",
              "  background-color: #89c466;\n",
              "  color: #000000;\n",
              "}\n",
              "#T_0ee23_row2_col6 {\n",
              "  background-color: #79bc66;\n",
              "  color: #000000;\n",
              "}\n",
              "#T_0ee23_row2_col7, #T_0ee23_row2_col8 {\n",
              "  background-color: #3f9f66;\n",
              "  color: #f1f1f1;\n",
              "}\n",
              "#T_0ee23_row2_col10 {\n",
              "  background-color: #77bb66;\n",
              "  color: #f1f1f1;\n",
              "}\n",
              "#T_0ee23_row2_col11, #T_0ee23_row4_col11 {\n",
              "  background-color: #0f8766;\n",
              "  color: #f1f1f1;\n",
              "}\n",
              "#T_0ee23_row3_col0 {\n",
              "  background-color: #299466;\n",
              "  color: #f1f1f1;\n",
              "}\n",
              "#T_0ee23_row3_col1 {\n",
              "  background-color: #a4d266;\n",
              "  color: #000000;\n",
              "}\n",
              "#T_0ee23_row3_col2 {\n",
              "  background-color: #45a266;\n",
              "  color: #f1f1f1;\n",
              "}\n",
              "#T_0ee23_row3_col5 {\n",
              "  background-color: #5aac66;\n",
              "  color: #f1f1f1;\n",
              "}\n",
              "#T_0ee23_row3_col6 {\n",
              "  background-color: #9ece66;\n",
              "  color: #000000;\n",
              "}\n",
              "#T_0ee23_row3_col7 {\n",
              "  background-color: #71b866;\n",
              "  color: #f1f1f1;\n",
              "}\n",
              "#T_0ee23_row3_col8 {\n",
              "  background-color: #7bbd66;\n",
              "  color: #000000;\n",
              "}\n",
              "#T_0ee23_row3_col9 {\n",
              "  background-color: #95ca66;\n",
              "  color: #000000;\n",
              "}\n",
              "#T_0ee23_row3_col10 {\n",
              "  background-color: #9fcf66;\n",
              "  color: #000000;\n",
              "}\n",
              "#T_0ee23_row3_col11 {\n",
              "  background-color: #55aa66;\n",
              "  color: #f1f1f1;\n",
              "}\n",
              "#T_0ee23_row4_col0, #T_0ee23_row8_col3 {\n",
              "  background-color: #bcde66;\n",
              "  color: #000000;\n",
              "}\n",
              "#T_0ee23_row4_col2, #T_0ee23_row6_col2 {\n",
              "  background-color: #6db666;\n",
              "  color: #f1f1f1;\n",
              "}\n",
              "#T_0ee23_row4_col5 {\n",
              "  background-color: #068266;\n",
              "  color: #f1f1f1;\n",
              "}\n",
              "#T_0ee23_row4_col9 {\n",
              "  background-color: #078366;\n",
              "  color: #f1f1f1;\n",
              "}\n",
              "#T_0ee23_row4_col10 {\n",
              "  background-color: #038166;\n",
              "  color: #f1f1f1;\n",
              "}\n",
              "#T_0ee23_row5_col0 {\n",
              "  background-color: #379b66;\n",
              "  color: #f1f1f1;\n",
              "}\n",
              "#T_0ee23_row5_col1 {\n",
              "  background-color: #6cb666;\n",
              "  color: #f1f1f1;\n",
              "}\n",
              "#T_0ee23_row5_col2, #T_0ee23_row11_col5 {\n",
              "  background-color: #9dce66;\n",
              "  color: #000000;\n",
              "}\n",
              "#T_0ee23_row5_col3 {\n",
              "  background-color: #96cb66;\n",
              "  color: #000000;\n",
              "}\n",
              "#T_0ee23_row5_col4 {\n",
              "  background-color: #61b066;\n",
              "  color: #f1f1f1;\n",
              "}\n",
              "#T_0ee23_row5_col6 {\n",
              "  background-color: #e8f366;\n",
              "  color: #000000;\n",
              "}\n",
              "#T_0ee23_row5_col8 {\n",
              "  background-color: #d1e866;\n",
              "  color: #000000;\n",
              "}\n",
              "#T_0ee23_row5_col9 {\n",
              "  background-color: #9bcd66;\n",
              "  color: #000000;\n",
              "}\n",
              "#T_0ee23_row5_col10 {\n",
              "  background-color: #e3f166;\n",
              "  color: #000000;\n",
              "}\n",
              "#T_0ee23_row5_col11 {\n",
              "  background-color: #b2d866;\n",
              "  color: #000000;\n",
              "}\n",
              "#T_0ee23_row6_col0 {\n",
              "  background-color: #2f9766;\n",
              "  color: #f1f1f1;\n",
              "}\n",
              "#T_0ee23_row6_col1 {\n",
              "  background-color: #94ca66;\n",
              "  color: #000000;\n",
              "}\n",
              "#T_0ee23_row6_col3, #T_0ee23_row11_col7 {\n",
              "  background-color: #afd766;\n",
              "  color: #000000;\n",
              "}\n",
              "#T_0ee23_row6_col4 {\n",
              "  background-color: #2c9666;\n",
              "  color: #f1f1f1;\n",
              "}\n",
              "#T_0ee23_row6_col5, #T_0ee23_row8_col10 {\n",
              "  background-color: #e1f066;\n",
              "  color: #000000;\n",
              "}\n",
              "#T_0ee23_row6_col7, #T_0ee23_row8_col11, #T_0ee23_row9_col11 {\n",
              "  background-color: #cbe566;\n",
              "  color: #000000;\n",
              "}\n",
              "#T_0ee23_row6_col8, #T_0ee23_row9_col7 {\n",
              "  background-color: #c2e066;\n",
              "  color: #000000;\n",
              "}\n",
              "#T_0ee23_row6_col9 {\n",
              "  background-color: #98cc66;\n",
              "  color: #000000;\n",
              "}\n",
              "#T_0ee23_row6_col10, #T_0ee23_row10_col8 {\n",
              "  background-color: #d6eb66;\n",
              "  color: #000000;\n",
              "}\n",
              "#T_0ee23_row6_col11, #T_0ee23_row11_col10 {\n",
              "  background-color: #c5e266;\n",
              "  color: #000000;\n",
              "}\n",
              "#T_0ee23_row7_col0 {\n",
              "  background-color: #78bc66;\n",
              "  color: #f1f1f1;\n",
              "}\n",
              "#T_0ee23_row7_col1, #T_0ee23_row8_col4 {\n",
              "  background-color: #7cbe66;\n",
              "  color: #000000;\n",
              "}\n",
              "#T_0ee23_row7_col3 {\n",
              "  background-color: #b7db66;\n",
              "  color: #000000;\n",
              "}\n",
              "#T_0ee23_row7_col4 {\n",
              "  background-color: #7ebe66;\n",
              "  color: #000000;\n",
              "}\n",
              "#T_0ee23_row7_col5 {\n",
              "  background-color: #d4ea66;\n",
              "  color: #000000;\n",
              "}\n",
              "#T_0ee23_row7_col6, #T_0ee23_row10_col5 {\n",
              "  background-color: #dfef66;\n",
              "  color: #000000;\n",
              "}\n",
              "#T_0ee23_row7_col8, #T_0ee23_row8_col7 {\n",
              "  background-color: #f5fa66;\n",
              "  color: #000000;\n",
              "}\n",
              "#T_0ee23_row7_col9 {\n",
              "  background-color: #d2e866;\n",
              "  color: #000000;\n",
              "}\n",
              "#T_0ee23_row7_col10 {\n",
              "  background-color: #d5ea66;\n",
              "  color: #000000;\n",
              "}\n",
              "#T_0ee23_row7_col11, #T_0ee23_row9_col10 {\n",
              "  background-color: #cde666;\n",
              "  color: #000000;\n",
              "}\n",
              "#T_0ee23_row8_col0 {\n",
              "  background-color: #68b366;\n",
              "  color: #f1f1f1;\n",
              "}\n",
              "#T_0ee23_row8_col1 {\n",
              "  background-color: #73b966;\n",
              "  color: #f1f1f1;\n",
              "}\n",
              "#T_0ee23_row8_col2 {\n",
              "  background-color: #7dbe66;\n",
              "  color: #000000;\n",
              "}\n",
              "#T_0ee23_row8_col5 {\n",
              "  background-color: #daec66;\n",
              "  color: #000000;\n",
              "}\n",
              "#T_0ee23_row8_col6 {\n",
              "  background-color: #d9ec66;\n",
              "  color: #000000;\n",
              "}\n",
              "#T_0ee23_row8_col9, #T_0ee23_row10_col6 {\n",
              "  background-color: #dcee66;\n",
              "  color: #000000;\n",
              "}\n",
              "#T_0ee23_row9_col0 {\n",
              "  background-color: #399c66;\n",
              "  color: #f1f1f1;\n",
              "}\n",
              "#T_0ee23_row9_col2 {\n",
              "  background-color: #289366;\n",
              "  color: #f1f1f1;\n",
              "}\n",
              "#T_0ee23_row9_col3 {\n",
              "  background-color: #b6db66;\n",
              "  color: #000000;\n",
              "}\n",
              "#T_0ee23_row9_col4 {\n",
              "  background-color: #54aa66;\n",
              "  color: #f1f1f1;\n",
              "}\n",
              "#T_0ee23_row9_col6 {\n",
              "  background-color: #a9d466;\n",
              "  color: #000000;\n",
              "}\n",
              "#T_0ee23_row9_col8 {\n",
              "  background-color: #d0e866;\n",
              "  color: #000000;\n",
              "}\n",
              "#T_0ee23_row10_col0 {\n",
              "  background-color: #209066;\n",
              "  color: #f1f1f1;\n",
              "}\n",
              "#T_0ee23_row10_col1 {\n",
              "  background-color: #64b266;\n",
              "  color: #f1f1f1;\n",
              "}\n",
              "#T_0ee23_row10_col2 {\n",
              "  background-color: #80c066;\n",
              "  color: #000000;\n",
              "}\n",
              "#T_0ee23_row10_col3 {\n",
              "  background-color: #bbdd66;\n",
              "  color: #000000;\n",
              "}\n",
              "#T_0ee23_row10_col4 {\n",
              "  background-color: #4ca666;\n",
              "  color: #f1f1f1;\n",
              "}\n",
              "#T_0ee23_row10_col7 {\n",
              "  background-color: #c4e266;\n",
              "  color: #000000;\n",
              "}\n",
              "#T_0ee23_row10_col9, #T_0ee23_row10_col11 {\n",
              "  background-color: #cce666;\n",
              "  color: #000000;\n",
              "}\n",
              "#T_0ee23_row11_col1 {\n",
              "  background-color: #0e8666;\n",
              "  color: #f1f1f1;\n",
              "}\n",
              "#T_0ee23_row11_col3 {\n",
              "  background-color: #75ba66;\n",
              "  color: #f1f1f1;\n",
              "}\n",
              "#T_0ee23_row11_col4 {\n",
              "  background-color: #3d9e66;\n",
              "  color: #f1f1f1;\n",
              "}\n",
              "#T_0ee23_row11_col6 {\n",
              "  background-color: #c7e366;\n",
              "  color: #000000;\n",
              "}\n",
              "#T_0ee23_row11_col8 {\n",
              "  background-color: #add666;\n",
              "  color: #000000;\n",
              "}\n",
              "#T_0ee23_row11_col9 {\n",
              "  background-color: #c1e066;\n",
              "  color: #000000;\n",
              "}\n",
              "</style>\n",
              "<table id=\"T_0ee23_\" class=\"dataframe\">\n",
              "  <thead>\n",
              "    <tr>\n",
              "      <th class=\"index_name level0\" >year</th>\n",
              "      <th class=\"col_heading level0 col0\" >1949</th>\n",
              "      <th class=\"col_heading level0 col1\" >1950</th>\n",
              "      <th class=\"col_heading level0 col2\" >1951</th>\n",
              "      <th class=\"col_heading level0 col3\" >1952</th>\n",
              "      <th class=\"col_heading level0 col4\" >1953</th>\n",
              "      <th class=\"col_heading level0 col5\" >1954</th>\n",
              "      <th class=\"col_heading level0 col6\" >1955</th>\n",
              "      <th class=\"col_heading level0 col7\" >1956</th>\n",
              "      <th class=\"col_heading level0 col8\" >1957</th>\n",
              "      <th class=\"col_heading level0 col9\" >1958</th>\n",
              "      <th class=\"col_heading level0 col10\" >1959</th>\n",
              "      <th class=\"col_heading level0 col11\" >1960</th>\n",
              "    </tr>\n",
              "    <tr>\n",
              "      <th class=\"index_name level0\" >year</th>\n",
              "      <th class=\"blank col0\" >&nbsp;</th>\n",
              "      <th class=\"blank col1\" >&nbsp;</th>\n",
              "      <th class=\"blank col2\" >&nbsp;</th>\n",
              "      <th class=\"blank col3\" >&nbsp;</th>\n",
              "      <th class=\"blank col4\" >&nbsp;</th>\n",
              "      <th class=\"blank col5\" >&nbsp;</th>\n",
              "      <th class=\"blank col6\" >&nbsp;</th>\n",
              "      <th class=\"blank col7\" >&nbsp;</th>\n",
              "      <th class=\"blank col8\" >&nbsp;</th>\n",
              "      <th class=\"blank col9\" >&nbsp;</th>\n",
              "      <th class=\"blank col10\" >&nbsp;</th>\n",
              "      <th class=\"blank col11\" >&nbsp;</th>\n",
              "    </tr>\n",
              "  </thead>\n",
              "  <tbody>\n",
              "    <tr>\n",
              "      <th id=\"T_0ee23_level0_row0\" class=\"row_heading level0 row0\" >1949</th>\n",
              "      <td id=\"T_0ee23_row0_col0\" class=\"data row0 col0\" >1.000000</td>\n",
              "      <td id=\"T_0ee23_row0_col1\" class=\"data row0 col1\" >0.949435</td>\n",
              "      <td id=\"T_0ee23_row0_col2\" class=\"data row0 col2\" >0.944994</td>\n",
              "      <td id=\"T_0ee23_row0_col3\" class=\"data row0 col3\" >0.905623</td>\n",
              "      <td id=\"T_0ee23_row0_col4\" class=\"data row0 col4\" >0.970144</td>\n",
              "      <td id=\"T_0ee23_row0_col5\" class=\"data row0 col5\" >0.911553</td>\n",
              "      <td id=\"T_0ee23_row0_col6\" class=\"data row0 col6\" >0.908190</td>\n",
              "      <td id=\"T_0ee23_row0_col7\" class=\"data row0 col7\" >0.940419</td>\n",
              "      <td id=\"T_0ee23_row0_col8\" class=\"data row0 col8\" >0.933350</td>\n",
              "      <td id=\"T_0ee23_row0_col9\" class=\"data row0 col9\" >0.912513</td>\n",
              "      <td id=\"T_0ee23_row0_col10\" class=\"data row0 col10\" >0.901456</td>\n",
              "      <td id=\"T_0ee23_row0_col11\" class=\"data row0 col11\" >0.887272</td>\n",
              "    </tr>\n",
              "    <tr>\n",
              "      <th id=\"T_0ee23_level0_row1\" class=\"row_heading level0 row1\" >1950</th>\n",
              "      <td id=\"T_0ee23_row1_col0\" class=\"data row1 col0\" >0.949435</td>\n",
              "      <td id=\"T_0ee23_row1_col1\" class=\"data row1 col1\" >1.000000</td>\n",
              "      <td id=\"T_0ee23_row1_col2\" class=\"data row1 col2\" >0.946923</td>\n",
              "      <td id=\"T_0ee23_row1_col3\" class=\"data row1 col3\" >0.957062</td>\n",
              "      <td id=\"T_0ee23_row1_col4\" class=\"data row1 col4\" >0.880477</td>\n",
              "      <td id=\"T_0ee23_row1_col5\" class=\"data row1 col5\" >0.930967</td>\n",
              "      <td id=\"T_0ee23_row1_col6\" class=\"data row1 col6\" >0.949866</td>\n",
              "      <td id=\"T_0ee23_row1_col7\" class=\"data row1 col7\" >0.938707</td>\n",
              "      <td id=\"T_0ee23_row1_col8\" class=\"data row1 col8\" >0.934320</td>\n",
              "      <td id=\"T_0ee23_row1_col9\" class=\"data row1 col9\" >0.904400</td>\n",
              "      <td id=\"T_0ee23_row1_col10\" class=\"data row1 col10\" >0.927191</td>\n",
              "      <td id=\"T_0ee23_row1_col11\" class=\"data row1 col11\" >0.887417</td>\n",
              "    </tr>\n",
              "    <tr>\n",
              "      <th id=\"T_0ee23_level0_row2\" class=\"row_heading level0 row2\" >1951</th>\n",
              "      <td id=\"T_0ee23_row2_col0\" class=\"data row2 col0\" >0.944994</td>\n",
              "      <td id=\"T_0ee23_row2_col1\" class=\"data row2 col1\" >0.946923</td>\n",
              "      <td id=\"T_0ee23_row2_col2\" class=\"data row2 col2\" >1.000000</td>\n",
              "      <td id=\"T_0ee23_row2_col3\" class=\"data row2 col3\" >0.923131</td>\n",
              "      <td id=\"T_0ee23_row2_col4\" class=\"data row2 col4\" >0.939609</td>\n",
              "      <td id=\"T_0ee23_row2_col5\" class=\"data row2 col5\" >0.959165</td>\n",
              "      <td id=\"T_0ee23_row2_col6\" class=\"data row2 col6\" >0.939515</td>\n",
              "      <td id=\"T_0ee23_row2_col7\" class=\"data row2 col7\" >0.946961</td>\n",
              "      <td id=\"T_0ee23_row2_col8\" class=\"data row2 col8\" >0.946232</td>\n",
              "      <td id=\"T_0ee23_row2_col9\" class=\"data row2 col9\" >0.911054</td>\n",
              "      <td id=\"T_0ee23_row2_col10\" class=\"data row2 col10\" >0.947280</td>\n",
              "      <td id=\"T_0ee23_row2_col11\" class=\"data row2 col11\" >0.894268</td>\n",
              "    </tr>\n",
              "    <tr>\n",
              "      <th id=\"T_0ee23_level0_row3\" class=\"row_heading level0 row3\" >1952</th>\n",
              "      <td id=\"T_0ee23_row3_col0\" class=\"data row3 col0\" >0.905623</td>\n",
              "      <td id=\"T_0ee23_row3_col1\" class=\"data row3 col1\" >0.957062</td>\n",
              "      <td id=\"T_0ee23_row3_col2\" class=\"data row3 col2\" >0.923131</td>\n",
              "      <td id=\"T_0ee23_row3_col3\" class=\"data row3 col3\" >1.000000</td>\n",
              "      <td id=\"T_0ee23_row3_col4\" class=\"data row3 col4\" >0.861005</td>\n",
              "      <td id=\"T_0ee23_row3_col5\" class=\"data row3 col5\" >0.942879</td>\n",
              "      <td id=\"T_0ee23_row3_col6\" class=\"data row3 col6\" >0.956044</td>\n",
              "      <td id=\"T_0ee23_row3_col7\" class=\"data row3 col7\" >0.960854</td>\n",
              "      <td id=\"T_0ee23_row3_col8\" class=\"data row3 col8\" >0.963146</td>\n",
              "      <td id=\"T_0ee23_row3_col9\" class=\"data row3 col9\" >0.960107</td>\n",
              "      <td id=\"T_0ee23_row3_col10\" class=\"data row3 col10\" >0.962860</td>\n",
              "      <td id=\"T_0ee23_row3_col11\" class=\"data row3 col11\" >0.925008</td>\n",
              "    </tr>\n",
              "    <tr>\n",
              "      <th id=\"T_0ee23_level0_row4\" class=\"row_heading level0 row4\" >1953</th>\n",
              "      <td id=\"T_0ee23_row4_col0\" class=\"data row4 col0\" >0.970144</td>\n",
              "      <td id=\"T_0ee23_row4_col1\" class=\"data row4 col1\" >0.880477</td>\n",
              "      <td id=\"T_0ee23_row4_col2\" class=\"data row4 col2\" >0.939609</td>\n",
              "      <td id=\"T_0ee23_row4_col3\" class=\"data row4 col3\" >0.861005</td>\n",
              "      <td id=\"T_0ee23_row4_col4\" class=\"data row4 col4\" >1.000000</td>\n",
              "      <td id=\"T_0ee23_row4_col5\" class=\"data row4 col5\" >0.913945</td>\n",
              "      <td id=\"T_0ee23_row4_col6\" class=\"data row4 col6\" >0.884986</td>\n",
              "      <td id=\"T_0ee23_row4_col7\" class=\"data row4 col7\" >0.929524</td>\n",
              "      <td id=\"T_0ee23_row4_col8\" class=\"data row4 col8\" >0.928578</td>\n",
              "      <td id=\"T_0ee23_row4_col9\" class=\"data row4 col9\" >0.907120</td>\n",
              "      <td id=\"T_0ee23_row4_col10\" class=\"data row4 col10\" >0.902622</td>\n",
              "      <td id=\"T_0ee23_row4_col11\" class=\"data row4 col11\" >0.894288</td>\n",
              "    </tr>\n",
              "    <tr>\n",
              "      <th id=\"T_0ee23_level0_row5\" class=\"row_heading level0 row5\" >1954</th>\n",
              "      <td id=\"T_0ee23_row5_col0\" class=\"data row5 col0\" >0.911553</td>\n",
              "      <td id=\"T_0ee23_row5_col1\" class=\"data row5 col1\" >0.930967</td>\n",
              "      <td id=\"T_0ee23_row5_col2\" class=\"data row5 col2\" >0.959165</td>\n",
              "      <td id=\"T_0ee23_row5_col3\" class=\"data row5 col3\" >0.942879</td>\n",
              "      <td id=\"T_0ee23_row5_col4\" class=\"data row5 col4\" >0.913945</td>\n",
              "      <td id=\"T_0ee23_row5_col5\" class=\"data row5 col5\" >1.000000</td>\n",
              "      <td id=\"T_0ee23_row5_col6\" class=\"data row5 col6\" >0.989433</td>\n",
              "      <td id=\"T_0ee23_row5_col7\" class=\"data row5 col7\" >0.984947</td>\n",
              "      <td id=\"T_0ee23_row5_col8\" class=\"data row5 col8\" >0.986983</td>\n",
              "      <td id=\"T_0ee23_row5_col9\" class=\"data row5 col9\" >0.962541</td>\n",
              "      <td id=\"T_0ee23_row5_col10\" class=\"data row5 col10\" >0.988882</td>\n",
              "      <td id=\"T_0ee23_row5_col11\" class=\"data row5 col11\" >0.965944</td>\n",
              "    </tr>\n",
              "    <tr>\n",
              "      <th id=\"T_0ee23_level0_row6\" class=\"row_heading level0 row6\" >1955</th>\n",
              "      <td id=\"T_0ee23_row6_col0\" class=\"data row6 col0\" >0.908190</td>\n",
              "      <td id=\"T_0ee23_row6_col1\" class=\"data row6 col1\" >0.949866</td>\n",
              "      <td id=\"T_0ee23_row6_col2\" class=\"data row6 col2\" >0.939515</td>\n",
              "      <td id=\"T_0ee23_row6_col3\" class=\"data row6 col3\" >0.956044</td>\n",
              "      <td id=\"T_0ee23_row6_col4\" class=\"data row6 col4\" >0.884986</td>\n",
              "      <td id=\"T_0ee23_row6_col5\" class=\"data row6 col5\" >0.989433</td>\n",
              "      <td id=\"T_0ee23_row6_col6\" class=\"data row6 col6\" >1.000000</td>\n",
              "      <td id=\"T_0ee23_row6_col7\" class=\"data row6 col7\" >0.985527</td>\n",
              "      <td id=\"T_0ee23_row6_col8\" class=\"data row6 col8\" >0.982708</td>\n",
              "      <td id=\"T_0ee23_row6_col9\" class=\"data row6 col9\" >0.961328</td>\n",
              "      <td id=\"T_0ee23_row6_col10\" class=\"data row6 col10\" >0.984109</td>\n",
              "      <td id=\"T_0ee23_row6_col11\" class=\"data row6 col11\" >0.974451</td>\n",
              "    </tr>\n",
              "    <tr>\n",
              "      <th id=\"T_0ee23_level0_row7\" class=\"row_heading level0 row7\" >1956</th>\n",
              "      <td id=\"T_0ee23_row7_col0\" class=\"data row7 col0\" >0.940419</td>\n",
              "      <td id=\"T_0ee23_row7_col1\" class=\"data row7 col1\" >0.938707</td>\n",
              "      <td id=\"T_0ee23_row7_col2\" class=\"data row7 col2\" >0.946961</td>\n",
              "      <td id=\"T_0ee23_row7_col3\" class=\"data row7 col3\" >0.960854</td>\n",
              "      <td id=\"T_0ee23_row7_col4\" class=\"data row7 col4\" >0.929524</td>\n",
              "      <td id=\"T_0ee23_row7_col5\" class=\"data row7 col5\" >0.984947</td>\n",
              "      <td id=\"T_0ee23_row7_col6\" class=\"data row7 col6\" >0.985527</td>\n",
              "      <td id=\"T_0ee23_row7_col7\" class=\"data row7 col7\" >1.000000</td>\n",
              "      <td id=\"T_0ee23_row7_col8\" class=\"data row7 col8\" >0.997125</td>\n",
              "      <td id=\"T_0ee23_row7_col9\" class=\"data row7 col9\" >0.983194</td>\n",
              "      <td id=\"T_0ee23_row7_col10\" class=\"data row7 col10\" >0.983704</td>\n",
              "      <td id=\"T_0ee23_row7_col11\" class=\"data row7 col11\" >0.977851</td>\n",
              "    </tr>\n",
              "    <tr>\n",
              "      <th id=\"T_0ee23_level0_row8\" class=\"row_heading level0 row8\" >1957</th>\n",
              "      <td id=\"T_0ee23_row8_col0\" class=\"data row8 col0\" >0.933350</td>\n",
              "      <td id=\"T_0ee23_row8_col1\" class=\"data row8 col1\" >0.934320</td>\n",
              "      <td id=\"T_0ee23_row8_col2\" class=\"data row8 col2\" >0.946232</td>\n",
              "      <td id=\"T_0ee23_row8_col3\" class=\"data row8 col3\" >0.963146</td>\n",
              "      <td id=\"T_0ee23_row8_col4\" class=\"data row8 col4\" >0.928578</td>\n",
              "      <td id=\"T_0ee23_row8_col5\" class=\"data row8 col5\" >0.986983</td>\n",
              "      <td id=\"T_0ee23_row8_col6\" class=\"data row8 col6\" >0.982708</td>\n",
              "      <td id=\"T_0ee23_row8_col7\" class=\"data row8 col7\" >0.997125</td>\n",
              "      <td id=\"T_0ee23_row8_col8\" class=\"data row8 col8\" >1.000000</td>\n",
              "      <td id=\"T_0ee23_row8_col9\" class=\"data row8 col9\" >0.986762</td>\n",
              "      <td id=\"T_0ee23_row8_col10\" class=\"data row8 col10\" >0.988408</td>\n",
              "      <td id=\"T_0ee23_row8_col11\" class=\"data row8 col11\" >0.977076</td>\n",
              "    </tr>\n",
              "    <tr>\n",
              "      <th id=\"T_0ee23_level0_row9\" class=\"row_heading level0 row9\" >1958</th>\n",
              "      <td id=\"T_0ee23_row9_col0\" class=\"data row9 col0\" >0.912513</td>\n",
              "      <td id=\"T_0ee23_row9_col1\" class=\"data row9 col1\" >0.904400</td>\n",
              "      <td id=\"T_0ee23_row9_col2\" class=\"data row9 col2\" >0.911054</td>\n",
              "      <td id=\"T_0ee23_row9_col3\" class=\"data row9 col3\" >0.960107</td>\n",
              "      <td id=\"T_0ee23_row9_col4\" class=\"data row9 col4\" >0.907120</td>\n",
              "      <td id=\"T_0ee23_row9_col5\" class=\"data row9 col5\" >0.962541</td>\n",
              "      <td id=\"T_0ee23_row9_col6\" class=\"data row9 col6\" >0.961328</td>\n",
              "      <td id=\"T_0ee23_row9_col7\" class=\"data row9 col7\" >0.983194</td>\n",
              "      <td id=\"T_0ee23_row9_col8\" class=\"data row9 col8\" >0.986762</td>\n",
              "      <td id=\"T_0ee23_row9_col9\" class=\"data row9 col9\" >1.000000</td>\n",
              "      <td id=\"T_0ee23_row9_col10\" class=\"data row9 col10\" >0.980656</td>\n",
              "      <td id=\"T_0ee23_row9_col11\" class=\"data row9 col11\" >0.976757</td>\n",
              "    </tr>\n",
              "    <tr>\n",
              "      <th id=\"T_0ee23_level0_row10\" class=\"row_heading level0 row10\" >1959</th>\n",
              "      <td id=\"T_0ee23_row10_col0\" class=\"data row10 col0\" >0.901456</td>\n",
              "      <td id=\"T_0ee23_row10_col1\" class=\"data row10 col1\" >0.927191</td>\n",
              "      <td id=\"T_0ee23_row10_col2\" class=\"data row10 col2\" >0.947280</td>\n",
              "      <td id=\"T_0ee23_row10_col3\" class=\"data row10 col3\" >0.962860</td>\n",
              "      <td id=\"T_0ee23_row10_col4\" class=\"data row10 col4\" >0.902622</td>\n",
              "      <td id=\"T_0ee23_row10_col5\" class=\"data row10 col5\" >0.988882</td>\n",
              "      <td id=\"T_0ee23_row10_col6\" class=\"data row10 col6\" >0.984109</td>\n",
              "      <td id=\"T_0ee23_row10_col7\" class=\"data row10 col7\" >0.983704</td>\n",
              "      <td id=\"T_0ee23_row10_col8\" class=\"data row10 col8\" >0.988408</td>\n",
              "      <td id=\"T_0ee23_row10_col9\" class=\"data row10 col9\" >0.980656</td>\n",
              "      <td id=\"T_0ee23_row10_col10\" class=\"data row10 col10\" >1.000000</td>\n",
              "      <td id=\"T_0ee23_row10_col11\" class=\"data row10 col11\" >0.977292</td>\n",
              "    </tr>\n",
              "    <tr>\n",
              "      <th id=\"T_0ee23_level0_row11\" class=\"row_heading level0 row11\" >1960</th>\n",
              "      <td id=\"T_0ee23_row11_col0\" class=\"data row11 col0\" >0.887272</td>\n",
              "      <td id=\"T_0ee23_row11_col1\" class=\"data row11 col1\" >0.887417</td>\n",
              "      <td id=\"T_0ee23_row11_col2\" class=\"data row11 col2\" >0.894268</td>\n",
              "      <td id=\"T_0ee23_row11_col3\" class=\"data row11 col3\" >0.925008</td>\n",
              "      <td id=\"T_0ee23_row11_col4\" class=\"data row11 col4\" >0.894288</td>\n",
              "      <td id=\"T_0ee23_row11_col5\" class=\"data row11 col5\" >0.965944</td>\n",
              "      <td id=\"T_0ee23_row11_col6\" class=\"data row11 col6\" >0.974451</td>\n",
              "      <td id=\"T_0ee23_row11_col7\" class=\"data row11 col7\" >0.977851</td>\n",
              "      <td id=\"T_0ee23_row11_col8\" class=\"data row11 col8\" >0.977076</td>\n",
              "      <td id=\"T_0ee23_row11_col9\" class=\"data row11 col9\" >0.976757</td>\n",
              "      <td id=\"T_0ee23_row11_col10\" class=\"data row11 col10\" >0.977292</td>\n",
              "      <td id=\"T_0ee23_row11_col11\" class=\"data row11 col11\" >1.000000</td>\n",
              "    </tr>\n",
              "  </tbody>\n",
              "</table>\n"
            ]
          },
          "metadata": {},
          "execution_count": 58
        }
      ]
    },
    {
      "cell_type": "markdown",
      "source": [
        "\n",
        "# **Part 2. 선형대수(Linear Algebra) +**"
      ],
      "metadata": {
        "id": "mRIaIUujYHaq"
      }
    },
    {
      "cell_type": "markdown",
      "source": [
        "## **2-1. Vector Transformation**\n",
        "- 임의의 벡터 $[x_1, x_2]$는 함수(행렬) $f$에 의해 $[{x_1}', {x_2}']$으로 변환될 수 있습니다.\n",
        "  > $f(\\begin{bmatrix}x_1 \\\\ x_2 \\end{bmatrix}) = \\begin{bmatrix} {x_1}' \\\\ {x_2}' \\\\  \\end{bmatrix}$\n",
        "- 벡터의 변환은 벡터와 행렬 $T$의 곱으로 이루어집니다. \n",
        "  > $T\\begin{bmatrix} x_1 \\\\ x_2 \\end{bmatrix} = \\begin{bmatrix} {x_1}' \\\\ {x_2}' \\\\  \\end{bmatrix} → \\begin{bmatrix} 2 & 1 \\\\ 1 & -3 \\end{bmatrix}\\begin{bmatrix} 3 \\\\ 4 \\end{bmatrix} = \\begin{bmatrix} 10 \\\\ -9 \\end{bmatrix}$"
      ],
      "metadata": {
        "id": "XGRcbsysYOdv"
      }
    },
    {
      "cell_type": "code",
      "source": [
        "import numpy as np\n",
        "import matplotlib.pyplot as plt\n",
        "\n",
        "input_vector = np.array([3, 4])\n",
        "transform_matrix = np.array([[2, 1], [1, -3]])\n",
        "output_vector = np.matmul(transform_matrix, input_vector)# [10, -9] \n",
        "\n",
        "plt.xlim(0, 12)\n",
        "plt.ylim(-10, 5)\n",
        "\n",
        "plt.arrow(0, 0, input_vector[0], input_vector[1], head_width = .1, color ='#EB5353')\n",
        "plt.arrow(0, 0, output_vector[0], output_vector[1], head_width = .1, color ='#36AE7C')\n",
        "plt.title(\"Transformed Vector\")\n",
        "plt.show()"
      ],
      "metadata": {
        "colab": {
          "base_uri": "https://localhost:8080/",
          "height": 281
        },
        "id": "niog8b1PSHzh",
        "outputId": "a04fdbec-c1dc-44ed-cb9b-f7298c4eb291"
      },
      "execution_count": null,
      "outputs": [
        {
          "output_type": "display_data",
          "data": {
            "text/plain": [
              "<Figure size 432x288 with 1 Axes>"
            ],
            "image/png": "[encoded data removed]"
          },
          "metadata": {
            "needs_background": "light"
          }
        }
      ]
    },
    {
      "cell_type": "markdown",
      "source": [
        "## **2-2. Eigenstuff**"
      ],
      "metadata": {
        "id": "SZ22nVl5x-q7"
      }
    },
    {
      "cell_type": "markdown",
      "source": [
        "### **a. Eigenvector**\n",
        "- 주어진 transformation에 의해서 크기만 변하고 방향은 변하지 않는 벡터입니다.\n",
        "  - 지구의 자전을 예로 들자면, 회전 변환시에 방향이 바뀌지 않는 자전축이 Eigenvector에 해당합니다."
      ],
      "metadata": {
        "id": "uj2t0hxhYWCH"
      }
    },
    {
      "cell_type": "markdown",
      "source": [
        "### **b. Eigenvalue** \n",
        "- Eigenvector의 변화한 크기 값입니다. \n",
        "\n",
        "  > $T(v) = \\lambda v \\quad$ where $\\ v$ : eigenvector , $\\lambda$ : eigenvalue\n",
        "  >\n",
        "  > $T \\cdot v = v' = \\lambda \\cdot v$\n",
        "\n",
        "- Eigenstuff는 [`np.linalg.eig()`](https://numpy.org/doc/stable/reference/generated/numpy.linalg.eig.html)을 사용하여 구할 수 있습니다. "
      ],
      "metadata": {
        "id": "s-x0p2J9yUqO"
      }
    },
    {
      "cell_type": "code",
      "source": [
        "# np.linalg.eig()을 사용하여 eigenstuff 구하기 \n",
        "testMat = np.array([[2,1],[1,2]])\n",
        "testMat"
      ],
      "metadata": {
        "colab": {
          "base_uri": "https://localhost:8080/"
        },
        "id": "hsW6KOHs1OkB",
        "outputId": "b4523c89-1a82-4860-b181-441906a5d8f8"
      },
      "execution_count": null,
      "outputs": [
        {
          "output_type": "execute_result",
          "data": {
            "text/plain": [
              "array([[2, 1],\n",
              "       [1, 2]])"
            ]
          },
          "metadata": {},
          "execution_count": 16
        }
      ]
    },
    {
      "cell_type": "code",
      "source": [
        "eigenstuff = np.linalg.eig(testMat)\n",
        "eigenstuff"
      ],
      "metadata": {
        "colab": {
          "base_uri": "https://localhost:8080/"
        },
        "id": "IDVVdyza3CmK",
        "outputId": "8d97d09a-aded-4d12-8f5c-991c4f89fa99"
      },
      "execution_count": null,
      "outputs": [
        {
          "output_type": "execute_result",
          "data": {
            "text/plain": [
              "(array([3., 1.]), array([[ 0.70710678, -0.70710678],\n",
              "        [ 0.70710678,  0.70710678]]))"
            ]
          },
          "metadata": {},
          "execution_count": 17
        }
      ]
    },
    {
      "cell_type": "code",
      "source": [
        "# 첫 번째 eigenstuff 확인\n",
        "np.matmul(testMat, eigenstuff[1][:,0])"
      ],
      "metadata": {
        "colab": {
          "base_uri": "https://localhost:8080/"
        },
        "id": "A4BPGsKj4EsH",
        "outputId": "636e9602-bb6a-401b-8b02-d1a1a18de572"
      },
      "execution_count": null,
      "outputs": [
        {
          "output_type": "execute_result",
          "data": {
            "text/plain": [
              "array([2.12132034, 2.12132034])"
            ]
          },
          "metadata": {},
          "execution_count": 18
        }
      ]
    },
    {
      "cell_type": "code",
      "source": [
        "np.multiply(eigenstuff[0][0], eigenstuff[1][:,0])"
      ],
      "metadata": {
        "colab": {
          "base_uri": "https://localhost:8080/"
        },
        "id": "k6KN1hTj4fLI",
        "outputId": "7509fc50-9aa5-4da9-f47b-713b8f3bf918"
      },
      "execution_count": null,
      "outputs": [
        {
          "output_type": "execute_result",
          "data": {
            "text/plain": [
              "array([2.12132034, 2.12132034])"
            ]
          },
          "metadata": {},
          "execution_count": 19
        }
      ]
    },
    {
      "cell_type": "code",
      "source": [
        "# 두 번째 eigenstuff 확인 \n",
        "np.matmul(testMat, eigenstuff[1][:,1])"
      ],
      "metadata": {
        "colab": {
          "base_uri": "https://localhost:8080/"
        },
        "id": "7roqEqz75BBm",
        "outputId": "2664b0ca-2320-4d9e-b918-394609e6b4b8"
      },
      "execution_count": null,
      "outputs": [
        {
          "output_type": "execute_result",
          "data": {
            "text/plain": [
              "array([-0.70710678,  0.70710678])"
            ]
          },
          "metadata": {},
          "execution_count": 20
        }
      ]
    },
    {
      "cell_type": "code",
      "source": [
        "np.multiply(eigenstuff[0][1], eigenstuff[1][:,1])"
      ],
      "metadata": {
        "colab": {
          "base_uri": "https://localhost:8080/"
        },
        "id": "E0z774rd5JXp",
        "outputId": "c9dcb0dc-fa2b-4e1c-f137-25368453103c"
      },
      "execution_count": null,
      "outputs": [
        {
          "output_type": "execute_result",
          "data": {
            "text/plain": [
              "array([-0.70710678,  0.70710678])"
            ]
          },
          "metadata": {},
          "execution_count": 21
        }
      ]
    },
    {
      "cell_type": "code",
      "source": [
        "# eigenvector의 크기 \n",
        "np.dot(eigenstuff[1][:,0], eigenstuff[1][:,0])"
      ],
      "metadata": {
        "colab": {
          "base_uri": "https://localhost:8080/"
        },
        "id": "MwvgxvKr5o1M",
        "outputId": "e424732e-8c3e-4600-dd02-7312b04120f5"
      },
      "execution_count": null,
      "outputs": [
        {
          "output_type": "execute_result",
          "data": {
            "text/plain": [
              "0.9999999999999998"
            ]
          },
          "metadata": {},
          "execution_count": 22
        }
      ]
    },
    {
      "cell_type": "code",
      "source": [
        "np.dot(eigenstuff[1][:,1], eigenstuff[1][:,1])"
      ],
      "metadata": {
        "colab": {
          "base_uri": "https://localhost:8080/"
        },
        "id": "bWJIO8Kb6GwU",
        "outputId": "a7ad76ce-a1e7-4150-e323-5ad55b80f6e4"
      },
      "execution_count": null,
      "outputs": [
        {
          "output_type": "execute_result",
          "data": {
            "text/plain": [
              "0.9999999999999998"
            ]
          },
          "metadata": {},
          "execution_count": 23
        }
      ]
    },
    {
      "cell_type": "markdown",
      "source": [
        "> 💡**Tip**\n",
        "- Eigenvector와 Eigenvalue는 항상 쌍을 이룹니다. \n",
        "- 일반적으로 Eigenvector는 단위벡터입니다.\n",
        "  - 단위벡터는 크기가 1인 벡터입니다. \n",
        "- Eigenstuff는 행렬 $T$의 column 수만큼 존재합니다. "
      ],
      "metadata": {
        "id": "GBLJgpdCy2Ew"
      }
    },
    {
      "cell_type": "markdown",
      "source": [
        "# **Part 3. PCA**\n",
        "vector transformation은 결국 데이터를 변환하기 위한 단계입니다. <br> \n",
        "데이터를 변환하는 방법은 무한대에 가까운데 그렇다면 데이터를 왜, 어떻게 변환하는 것일까요? <br>\n",
        "이때 eigenstuff는 어디에 필요할까요? <br>\n"
      ],
      "metadata": {
        "id": "lkZZEVLSYZMN"
      }
    },
    {
      "cell_type": "markdown",
      "source": [
        "## **3-1. 고차원의 문제(The Curse of Dimensionality; 차원의 저주)**\n",
        "\n",
        "Feature(column) 수가 많은 데이터셋의 분석 및 모델링에서 다음과 같은 문제점들이 발생할 수 있습니다. \n",
        "- 고차원 데이터를 분석하기 위한 더 복잡한 시각화 \n",
        "  - 일반적으로 4차원 이상의 데이터는 시각화가 불가능합니다. <br>\n",
        "  <img src='https://mathworld.wolfram.com/images/eps-gif/HypercubeGraphUnitDistance_1000.gif' width = 600>\n",
        "  - [pair plot](https://seaborn.pydata.org/generated/seaborn.pairplot.html) $\\rightarrow$ 상당히 많은 양의 불필요한 scattor plot 생성 \n",
        "- 비효율성\n",
        "  - 시간이 오래 걸립니다.\n",
        "  - 데이터를 사용하기 위해 들이는 리소스에 비해 결과가 그다지 좋아지지는 않습니다.\n",
        "  - 데이터의 일부를 제한하더라도 의미 파악에는 큰 차이가 없다면, feature를 더 사용하는 것이 비효율적입니다.\n",
        "- Overfitting(과적합)\n",
        "  - 훈련 데이터에 대해서는 과하게 학습하여 오차가 감소하지만 실제 데이터에 대해서는 오차가 증가합니다. "
      ],
      "metadata": {
        "id": "x9Qj13HiaeRb"
      }
    },
    {
      "cell_type": "markdown",
      "source": [
        "## **3-2. 차원 축소(Dimensionality Reduction)**\n",
        "정보 손실은 최소화(가능한 많은 정보를 포함)하면서 중요한 변수만 선택할 수 있다면 어떨까요? <br> \n",
        "머신러닝에서는 이를 위한 다양한 차원 축소 기술들을 연구 중입니다. "
      ],
      "metadata": {
        "id": "uGZkAIq-Yafj"
      }
    },
    {
      "cell_type": "markdown",
      "source": [
        "### **a. Feature selection**\n",
        "\n",
        "- 데이터셋에서 덜 중요한 feature는 제거하는 방법입니다. \n",
        "- 분석 목적에 적합한 소수의 기존 feature를 선택합니다. \n",
        "- feature의 해석이 쉽다는 장점이 있습니다. \n",
        "- feature 간 연관성을 직접 고려해야 합니다. "
      ],
      "metadata": {
        "id": "uK_-TyNZ3EFq"
      }
    },
    {
      "cell_type": "markdown",
      "source": [
        "### **b. Feature extraction**\n",
        "\n",
        "- 기존 feature를 조합하여 사용합니다.\n",
        "- feature 간 상관관계를 고려하여 조합합니다. \n",
        "  - 새로운 feature가 추출(생성)됩니다. \n",
        "  - 원래 변수들의 선형결합으로 이루어집니다. <br>\n",
        "  ex) 집값 데이터셋에서 `집 면적`, `방 개수`, `화장실 개수`를 나타내는 변수를 조합하여 `크기`라는 하나의 변수를 사용합니다. \n",
        "- feature의 해석이 어렵습니다. \n",
        "- feature 수를 많이 줄일 수 있습니다. "
      ],
      "metadata": {
        "id": "omEPHbWO3M9H"
      }
    },
    {
      "cell_type": "markdown",
      "source": [
        "<img src = 'https://i.imgur.com/d4wIeJL.png' width=500>"
      ],
      "metadata": {
        "id": "2tK8lwbW4u7H"
      }
    },
    {
      "cell_type": "markdown",
      "source": [
        "> 💡**Tip**\n",
        ">\n",
        "> PCA는 차원 축소 중 어느 방법을 따를까요? "
      ],
      "metadata": {
        "id": "SQI2TUCf5pGf"
      }
    },
    {
      "cell_type": "markdown",
      "source": [
        "## **3-3. 주성분 분석(Principal Component Analysis, PCA)**\n",
        "- 원래 데이터의 정보(분산)를 최대한 보존하는 새로운 축을 찾고, 그 축에 데이터를 사영(Linear Projection)하여 고차원의 데이터를 저차원으로 변환하는 기법입니다. \n",
        "  - 주성분(PC)은 기존 데이터의 분산을 최대한 보존하도록 데이터를 projection 하는 축입니다. \n",
        "  - PC의 단위벡터는 데이터의 공분산 행렬에 대한 eigenvector입니다. <br>\n",
        "    (수학적으로 복잡한 증명 과정을 거치므로 증명은 생략합니다.)\n",
        "  - eigenvector에 projection한 데이터의 분산이 eigenvalue입니다.\n",
        "- Feature Extraction 방식 중 하나로, 기존 변수의 선형결합으로 새로운 변수(PC)를 생성합니다. "
      ],
      "metadata": {
        "id": "2BSzbN84YbfX"
      }
    },
    {
      "cell_type": "markdown",
      "source": [
        "### **a. PCA Process**\n",
        "PCA가 이루어지는 과정은 다음과 같습니다. "
      ],
      "metadata": {
        "id": "7XqJqm767AG6"
      }
    },
    {
      "cell_type": "markdown",
      "source": [
        "- **데이터셋 불러오기**"
      ],
      "metadata": {
        "id": "3ec1CpF-SZCO"
      }
    },
    {
      "cell_type": "code",
      "execution_count": null,
      "metadata": {
        "colab": {
          "base_uri": "https://localhost:8080/",
          "height": 242
        },
        "id": "xgVUvA79STDB",
        "outputId": "1e3c4a8f-c00c-468a-bf18-eeb0e9ef5768"
      },
      "outputs": [
        {
          "output_type": "stream",
          "name": "stdout",
          "text": [
            "Data(X): \n",
            "\n"
          ]
        },
        {
          "output_type": "execute_result",
          "data": {
            "text/plain": [
              "      0     1     2\n",
              "0  0.20  5.60  3.56\n",
              "1  0.45  5.89  2.40\n",
              "2  0.33  6.37  1.95\n",
              "3  0.54  7.90  1.32\n",
              "4  0.77  7.87  0.98"
            ],
            "text/html": [
              "\n",
              "  <div id=\"df-f8cbea74-349b-4602-80df-2f0abd9f4118\">\n",
              "    <div class=\"colab-df-container\">\n",
              "      <div>\n",
              "<style scoped>\n",
              "    .dataframe tbody tr th:only-of-type {\n",
              "        vertical-align: middle;\n",
              "    }\n",
              "\n",
              "    .dataframe tbody tr th {\n",
              "        vertical-align: top;\n",
              "    }\n",
              "\n",
              "    .dataframe thead th {\n",
              "        text-align: right;\n",
              "    }\n",
              "</style>\n",
              "<table border=\"1\" class=\"dataframe\">\n",
              "  <thead>\n",
              "    <tr style=\"text-align: right;\">\n",
              "      <th></th>\n",
              "      <th>0</th>\n",
              "      <th>1</th>\n",
              "      <th>2</th>\n",
              "    </tr>\n",
              "  </thead>\n",
              "  <tbody>\n",
              "    <tr>\n",
              "      <th>0</th>\n",
              "      <td>0.20</td>\n",
              "      <td>5.60</td>\n",
              "      <td>3.56</td>\n",
              "    </tr>\n",
              "    <tr>\n",
              "      <th>1</th>\n",
              "      <td>0.45</td>\n",
              "      <td>5.89</td>\n",
              "      <td>2.40</td>\n",
              "    </tr>\n",
              "    <tr>\n",
              "      <th>2</th>\n",
              "      <td>0.33</td>\n",
              "      <td>6.37</td>\n",
              "      <td>1.95</td>\n",
              "    </tr>\n",
              "    <tr>\n",
              "      <th>3</th>\n",
              "      <td>0.54</td>\n",
              "      <td>7.90</td>\n",
              "      <td>1.32</td>\n",
              "    </tr>\n",
              "    <tr>\n",
              "      <th>4</th>\n",
              "      <td>0.77</td>\n",
              "      <td>7.87</td>\n",
              "      <td>0.98</td>\n",
              "    </tr>\n",
              "  </tbody>\n",
              "</table>\n",
              "</div>\n",
              "      <button class=\"colab-df-convert\" onclick=\"convertToInteractive('df-f8cbea74-349b-4602-80df-2f0abd9f4118')\"\n",
              "              title=\"Convert this dataframe to an interactive table.\"\n",
              "              style=\"display:none;\">\n",
              "        \n",
              "  <svg xmlns=\"http://www.w3.org/2000/svg\" height=\"24px\"viewBox=\"0 0 24 24\"\n",
              "       width=\"24px\">\n",
              "    <path d=\"M0 0h24v24H0V0z\" fill=\"none\"/>\n",
              "    <path d=\"M18.56 5.44l.94 2.06.94-2.06 2.06-.94-2.06-.94-.94-2.06-.94 2.06-2.06.94zm-11 1L8.5 8.5l.94-2.06 2.06-.94-2.06-.94L8.5 2.5l-.94 2.06-2.06.94zm10 10l.94 2.06.94-2.06 2.06-.94-2.06-.94-.94-2.06-.94 2.06-2.06.94z\"/><path d=\"M17.41 7.96l-1.37-1.37c-.4-.4-.92-.59-1.43-.59-.52 0-1.04.2-1.43.59L10.3 9.45l-7.72 7.72c-.78.78-.78 2.05 0 2.83L4 21.41c.39.39.9.59 1.41.59.51 0 1.02-.2 1.41-.59l7.78-7.78 2.81-2.81c.8-.78.8-2.07 0-2.86zM5.41 20L4 18.59l7.72-7.72 1.47 1.35L5.41 20z\"/>\n",
              "  </svg>\n",
              "      </button>\n",
              "      \n",
              "  <style>\n",
              "    .colab-df-container {\n",
              "      display:flex;\n",
              "      flex-wrap:wrap;\n",
              "      gap: 12px;\n",
              "    }\n",
              "\n",
              "    .colab-df-convert {\n",
              "      background-color: #E8F0FE;\n",
              "      border: none;\n",
              "      border-radius: 50%;\n",
              "      cursor: pointer;\n",
              "      display: none;\n",
              "      fill: #1967D2;\n",
              "      height: 32px;\n",
              "      padding: 0 0 0 0;\n",
              "      width: 32px;\n",
              "    }\n",
              "\n",
              "    .colab-df-convert:hover {\n",
              "      background-color: #E2EBFA;\n",
              "      box-shadow: 0px 1px 2px rgba(60, 64, 67, 0.3), 0px 1px 3px 1px rgba(60, 64, 67, 0.15);\n",
              "      fill: #174EA6;\n",
              "    }\n",
              "\n",
              "    [theme=dark] .colab-df-convert {\n",
              "      background-color: #3B4455;\n",
              "      fill: #D2E3FC;\n",
              "    }\n",
              "\n",
              "    [theme=dark] .colab-df-convert:hover {\n",
              "      background-color: #434B5C;\n",
              "      box-shadow: 0px 1px 3px 1px rgba(0, 0, 0, 0.15);\n",
              "      filter: drop-shadow(0px 1px 2px rgba(0, 0, 0, 0.3));\n",
              "      fill: #FFFFFF;\n",
              "    }\n",
              "  </style>\n",
              "\n",
              "      <script>\n",
              "        const buttonEl =\n",
              "          document.querySelector('#df-f8cbea74-349b-4602-80df-2f0abd9f4118 button.colab-df-convert');\n",
              "        buttonEl.style.display =\n",
              "          google.colab.kernel.accessAllowed ? 'block' : 'none';\n",
              "\n",
              "        async function convertToInteractive(key) {\n",
              "          const element = document.querySelector('#df-f8cbea74-349b-4602-80df-2f0abd9f4118');\n",
              "          const dataTable =\n",
              "            await google.colab.kernel.invokeFunction('convertToInteractive',\n",
              "                                                     [key], {});\n",
              "          if (!dataTable) return;\n",
              "\n",
              "          const docLinkHtml = 'Like what you see? Visit the ' +\n",
              "            '<a target=\"_blank\" href=https://colab.research.google.com/notebooks/data_table.ipynb>data table notebook</a>'\n",
              "            + ' to learn more about interactive tables.';\n",
              "          element.innerHTML = '';\n",
              "          dataTable['output_type'] = 'display_data';\n",
              "          await google.colab.output.renderOutput(dataTable, element);\n",
              "          const docLink = document.createElement('div');\n",
              "          docLink.innerHTML = docLinkHtml;\n",
              "          element.appendChild(docLink);\n",
              "        }\n",
              "      </script>\n",
              "    </div>\n",
              "  </div>\n",
              "  "
            ]
          },
          "metadata": {},
          "execution_count": 2
        }
      ],
      "source": [
        "X = np.array([ \n",
        "              [0.2, 5.6, 3.56], \n",
        "              [0.45, 5.89, 2.4],\n",
        "              [0.33, 6.37, 1.95],\n",
        "              [0.54, 7.9, 1.32],\n",
        "              [0.77, 7.87, 0.98]\n",
        "])\n",
        "print(\"Data(X): \\n\")\n",
        "pd.DataFrame(X)"
      ]
    },
    {
      "cell_type": "markdown",
      "source": [
        "- **데이터 표준화하기** <br>\n",
        "  표준화 : 각 열에 대해 평균을 빼고 표준편차로 나누어서 데이터를 평균 0, 표준편차 1로 scaling 하는 것"
      ],
      "metadata": {
        "id": "JQj73iZTSkL6"
      }
    },
    {
      "cell_type": "code",
      "source": [
        "standardized_data = ( X - np.mean(X, axis = 0) ) / np.std(X, ddof=1, axis = 0)\n",
        "print(\"\\n Standardized Data: \\n\", standardized_data)"
      ],
      "metadata": {
        "colab": {
          "base_uri": "https://localhost:8080/"
        },
        "id": "06N-_hVDScG-",
        "outputId": "4b173bb0-33bd-49a9-f322-fbb2d9e977e2"
      },
      "execution_count": null,
      "outputs": [
        {
          "output_type": "stream",
          "name": "stdout",
          "text": [
            "\n",
            " Standardized Data: \n",
            " [[-1.19298785 -1.0299848   1.5011907 ]\n",
            " [-0.03699187 -0.76471341  0.35403575]\n",
            " [-0.59186994 -0.32564351 -0.09098125]\n",
            " [ 0.37916668  1.07389179 -0.71400506]\n",
            " [ 1.44268298  1.04644992 -1.05024014]]\n"
          ]
        }
      ]
    },
    {
      "cell_type": "markdown",
      "source": [
        "- **표준화한 데이터셋의 공분산행렬 구하기**"
      ],
      "metadata": {
        "id": "5IRUfRFzTBYR"
      }
    },
    {
      "cell_type": "code",
      "source": [
        "covariance_matrix = np.cov(standardized_data.T)\n",
        "print(\"\\n Covariance Matrix: \\n\", covariance_matrix)"
      ],
      "metadata": {
        "colab": {
          "base_uri": "https://localhost:8080/"
        },
        "id": "fJeGGRJUTJ_t",
        "outputId": "7bead0e2-88a9-4015-bbcc-f46e2d387d13"
      },
      "execution_count": null,
      "outputs": [
        {
          "output_type": "stream",
          "name": "stdout",
          "text": [
            "\n",
            " Covariance Matrix: \n",
            " [[ 1.          0.84166641 -0.88401004]\n",
            " [ 0.84166641  1.         -0.91327498]\n",
            " [-0.88401004 -0.91327498  1.        ]]\n"
          ]
        }
      ]
    },
    {
      "cell_type": "markdown",
      "source": [
        "- **공분산행렬의 Eigenstuff 구하기** <br>\n",
        "  공분산행렬의 eigencvector와 eigenvalue는 쌍을 이루며, 그 수는 feature 수와 동일합니다. \n"
      ],
      "metadata": {
        "id": "1tlo5cFzTb0u"
      }
    },
    {
      "cell_type": "code",
      "source": [
        "values, vectors = np.linalg.eig(covariance_matrix)\n",
        "print(\"\\n Eigenvalues: \\n\", values)\n",
        "print(\"\\n Eigenvectors: \\n\", vectors)"
      ],
      "metadata": {
        "colab": {
          "base_uri": "https://localhost:8080/"
        },
        "id": "E8FUCCaoabbC",
        "outputId": "e2da1cf7-6764-4004-d7b4-e205ccbb7fcf"
      },
      "execution_count": null,
      "outputs": [
        {
          "output_type": "stream",
          "name": "stdout",
          "text": [
            "\n",
            " Eigenvalues: \n",
            " [2.75962684 0.1618075  0.07856566]\n",
            "\n",
            " Eigenvectors: \n",
            " [[ 0.56991376  0.77982119  0.25899269]\n",
            " [ 0.57650106 -0.60406359  0.55023059]\n",
            " [-0.58552953  0.16427443  0.7938319 ]]\n"
          ]
        }
      ]
    },
    {
      "cell_type": "markdown",
      "source": [
        "- **데이터를 eigenvector에 projection 하기**\n",
        "  - PCA는 데이터를 축에 수직으로 projection하는 것인데, eigenvector는 이 축의 단위벡터입니다. \n",
        "  - linear projection<br>\n",
        "  <img src = 'https://i.imgur.com/pC5zjKe.png' width=600> <br>\n",
        "  위 식에서 변환된 데이터를 $w'$, 기존 데이터를 $w$, eigenvector를 $v$라 할 때, $v\\cdot v$는 1이므로 $w\\cdot v$는 $w'$이 $v$에서 어디쯤 위치하는지 나타내주는 스칼라값과 같습니다. \n",
        "  - 이에 따라 projection 된 데이터는 기존 데이터와 eigenvector의 내적과 같습니다."
      ],
      "metadata": {
        "id": "5F0o8dimXFAI"
      }
    },
    {
      "cell_type": "code",
      "source": [
        "# eigenvector는 크기가 1인 단위벡터 \n",
        "print('pc1의 크기:', np.dot(vectors[:,0], vectors[:,0]))\n",
        "print('pc2의 크기:', np.dot(vectors[:,1], vectors[:,1]))\n",
        "print('pc3의 크기:', np.dot(vectors[:,2], vectors[:,2]))"
      ],
      "metadata": {
        "colab": {
          "base_uri": "https://localhost:8080/"
        },
        "id": "oOpqffSYx9xm",
        "outputId": "289b75bb-29ed-451c-b607-3154b5f3b1e4"
      },
      "execution_count": null,
      "outputs": [
        {
          "output_type": "stream",
          "name": "stdout",
          "text": [
            "pc1의 크기: 0.9999999999999998\n",
            "pc2의 크기: 1.0000000000000002\n",
            "pc3의 크기: 1.0\n"
          ]
        }
      ]
    },
    {
      "cell_type": "code",
      "source": [
        "# 데이터의 첫 row를 각각의 eigenvector에 projection하여 변환한 데이터 \n",
        "\n",
        "pc_1 = np.dot(standardized_data[0], vectors[:,0])\n",
        "pc_2 = np.dot(standardized_data[0], vectors[:,1])\n",
        "pc_3 = np.dot(standardized_data[0], vectors[:,2])\n",
        "\n",
        "print(pc_1, pc_2, pc_3)"
      ],
      "metadata": {
        "colab": {
          "base_uri": "https://localhost:8080/"
        },
        "id": "th48DcjObmqo",
        "outputId": "10fd0598-d32e-41b4-f4a6-b365fc70e6c7"
      },
      "execution_count": null,
      "outputs": [
        {
          "output_type": "stream",
          "name": "stdout",
          "text": [
            "-2.152679012186683 -0.06153364425582605 0.3159887819011157\n"
          ]
        }
      ]
    },
    {
      "cell_type": "code",
      "source": [
        "# 행렬곱을 이용하여 모든 데이터를 eigenvector에 projection하여 변환\n",
        "\n",
        "Z = np.matmul(standardized_data, vectors)\n",
        "\n",
        "print(\"\\n Projected Data(Z): \\n\")\n",
        "pd.DataFrame(Z, columns=['pc1', 'pc2', 'pc3'])"
      ],
      "metadata": {
        "colab": {
          "base_uri": "https://localhost:8080/",
          "height": 260
        },
        "id": "lTwWUj-lTbnx",
        "outputId": "5177f7df-f58c-4a33-9a39-178d3719b420"
      },
      "execution_count": null,
      "outputs": [
        {
          "output_type": "stream",
          "name": "stdout",
          "text": [
            "\n",
            " Projected Data(Z): \n",
            "\n"
          ]
        },
        {
          "output_type": "execute_result",
          "data": {
            "text/plain": [
              "        pc1       pc2       pc3\n",
              "0 -2.152679 -0.061534  0.315989\n",
              "1 -0.669239  0.491248 -0.149304\n",
              "2 -0.471776 -0.279789 -0.404693\n",
              "3  1.253263 -0.470309  0.122290\n",
              "4  2.040431  0.320385  0.115719"
            ],
            "text/html": [
              "\n",
              "  <div id=\"df-edecdf03-3e20-4482-8c13-efb68afcc1e7\">\n",
              "    <div class=\"colab-df-container\">\n",
              "      <div>\n",
              "<style scoped>\n",
              "    .dataframe tbody tr th:only-of-type {\n",
              "        vertical-align: middle;\n",
              "    }\n",
              "\n",
              "    .dataframe tbody tr th {\n",
              "        vertical-align: top;\n",
              "    }\n",
              "\n",
              "    .dataframe thead th {\n",
              "        text-align: right;\n",
              "    }\n",
              "</style>\n",
              "<table border=\"1\" class=\"dataframe\">\n",
              "  <thead>\n",
              "    <tr style=\"text-align: right;\">\n",
              "      <th></th>\n",
              "      <th>pc1</th>\n",
              "      <th>pc2</th>\n",
              "      <th>pc3</th>\n",
              "    </tr>\n",
              "  </thead>\n",
              "  <tbody>\n",
              "    <tr>\n",
              "      <th>0</th>\n",
              "      <td>-2.152679</td>\n",
              "      <td>-0.061534</td>\n",
              "      <td>0.315989</td>\n",
              "    </tr>\n",
              "    <tr>\n",
              "      <th>1</th>\n",
              "      <td>-0.669239</td>\n",
              "      <td>0.491248</td>\n",
              "      <td>-0.149304</td>\n",
              "    </tr>\n",
              "    <tr>\n",
              "      <th>2</th>\n",
              "      <td>-0.471776</td>\n",
              "      <td>-0.279789</td>\n",
              "      <td>-0.404693</td>\n",
              "    </tr>\n",
              "    <tr>\n",
              "      <th>3</th>\n",
              "      <td>1.253263</td>\n",
              "      <td>-0.470309</td>\n",
              "      <td>0.122290</td>\n",
              "    </tr>\n",
              "    <tr>\n",
              "      <th>4</th>\n",
              "      <td>2.040431</td>\n",
              "      <td>0.320385</td>\n",
              "      <td>0.115719</td>\n",
              "    </tr>\n",
              "  </tbody>\n",
              "</table>\n",
              "</div>\n",
              "      <button class=\"colab-df-convert\" onclick=\"convertToInteractive('df-edecdf03-3e20-4482-8c13-efb68afcc1e7')\"\n",
              "              title=\"Convert this dataframe to an interactive table.\"\n",
              "              style=\"display:none;\">\n",
              "        \n",
              "  <svg xmlns=\"http://www.w3.org/2000/svg\" height=\"24px\"viewBox=\"0 0 24 24\"\n",
              "       width=\"24px\">\n",
              "    <path d=\"M0 0h24v24H0V0z\" fill=\"none\"/>\n",
              "    <path d=\"M18.56 5.44l.94 2.06.94-2.06 2.06-.94-2.06-.94-.94-2.06-.94 2.06-2.06.94zm-11 1L8.5 8.5l.94-2.06 2.06-.94-2.06-.94L8.5 2.5l-.94 2.06-2.06.94zm10 10l.94 2.06.94-2.06 2.06-.94-2.06-.94-.94-2.06-.94 2.06-2.06.94z\"/><path d=\"M17.41 7.96l-1.37-1.37c-.4-.4-.92-.59-1.43-.59-.52 0-1.04.2-1.43.59L10.3 9.45l-7.72 7.72c-.78.78-.78 2.05 0 2.83L4 21.41c.39.39.9.59 1.41.59.51 0 1.02-.2 1.41-.59l7.78-7.78 2.81-2.81c.8-.78.8-2.07 0-2.86zM5.41 20L4 18.59l7.72-7.72 1.47 1.35L5.41 20z\"/>\n",
              "  </svg>\n",
              "      </button>\n",
              "      \n",
              "  <style>\n",
              "    .colab-df-container {\n",
              "      display:flex;\n",
              "      flex-wrap:wrap;\n",
              "      gap: 12px;\n",
              "    }\n",
              "\n",
              "    .colab-df-convert {\n",
              "      background-color: #E8F0FE;\n",
              "      border: none;\n",
              "      border-radius: 50%;\n",
              "      cursor: pointer;\n",
              "      display: none;\n",
              "      fill: #1967D2;\n",
              "      height: 32px;\n",
              "      padding: 0 0 0 0;\n",
              "      width: 32px;\n",
              "    }\n",
              "\n",
              "    .colab-df-convert:hover {\n",
              "      background-color: #E2EBFA;\n",
              "      box-shadow: 0px 1px 2px rgba(60, 64, 67, 0.3), 0px 1px 3px 1px rgba(60, 64, 67, 0.15);\n",
              "      fill: #174EA6;\n",
              "    }\n",
              "\n",
              "    [theme=dark] .colab-df-convert {\n",
              "      background-color: #3B4455;\n",
              "      fill: #D2E3FC;\n",
              "    }\n",
              "\n",
              "    [theme=dark] .colab-df-convert:hover {\n",
              "      background-color: #434B5C;\n",
              "      box-shadow: 0px 1px 3px 1px rgba(0, 0, 0, 0.15);\n",
              "      filter: drop-shadow(0px 1px 2px rgba(0, 0, 0, 0.3));\n",
              "      fill: #FFFFFF;\n",
              "    }\n",
              "  </style>\n",
              "\n",
              "      <script>\n",
              "        const buttonEl =\n",
              "          document.querySelector('#df-edecdf03-3e20-4482-8c13-efb68afcc1e7 button.colab-df-convert');\n",
              "        buttonEl.style.display =\n",
              "          google.colab.kernel.accessAllowed ? 'block' : 'none';\n",
              "\n",
              "        async function convertToInteractive(key) {\n",
              "          const element = document.querySelector('#df-edecdf03-3e20-4482-8c13-efb68afcc1e7');\n",
              "          const dataTable =\n",
              "            await google.colab.kernel.invokeFunction('convertToInteractive',\n",
              "                                                     [key], {});\n",
              "          if (!dataTable) return;\n",
              "\n",
              "          const docLinkHtml = 'Like what you see? Visit the ' +\n",
              "            '<a target=\"_blank\" href=https://colab.research.google.com/notebooks/data_table.ipynb>data table notebook</a>'\n",
              "            + ' to learn more about interactive tables.';\n",
              "          element.innerHTML = '';\n",
              "          dataTable['output_type'] = 'display_data';\n",
              "          await google.colab.output.renderOutput(dataTable, element);\n",
              "          const docLink = document.createElement('div');\n",
              "          docLink.innerHTML = docLinkHtml;\n",
              "          element.appendChild(docLink);\n",
              "        }\n",
              "      </script>\n",
              "    </div>\n",
              "  </div>\n",
              "  "
            ]
          },
          "metadata": {},
          "execution_count": 8
        }
      ]
    },
    {
      "cell_type": "markdown",
      "source": [
        "> 💡**Tip**\n",
        ">\n",
        "> 차원 축소를 했는데 Projected Data가 왜 기존 Data와 똑같은 3차원일까요? <br>\n",
        "> PCA는 고차원의 데이터를 분산을 유지하는 축 (PC)을 기반으로 데이터를 변환한 것이며 해당 PC들 중 일부를 사용하는 것으로 차원 축소를 할 수 있습니다. <br>\n",
        "> 즉, 데이터 $X$가 $Z$로 변환되었고, 이 중 `pc1`, `pc2`를 사용하면 2차원으로 축소한 의미가 있는 것이죠.\n",
        "\n"
      ],
      "metadata": {
        "id": "zEBG23-pAzJ6"
      }
    },
    {
      "cell_type": "markdown",
      "source": [
        "### **b. sklearn을 사용하여 PCA 시행**"
      ],
      "metadata": {
        "id": "IVzBWw6NCe3r"
      }
    },
    {
      "cell_type": "code",
      "source": [
        "from sklearn.preprocessing import StandardScaler\n",
        "from sklearn.decomposition import PCA\n",
        "\n",
        "print(\"Data: \\n\", X)\n",
        "\n",
        "# StandardScaler()를 사용하여 데이터 표준화 \n",
        "scaler = StandardScaler()\n",
        "Z = scaler.fit_transform(X)\n",
        "print(\"\\n Standardized Data: \\n\", Z)\n",
        "\n",
        "# 표준화한 데이터에 대하여 pca 시행 \n",
        "pca = PCA() \n",
        "pca.fit(Z)\n",
        "\n",
        "print(\"\\n Eigenvectors: \\n\", pca.components_)\n",
        "print(\"\\n Eigenvalues: \\n\",pca.explained_variance_)\n",
        "\n",
        "B = pca.transform(Z)\n",
        "print(\"\\n Projected Data: \\n\", B)"
      ],
      "metadata": {
        "colab": {
          "base_uri": "https://localhost:8080/"
        },
        "id": "HkZYBnqwCqJi",
        "outputId": "e1cf812a-c3d0-4a07-eab5-9764ed93200d"
      },
      "execution_count": null,
      "outputs": [
        {
          "output_type": "stream",
          "name": "stdout",
          "text": [
            "Data: \n",
            " [[0.2  5.6  3.56]\n",
            " [0.45 5.89 2.4 ]\n",
            " [0.33 6.37 1.95]\n",
            " [0.54 7.9  1.32]\n",
            " [0.77 7.87 0.98]]\n",
            "\n",
            " Standardized Data: \n",
            " [[-1.33380097 -1.15155802  1.67838223]\n",
            " [-0.04135817 -0.85497558  0.395824  ]\n",
            " [-0.66173071 -0.36408051 -0.10172014]\n",
            " [ 0.42392124  1.20064752 -0.79828193]\n",
            " [ 1.61296861  1.16996658 -1.17420417]]\n",
            "\n",
            " Eigenvectors: \n",
            " [[-0.56991376 -0.57650106  0.58552953]\n",
            " [ 0.77982119 -0.60406359  0.16427443]\n",
            " [-0.25899269 -0.55023059 -0.7938319 ]]\n",
            "\n",
            " Eigenvalues: \n",
            " [3.44953356 0.20225937 0.09820707]\n",
            "\n",
            " Projected Data: \n",
            " [[ 2.4067683  -0.06879671 -0.3532862 ]\n",
            " [ 0.74823156  0.5492314   0.16692746]\n",
            " [ 0.5274621  -0.31281387  0.45246034]\n",
            " [-1.40119076 -0.525822   -0.13672384]\n",
            " [-2.2812712   0.35820117 -0.12937776]]\n"
          ]
        }
      ]
    },
    {
      "cell_type": "markdown",
      "source": [
        "> 💡**Tip**\n",
        ">\n",
        "> **a**와 **b**에서 구한 표준화한 데이터 값의 차이는 standard deviation에 쓰이는 자유도(ddof)가 1인지 0인지에 따라 발생한 것으로 data science에서는 해당 차이를 critical 하지 않은 것으로 봅니다. "
      ],
      "metadata": {
        "id": "xZaQNDyAEGgU"
      }
    },
    {
      "cell_type": "markdown",
      "source": [
        "## **3-4. Scree Plots**\n",
        "- 주성분의 분산을 표시한 그림입니다. <br>\n",
        "  - explained variance(eigenvector로 투영했을 때의 분산=eigenvalue) 혹은 explained variance ratio를 이용하여 주성분들의 상대적인 중요도를 보여줍니다.\n",
        "- PCA를 몇 차원으로 해야할지 선택할 때, 하나의 기준이 될 수 있습니다. \n",
        "\n",
        "<img src = 'https://i.imgur.com/h8C6Iqz.png' width=400>\n",
        "<img src = 'https://i.imgur.com/AkwezXq.png' width=400>\n"
      ],
      "metadata": {
        "id": "F4hs4C0dhXeK"
      }
    },
    {
      "cell_type": "code",
      "source": [
        "# 분산 비율 \n",
        "pca.explained_variance_ratio_"
      ],
      "metadata": {
        "colab": {
          "base_uri": "https://localhost:8080/"
        },
        "id": "-eGYznGRl33P",
        "outputId": "4a2c03eb-36bc-4e40-ed3c-be9755fad195"
      },
      "execution_count": null,
      "outputs": [
        {
          "output_type": "execute_result",
          "data": {
            "text/plain": [
              "array([0.91987561, 0.05393583, 0.02618855])"
            ]
          },
          "metadata": {},
          "execution_count": 21
        }
      ]
    },
    {
      "cell_type": "code",
      "source": [
        "# scree plot으로 나타내는 함수 정의 \n",
        "def scree_plot(pca):\n",
        "    num_components = len(pca.explained_variance_ratio_)\n",
        "    ind = np.arange(num_components)\n",
        "    vals = pca.explained_variance_ratio_\n",
        "    \n",
        "    ax = plt.subplot()\n",
        "    cumvals = np.cumsum(vals)\n",
        "    ax.bar(ind, vals, color = ['#00da75', '#f1c40f',  '#ff6f15']) # Bar plot\n",
        "    ax.plot(ind, cumvals, color = '#c0392b') # Line plot \n",
        "    \n",
        "    for i in range(num_components):\n",
        "        ax.annotate(r\"%s\" % ((str(vals[i]*100)[:3])), (ind[i], vals[i]), va = \"bottom\", ha = \"center\", fontsize = 13)\n",
        "     \n",
        "    ax.set_xlabel(\"PC\")\n",
        "    ax.set_ylabel(\"Variance\")\n",
        "    plt.title('Scree plot')\n",
        "  \n",
        "scree_plot(pca)"
      ],
      "metadata": {
        "colab": {
          "base_uri": "https://localhost:8080/",
          "height": 295
        },
        "id": "NSsGMslGhktu",
        "outputId": "f19d91c2-1b75-445c-b3af-a77ac61de80e"
      },
      "execution_count": null,
      "outputs": [
        {
          "output_type": "display_data",
          "data": {
            "text/plain": [
              "<Figure size 432x288 with 1 Axes>"
            ],
            "image/png": "[encoded data removed]"
          },
          "metadata": {
            "needs_background": "light"
          }
        }
      ]
    },
    {
      "cell_type": "code",
      "source": [
        "# 1개의 pc만 출력\n",
        "pca = PCA(1) \n",
        "pca.fit(Z)\n",
        "\n",
        "B = pca.transform(Z)\n",
        "print(\"\\n Projected Data(Z): \\n\")\n",
        "pd.DataFrame(B, columns=['pc1'])"
      ],
      "metadata": {
        "colab": {
          "base_uri": "https://localhost:8080/",
          "height": 260
        },
        "id": "m9_LM6w7lnKq",
        "outputId": "a0b410da-af76-40b6-b5f8-8ef45d6c3e9e"
      },
      "execution_count": null,
      "outputs": [
        {
          "output_type": "stream",
          "name": "stdout",
          "text": [
            "\n",
            " Projected Data(Z): \n",
            "\n"
          ]
        },
        {
          "output_type": "execute_result",
          "data": {
            "text/plain": [
              "        pc1\n",
              "0  2.406768\n",
              "1  0.748232\n",
              "2  0.527462\n",
              "3 -1.401191\n",
              "4 -2.281271"
            ],
            "text/html": [
              "\n",
              "  <div id=\"df-cd0f3bf8-fac9-4753-9f6d-b803f4decd53\">\n",
              "    <div class=\"colab-df-container\">\n",
              "      <div>\n",
              "<style scoped>\n",
              "    .dataframe tbody tr th:only-of-type {\n",
              "        vertical-align: middle;\n",
              "    }\n",
              "\n",
              "    .dataframe tbody tr th {\n",
              "        vertical-align: top;\n",
              "    }\n",
              "\n",
              "    .dataframe thead th {\n",
              "        text-align: right;\n",
              "    }\n",
              "</style>\n",
              "<table border=\"1\" class=\"dataframe\">\n",
              "  <thead>\n",
              "    <tr style=\"text-align: right;\">\n",
              "      <th></th>\n",
              "      <th>pc1</th>\n",
              "    </tr>\n",
              "  </thead>\n",
              "  <tbody>\n",
              "    <tr>\n",
              "      <th>0</th>\n",
              "      <td>2.406768</td>\n",
              "    </tr>\n",
              "    <tr>\n",
              "      <th>1</th>\n",
              "      <td>0.748232</td>\n",
              "    </tr>\n",
              "    <tr>\n",
              "      <th>2</th>\n",
              "      <td>0.527462</td>\n",
              "    </tr>\n",
              "    <tr>\n",
              "      <th>3</th>\n",
              "      <td>-1.401191</td>\n",
              "    </tr>\n",
              "    <tr>\n",
              "      <th>4</th>\n",
              "      <td>-2.281271</td>\n",
              "    </tr>\n",
              "  </tbody>\n",
              "</table>\n",
              "</div>\n",
              "      <button class=\"colab-df-convert\" onclick=\"convertToInteractive('df-cd0f3bf8-fac9-4753-9f6d-b803f4decd53')\"\n",
              "              title=\"Convert this dataframe to an interactive table.\"\n",
              "              style=\"display:none;\">\n",
              "        \n",
              "  <svg xmlns=\"http://www.w3.org/2000/svg\" height=\"24px\"viewBox=\"0 0 24 24\"\n",
              "       width=\"24px\">\n",
              "    <path d=\"M0 0h24v24H0V0z\" fill=\"none\"/>\n",
              "    <path d=\"M18.56 5.44l.94 2.06.94-2.06 2.06-.94-2.06-.94-.94-2.06-.94 2.06-2.06.94zm-11 1L8.5 8.5l.94-2.06 2.06-.94-2.06-.94L8.5 2.5l-.94 2.06-2.06.94zm10 10l.94 2.06.94-2.06 2.06-.94-2.06-.94-.94-2.06-.94 2.06-2.06.94z\"/><path d=\"M17.41 7.96l-1.37-1.37c-.4-.4-.92-.59-1.43-.59-.52 0-1.04.2-1.43.59L10.3 9.45l-7.72 7.72c-.78.78-.78 2.05 0 2.83L4 21.41c.39.39.9.59 1.41.59.51 0 1.02-.2 1.41-.59l7.78-7.78 2.81-2.81c.8-.78.8-2.07 0-2.86zM5.41 20L4 18.59l7.72-7.72 1.47 1.35L5.41 20z\"/>\n",
              "  </svg>\n",
              "      </button>\n",
              "      \n",
              "  <style>\n",
              "    .colab-df-container {\n",
              "      display:flex;\n",
              "      flex-wrap:wrap;\n",
              "      gap: 12px;\n",
              "    }\n",
              "\n",
              "    .colab-df-convert {\n",
              "      background-color: #E8F0FE;\n",
              "      border: none;\n",
              "      border-radius: 50%;\n",
              "      cursor: pointer;\n",
              "      display: none;\n",
              "      fill: #1967D2;\n",
              "      height: 32px;\n",
              "      padding: 0 0 0 0;\n",
              "      width: 32px;\n",
              "    }\n",
              "\n",
              "    .colab-df-convert:hover {\n",
              "      background-color: #E2EBFA;\n",
              "      box-shadow: 0px 1px 2px rgba(60, 64, 67, 0.3), 0px 1px 3px 1px rgba(60, 64, 67, 0.15);\n",
              "      fill: #174EA6;\n",
              "    }\n",
              "\n",
              "    [theme=dark] .colab-df-convert {\n",
              "      background-color: #3B4455;\n",
              "      fill: #D2E3FC;\n",
              "    }\n",
              "\n",
              "    [theme=dark] .colab-df-convert:hover {\n",
              "      background-color: #434B5C;\n",
              "      box-shadow: 0px 1px 3px 1px rgba(0, 0, 0, 0.15);\n",
              "      filter: drop-shadow(0px 1px 2px rgba(0, 0, 0, 0.3));\n",
              "      fill: #FFFFFF;\n",
              "    }\n",
              "  </style>\n",
              "\n",
              "      <script>\n",
              "        const buttonEl =\n",
              "          document.querySelector('#df-cd0f3bf8-fac9-4753-9f6d-b803f4decd53 button.colab-df-convert');\n",
              "        buttonEl.style.display =\n",
              "          google.colab.kernel.accessAllowed ? 'block' : 'none';\n",
              "\n",
              "        async function convertToInteractive(key) {\n",
              "          const element = document.querySelector('#df-cd0f3bf8-fac9-4753-9f6d-b803f4decd53');\n",
              "          const dataTable =\n",
              "            await google.colab.kernel.invokeFunction('convertToInteractive',\n",
              "                                                     [key], {});\n",
              "          if (!dataTable) return;\n",
              "\n",
              "          const docLinkHtml = 'Like what you see? Visit the ' +\n",
              "            '<a target=\"_blank\" href=https://colab.research.google.com/notebooks/data_table.ipynb>data table notebook</a>'\n",
              "            + ' to learn more about interactive tables.';\n",
              "          element.innerHTML = '';\n",
              "          dataTable['output_type'] = 'display_data';\n",
              "          await google.colab.output.renderOutput(dataTable, element);\n",
              "          const docLink = document.createElement('div');\n",
              "          docLink.innerHTML = docLinkHtml;\n",
              "          element.appendChild(docLink);\n",
              "        }\n",
              "      </script>\n",
              "    </div>\n",
              "  </div>\n",
              "  "
            ]
          },
          "metadata": {},
          "execution_count": 18
        }
      ]
    },
    {
      "cell_type": "markdown",
      "source": [
        "# **Part 4. Introduction to Machine Learning**\n",
        "\n",
        "머신러닝 알고리즘 종류는 다음과 같이 다양합니다.\n",
        "\n",
        "<img src='https://i.imgur.com/FKzlBos.jpg' width = 1000>\n",
        "\n",
        "이 중에서 대표적인 머신러닝 알고리즘인 **지도 학습**과 **비지도 학습**을 중심으로 살펴보도록 하겠습니다.\n",
        "\n"
      ],
      "metadata": {
        "id": "dSAaYZ_tJZFe"
      }
    },
    {
      "cell_type": "markdown",
      "source": [
        "## **4-1. 지도 학습 (Supervised Learning)** \n",
        "\n",
        "지도 학습 알고리즘은 예를 통해 학습하도록 설계됩니다. <br>\n",
        "분석가인 여러분들이 문제에 대한 답을 알고 있고, 머신러닝 모델이 그것을 알아낼 수 있도록 훈련시키고자 할 때 사용합니다. <br>\n",
        "즉, 지도 학습은 학습 데이터에 Label, 답이 있을 때 사용할 수 있습니다.\n",
        "\n",
        "지도 학습에는 회귀와 분류라는 두 가지 종류가 존재합니다. 다음 예를 통해 두 종류의 차이를 알아보도록 합니다. \n",
        "\n",
        "<p align=\"center\">\n",
        "<img src='https://i.imgur.com/RyThpwE.png' width = 500>\n",
        "\n",
        "  - **회귀 (Regression)** </br>\n",
        "  회귀 알고리즘은 데이터의 feature를 바탕으로 continuous한 target(주로 패턴이나 트랜드, 경향)을 예측할 때 사용됩니다. </br>\n",
        "   - e.g. 주택 가격 예측, 강수량 예측\n",
        "\n",
        "\n",
        "  - **분류 (Classification)** </br>\n",
        "  분류 알고리즘은 주어진 target의 카테고리 혹은 클래스 예측을 위해 사용됩니다.\n",
        "    - 이진 분류 (Binary Classification): 맞다/아니다와 같이 target의 클래스가 2개인 경우\n",
        "      - e.g. 스팸 메일 여부 예측, 코로나 확진 여부 예측\n",
        "\n",
        "    - 다중 분류 (Multi-class Classification): target의 클래스가 3개 이상인 경우\n",
        "      - e.g. 가위바위보 예측\n",
        "\n",
        "\n",
        "\n",
        "> **💡 Tip** <br>\n",
        "모델 학습에 사용하는 column을 `feature`, label이 들어있는 column을 `target`이라고 표현합니다."
      ],
      "metadata": {
        "id": "W4JrdSYgLsNd"
      }
    },
    {
      "cell_type": "markdown",
      "source": [
        "## **4-2. 비지도 학습 (Unsupervised Learning)**\n",
        "비지도 학습은 지도 학습과 달리 **label이 없는 데이터**에서 숨겨진 구조와 패턴을 탐색적으로 발견하는 것입니다. <br>\n",
        "즉, 정답이 없는 데이터로부터 패턴이나 형태를 찾아야 하기 때문에 지도학습보다는 조금 더 난이도가 있다고 할 수 있으며, 예측의 문제 보다는 주로 **현상의 기술(Description)이나 특징 도출, 패턴 도출** 등의 문제에 사용됩니다.\n",
        "\n",
        "실제로 지도 학습에서 적절한 feature를 찾아내기 위한 전처리 방법으로 비지도 학습을 이용하기도 합니다.\n",
        "\n",
        "<p align=\"center\">\n",
        "<img src='https://i.imgur.com/RbVlVUy.png' width = 200>\n",
        "\n",
        "- **클러스터링 (Clustering)** </br>\n",
        "  데이터의 연관된 feature를 바탕으로 유사한 그룹을 생성합니다.\n",
        "\n",
        "- **차원 축소 (Dimensionality Reduction)** </br>\n",
        "  높은 차원을 갖는 데이터셋을 사용하여 feature selection / extraction 등을 통해 차원을 줄이는 방법입니다. <br>\n",
        "  이번 note에서 다룬 PCA 또한 차원 축소의 방법 중 하나입니다.\n",
        "\n",
        "\n",
        "- **연관 규칙 학습 (Association Rule Learning)** </br>\n",
        "  데이터셋의 item 간의 관계를 `If - Then` 형식으로 찾아나가는 rule-based 방법입니다. (feature-output 의 관계가 아닌 feature-feature)"
      ],
      "metadata": {
        "id": "TMJlYbdlMaYt"
      }
    }
  ]
}