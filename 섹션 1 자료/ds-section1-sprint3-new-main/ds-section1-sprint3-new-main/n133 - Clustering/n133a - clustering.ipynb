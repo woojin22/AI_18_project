{
  "nbformat": 4,
  "nbformat_minor": 0,
  "metadata": {
    "colab": {
      "name": "n133a_clustering.ipynb",
      "provenance": [],
      "include_colab_link": true
    },
    "kernelspec": {
      "display_name": "Python 3",
      "language": "python",
      "name": "python3"
    },
    "language_info": {
      "codemirror_mode": {
        "name": "ipython",
        "version": 3
      },
      "file_extension": ".py",
      "mimetype": "text/x-python",
      "name": "python",
      "nbconvert_exporter": "python",
      "pygments_lexer": "ipython3",
      "version": "3.9.4"
    }
  },
  "cells": [
    {
      "cell_type": "markdown",
      "metadata": {
        "id": "view-in-github",
        "colab_type": "text"
      },
      "source": [
        "<a href=\"https://colab.research.google.com/github/codestates/ds-section1-sprint3-new/blob/main/n133%20-%20Clustering/n133a%20-%20clustering.ipynb\" target=\"_parent\"><img src=\"https://colab.research.google.com/assets/colab-badge.svg\" alt=\"Open In Colab\"/></a>"
      ]
    },
    {
      "cell_type": "markdown",
      "source": [
        "<img src='https://i.imgur.com/RDAD11M.png' width = '200' align = 'right'>\n",
        "\n",
        "## *DATA SCIENCE / SECTION 1 / SPRINT 3 / NOTE 3*\n",
        "\n",
        "---\n",
        "\n",
        "# 📝 Assignment\n"
      ],
      "metadata": {
        "id": "1c_Ce8O4C3Qz"
      }
    },
    {
      "cell_type": "markdown",
      "source": [
        "# 🌱 **기본 과제**"
      ],
      "metadata": {
        "id": "0Wxh6p2EDekT"
      }
    },
    {
      "cell_type": "markdown",
      "source": [
        "## **Part 1. K-Means Clustering**"
      ],
      "metadata": {
        "id": "UTQIYtGFDmH9"
      }
    },
    {
      "cell_type": "markdown",
      "source": [
        "### **1-1. 데이터셋 불러오기**\n",
        "\n",
        "- `n133a-dataset.csv`를 불러와 `df`라는 데이터프레임에 저장하세요. \n"
      ],
      "metadata": {
        "id": "v2GzPem4DrT9"
      }
    },
    {
      "cell_type": "code",
      "source": [
        "# 이곳에 코드를 작성하세요."
      ],
      "metadata": {
        "id": "T7zKfEJPSTdg"
      },
      "execution_count": null,
      "outputs": []
    },
    {
      "cell_type": "markdown",
      "source": [
        "### **1-2. \b\bEDA**\n",
        "\n",
        "- `diagnosis` column에 있는 데이터를 M은 1, B는 0으로 바꾼 뒤, `label`이라는 변수에 저장하세요.\n",
        "> M = malignant, B = benign\n",
        "\n",
        "- `df`에서 `radius_mean` ~ `fractal_dimension_worst` column만 남기고, 나머지 column은 제거하세요.\n",
        "\n",
        "\n",
        "- `df`의 통계치를 확인하고, 모든 column에 log tranformation을 적용한 `df_log` 데이터프레임을 생성하세요. \n",
        "\n",
        "- 데이터의 단위에 따른 왜곡을 방지하기 위해 `df_log`에 `StandardScaler()`를 적용하여 `features`라는 변수에 저장하세요.\n"
      ],
      "metadata": {
        "id": "XoTaFi0jDvZp"
      }
    },
    {
      "cell_type": "markdown",
      "source": [
        "##### **Q1. 주어진 조건에 따라 column을 제거한 `df`의 shape을 쓰세요.**"
      ],
      "metadata": {
        "id": "ssuzZc9yFn6i"
      }
    },
    {
      "cell_type": "code",
      "source": [
        "# 이곳에 코드를 작성하세요."
      ],
      "metadata": {
        "id": "BkIFmB6QSW7B"
      },
      "execution_count": null,
      "outputs": []
    },
    {
      "cell_type": "markdown",
      "source": [
        "##### **Q2. 표준화를 진행한 `features`에 대해 `features[0][0]`의 결과값을 반올림하여 소수점 둘째 자리까지 쓰세요.**"
      ],
      "metadata": {
        "id": "bdAcIVnJabc6"
      }
    },
    {
      "cell_type": "code",
      "source": [
        "# 이곳에 코드를 작성하세요."
      ],
      "metadata": {
        "id": "3TDtBBAZSaKa"
      },
      "execution_count": null,
      "outputs": []
    },
    {
      "cell_type": "markdown",
      "source": [
        "### **1-3. K-Means Clustering 적용**\n",
        "\n",
        "우리는 `features`의 데이터들을 두 개의 cluster로 군집화 한 후, 기존 데이터의 `label`과 그 결과를 비교해볼 것입니다.\n",
        "  \n",
        "- `n_clusters = 2`, `random_state = 42`를 제외한 다른 parameter는 default option을 사용하여 `features`에 대해 K-Means Clustering을 진행하세요.\n",
        "\n",
        "- Clustering 결과로 나온 `labels`를 `df`의 `cluster` column에 저장하세요."
      ],
      "metadata": {
        "id": "UW_SbIlFD7Ye"
      }
    },
    {
      "cell_type": "markdown",
      "source": [
        "##### **Q3. `index`가 109인 데이터의 `cluster`를 쓰세요.**"
      ],
      "metadata": {
        "id": "DWYJETkDbApa"
      }
    },
    {
      "cell_type": "code",
      "source": [
        "# 이곳에 코드를 작성하세요."
      ],
      "metadata": {
        "id": "kvnQjAxrScLd"
      },
      "execution_count": null,
      "outputs": []
    },
    {
      "cell_type": "markdown",
      "source": [
        "### **1-4. Clustering 결과 해석**\n",
        "\n",
        "- `df`의 `compactness_mean`, `perimeter_mean` column을 각각 x축, y축으로 두고 Clustering 결과를 `Scatter plot`으로 시각화해 보세요.\n",
        "  - seaborn 라이브러리의 `.scatterplot()`에서 hue 파라미터를 설정하여, cluster 별로 데이터가 어디에 위치해 있는지 확인합니다.\n"
      ],
      "metadata": {
        "id": "gU44u9dvVU07"
      }
    },
    {
      "cell_type": "markdown",
      "source": [
        "##### **Q4. `scatterplot`에서 왼쪽 하단에 위치해있는 cluster는 무엇인지 쓰세요.**\n",
        "\n",
        "- cluster 0\n",
        "- cluster 1"
      ],
      "metadata": {
        "id": "mDYQ3LyTbmkQ"
      }
    },
    {
      "cell_type": "code",
      "source": [
        "# 이곳에 코드를 작성하세요."
      ],
      "metadata": {
        "id": "4oxXMCJ2SdXx"
      },
      "execution_count": null,
      "outputs": []
    },
    {
      "cell_type": "markdown",
      "source": [
        "## **Part 2. \bAccuracy**\n",
        "\n",
        "- `df['cluster']`column을 `label2` 변수에 저장하세요.\n",
        "\n",
        "- `label`과 `label2`의 값을 비교하여 전체 데이터 중 두 경우의 결과값이 일치하는 데이터의 비율을 `acc` 변수에 저장하세요.\n",
        "\n"
      ],
      "metadata": {
        "id": "iVHRkLMkD_46"
      }
    },
    {
      "cell_type": "markdown",
      "source": [
        "##### **Q5. `acc` 결과값을 반올림하여 소수점 둘째 자리까지 쓰세요.**"
      ],
      "metadata": {
        "id": "752mclIJb083"
      }
    },
    {
      "cell_type": "code",
      "source": [
        "# 이곳에 코드를 작성하세요."
      ],
      "metadata": {
        "id": "ON1ZXy-VSeWD"
      },
      "execution_count": null,
      "outputs": []
    },
    {
      "cell_type": "markdown",
      "source": [
        "# 🥇 **도전 과제** "
      ],
      "metadata": {
        "id": "vA2VyfUwDiwf"
      }
    },
    {
      "cell_type": "markdown",
      "source": [
        "## **Part 3. Hierarhical Clustering**\n",
        "- **다음 [링크](https://scikit-learn.org/stable/modules/clustering.html#hierarchical-clustering)를 참고하여, Clustering 알고리즘 중 하나인 `Hierarhical Clustering`을 기본 과제의 데이터셋에 적용해보고, 그 결과로 나온 dendrogram을 시각화하세요.**"
      ],
      "metadata": {
        "id": "_uzvDGjmtT5J"
      }
    },
    {
      "cell_type": "code",
      "source": [
        "# 이곳에 코드를 작성하세요."
      ],
      "metadata": {
        "id": "QH1NUpAPSfVb"
      },
      "execution_count": null,
      "outputs": []
    }
  ]
}