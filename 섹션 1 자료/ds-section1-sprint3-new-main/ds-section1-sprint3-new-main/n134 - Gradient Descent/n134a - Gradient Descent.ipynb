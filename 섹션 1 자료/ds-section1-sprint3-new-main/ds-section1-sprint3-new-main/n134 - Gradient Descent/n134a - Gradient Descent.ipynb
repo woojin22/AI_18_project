{
  "nbformat": 4,
  "nbformat_minor": 0,
  "metadata": {
    "colab": {
      "provenance": [],
      "name": "n134a - Gradient Descent.ipynb",
      "include_colab_link": true
    },
    "kernelspec": {
      "display_name": "Python 3",
      "language": "python",
      "name": "python3"
    },
    "language_info": {
      "codemirror_mode": {
        "name": "ipython",
        "version": 3
      },
      "file_extension": ".py",
      "mimetype": "text/x-python",
      "name": "python",
      "nbconvert_exporter": "python",
      "pygments_lexer": "ipython3",
      "version": "3.9.4"
    }
  },
  "cells": [
    {
      "cell_type": "markdown",
      "metadata": {
        "id": "view-in-github",
        "colab_type": "text"
      },
      "source": [
        "<a href=\"https://colab.research.google.com/github/codestates/ds-section1-sprint3-new/blob/main/n134%20-%20Gradient%20Descent/n134a%20-%20Gradient%20Descent.ipynb\" target=\"_parent\"><img src=\"https://colab.research.google.com/assets/colab-badge.svg\" alt=\"Open In Colab\"/></a>"
      ]
    },
    {
      "cell_type": "markdown",
      "metadata": {
        "id": "dlid8pRvGRWN"
      },
      "source": [
        "<img src='https://i.imgur.com/RDAD11M.png' width = '200' align = 'right'>\n",
        "\n",
        "## *DATA SCIENCE / SECTION 1 / SPRINT 3 / NOTE 4*\n",
        "\n",
        "---\n",
        "\n",
        "# 📝 Assignment\n",
        "\n"
      ]
    },
    {
      "cell_type": "markdown",
      "source": [
        "# 🌱 **기본 과제**"
      ],
      "metadata": {
        "id": "QB00f44e958e"
      }
    },
    {
      "cell_type": "markdown",
      "metadata": {
        "id": "-4ezCXFIGRWO"
      },
      "source": [
        "## **Part 1. 기초 미분**"
      ]
    },
    {
      "cell_type": "markdown",
      "source": [
        "### **1-1. 데이터셋 불러오기**\n",
        "- seaborn 라이브러리\b에서 iris 데이터셋을 데이터프레임으로 불러오세요. \n",
        "  - 데이터프레임의 이름은 `df_iris`로 합니다. "
      ],
      "metadata": {
        "id": "sR4PA8tq-Ecn"
      }
    },
    {
      "cell_type": "markdown",
      "source": [
        "\n",
        "\n",
        "##### **Q1. `df_iris`의 shape을 쓰세요.**"
      ],
      "metadata": {
        "id": "1rniy5uUv1Y4"
      }
    },
    {
      "cell_type": "code",
      "source": [
        "# 이곳에 코드를 작성하세요."
      ],
      "metadata": {
        "id": "rc_eWofXTAPY"
      },
      "execution_count": null,
      "outputs": []
    },
    {
      "cell_type": "markdown",
      "metadata": {
        "id": "60Z85miOGRWP"
      },
      "source": [
        "### **1-2. 독립변수(independent variable)에 해당하는 column 지정하기**\n",
        "- `df_iris`에서 `sepal_length` column의 이름을 `x`로 변경한 뒤, `x` column만 남기고 나머지 column을 제거하세요.\n",
        "  - `df_iris`는 데이터프레임 형태입니다.\n",
        "  - `x`는 다음 문제에서 주어지는 `f(x)`의 input으로 사용됩니다. \n",
        "\n",
        "\n",
        "  "
      ]
    },
    {
      "cell_type": "markdown",
      "source": [
        "##### **Q2. `df_iris`의 index가 100인 데이터의 `x`값을 쓰세요.**"
      ],
      "metadata": {
        "id": "NFxtfpCJxipq"
      }
    },
    {
      "cell_type": "code",
      "source": [
        "# 이곳에 코드를 작성하세요."
      ],
      "metadata": {
        "id": "eQXbG0c3TUux"
      },
      "execution_count": null,
      "outputs": []
    },
    {
      "cell_type": "markdown",
      "source": [
        "### **1-3. 미분 계산**\n",
        "\n",
        "> 함수 $f(x)$는 다음과 같습니다. \n",
        ">\n",
        "> $f(x) = 4x^5 + 9x^3 + ex^2 - 7$\n",
        "\n",
        "- **함수 $f(x)$를 직접 미분하세요.** \n",
        "  - $f(x)$의 도함수를 직접 구한 후에 `by_hand` 함수의 반환값에 반영하세요.\n",
        "  - `by_hand` 함수를 `x`에 적용한 결과값을 `derivative_hand`라는 column으로 `df_iris`에 저장하세요.\n",
        "    - `df.apply` 를 활용해보세요.\n",
        "  - `derivative_hand` column의 합을 반올림하여 소수점 둘째 자리까지 구한 값을 `res1` 변수에 저장하세요. \n",
        "- **함수 $f(x)$를 scipy를 활용하여 미분하세요.**\n",
        "  - 함수 $f(x)$를 반환하는 `f` 함수를 완성하세요.\n",
        "  - scipy의 [`derivative()`](https://docs.scipy.org/doc/scipy/reference/generated/scipy.misc.derivative.html)를 활용하여 $f(x)$의 도함수를 `x`에 적용한 결과값을 `derivative_method`라는 column으로 `df_iris`에 저장하세요. \n",
        "    - `dx`는 1e-5로 지정하고, 그 외에 optional parameter는 default로 설정합니다. \n",
        "  - `derivative_method` column의 합을 반올림하여 소수점 둘째 자리까지 구한 값을 `res2` 변수에 저장하세요."
      ],
      "metadata": {
        "id": "K7TUac4byjQd"
      }
    },
    {
      "cell_type": "markdown",
      "source": [
        "##### **Q3. `res1` - `res2`의 결과값을 쓰세요.**"
      ],
      "metadata": {
        "id": "Fjm6X2f42Sg6"
      }
    },
    {
      "cell_type": "code",
      "source": [
        "def by_hand(x):\n",
        "  return # 이곳에 코드를 작성하세요."
      ],
      "metadata": {
        "id": "vaYatBvLTWlP"
      },
      "execution_count": null,
      "outputs": []
    },
    {
      "cell_type": "code",
      "source": [
        "from scipy.misc import derivative\n",
        "\n",
        "def f(x):\n",
        "  return # 이곳에 코드를 작성하세요."
      ],
      "metadata": {
        "id": "ATRi9uFsOy6W"
      },
      "execution_count": null,
      "outputs": []
    },
    {
      "cell_type": "markdown",
      "metadata": {
        "id": "7FpoEf_dGRWQ"
      },
      "source": [
        "## **Part 2. 미분 연습**\n",
        "사용자 정의함수 `def`를 활용하여 해당 함수를 출력했을 때, 알맞은 미분값이 도출되도록 함수를 구성해보세요."
      ]
    },
    {
      "cell_type": "markdown",
      "metadata": {
        "id": "S9EZvFhjGRWQ"
      },
      "source": [
        "##### **Q4. $f(x) = e^x$를 미분한 후, $x=5$일 때의 결과값을 반올림하여 소수점 둘째 자리까지 쓰세요.**  "
      ]
    },
    {
      "cell_type": "code",
      "source": [
        "def e_prime(x):\n",
        "    return # 이곳에 코드를 작성하세요."
      ],
      "metadata": {
        "id": "ZYCC37clTYkA"
      },
      "execution_count": null,
      "outputs": []
    },
    {
      "cell_type": "markdown",
      "metadata": {
        "id": "l3rzZEFqGRWR"
      },
      "source": [
        "##### **Q5. $f(x) = lnx$를 미분한 후, $x=5$일 때의 결과값을 구하세요.**"
      ]
    },
    {
      "cell_type": "code",
      "source": [
        "def ln_prime(x):\n",
        "    return # 이곳에 코드를 작성하세요."
      ],
      "metadata": {
        "id": "Hzz2Z4pwTZsX"
      },
      "execution_count": null,
      "outputs": []
    },
    {
      "cell_type": "markdown",
      "metadata": {
        "id": "lZH-fuvCGRWR"
      },
      "source": [
        "##### **Q6. $f(x) = 2x^2 + 8x$를 미분한 후, $x=5$일 때의 결과값을 구하세요.**"
      ]
    },
    {
      "cell_type": "code",
      "source": [
        "def f_prime(x):\n",
        "    return # 이곳에 코드를 작성하세요."
      ],
      "metadata": {
        "id": "PQz3oWFuTaT9"
      },
      "execution_count": null,
      "outputs": []
    },
    {
      "cell_type": "markdown",
      "source": [
        "## **Part 3. 편미분**\n",
        "\n",
        "- 주어진 `machine learning model`의 `error function` ($\\varepsilon$)이 다음과 같을 때 `error function`을 **최소화** 하는 최적의 $p_1$, $p_2$값을 구하세요. \n",
        "> $\\varepsilon(p_1, p_2) = (e \\cdot p_1 - p_2)^2 + {{k_2} \\over { 2 }} \\cdot p_2 \\quad (k_2 == 100)$ \n",
        "\n",
        "  - 단 최적의 $p_1$은 $p_2$가 3일 때, 최적의 $p_2$는 $p_1$이 10일 때를 기준으로 합니다.\n",
        "  - error function이 최소일 때는 error function의 미분값이 $0$일 때입니다."
      ],
      "metadata": {
        "id": "NATRztt8c1BV"
      }
    },
    {
      "cell_type": "markdown",
      "source": [
        "##### **Q7. $p_2$가 $3$일 때, $p_1$ 값을 반올림하여 소수점 둘째 자리까지 쓰세요.**"
      ],
      "metadata": {
        "id": "OFFfY8It99cv"
      }
    },
    {
      "cell_type": "code",
      "source": [
        "# 이곳에 코드를 작성하세요."
      ],
      "metadata": {
        "id": "1ErhBuNQTcJc"
      },
      "execution_count": null,
      "outputs": []
    },
    {
      "cell_type": "markdown",
      "source": [
        "##### **Q8. $p_1$이 $10$일 때, $p_2$ 값을 반올림하여 소수점 둘째 자리까지 쓰세요.**"
      ],
      "metadata": {
        "id": "6YY0K4dH-H6z"
      }
    },
    {
      "cell_type": "code",
      "source": [
        "# 이곳에 코드를 작성하세요."
      ],
      "metadata": {
        "id": "2lrNzDDbTgrn"
      },
      "execution_count": null,
      "outputs": []
    },
    {
      "cell_type": "markdown",
      "source": [
        "# 🥇 **도전 과제** "
      ],
      "metadata": {
        "id": "G2LEl2viAvTk"
      }
    },
    {
      "cell_type": "markdown",
      "source": [
        "## **Part 4. 지수함수의 미분**\n",
        "\n",
        "- **다음 함수를 미분한 후, $x = 3$일 때의 결과값을 `challenge`에 저장하세요.**  \n",
        "> $\\sigma(x) = {{1} \\over {1 + e^{-x}}}$"
      ],
      "metadata": {
        "id": "d9do-xNWtvDH"
      }
    },
    {
      "cell_type": "code",
      "source": [
        "def sig_prime(x):\n",
        "    return # 이곳에 코드를 작성하세요."
      ],
      "metadata": {
        "id": "WpxUcsaLUeKM"
      },
      "execution_count": null,
      "outputs": []
    }
  ]
}