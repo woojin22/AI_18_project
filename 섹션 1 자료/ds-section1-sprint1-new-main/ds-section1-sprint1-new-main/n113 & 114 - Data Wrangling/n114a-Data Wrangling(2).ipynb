{
  "nbformat": 4,
  "nbformat_minor": 0,
  "metadata": {
    "colab": {
      "name": "n114a-Data Wrangling(2).ipynb",
      "provenance": [],
      "collapsed_sections": [
        "8miiH1NgR1P4",
        "yt0ZtsnswcSt",
        "pHOk7NOHx6pg",
        "Bamtjddix9Kf"
      ],
      "include_colab_link": true
    },
    "kernelspec": {
      "name": "python3",
      "display_name": "Python 3"
    },
    "language_info": {
      "name": "python"
    }
  },
  "cells": [
    {
      "cell_type": "markdown",
      "metadata": {
        "id": "view-in-github",
        "colab_type": "text"
      },
      "source": [
        "<a href=\"https://colab.research.google.com/github/codestates/ds-section1-sprint1-new/blob/main/n113%20%26%20114%20-%20Data%20Wrangling/n114a-Data%20Wrangling(2).ipynb\" target=\"_parent\"><img src=\"https://colab.research.google.com/assets/colab-badge.svg\" alt=\"Open In Colab\"/></a>"
      ]
    },
    {
      "cell_type": "markdown",
      "source": [
        "<img src='https://user-images.githubusercontent.com/6457691/89746244-a6e2a200-daf3-11ea-9314-7863d544d73c.png' width = '200' align = 'right'>\n",
        "\n",
        "## *DATA SCIENCE / SECTION 1 / SPRINT 1 / NOTE 4*\n",
        "\n",
        "# 📝 Assignment\n",
        "\n",
        "---"
      ],
      "metadata": {
        "id": "eIGX_69OQ8rv"
      }
    },
    {
      "cell_type": "markdown",
      "source": [
        "# **🌱 기본 과제**"
      ],
      "metadata": {
        "id": "Gk6RocdZc3sv"
      }
    },
    {
      "cell_type": "markdown",
      "source": [
        "## **Part 1. Data Wranling**"
      ],
      "metadata": {
        "id": "JB2fWvl1IPU6"
      }
    },
    {
      "cell_type": "markdown",
      "source": [
        "### **1-1. 데이터 불러오기**\n",
        "- 데이터 프레임을 불러오세요.\n",
        "- `info()`를 통해 데이터의 정보를 확인하세요.\n",
        "- `isnull()`를 통해 데이터에 missing values가 존재하는지 확인하세요. "
      ],
      "metadata": {
        "id": "unXSrJYzIieh"
      }
    },
    {
      "cell_type": "code",
      "source": [
        "# 이곳에 코드를 작성하세요."
      ],
      "metadata": {
        "id": "TYySysBdc-46"
      },
      "execution_count": null,
      "outputs": []
    },
    {
      "cell_type": "markdown",
      "source": [
        "### **1-2. EDA**\n"
      ],
      "metadata": {
        "id": "CdvcuY4MGmoY"
      }
    },
    {
      "cell_type": "markdown",
      "source": [
        "##### **Q1. `Gross` column의 최대값과 75% 사분위값의 차이를 구하세요.**\n",
        "- `.replace()`와 `.astype()`을 활용하여 `Gross` column의 데이터 타입을 `Integer`로 변경하세요. \n",
        "- `.max()` 함수와 `quantile(q=0.75)` 함수를 활용하여 최대값과 75% 사분위값의 차이를 확인하세요.\n",
        "- 두 값의 차는 양수가 나와야 합니다."
      ],
      "metadata": {
        "id": "NcnhNDbPFmeY"
      }
    },
    {
      "cell_type": "code",
      "source": [
        "# 이곳에 코드를 작성하세요."
      ],
      "metadata": {
        "id": "SkIpVeqXGcX4"
      },
      "execution_count": null,
      "outputs": []
    },
    {
      "cell_type": "markdown",
      "source": [
        "##### **Q2. 최대값과 75% 사분위값 사이에 수치적으로 큰 차이가 존재할 때, 무엇을 의심해볼 수 있을까요?**\n",
        "\n",
        "1. 결측치(Missing Values)\n",
        "2. 중복값(Duplicates)\n",
        "3. 이상치(Outliers)\n",
        "4. 정답 없음"
      ],
      "metadata": {
        "id": "TAqRWdkqNyJV"
      }
    },
    {
      "cell_type": "markdown",
      "source": [
        "##### **Q3. `Runtime` column의 평균값을 반올림하여 소수점 둘째 자리까지 구하세요.**\n",
        "- `.extract()`와 `.astype()`을 활용하여 `Runtime` column의 데이터 타입을 `Integer`로 변경하세요. \n",
        "- `Runtime` column의 평균값을 확인하세요. "
      ],
      "metadata": {
        "id": "Jv4gxMeZIv2G"
      }
    },
    {
      "cell_type": "code",
      "source": [
        "# 이곳에 코드를 작성하세요."
      ],
      "metadata": {
        "colab": {
          "base_uri": "https://localhost:8080/"
        },
        "id": "xFU1TJqAI1MJ",
        "outputId": "d9249039-e46c-4cd5-9fe8-889543df46bb"
      },
      "execution_count": null,
      "outputs": [
        {
          "output_type": "execute_result",
          "data": {
            "text/plain": [
              "0      142\n",
              "1      175\n",
              "2      152\n",
              "3      202\n",
              "4       96\n",
              "      ... \n",
              "984    157\n",
              "985    144\n",
              "986     78\n",
              "988     87\n",
              "991    118\n",
              "Name: Runtime, Length: 711, dtype: int64"
            ]
          },
          "metadata": {},
          "execution_count": 21
        }
      ]
    },
    {
      "cell_type": "markdown",
      "source": [
        "##### **Q4. `.drop()`을 사용하여 column을 제거할 때, axis 파라미터는 어떤 값으로 지정해야 할까요?**\n",
        "- 불필요한 `column`인 `Poster_Link`와 `Overview`를 제거하세요. "
      ],
      "metadata": {
        "id": "gULyZSjlQhDk"
      }
    },
    {
      "cell_type": "code",
      "source": [
        "# 이곳에 코드를 작성하세요."
      ],
      "metadata": {
        "id": "nFppnJVBQ56O"
      },
      "execution_count": null,
      "outputs": []
    },
    {
      "cell_type": "markdown",
      "source": [
        "##### **Q5. 아래의 과정을 모두 진행한 후, 해당 데이터셋의 마지막 row의 `Star_Name`를 쓰세요.**\n",
        "- `.melt()` 를 사용하여 데이터의 구조를 아래와 같이 바꾸세요.\n",
        "<img src='https://i.imgur.com/G6DPJMj.png'>\n",
        "\n",
        "  - `.melt()` 함수의 value_vars와 var_name 파라미터를 설정하여 star1, star2, star3, star4를 `Stars` 컬럼에 저장하세요. \n",
        "  - `.melt()` 함수의 value_name 파라미터를 설정하여 star1, star2, star3, star4의 데이터(배우이름)를 `Star_Name` 컬럼에 저장하세요. \n",
        "- `.sort_values` 함수를 활용하여 데이터를 Series_Title, Stars 순으로 정렬하세요.\n",
        "  - 인덱스를 재설정하세요."
      ],
      "metadata": {
        "id": "8YsW6avCRD_S"
      }
    },
    {
      "cell_type": "code",
      "source": [
        "# 이곳에 코드를 작성하세요."
      ],
      "metadata": {
        "id": "GT1nRMHzSo3B"
      },
      "execution_count": null,
      "outputs": []
    },
    {
      "cell_type": "markdown",
      "source": [
        "# **🥇 도전 과제**\n"
      ],
      "metadata": {
        "id": "yYMjJVAac6fg"
      }
    },
    {
      "cell_type": "markdown",
      "source": [
        "여러 데이터셋을 합칠 때에는 `concat`, `merge`, `join` 등의 함수를 활용할 수 있습니다.\n",
        "\n",
        "이번 과제를 통해서는 Toy Data를 활용하여 `concat`, `merge`, `join`의 결과를 직관적으로 살펴보고, 각 함수의 차이점을 파악해\b봅니다. 특히 파라미터를 변경해가며 작동원리를 자세히 살펴보세요.\n",
        "\n"
      ],
      "metadata": {
        "id": "g-6zLQwZX5MO"
      }
    },
    {
      "cell_type": "code",
      "source": [
        "df1 = pd.DataFrame({'a':['a0','a1','a2','a3'],\n",
        "                   'b':['b0','b1','b2','b3'],\n",
        "                   'c':['c0','c1','c2','c3']},\n",
        "                  index = [0,1,2,3])\n",
        "\n",
        "df2 = pd.DataFrame({'a':['a2','a3','a4','a5'],\n",
        "                   'b':['b2','b3','b4','b5'],\n",
        "                   'c':['c2','c3','c4','c5'],\n",
        "                   'd':['d2','d3','d4','d5']},\n",
        "                   index = [2,3,4,5])"
      ],
      "metadata": {
        "id": "z6LkEFlaZmB_"
      },
      "execution_count": null,
      "outputs": []
    },
    {
      "cell_type": "markdown",
      "source": [
        "## **Part 2. concat**\n",
        "- axis 파라미터를 조정하여 열방향으로 두 데이터셋을 합쳐보세요.\n",
        "- axis 파라미터를 조정하여 행방향으로 두 데이터셋을 합쳐보세요."
      ],
      "metadata": {
        "id": "vKXlfiiFchDY"
      }
    },
    {
      "cell_type": "code",
      "source": [
        "# 이곳에 코드를 작성하세요."
      ],
      "metadata": {
        "id": "Z2alNY07ZuVO"
      },
      "execution_count": null,
      "outputs": []
    },
    {
      "cell_type": "markdown",
      "source": [
        "## **Part 3. merge**\n",
        "- `a` column을 기준으로 how 파라미터에 각각 'inner', 'outer', 'left', 'right'를 적용하여 두 데이터셋을 합친 후, 그 차이를 확인해보세요."
      ],
      "metadata": {
        "id": "2WTny2ZacRGP"
      }
    },
    {
      "cell_type": "code",
      "source": [
        "# 이곳에 코드를 작성하세요."
      ],
      "metadata": {
        "id": "nXqM5C6oabCy"
      },
      "execution_count": null,
      "outputs": []
    },
    {
      "cell_type": "markdown",
      "source": [
        "## **Part 4. join**\n",
        "- .join()을 사용하여 다음과 같은 결과물을 만들어보세요.\n",
        "\n",
        "||a\\_x|b\\_x|c\\_x|a\\_y|b\\_y|c\\_y|d|\n",
        "|---|---|---|---|---|---|---|---|\n",
        "|**2**|a2|b2|c2|a2|b2|c2|d2|\n",
        "|**3**|a3|b3|c3|a3|b3|c3|d3|\n",
        "|**4**|NaN|NaN|NaN|a4|b4|c4|d4|\n",
        "|**5**|NaN|NaN|NaN|a5|b5|c5|d5|"
      ],
      "metadata": {
        "id": "wrJcMeVce7jL"
      }
    },
    {
      "cell_type": "code",
      "source": [
        "# 이곳에 코드를 작성하세요."
      ],
      "metadata": {
        "id": "KKXYlERbfPnV"
      },
      "execution_count": null,
      "outputs": []
    }
  ]
}