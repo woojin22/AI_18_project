{
  "nbformat": 4,
  "nbformat_minor": 0,
  "metadata": {
    "colab": {
      "name": "n113a-Data Wrangling(1).ipynb",
      "provenance": [],
      "collapsed_sections": [
        "boXn38ONQZZP",
        "iatrxE1oA3-X",
        "-LCiME2aQnw7",
        "ANi0x_3rQytQ"
      ],
      "include_colab_link": true
    },
    "kernelspec": {
      "name": "python3",
      "display_name": "Python 3"
    },
    "language_info": {
      "name": "python"
    }
  },
  "cells": [
    {
      "cell_type": "markdown",
      "metadata": {
        "id": "view-in-github",
        "colab_type": "text"
      },
      "source": [
        "<a href=\"https://colab.research.google.com/github/codestates/ds-section1-sprint1-new/blob/main/n113%20%26%20114%20-%20Data%20Wrangling/n113a-Data%20Wrangling(1).ipynb\" target=\"_parent\"><img src=\"https://colab.research.google.com/assets/colab-badge.svg\" alt=\"Open In Colab\"/></a>"
      ]
    },
    {
      "cell_type": "markdown",
      "source": [
        "<img src='https://i.imgur.com/RDAD11M.png' width = '200' align = 'right'>\n",
        "\n",
        "## *DATA SCIENCE / SECTION 1 / SPRINT 1 / NOTE 3*\n",
        "\n",
        "---\n",
        "\n",
        "# 📝 Assignment\n",
        "\n"
      ],
      "metadata": {
        "id": "qJQ8up07I297"
      }
    },
    {
      "cell_type": "markdown",
      "source": [
        "# **🌱 기본 과제**"
      ],
      "metadata": {
        "id": "uhz8ftYcJh0h"
      }
    },
    {
      "cell_type": "markdown",
      "source": [
        "**Data Description**\n",
        "\n",
        "- `Poster_Link` : Link of the poster that imdb using\n",
        "- `Series_Title` : Name of the movie\n",
        "- `Released_Year` : Year at which that movie released\n",
        "- `Certificate` : Certificate earned by that movie\n",
        "- `Runtime` : Total runtime of the movie\n",
        "- `Genre` : Genre of the movie\n",
        "- `IMDB_Rating` : Rating of the movie at IMDB site\n",
        "- `Overview` : mini story/ summary\n",
        "- `Meta_score` : Score earned by the movie (0 ~ 100)\n",
        "- `Director` : Name of the Director\n",
        "- `Star1` , `Star2` , `Star3` , `Star4` : Name of the Stars\n",
        "- `Noofvotes` : Total number of votes\n",
        "- `Gross` : Money earned by that movie"
      ],
      "metadata": {
        "id": "FHwYovSfpeht"
      }
    },
    {
      "cell_type": "markdown",
      "source": [
        "## **Part 1. EDA**"
      ],
      "metadata": {
        "id": "Sm2pbBbkCUKN"
      }
    },
    {
      "cell_type": "markdown",
      "source": [
        "### **1-1. 데이터 불러오기**"
      ],
      "metadata": {
        "id": "E8Exn4n9PoV_"
      }
    },
    {
      "cell_type": "code",
      "execution_count": null,
      "metadata": {
        "id": "e-Cvv0dTS49W"
      },
      "outputs": [],
      "source": [
        "# 이곳에 코드를 작성하세요."
      ]
    },
    {
      "cell_type": "markdown",
      "source": [
        "### **1-2. 데이터 탐색**\n",
        "\n",
        "- `.info()` 메서드를 통해 데이터에서 아래의 사안을 확인하세요.\n",
        "  - 데이터셋의 행과 열 크기를 확인합니다.\n",
        "  - 각 column의 데이터 타입이 적절한지 확인합니다.\n",
        "  - 결측치 여부를 확인합니다.\n",
        "\n"
      ],
      "metadata": {
        "id": "T1tZ_EqrPsVj"
      }
    },
    {
      "cell_type": "code",
      "source": [
        "# 이곳에 코드를 작성하세요."
      ],
      "metadata": {
        "id": "WBz3j6wMJRTW"
      },
      "execution_count": null,
      "outputs": []
    },
    {
      "cell_type": "markdown",
      "source": [
        "##### **Q1. `Released_Year` 안에 숫자가 아닌 잘못된 데이터가 총 몇 개인지 쓰세요.**\n",
        "\n",
        "- `Released_Year` column의 데이터타입이 object로 나오는 이유는 숫자가 아닌 문자열이 존재하기 때문입니다.\n",
        "- [`str.contains()`](https://pandas.pydata.org/docs/reference/api/pandas.Series.str.contains.html)를 활용하여 `Released_Year` column 내에 숫자 형태가 아닌 value를 추출해보세요.\n",
        "\n",
        "> 💡 **Tip)** <br>\n",
        "- `.startswith()`\n",
        "- `re.findall()`\n",
        "- `re.search()`\n",
        "- `re.match()` <br>\n",
        "를 활용해볼 수도 있습니다."
      ],
      "metadata": {
        "id": "UqFYSlKsmn6i"
      }
    },
    {
      "cell_type": "code",
      "source": [
        "# 이곳에 코드를 작성하세요."
      ],
      "metadata": {
        "id": "qbKSJf5D6b-d"
      },
      "execution_count": null,
      "outputs": []
    },
    {
      "cell_type": "markdown",
      "source": [
        "##### **Q2. `Released_Year`에서 숫자가 아닌 잘못된 데이터가 들어있는 행을 삭제한 뒤 전체 행의 갯수를 쓰세요.**"
      ],
      "metadata": {
        "id": "MkSUUH80q4Rs"
      }
    },
    {
      "cell_type": "code",
      "source": [
        "# 이곳에 코드를 작성하세요."
      ],
      "metadata": {
        "id": "lSRKCbj4Dsay"
      },
      "execution_count": null,
      "outputs": []
    },
    {
      "cell_type": "markdown",
      "source": [
        "### **1-3. 결측치 확인**\n",
        "\n",
        "- 위의 과정을 모두 거친 데이터 프레임에서, 결측치가 있는 3개의 column에 대해 `.isnull()`을 활용하여 결측치 데이터를 모두 추출하세요. \n",
        "  - 추출한 데이터는 데이터프레임 형태로 반환하도록 합니다.\n",
        "- 해당 결측치를 어떻게 처리하면 좋을지 생각해봅시다."
      ],
      "metadata": {
        "id": "wFFb_3t7ETG_"
      }
    },
    {
      "cell_type": "markdown",
      "source": [
        "##### **Q3. 결측치가 있는 행을 모두 추출하여 만든 데이터프레임의 shape을 쓰세요.**\n",
        "\n"
      ],
      "metadata": {
        "id": "YxAnbCnmkiFs"
      }
    },
    {
      "cell_type": "code",
      "source": [
        "# 이곳에 코드를 작성하세요."
      ],
      "metadata": {
        "id": "6SkFMEs441cP"
      },
      "execution_count": null,
      "outputs": []
    },
    {
      "cell_type": "markdown",
      "source": [
        "### **1-4. 아웃라이어 확인**\n",
        "\n",
        "`Meta_score`의 점수 범위를 살펴보고, 이상치가 존재하는지 판단해봅니다."
      ],
      "metadata": {
        "id": "-CGZU88WG1KV"
      }
    },
    {
      "cell_type": "markdown",
      "source": [
        "##### **Q4. `Meta_score`의 범주 안에 포함되지 않는 데이터를 제거한 후, 통계치를 확인하여 전체 `Meta_score`의 평균이 얼마나 변화했는지 반올림하여 소수점 둘째 자리까지 구하세요.**\n",
        "\n",
        "- `query`를 활용하여 `Meta_score`가 0~100 사이에 있지 않은 데이터를 추출합니다.\n",
        "- (해당 데이터를 제거한 후의 평균값) - (해당 데이터를 제거하기 전의 평균값) 의 결과를 반올림하여 소수점 둘째 자리까지 확인합니다."
      ],
      "metadata": {
        "id": "fLW0U9NqOS4G"
      }
    },
    {
      "cell_type": "code",
      "source": [
        "# 이곳에 코드를 작성하세요."
      ],
      "metadata": {
        "id": "bwJLfC_jO1qS"
      },
      "execution_count": null,
      "outputs": []
    },
    {
      "cell_type": "markdown",
      "source": [
        "### **1-5. 중복값 확인**"
      ],
      "metadata": {
        "id": "IgWiopt-GNMl"
      }
    },
    {
      "cell_type": "markdown",
      "source": [
        "##### **Q5. 중복되는 데이터의 개수를 쓰세요.**"
      ],
      "metadata": {
        "id": "Oobwmx1p411v"
      }
    },
    {
      "cell_type": "code",
      "source": [
        "# 이곳에 코드를 작성하세요."
      ],
      "metadata": {
        "id": "tmeRJTO05Abo"
      },
      "execution_count": null,
      "outputs": []
    },
    {
      "cell_type": "markdown",
      "source": [
        "# **🥇 도전 과제**\n"
      ],
      "metadata": {
        "id": "15GBEHsdJvJP"
      }
    },
    {
      "cell_type": "markdown",
      "source": [
        "##### **`Poster_Link` 피쳐에 형식이 `https://`로 시작하지 않는 데이터를 파악하세요.**"
      ],
      "metadata": {
        "id": "BQlkRMotSZkk"
      }
    },
    {
      "cell_type": "code",
      "source": [
        "# 이곳에 코드를 작성하세요."
      ],
      "metadata": {
        "id": "-u9cuK9-Sp2P"
      },
      "execution_count": null,
      "outputs": []
    },
    {
      "cell_type": "markdown",
      "source": [
        "##### **`Poster_Link`의 모든 데이터가 `https://` 형식이 되도록, 위에서 추출한 오류 데이터에 `https://`를 넣으세요.**"
      ],
      "metadata": {
        "id": "JhtvT2VLV8FH"
      }
    },
    {
      "cell_type": "code",
      "source": [
        "# 이곳에 코드를 작성하세요."
      ],
      "metadata": {
        "id": "CahDAo3ZVwZ4"
      },
      "execution_count": null,
      "outputs": []
    }
  ]
}