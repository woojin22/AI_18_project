{
  "nbformat": 4,
  "nbformat_minor": 0,
  "metadata": {
    "colab": {
      "name": "n112a-EDA(2).ipynb",
      "provenance": []
    },
    "kernelspec": {
      "name": "python3",
      "display_name": "Python 3"
    },
    "language_info": {
      "name": "python"
    }
  },
  "cells": [
    {
      "cell_type": "markdown",
      "source": [
        "<img src='https://i.imgur.com/RDAD11M.png' width = '200' align = 'right'>\n",
        "\n",
        "## *DATA SCIENCE / SECTION 1 / SPRINT 1 / NOTE 2*\n",
        "\n",
        "---\n",
        "\n",
        "# 📝 Assignment"
      ],
      "metadata": {
        "id": "d7JHSVEHCpcC"
      }
    },
    {
      "cell_type": "markdown",
      "source": [
        "# **🌱 기본 과제**"
      ],
      "metadata": {
        "id": "gF3WrEhGTmhd"
      }
    },
    {
      "cell_type": "markdown",
      "source": [
        "## **Part 1. EDA**"
      ],
      "metadata": {
        "id": "0xvc9Qe-BK7r"
      }
    },
    {
      "cell_type": "markdown",
      "source": [
        "### **1-1. 데이터 불러오기**\n",
        "\n",
        "아래의 Tip을 활용하여 Seaborn 라이브러리에 내장되어 있는 Titanic 데이터셋을 불러옵니다.\n",
        "\n",
        "> **💡 Tip**\n",
        "> - import seaborn as sns\n",
        "> - df = sns.[load_dataset](https://seaborn.pydata.org/generated/seaborn.load_dataset.html)(\"titanic\")"
      ],
      "metadata": {
        "id": "WCMfVy_KvArI"
      }
    },
    {
      "cell_type": "code",
      "source": [
        "# 이곳에 코드를 작성하세요."
      ],
      "metadata": {
        "id": "mTg9fjmmvkGi"
      },
      "execution_count": null,
      "outputs": []
    },
    {
      "cell_type": "markdown",
      "source": [
        "### **1-2. 데이터 분석**"
      ],
      "metadata": {
        "id": "PNaoxwlo7Zlv"
      }
    },
    {
      "cell_type": "markdown",
      "source": [
        "##### **Q1. 생존자와 사망자 중 평균 나이가 더 높은 그룹을 쓰세요.**\n",
        "\n",
        "- `Survived` column의 1은 생존자, 0은 사망자를 의미합니다.\n",
        "- **`.groupby()`**를 사용하여 생존 여부별 평균 나이를 구하세요."
      ],
      "metadata": {
        "id": "dRFex4Giv_y3"
      }
    },
    {
      "cell_type": "code",
      "source": [
        "# 이곳에 코드를 작성하세요."
      ],
      "metadata": {
        "id": "2ehTYn1uyCwX"
      },
      "execution_count": null,
      "outputs": []
    },
    {
      "cell_type": "markdown",
      "source": [
        "##### **Q2. 사망자 중 남자의 좌석 등급의 중앙값을 쓰세요.**\n",
        "\n",
        "- **`.groupby()`**와 [`.median()`](https://pandas.pydata.org/docs/reference/api/pandas.DataFrame.median.html)을 사용하여 생존 여부와 성별에 따른 좌석 등급의 중앙값을 구하세요. \n",
        "  - 결과는 데이터프레임 형태로 나타내세요. "
      ],
      "metadata": {
        "id": "Pas8NFIJPynX"
      }
    },
    {
      "cell_type": "code",
      "source": [
        "# 이곳에 코드를 작성하세요."
      ],
      "metadata": {
        "id": "8Iq7-vQB_Psw"
      },
      "execution_count": null,
      "outputs": []
    },
    {
      "cell_type": "markdown",
      "source": [
        "##### **Q3. `young` 그룹의 사망자의 비율을 반올림하여 소숫점 둘째 자리까지 쓰세요.**\n",
        "\n",
        "- **`.query()`**를 사용하여 `age` 컬럼의 데이터를 다음 세 그룹으로 나누어 차례대로 변수 `young`, `middle`, `old`에 저장합니다.\n",
        "  - `young`: 20세 미만 \n",
        "  - `middle`: 20세 이상 60세 미만\n",
        "  - `old`: 60세 이상 \n",
        "\n",
        "- **`.value_counts()`**의 `normalize` 파라미터를 설정하여 각 그룹별 `survived` 데이터 비율을 구하세요. "
      ],
      "metadata": {
        "id": "RQuOB0tgT9qY"
      }
    },
    {
      "cell_type": "code",
      "source": [
        "# 이곳에 코드를 작성하세요."
      ],
      "metadata": {
        "id": "l-GYzFzlZBr4"
      },
      "execution_count": null,
      "outputs": []
    },
    {
      "cell_type": "markdown",
      "source": [
        "### **1-3. 데이터 시각화**"
      ],
      "metadata": {
        "id": "Grlpmrmlzoz2"
      }
    },
    {
      "cell_type": "markdown",
      "source": [
        "##### **Q4. bar 높이가 가장 높은 대상을 쓰세요.**\n",
        "\n",
        "- 생존 여부와 성별에 따른 평균 요금을 bar plot으로 나타냅니다. "
      ],
      "metadata": {
        "id": "wQSbCT43Vep2"
      }
    },
    {
      "cell_type": "code",
      "source": [
        "# 이곳에 코드를 작성하세요."
      ],
      "metadata": {
        "id": "-BEkmGmGdD-R"
      },
      "execution_count": null,
      "outputs": []
    },
    {
      "cell_type": "markdown",
      "source": [
        "# **🥇 도전과제**\n",
        "\n"
      ],
      "metadata": {
        "id": "UoQMe9rpeMuA"
      }
    },
    {
      "cell_type": "markdown",
      "source": [
        "## **Part 2. 시각화**"
      ],
      "metadata": {
        "id": "ZdeDiJh00oIn"
      }
    },
    {
      "cell_type": "markdown",
      "source": [
        "### **2-1. Categorical Variable의 시각화**"
      ],
      "metadata": {
        "id": "wSVuA31CBxO9"
      }
    },
    {
      "cell_type": "markdown",
      "source": [
        "##### **`survived`의 비율을 확인하세요.**\n",
        "\n",
        "- Matplotlib의 [`.pie`](https://matplotlib.org/stable/gallery/pie_and_polar_charts/pie_features.html)를 사용하여 `survived` 컬럼의 비율을 시각화해 봅니다.\n"
      ],
      "metadata": {
        "id": "NhdiCLjbzzt2"
      }
    },
    {
      "cell_type": "code",
      "source": [
        "# 이곳에 코드를 작성하세요."
      ],
      "metadata": {
        "id": "M0Yrv-X0fakd"
      },
      "execution_count": null,
      "outputs": []
    },
    {
      "cell_type": "markdown",
      "source": [
        "##### **pclass의 도수를 확인하세요.**\n",
        "\n",
        "- Seaborn의 [`.countplot()`](https://seaborn.pydata.org/generated/seaborn.countplot.html)을 사용하여 `pclass` 컬럼의 도수를 시각해 봅니다. "
      ],
      "metadata": {
        "id": "eXj4VwAE1QF7"
      }
    },
    {
      "cell_type": "code",
      "source": [
        "# 이곳에 코드를 작성하세요."
      ],
      "metadata": {
        "id": "xxdf_8kJf4qU"
      },
      "execution_count": null,
      "outputs": []
    },
    {
      "cell_type": "markdown",
      "source": [
        "### **2-2. Continuous variables의 시각화**"
      ],
      "metadata": {
        "id": "kUzQgs_8exzR"
      }
    },
    {
      "cell_type": "markdown",
      "source": [
        "##### **Age column을 histogram으로 나타내세요.**\n",
        "\n",
        "- Age column을 histogram으로 나타낼 때, np.arange(0, df.Age.max()+bin_size, bin_size) 에서 bin의 개수가 8이 되도록 bin_size 값을 설정하여 시각화해 보세요."
      ],
      "metadata": {
        "id": "7OpvmPiM2AMQ"
      }
    },
    {
      "cell_type": "code",
      "source": [
        "# 이곳에 코드를 작성하세요."
      ],
      "metadata": {
        "id": "ud_hJW3JfHDX"
      },
      "execution_count": null,
      "outputs": []
    }
  ]
}