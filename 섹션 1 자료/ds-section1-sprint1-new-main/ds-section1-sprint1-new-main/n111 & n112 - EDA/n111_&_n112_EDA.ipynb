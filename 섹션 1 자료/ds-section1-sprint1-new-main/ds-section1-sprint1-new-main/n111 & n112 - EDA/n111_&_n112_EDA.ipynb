{
  "nbformat": 4,
  "nbformat_minor": 0,
  "metadata": {
    "colab": {
      "provenance": [],
      "collapsed_sections": [],
      "include_colab_link": true
    },
    "kernelspec": {
      "name": "python3",
      "display_name": "Python 3"
    },
    "language_info": {
      "name": "python"
    }
  },
  "cells": [
    {
      "cell_type": "markdown",
      "metadata": {
        "id": "view-in-github",
        "colab_type": "text"
      },
      "source": [
        "<a href=\"https://colab.research.google.com/github/codestates/ds-section1-sprint1-new/blob/main/n111%20%26%20n112%20-%20EDA/n111_%26_n112_EDA.ipynb\" target=\"_parent\"><img src=\"https://colab.research.google.com/assets/colab-badge.svg\" alt=\"Open In Colab\"/></a>"
      ]
    },
    {
      "cell_type": "markdown",
      "source": [
        "<img src='https://i.imgur.com/RDAD11M.png' width = '200' align = 'right'>\n",
        "\n",
        "## *DATA SCIENCE / SECTION 1 / SPRINT 1 / NOTE 1*\n",
        "\n",
        "---\n",
        "\n",
        "# \bExploratory Data Analysis\n",
        "\n",
        "## 🏆 학습 목표 \n",
        "- EDA에 대해서 이해한다.\n",
        "- Feature Engineering의 목적을 이해할 수 있다. \n",
        "- Business Insight를 도출할 수 있다.\n",
        "---"
      ],
      "metadata": {
        "id": "4ZPf0nFRBxlH"
      }
    },
    {
      "cell_type": "markdown",
      "source": [
        "# **🍷 Case Study: Wine Data**\n",
        "맛있는 요리를 만들기 위해서 가장 먼저 해야 할 일은, 식재료를 준비하는 일입니다.  \n",
        "재료의 신선도를 확인하고, 다듬는 등의 여러 준비 과정이 필요하죠.  \n",
        "\n",
        "마찬가지로 데이터 분석이라는 요리를 하기 위해서는, 데이터를 이리저리 둘러보며 준비할 필요가 있습니다.  \n",
        "이처럼 데이터를 다양한 각도로 관찰하고 이해하는 과정을 **`EDA`**라고 합니다.  \n",
        "\n",
        "이번 노트를 통해 **`EDA`**를 시행해보고, 그 결과를 Business Insight로 까지 연결시켜 봅시다.\n",
        "\n",
        "<br>\n",
        "\n",
        "Case Study는 아래의 구성으로 이뤄져 있습니다.\n",
        "- **Part 0. Introduction**  \n",
        "  0-1. 기획 배경  \n",
        "  0-2. Data Description  \n",
        "\n",
        "- **Part 1. Gathering Data**  \n",
        "\n",
        "- **Part 2. EDA**  \n",
        "  2-1. Pandas 메서드로 보는 간단한 탐색  \n",
        "  2-2. Feature Engineering  \n",
        "  2-3. 통계값 및 시각화 활용  \n",
        "\n",
        "- **Part 3. Business Insight**\n",
        "- **Part 4. Conclusion**  "
      ],
      "metadata": {
        "id": "I8aWMDpC9ScY"
      }
    },
    {
      "cell_type": "markdown",
      "source": [
        "# **Part 0. Introduction**\n",
        "\n",
        "<img width='500' src='https://i.imgur.com/PTHXXaZ.png'>"
      ],
      "metadata": {
        "id": "EtHo-VP6iZX8"
      }
    },
    {
      "cell_type": "markdown",
      "source": [
        "## **0-1. 기획 배경**\n",
        "*'음식은 과학이다 '* 라는 말이 있듯이, 와인은 다양한 성분 배합의 결과물입니다.  \n",
        "화학적 요소들이 어떻게 조합되느냐에 따라 와인의 quality는 달라질 것입니다.  \n",
        "\n",
        "그렇다면 **`높은 quality의 와인은 어떤 화학적 특징을 가지고 있을까요?`**  \n",
        "이번 Case Study를 통해, 와인 quality에 영향을 미치는 성분들을 살펴봅시다."
      ],
      "metadata": {
        "id": "Hfk4o-rp3bq9"
      }
    },
    {
      "cell_type": "markdown",
      "source": [
        "## **0-2. Data Description**\n",
        "Red Wine과 White Wine, 2개의 DataSet을 이용하도록 합시다.  \n",
        "각 DataSet에는, 와인을 구성하는 11개의 화학 성분과 quality 정보가 담겨 있습니다.  \n",
        "\n",
        "우리는 이 데이터를 통해 **다양한 와인의 성분과 등급 사이의 관계를 알아보려고 합니다.**   \n",
        "아래의 데이터 description을 살펴보고, 데이터를 통해 어떤 business questions을 도출할 수 있을지 생각해 봅시다.\n",
        "<br>\n",
        "\n",
        "`Independent Variables:`\n",
        "- fixed_acidity (결합산) : 와인의 산도를 제어한다.\n",
        "- volatile_acidity (휘발산) : 와인의 향과 연관된다. \n",
        "- citric_acid (구연산) : 와인의 산도를 높이기 위해 사용되며, 신선함을 올려주는 역할을 한다. \n",
        "- residual_sugar (잔여 설탕) : 와인의 단맛을 올려준다.\n",
        "- chlorides (염화나트륨) : 농도에 따라 와인에 짠맛을 주며, 신맛을 좌우한다. \n",
        "- free_sulfur_dioxide (유리 아황산) : 이스트 발효의 부산물이다. 항산화제로 산화 방지, 살균 작용, 갈변 방지 등을 한다. \n",
        "- total_sulfur_dioxide (총 아황산) : 와인을 오래 보관하는 역할이며, 향과 연관된다.  \n",
        "- density (밀도) : 바디의 높고 낮음을 표현하는 와인의 무게감을 의미한다. \n",
        "- pH (산성도) : 와인의 신맛의 정도를 나타낸다. \n",
        "- sulphates (황산염) : 와인의 향을 보존시킨다. \n",
        "- alcohol (알코올) : 와인의 바디감에 영향을 미친다. 단맛과 산성의 균형을 유지하도록 돕는다. \n",
        "\n",
        "`Dependent Variable:`\n",
        "- quality : 와인 등급으로 0~10 사이의 값(정수)을 갖는다. "
      ],
      "metadata": {
        "id": "KcLowDwOCifq"
      }
    },
    {
      "cell_type": "markdown",
      "source": [
        "# **Part 1. Gathering Data**\n",
        "EDA를 시행하기 위해서는, 무엇보다도 먼저 데이터를 불러와야 합니다!\n",
        "\n",
        "데이터를 불러오는 방법은 다양합니다!  \n",
        "URL을 통해 데이터를 불러올 수도 있고, 로컬 파일을 직접 업로드 할 수도 있죠.\n",
        "\n",
        "이번 노트에서는 Pandas 라이브러리의 **`.read_csv()`** 메서드를 활용해 봅시다.  "
      ],
      "metadata": {
        "id": "_OLPcd5w4TGD"
      }
    },
    {
      "cell_type": "code",
      "source": [
        "import pandas as pd\n",
        "import numpy as np\n",
        "import matplotlib.pyplot as plt"
      ],
      "metadata": {
        "id": "frrBHvQnbjcr"
      },
      "execution_count": null,
      "outputs": []
    },
    {
      "cell_type": "code",
      "source": [
        "# 데이터 업로드\n",
        "from google.colab import files\n",
        "uploaded = files.upload()"
      ],
      "metadata": {
        "colab": {
          "base_uri": "https://localhost:8080/"
        },
        "id": "yXDm_9KqwmeP",
        "outputId": "cf979a28-34d8-455d-bb86-5f00a86b93fc"
      },
      "execution_count": null,
      "outputs": [
        {
          "data": {
            "text/html": [
              "\n",
              "     <input type=\"file\" id=\"files-3f6f8b94-b6f0-4d55-bf01-09cb11bb53c9\" name=\"files[]\" multiple disabled\n",
              "        style=\"border:none\" />\n",
              "     <output id=\"result-3f6f8b94-b6f0-4d55-bf01-09cb11bb53c9\">\n",
              "      Upload widget is only available when the cell has been executed in the\n",
              "      current browser session. Please rerun this cell to enable.\n",
              "      </output>\n",
              "      <script src=\"/nbextensions/google.colab/files.js\"></script> "
            ],
            "text/plain": [
              "<IPython.core.display.HTML object>"
            ]
          },
          "metadata": {},
          "output_type": "display_data"
        }
      ]
    },
    {
      "cell_type": "code",
      "source": [
        "# .read_csv() 활용하여 데이터 불러오기\n",
        "df_red = pd.read_csv('winequality-red.csv')\n",
        "df_red.head()"
      ],
      "metadata": {
        "colab": {
          "base_uri": "https://localhost:8080/",
          "height": 206
        },
        "id": "xXIeNpdrxBoS",
        "outputId": "3185f4e1-18ec-4acb-b504-bf663269942f"
      },
      "execution_count": null,
      "outputs": [
        {
          "output_type": "execute_result",
          "data": {
            "text/html": [
              "\n",
              "  <div id=\"df-58e65d5d-5bf3-42e2-a6ba-275ba66a8f9e\">\n",
              "    <div class=\"colab-df-container\">\n",
              "      <div>\n",
              "<style scoped>\n",
              "    .dataframe tbody tr th:only-of-type {\n",
              "        vertical-align: middle;\n",
              "    }\n",
              "\n",
              "    .dataframe tbody tr th {\n",
              "        vertical-align: top;\n",
              "    }\n",
              "\n",
              "    .dataframe thead th {\n",
              "        text-align: right;\n",
              "    }\n",
              "</style>\n",
              "<table border=\"1\" class=\"dataframe\">\n",
              "  <thead>\n",
              "    <tr style=\"text-align: right;\">\n",
              "      <th></th>\n",
              "      <th>fixed_acidity;volatile_acidity;citric_acid;residual_sugar;chlorides;free_sulfur_dioxide;total_sulfur-dioxide;density;pH;sulphates;alcohol;quality</th>\n",
              "    </tr>\n",
              "  </thead>\n",
              "  <tbody>\n",
              "    <tr>\n",
              "      <th>0</th>\n",
              "      <td>7.4;0.7;0;1.9;0.076;11;34;0.9978;3.51;0.56;9.4;5</td>\n",
              "    </tr>\n",
              "    <tr>\n",
              "      <th>1</th>\n",
              "      <td>7.8;0.88;0;2.6;0.098;25;67;0.9968;3.2;0.68;9.8;5</td>\n",
              "    </tr>\n",
              "    <tr>\n",
              "      <th>2</th>\n",
              "      <td>7.8;0.76;0.04;2.3;0.092;15;54;0.997;3.26;0.65;...</td>\n",
              "    </tr>\n",
              "    <tr>\n",
              "      <th>3</th>\n",
              "      <td>11.2;0.28;0.56;1.9;0.075;17;60;0.998;3.16;0.58...</td>\n",
              "    </tr>\n",
              "    <tr>\n",
              "      <th>4</th>\n",
              "      <td>7.4;0.7;0;1.9;0.076;11;34;0.9978;3.51;0.56;9.4;5</td>\n",
              "    </tr>\n",
              "  </tbody>\n",
              "</table>\n",
              "</div>\n",
              "      <button class=\"colab-df-convert\" onclick=\"convertToInteractive('df-58e65d5d-5bf3-42e2-a6ba-275ba66a8f9e')\"\n",
              "              title=\"Convert this dataframe to an interactive table.\"\n",
              "              style=\"display:none;\">\n",
              "        \n",
              "  <svg xmlns=\"http://www.w3.org/2000/svg\" height=\"24px\"viewBox=\"0 0 24 24\"\n",
              "       width=\"24px\">\n",
              "    <path d=\"M0 0h24v24H0V0z\" fill=\"none\"/>\n",
              "    <path d=\"M18.56 5.44l.94 2.06.94-2.06 2.06-.94-2.06-.94-.94-2.06-.94 2.06-2.06.94zm-11 1L8.5 8.5l.94-2.06 2.06-.94-2.06-.94L8.5 2.5l-.94 2.06-2.06.94zm10 10l.94 2.06.94-2.06 2.06-.94-2.06-.94-.94-2.06-.94 2.06-2.06.94z\"/><path d=\"M17.41 7.96l-1.37-1.37c-.4-.4-.92-.59-1.43-.59-.52 0-1.04.2-1.43.59L10.3 9.45l-7.72 7.72c-.78.78-.78 2.05 0 2.83L4 21.41c.39.39.9.59 1.41.59.51 0 1.02-.2 1.41-.59l7.78-7.78 2.81-2.81c.8-.78.8-2.07 0-2.86zM5.41 20L4 18.59l7.72-7.72 1.47 1.35L5.41 20z\"/>\n",
              "  </svg>\n",
              "      </button>\n",
              "      \n",
              "  <style>\n",
              "    .colab-df-container {\n",
              "      display:flex;\n",
              "      flex-wrap:wrap;\n",
              "      gap: 12px;\n",
              "    }\n",
              "\n",
              "    .colab-df-convert {\n",
              "      background-color: #E8F0FE;\n",
              "      border: none;\n",
              "      border-radius: 50%;\n",
              "      cursor: pointer;\n",
              "      display: none;\n",
              "      fill: #1967D2;\n",
              "      height: 32px;\n",
              "      padding: 0 0 0 0;\n",
              "      width: 32px;\n",
              "    }\n",
              "\n",
              "    .colab-df-convert:hover {\n",
              "      background-color: #E2EBFA;\n",
              "      box-shadow: 0px 1px 2px rgba(60, 64, 67, 0.3), 0px 1px 3px 1px rgba(60, 64, 67, 0.15);\n",
              "      fill: #174EA6;\n",
              "    }\n",
              "\n",
              "    [theme=dark] .colab-df-convert {\n",
              "      background-color: #3B4455;\n",
              "      fill: #D2E3FC;\n",
              "    }\n",
              "\n",
              "    [theme=dark] .colab-df-convert:hover {\n",
              "      background-color: #434B5C;\n",
              "      box-shadow: 0px 1px 3px 1px rgba(0, 0, 0, 0.15);\n",
              "      filter: drop-shadow(0px 1px 2px rgba(0, 0, 0, 0.3));\n",
              "      fill: #FFFFFF;\n",
              "    }\n",
              "  </style>\n",
              "\n",
              "      <script>\n",
              "        const buttonEl =\n",
              "          document.querySelector('#df-58e65d5d-5bf3-42e2-a6ba-275ba66a8f9e button.colab-df-convert');\n",
              "        buttonEl.style.display =\n",
              "          google.colab.kernel.accessAllowed ? 'block' : 'none';\n",
              "\n",
              "        async function convertToInteractive(key) {\n",
              "          const element = document.querySelector('#df-58e65d5d-5bf3-42e2-a6ba-275ba66a8f9e');\n",
              "          const dataTable =\n",
              "            await google.colab.kernel.invokeFunction('convertToInteractive',\n",
              "                                                     [key], {});\n",
              "          if (!dataTable) return;\n",
              "\n",
              "          const docLinkHtml = 'Like what you see? Visit the ' +\n",
              "            '<a target=\"_blank\" href=https://colab.research.google.com/notebooks/data_table.ipynb>data table notebook</a>'\n",
              "            + ' to learn more about interactive tables.';\n",
              "          element.innerHTML = '';\n",
              "          dataTable['output_type'] = 'display_data';\n",
              "          await google.colab.output.renderOutput(dataTable, element);\n",
              "          const docLink = document.createElement('div');\n",
              "          docLink.innerHTML = docLinkHtml;\n",
              "          element.appendChild(docLink);\n",
              "        }\n",
              "      </script>\n",
              "    </div>\n",
              "  </div>\n",
              "  "
            ],
            "text/plain": [
              "  fixed_acidity;volatile_acidity;citric_acid;residual_sugar;chlorides;free_sulfur_dioxide;total_sulfur-dioxide;density;pH;sulphates;alcohol;quality\n",
              "0   7.4;0.7;0;1.9;0.076;11;34;0.9978;3.51;0.56;9.4;5                                                                                               \n",
              "1   7.8;0.88;0;2.6;0.098;25;67;0.9968;3.2;0.68;9.8;5                                                                                               \n",
              "2  7.8;0.76;0.04;2.3;0.092;15;54;0.997;3.26;0.65;...                                                                                               \n",
              "3  11.2;0.28;0.56;1.9;0.075;17;60;0.998;3.16;0.58...                                                                                               \n",
              "4   7.4;0.7;0;1.9;0.076;11;34;0.9978;3.51;0.56;9.4;5                                                                                               "
            ]
          },
          "metadata": {},
          "execution_count": 3
        }
      ]
    },
    {
      "cell_type": "markdown",
      "source": [
        "> **💡 Tip**  \n",
        "**`csv`**는 *Comma Separated Value*의 약자로, 데이터가 **`,(콤마)`** 로 구분되어 있는 파일을 의미합니다.  \n",
        "따라서 **`.read_csv()`** 메서드는 콤마로 구분된 데이터를 불러오는 방법입니다.  \n",
        "<br>\n",
        "만약 위와 같이, **콤마가 아닌 다른 값으로 구분되어 있는 데이터는 어떻게 불러와야 할까요?**"
      ],
      "metadata": {
        "id": "5Av9J2fK6DMW"
      }
    },
    {
      "cell_type": "code",
      "source": [
        "# sep=';' 파라미터 지정\n",
        "df_red = pd.read_csv('winequality-red.csv', sep=';')\n",
        "df_red.head()"
      ],
      "metadata": {
        "colab": {
          "base_uri": "https://localhost:8080/",
          "height": 206
        },
        "id": "N3H5FLSGyPFK",
        "outputId": "a4e7b0f6-01f2-4b1b-c3f9-4af4a0433667"
      },
      "execution_count": null,
      "outputs": [
        {
          "output_type": "execute_result",
          "data": {
            "text/html": [
              "\n",
              "  <div id=\"df-62181843-e92d-449a-9d2b-757b22490a2e\">\n",
              "    <div class=\"colab-df-container\">\n",
              "      <div>\n",
              "<style scoped>\n",
              "    .dataframe tbody tr th:only-of-type {\n",
              "        vertical-align: middle;\n",
              "    }\n",
              "\n",
              "    .dataframe tbody tr th {\n",
              "        vertical-align: top;\n",
              "    }\n",
              "\n",
              "    .dataframe thead th {\n",
              "        text-align: right;\n",
              "    }\n",
              "</style>\n",
              "<table border=\"1\" class=\"dataframe\">\n",
              "  <thead>\n",
              "    <tr style=\"text-align: right;\">\n",
              "      <th></th>\n",
              "      <th>fixed_acidity</th>\n",
              "      <th>volatile_acidity</th>\n",
              "      <th>citric_acid</th>\n",
              "      <th>residual_sugar</th>\n",
              "      <th>chlorides</th>\n",
              "      <th>free_sulfur_dioxide</th>\n",
              "      <th>total_sulfur-dioxide</th>\n",
              "      <th>density</th>\n",
              "      <th>pH</th>\n",
              "      <th>sulphates</th>\n",
              "      <th>alcohol</th>\n",
              "      <th>quality</th>\n",
              "    </tr>\n",
              "  </thead>\n",
              "  <tbody>\n",
              "    <tr>\n",
              "      <th>0</th>\n",
              "      <td>7.4</td>\n",
              "      <td>0.70</td>\n",
              "      <td>0.00</td>\n",
              "      <td>1.9</td>\n",
              "      <td>0.076</td>\n",
              "      <td>11.0</td>\n",
              "      <td>34.0</td>\n",
              "      <td>0.9978</td>\n",
              "      <td>3.51</td>\n",
              "      <td>0.56</td>\n",
              "      <td>9.4</td>\n",
              "      <td>5</td>\n",
              "    </tr>\n",
              "    <tr>\n",
              "      <th>1</th>\n",
              "      <td>7.8</td>\n",
              "      <td>0.88</td>\n",
              "      <td>0.00</td>\n",
              "      <td>2.6</td>\n",
              "      <td>0.098</td>\n",
              "      <td>25.0</td>\n",
              "      <td>67.0</td>\n",
              "      <td>0.9968</td>\n",
              "      <td>3.20</td>\n",
              "      <td>0.68</td>\n",
              "      <td>9.8</td>\n",
              "      <td>5</td>\n",
              "    </tr>\n",
              "    <tr>\n",
              "      <th>2</th>\n",
              "      <td>7.8</td>\n",
              "      <td>0.76</td>\n",
              "      <td>0.04</td>\n",
              "      <td>2.3</td>\n",
              "      <td>0.092</td>\n",
              "      <td>15.0</td>\n",
              "      <td>54.0</td>\n",
              "      <td>0.9970</td>\n",
              "      <td>3.26</td>\n",
              "      <td>0.65</td>\n",
              "      <td>9.8</td>\n",
              "      <td>5</td>\n",
              "    </tr>\n",
              "    <tr>\n",
              "      <th>3</th>\n",
              "      <td>11.2</td>\n",
              "      <td>0.28</td>\n",
              "      <td>0.56</td>\n",
              "      <td>1.9</td>\n",
              "      <td>0.075</td>\n",
              "      <td>17.0</td>\n",
              "      <td>60.0</td>\n",
              "      <td>0.9980</td>\n",
              "      <td>3.16</td>\n",
              "      <td>0.58</td>\n",
              "      <td>9.8</td>\n",
              "      <td>6</td>\n",
              "    </tr>\n",
              "    <tr>\n",
              "      <th>4</th>\n",
              "      <td>7.4</td>\n",
              "      <td>0.70</td>\n",
              "      <td>0.00</td>\n",
              "      <td>1.9</td>\n",
              "      <td>0.076</td>\n",
              "      <td>11.0</td>\n",
              "      <td>34.0</td>\n",
              "      <td>0.9978</td>\n",
              "      <td>3.51</td>\n",
              "      <td>0.56</td>\n",
              "      <td>9.4</td>\n",
              "      <td>5</td>\n",
              "    </tr>\n",
              "  </tbody>\n",
              "</table>\n",
              "</div>\n",
              "      <button class=\"colab-df-convert\" onclick=\"convertToInteractive('df-62181843-e92d-449a-9d2b-757b22490a2e')\"\n",
              "              title=\"Convert this dataframe to an interactive table.\"\n",
              "              style=\"display:none;\">\n",
              "        \n",
              "  <svg xmlns=\"http://www.w3.org/2000/svg\" height=\"24px\"viewBox=\"0 0 24 24\"\n",
              "       width=\"24px\">\n",
              "    <path d=\"M0 0h24v24H0V0z\" fill=\"none\"/>\n",
              "    <path d=\"M18.56 5.44l.94 2.06.94-2.06 2.06-.94-2.06-.94-.94-2.06-.94 2.06-2.06.94zm-11 1L8.5 8.5l.94-2.06 2.06-.94-2.06-.94L8.5 2.5l-.94 2.06-2.06.94zm10 10l.94 2.06.94-2.06 2.06-.94-2.06-.94-.94-2.06-.94 2.06-2.06.94z\"/><path d=\"M17.41 7.96l-1.37-1.37c-.4-.4-.92-.59-1.43-.59-.52 0-1.04.2-1.43.59L10.3 9.45l-7.72 7.72c-.78.78-.78 2.05 0 2.83L4 21.41c.39.39.9.59 1.41.59.51 0 1.02-.2 1.41-.59l7.78-7.78 2.81-2.81c.8-.78.8-2.07 0-2.86zM5.41 20L4 18.59l7.72-7.72 1.47 1.35L5.41 20z\"/>\n",
              "  </svg>\n",
              "      </button>\n",
              "      \n",
              "  <style>\n",
              "    .colab-df-container {\n",
              "      display:flex;\n",
              "      flex-wrap:wrap;\n",
              "      gap: 12px;\n",
              "    }\n",
              "\n",
              "    .colab-df-convert {\n",
              "      background-color: #E8F0FE;\n",
              "      border: none;\n",
              "      border-radius: 50%;\n",
              "      cursor: pointer;\n",
              "      display: none;\n",
              "      fill: #1967D2;\n",
              "      height: 32px;\n",
              "      padding: 0 0 0 0;\n",
              "      width: 32px;\n",
              "    }\n",
              "\n",
              "    .colab-df-convert:hover {\n",
              "      background-color: #E2EBFA;\n",
              "      box-shadow: 0px 1px 2px rgba(60, 64, 67, 0.3), 0px 1px 3px 1px rgba(60, 64, 67, 0.15);\n",
              "      fill: #174EA6;\n",
              "    }\n",
              "\n",
              "    [theme=dark] .colab-df-convert {\n",
              "      background-color: #3B4455;\n",
              "      fill: #D2E3FC;\n",
              "    }\n",
              "\n",
              "    [theme=dark] .colab-df-convert:hover {\n",
              "      background-color: #434B5C;\n",
              "      box-shadow: 0px 1px 3px 1px rgba(0, 0, 0, 0.15);\n",
              "      filter: drop-shadow(0px 1px 2px rgba(0, 0, 0, 0.3));\n",
              "      fill: #FFFFFF;\n",
              "    }\n",
              "  </style>\n",
              "\n",
              "      <script>\n",
              "        const buttonEl =\n",
              "          document.querySelector('#df-62181843-e92d-449a-9d2b-757b22490a2e button.colab-df-convert');\n",
              "        buttonEl.style.display =\n",
              "          google.colab.kernel.accessAllowed ? 'block' : 'none';\n",
              "\n",
              "        async function convertToInteractive(key) {\n",
              "          const element = document.querySelector('#df-62181843-e92d-449a-9d2b-757b22490a2e');\n",
              "          const dataTable =\n",
              "            await google.colab.kernel.invokeFunction('convertToInteractive',\n",
              "                                                     [key], {});\n",
              "          if (!dataTable) return;\n",
              "\n",
              "          const docLinkHtml = 'Like what you see? Visit the ' +\n",
              "            '<a target=\"_blank\" href=https://colab.research.google.com/notebooks/data_table.ipynb>data table notebook</a>'\n",
              "            + ' to learn more about interactive tables.';\n",
              "          element.innerHTML = '';\n",
              "          dataTable['output_type'] = 'display_data';\n",
              "          await google.colab.output.renderOutput(dataTable, element);\n",
              "          const docLink = document.createElement('div');\n",
              "          docLink.innerHTML = docLinkHtml;\n",
              "          element.appendChild(docLink);\n",
              "        }\n",
              "      </script>\n",
              "    </div>\n",
              "  </div>\n",
              "  "
            ],
            "text/plain": [
              "   fixed_acidity  volatile_acidity  citric_acid  ...  sulphates  alcohol  quality\n",
              "0            7.4              0.70         0.00  ...       0.56      9.4        5\n",
              "1            7.8              0.88         0.00  ...       0.68      9.8        5\n",
              "2            7.8              0.76         0.04  ...       0.65      9.8        5\n",
              "3           11.2              0.28         0.56  ...       0.58      9.8        6\n",
              "4            7.4              0.70         0.00  ...       0.56      9.4        5\n",
              "\n",
              "[5 rows x 12 columns]"
            ]
          },
          "metadata": {},
          "execution_count": 4
        }
      ]
    },
    {
      "cell_type": "code",
      "source": [
        "# sep=';' 파라미터 지정\n",
        "df_white = pd.read_csv('winequality-white.csv', sep=';')\n",
        "df_white.head()"
      ],
      "metadata": {
        "colab": {
          "base_uri": "https://localhost:8080/",
          "height": 206
        },
        "id": "sJVKEwUwH0bb",
        "outputId": "b58d9f54-e990-41d4-9457-84f70d445f01"
      },
      "execution_count": null,
      "outputs": [
        {
          "output_type": "execute_result",
          "data": {
            "text/html": [
              "\n",
              "  <div id=\"df-322c01eb-4971-4156-b667-1a283bd4b773\">\n",
              "    <div class=\"colab-df-container\">\n",
              "      <div>\n",
              "<style scoped>\n",
              "    .dataframe tbody tr th:only-of-type {\n",
              "        vertical-align: middle;\n",
              "    }\n",
              "\n",
              "    .dataframe tbody tr th {\n",
              "        vertical-align: top;\n",
              "    }\n",
              "\n",
              "    .dataframe thead th {\n",
              "        text-align: right;\n",
              "    }\n",
              "</style>\n",
              "<table border=\"1\" class=\"dataframe\">\n",
              "  <thead>\n",
              "    <tr style=\"text-align: right;\">\n",
              "      <th></th>\n",
              "      <th>fixed_acidity</th>\n",
              "      <th>volatile_acidity</th>\n",
              "      <th>citric_acid</th>\n",
              "      <th>residual_sugar</th>\n",
              "      <th>chlorides</th>\n",
              "      <th>free_sulfur_dioxide</th>\n",
              "      <th>total_sulfur_dioxide</th>\n",
              "      <th>density</th>\n",
              "      <th>pH</th>\n",
              "      <th>sulphates</th>\n",
              "      <th>alcohol</th>\n",
              "      <th>quality</th>\n",
              "    </tr>\n",
              "  </thead>\n",
              "  <tbody>\n",
              "    <tr>\n",
              "      <th>0</th>\n",
              "      <td>7.0</td>\n",
              "      <td>0.27</td>\n",
              "      <td>0.36</td>\n",
              "      <td>20.7</td>\n",
              "      <td>0.045</td>\n",
              "      <td>45.0</td>\n",
              "      <td>170.0</td>\n",
              "      <td>1.0010</td>\n",
              "      <td>3.00</td>\n",
              "      <td>0.45</td>\n",
              "      <td>8.8</td>\n",
              "      <td>6</td>\n",
              "    </tr>\n",
              "    <tr>\n",
              "      <th>1</th>\n",
              "      <td>6.3</td>\n",
              "      <td>0.30</td>\n",
              "      <td>0.34</td>\n",
              "      <td>1.6</td>\n",
              "      <td>0.049</td>\n",
              "      <td>14.0</td>\n",
              "      <td>132.0</td>\n",
              "      <td>0.9940</td>\n",
              "      <td>3.30</td>\n",
              "      <td>0.49</td>\n",
              "      <td>9.5</td>\n",
              "      <td>6</td>\n",
              "    </tr>\n",
              "    <tr>\n",
              "      <th>2</th>\n",
              "      <td>8.1</td>\n",
              "      <td>0.28</td>\n",
              "      <td>0.40</td>\n",
              "      <td>6.9</td>\n",
              "      <td>0.050</td>\n",
              "      <td>30.0</td>\n",
              "      <td>97.0</td>\n",
              "      <td>0.9951</td>\n",
              "      <td>3.26</td>\n",
              "      <td>0.44</td>\n",
              "      <td>10.1</td>\n",
              "      <td>6</td>\n",
              "    </tr>\n",
              "    <tr>\n",
              "      <th>3</th>\n",
              "      <td>7.2</td>\n",
              "      <td>0.23</td>\n",
              "      <td>0.32</td>\n",
              "      <td>8.5</td>\n",
              "      <td>0.058</td>\n",
              "      <td>47.0</td>\n",
              "      <td>186.0</td>\n",
              "      <td>0.9956</td>\n",
              "      <td>3.19</td>\n",
              "      <td>0.40</td>\n",
              "      <td>9.9</td>\n",
              "      <td>6</td>\n",
              "    </tr>\n",
              "    <tr>\n",
              "      <th>4</th>\n",
              "      <td>7.2</td>\n",
              "      <td>0.23</td>\n",
              "      <td>0.32</td>\n",
              "      <td>8.5</td>\n",
              "      <td>0.058</td>\n",
              "      <td>47.0</td>\n",
              "      <td>186.0</td>\n",
              "      <td>0.9956</td>\n",
              "      <td>3.19</td>\n",
              "      <td>0.40</td>\n",
              "      <td>9.9</td>\n",
              "      <td>6</td>\n",
              "    </tr>\n",
              "  </tbody>\n",
              "</table>\n",
              "</div>\n",
              "      <button class=\"colab-df-convert\" onclick=\"convertToInteractive('df-322c01eb-4971-4156-b667-1a283bd4b773')\"\n",
              "              title=\"Convert this dataframe to an interactive table.\"\n",
              "              style=\"display:none;\">\n",
              "        \n",
              "  <svg xmlns=\"http://www.w3.org/2000/svg\" height=\"24px\"viewBox=\"0 0 24 24\"\n",
              "       width=\"24px\">\n",
              "    <path d=\"M0 0h24v24H0V0z\" fill=\"none\"/>\n",
              "    <path d=\"M18.56 5.44l.94 2.06.94-2.06 2.06-.94-2.06-.94-.94-2.06-.94 2.06-2.06.94zm-11 1L8.5 8.5l.94-2.06 2.06-.94-2.06-.94L8.5 2.5l-.94 2.06-2.06.94zm10 10l.94 2.06.94-2.06 2.06-.94-2.06-.94-.94-2.06-.94 2.06-2.06.94z\"/><path d=\"M17.41 7.96l-1.37-1.37c-.4-.4-.92-.59-1.43-.59-.52 0-1.04.2-1.43.59L10.3 9.45l-7.72 7.72c-.78.78-.78 2.05 0 2.83L4 21.41c.39.39.9.59 1.41.59.51 0 1.02-.2 1.41-.59l7.78-7.78 2.81-2.81c.8-.78.8-2.07 0-2.86zM5.41 20L4 18.59l7.72-7.72 1.47 1.35L5.41 20z\"/>\n",
              "  </svg>\n",
              "      </button>\n",
              "      \n",
              "  <style>\n",
              "    .colab-df-container {\n",
              "      display:flex;\n",
              "      flex-wrap:wrap;\n",
              "      gap: 12px;\n",
              "    }\n",
              "\n",
              "    .colab-df-convert {\n",
              "      background-color: #E8F0FE;\n",
              "      border: none;\n",
              "      border-radius: 50%;\n",
              "      cursor: pointer;\n",
              "      display: none;\n",
              "      fill: #1967D2;\n",
              "      height: 32px;\n",
              "      padding: 0 0 0 0;\n",
              "      width: 32px;\n",
              "    }\n",
              "\n",
              "    .colab-df-convert:hover {\n",
              "      background-color: #E2EBFA;\n",
              "      box-shadow: 0px 1px 2px rgba(60, 64, 67, 0.3), 0px 1px 3px 1px rgba(60, 64, 67, 0.15);\n",
              "      fill: #174EA6;\n",
              "    }\n",
              "\n",
              "    [theme=dark] .colab-df-convert {\n",
              "      background-color: #3B4455;\n",
              "      fill: #D2E3FC;\n",
              "    }\n",
              "\n",
              "    [theme=dark] .colab-df-convert:hover {\n",
              "      background-color: #434B5C;\n",
              "      box-shadow: 0px 1px 3px 1px rgba(0, 0, 0, 0.15);\n",
              "      filter: drop-shadow(0px 1px 2px rgba(0, 0, 0, 0.3));\n",
              "      fill: #FFFFFF;\n",
              "    }\n",
              "  </style>\n",
              "\n",
              "      <script>\n",
              "        const buttonEl =\n",
              "          document.querySelector('#df-322c01eb-4971-4156-b667-1a283bd4b773 button.colab-df-convert');\n",
              "        buttonEl.style.display =\n",
              "          google.colab.kernel.accessAllowed ? 'block' : 'none';\n",
              "\n",
              "        async function convertToInteractive(key) {\n",
              "          const element = document.querySelector('#df-322c01eb-4971-4156-b667-1a283bd4b773');\n",
              "          const dataTable =\n",
              "            await google.colab.kernel.invokeFunction('convertToInteractive',\n",
              "                                                     [key], {});\n",
              "          if (!dataTable) return;\n",
              "\n",
              "          const docLinkHtml = 'Like what you see? Visit the ' +\n",
              "            '<a target=\"_blank\" href=https://colab.research.google.com/notebooks/data_table.ipynb>data table notebook</a>'\n",
              "            + ' to learn more about interactive tables.';\n",
              "          element.innerHTML = '';\n",
              "          dataTable['output_type'] = 'display_data';\n",
              "          await google.colab.output.renderOutput(dataTable, element);\n",
              "          const docLink = document.createElement('div');\n",
              "          docLink.innerHTML = docLinkHtml;\n",
              "          element.appendChild(docLink);\n",
              "        }\n",
              "      </script>\n",
              "    </div>\n",
              "  </div>\n",
              "  "
            ],
            "text/plain": [
              "   fixed_acidity  volatile_acidity  citric_acid  ...  sulphates  alcohol  quality\n",
              "0            7.0              0.27         0.36  ...       0.45      8.8        6\n",
              "1            6.3              0.30         0.34  ...       0.49      9.5        6\n",
              "2            8.1              0.28         0.40  ...       0.44     10.1        6\n",
              "3            7.2              0.23         0.32  ...       0.40      9.9        6\n",
              "4            7.2              0.23         0.32  ...       0.40      9.9        6\n",
              "\n",
              "[5 rows x 12 columns]"
            ]
          },
          "metadata": {},
          "execution_count": 5
        }
      ]
    },
    {
      "cell_type": "markdown",
      "source": [
        "> **💡 Tip**  \n",
        "데이터가 콤마가 아닌 다른 값으로 구분되어 있는 경우, **`sep` 파라미터를 지정**해야 합니다.  \n",
        "위와 같이 데이터가 **`;`** 로 나누어져 있다면, **`sep=';'`**를 지정해야겠죠?  \n",
        "이처럼 `.read_csv()` 메서드의 파라미터를 올바르게 지정하지 않는다면, 데이터를 원하는 대로 불러올 수 없습니다.  \n",
        "<br>\n",
        "추가적으로 `.read_csv()` 의 공식 문서에서 다양한 파라미터를 확인해 보도록 합시다.  \n",
        "[`.read_csv()` 공식 문서](https://pandas.pydata.org/docs/reference/api/pandas.read_csv.html)\n",
        "\n",
        "<br>\n",
        "\n",
        "---"
      ],
      "metadata": {
        "id": "5po3yJbA7k2P"
      }
    },
    {
      "cell_type": "markdown",
      "source": [
        "# **Part 2. EDA**  \n",
        "앞서 **`EDA`**란 식재료를 준비하는 일처럼, **데이터를 다각도로 관찰하며 이해하는 단계**라고 했습니다.\n",
        "\n",
        "Raw data(원본 데이터)를 보며 바로 인사이트를 얻기란 어려울 것입니다.  \n",
        "따라서 데이터를 분석하기 이전에, **통계치와 시각화를 통해 데이터를 먼저 이해하는 과정**이 필요합니다!  \n",
        "어떤 데이터인지 알고 있어야 세부적인 분석이나 모델링 진행을 할 수 있겠죠?\n",
        "<br>  \n",
        "Part 2 에서는, 아래의 세 단계로 EDA를 진행해 봅시다.  \n",
        "  2-1. Pandas 메서드로 보는 간단한 탐색  \n",
        "  2-2. Feature Engineering  \n",
        "  2-3. 통계값 및 시각화 활용  \n",
        "\n"
      ],
      "metadata": {
        "id": "7iazl2YiG674"
      }
    },
    {
      "cell_type": "markdown",
      "source": [
        "## **2-1. Pandas 메서드로 보는 간단한 탐색**\n",
        "먼저, **Pandas 메서드를 활용해 데이터를 살펴봅시다.**\n",
        "\n",
        "우리가 데이터에서 확인해야 할 특징들은 아래와 같습니다.\n",
        "- 각 데이터셋의 shape 및 column 개수\n",
        "- 결측치 및 중복 데이터 여부\n",
        "- 타겟인 `quality` column의 유니크한 값의 개수"
      ],
      "metadata": {
        "id": "N0zjyWhrYAOV"
      }
    },
    {
      "cell_type": "markdown",
      "source": [
        "<h3><b> 1) .shape </b></h3>  \n",
        "\n",
        "<img src = 'https://i.imgur.com/sc9sR2j.png' width=800>  \n",
        "pandas의 dataframe은, 위와 같이 테이블 형태의 데이터입니다.   \n",
        "일반적으로 **하나의 Row에는 하나의 데이터(관측치)**, **하나의 Column에는 하나의 변수**를 저장합니다.   \n",
        "\n",
        "데이터의 Row와 Column의 개수를 확인하기 위해, `.shape`을 활용해 봅시다."
      ],
      "metadata": {
        "id": "B_IVr-Nqj5Nt"
      }
    },
    {
      "cell_type": "code",
      "source": [
        "# Red wine 데이터셋의 shape 확인\n",
        "print(df_red.shape) # (Rows, Columns)의 형태로 출력"
      ],
      "metadata": {
        "colab": {
          "base_uri": "https://localhost:8080/"
        },
        "id": "sAQDQE4MFBbz",
        "outputId": "d9d85310-c8fd-4403-eb2b-57c912444459"
      },
      "execution_count": null,
      "outputs": [
        {
          "output_type": "stream",
          "name": "stdout",
          "text": [
            "(1599, 12)\n"
          ]
        }
      ]
    },
    {
      "cell_type": "code",
      "source": [
        "# White wine 데이터셋의 shape 확인\n",
        "print(df_white.shape)"
      ],
      "metadata": {
        "colab": {
          "base_uri": "https://localhost:8080/"
        },
        "id": "gh3DU2omFGak",
        "outputId": "db734725-4d5a-4c72-be45-68e8f346ab2d"
      },
      "execution_count": null,
      "outputs": [
        {
          "output_type": "stream",
          "name": "stdout",
          "text": [
            "(4898, 12)\n"
          ]
        }
      ]
    },
    {
      "cell_type": "markdown",
      "source": [
        "<h3><b> 2) .info() </b></h3>  \n",
        "\n",
        "데이터셋의 각 feature에 대한 통합적인 정보는 `.info()`와 `.describe()` 2가지 방법으로 살펴볼 수 있습니다.  \n",
        "이번 노트에서는 `.info()`로 확인해 보겠습니다.\n",
        "\n",
        "`.describe()`와의 출력과는 어떻게 다른지, 꼭 확인해 보세요!"
      ],
      "metadata": {
        "id": "eq5UcbiNGgl2"
      }
    },
    {
      "cell_type": "code",
      "source": [
        "# Red wine 데이터셋의 info 확인\n",
        "df_red.info()"
      ],
      "metadata": {
        "colab": {
          "base_uri": "https://localhost:8080/"
        },
        "id": "NvLAcqVROApU",
        "outputId": "3a2446a6-0f1e-4aa1-9d6c-07d29e35e26a"
      },
      "execution_count": null,
      "outputs": [
        {
          "output_type": "stream",
          "name": "stdout",
          "text": [
            "<class 'pandas.core.frame.DataFrame'>\n",
            "RangeIndex: 1599 entries, 0 to 1598\n",
            "Data columns (total 12 columns):\n",
            " #   Column                Non-Null Count  Dtype  \n",
            "---  ------                --------------  -----  \n",
            " 0   fixed_acidity         1599 non-null   float64\n",
            " 1   volatile_acidity      1599 non-null   float64\n",
            " 2   citric_acid           1599 non-null   float64\n",
            " 3   residual_sugar        1599 non-null   float64\n",
            " 4   chlorides             1599 non-null   float64\n",
            " 5   free_sulfur_dioxide   1599 non-null   float64\n",
            " 6   total_sulfur-dioxide  1599 non-null   float64\n",
            " 7   density               1599 non-null   float64\n",
            " 8   pH                    1599 non-null   float64\n",
            " 9   sulphates             1599 non-null   float64\n",
            " 10  alcohol               1599 non-null   float64\n",
            " 11  quality               1599 non-null   int64  \n",
            "dtypes: float64(11), int64(1)\n",
            "memory usage: 150.0 KB\n"
          ]
        }
      ]
    },
    {
      "cell_type": "code",
      "source": [
        "# White wine 데이터셋의 info 확인\n",
        "df_white.info()"
      ],
      "metadata": {
        "colab": {
          "base_uri": "https://localhost:8080/"
        },
        "id": "rs2HuuN1O4fE",
        "outputId": "317bc1ee-155a-416a-e24c-668484b6e71a"
      },
      "execution_count": null,
      "outputs": [
        {
          "output_type": "stream",
          "name": "stdout",
          "text": [
            "<class 'pandas.core.frame.DataFrame'>\n",
            "RangeIndex: 4898 entries, 0 to 4897\n",
            "Data columns (total 12 columns):\n",
            " #   Column                Non-Null Count  Dtype  \n",
            "---  ------                --------------  -----  \n",
            " 0   fixed_acidity         4898 non-null   float64\n",
            " 1   volatile_acidity      4898 non-null   float64\n",
            " 2   citric_acid           4898 non-null   float64\n",
            " 3   residual_sugar        4898 non-null   float64\n",
            " 4   chlorides             4898 non-null   float64\n",
            " 5   free_sulfur_dioxide   4898 non-null   float64\n",
            " 6   total_sulfur_dioxide  4898 non-null   float64\n",
            " 7   density               4898 non-null   float64\n",
            " 8   pH                    4898 non-null   float64\n",
            " 9   sulphates             4898 non-null   float64\n",
            " 10  alcohol               4898 non-null   float64\n",
            " 11  quality               4898 non-null   int64  \n",
            "dtypes: float64(11), int64(1)\n",
            "memory usage: 459.3 KB\n"
          ]
        }
      ]
    },
    {
      "cell_type": "markdown",
      "source": [
        "<h3><b> 3) .duplicated() </b></h3>  \n",
        "\n",
        "정확한 데이터 분석을 하기 위해서는, 중복 데이터 유무를 확인하는 과정이 중요합니다.  \n",
        "`duplicated()`를 통해 중복된 데이터가 있는지 확인해 봅시다."
      ],
      "metadata": {
        "id": "1ZS7TDOEGo8v"
      }
    },
    {
      "cell_type": "code",
      "source": [
        "# Red wine 데이터셋의 중복된 데이터 개수 확인\n",
        "df_red.duplicated().sum()"
      ],
      "metadata": {
        "colab": {
          "base_uri": "https://localhost:8080/"
        },
        "id": "UybT7sNbO7K4",
        "outputId": "53f168d2-3cfa-4145-caea-88e41cf33fdf"
      },
      "execution_count": null,
      "outputs": [
        {
          "output_type": "execute_result",
          "data": {
            "text/plain": [
              "240"
            ]
          },
          "metadata": {},
          "execution_count": 10
        }
      ]
    },
    {
      "cell_type": "code",
      "source": [
        "# drop_duplicates()를 통해 중복된 데이터 제거\n",
        "df_red = df_red.drop_duplicates()\n",
        "df_red.head()"
      ],
      "metadata": {
        "colab": {
          "base_uri": "https://localhost:8080/",
          "height": 206
        },
        "id": "rthFSn0YXpXw",
        "outputId": "85604e07-ed11-4f77-e220-a6f9b5ac6397"
      },
      "execution_count": null,
      "outputs": [
        {
          "output_type": "execute_result",
          "data": {
            "text/html": [
              "\n",
              "  <div id=\"df-0ee4874a-1ed8-4f8d-912e-4fae72c2253d\">\n",
              "    <div class=\"colab-df-container\">\n",
              "      <div>\n",
              "<style scoped>\n",
              "    .dataframe tbody tr th:only-of-type {\n",
              "        vertical-align: middle;\n",
              "    }\n",
              "\n",
              "    .dataframe tbody tr th {\n",
              "        vertical-align: top;\n",
              "    }\n",
              "\n",
              "    .dataframe thead th {\n",
              "        text-align: right;\n",
              "    }\n",
              "</style>\n",
              "<table border=\"1\" class=\"dataframe\">\n",
              "  <thead>\n",
              "    <tr style=\"text-align: right;\">\n",
              "      <th></th>\n",
              "      <th>fixed_acidity</th>\n",
              "      <th>volatile_acidity</th>\n",
              "      <th>citric_acid</th>\n",
              "      <th>residual_sugar</th>\n",
              "      <th>chlorides</th>\n",
              "      <th>free_sulfur_dioxide</th>\n",
              "      <th>total_sulfur-dioxide</th>\n",
              "      <th>density</th>\n",
              "      <th>pH</th>\n",
              "      <th>sulphates</th>\n",
              "      <th>alcohol</th>\n",
              "      <th>quality</th>\n",
              "    </tr>\n",
              "  </thead>\n",
              "  <tbody>\n",
              "    <tr>\n",
              "      <th>0</th>\n",
              "      <td>7.4</td>\n",
              "      <td>0.70</td>\n",
              "      <td>0.00</td>\n",
              "      <td>1.9</td>\n",
              "      <td>0.076</td>\n",
              "      <td>11.0</td>\n",
              "      <td>34.0</td>\n",
              "      <td>0.9978</td>\n",
              "      <td>3.51</td>\n",
              "      <td>0.56</td>\n",
              "      <td>9.4</td>\n",
              "      <td>5</td>\n",
              "    </tr>\n",
              "    <tr>\n",
              "      <th>1</th>\n",
              "      <td>7.8</td>\n",
              "      <td>0.88</td>\n",
              "      <td>0.00</td>\n",
              "      <td>2.6</td>\n",
              "      <td>0.098</td>\n",
              "      <td>25.0</td>\n",
              "      <td>67.0</td>\n",
              "      <td>0.9968</td>\n",
              "      <td>3.20</td>\n",
              "      <td>0.68</td>\n",
              "      <td>9.8</td>\n",
              "      <td>5</td>\n",
              "    </tr>\n",
              "    <tr>\n",
              "      <th>2</th>\n",
              "      <td>7.8</td>\n",
              "      <td>0.76</td>\n",
              "      <td>0.04</td>\n",
              "      <td>2.3</td>\n",
              "      <td>0.092</td>\n",
              "      <td>15.0</td>\n",
              "      <td>54.0</td>\n",
              "      <td>0.9970</td>\n",
              "      <td>3.26</td>\n",
              "      <td>0.65</td>\n",
              "      <td>9.8</td>\n",
              "      <td>5</td>\n",
              "    </tr>\n",
              "    <tr>\n",
              "      <th>3</th>\n",
              "      <td>11.2</td>\n",
              "      <td>0.28</td>\n",
              "      <td>0.56</td>\n",
              "      <td>1.9</td>\n",
              "      <td>0.075</td>\n",
              "      <td>17.0</td>\n",
              "      <td>60.0</td>\n",
              "      <td>0.9980</td>\n",
              "      <td>3.16</td>\n",
              "      <td>0.58</td>\n",
              "      <td>9.8</td>\n",
              "      <td>6</td>\n",
              "    </tr>\n",
              "    <tr>\n",
              "      <th>5</th>\n",
              "      <td>7.4</td>\n",
              "      <td>0.66</td>\n",
              "      <td>0.00</td>\n",
              "      <td>1.8</td>\n",
              "      <td>0.075</td>\n",
              "      <td>13.0</td>\n",
              "      <td>40.0</td>\n",
              "      <td>0.9978</td>\n",
              "      <td>3.51</td>\n",
              "      <td>0.56</td>\n",
              "      <td>9.4</td>\n",
              "      <td>5</td>\n",
              "    </tr>\n",
              "  </tbody>\n",
              "</table>\n",
              "</div>\n",
              "      <button class=\"colab-df-convert\" onclick=\"convertToInteractive('df-0ee4874a-1ed8-4f8d-912e-4fae72c2253d')\"\n",
              "              title=\"Convert this dataframe to an interactive table.\"\n",
              "              style=\"display:none;\">\n",
              "        \n",
              "  <svg xmlns=\"http://www.w3.org/2000/svg\" height=\"24px\"viewBox=\"0 0 24 24\"\n",
              "       width=\"24px\">\n",
              "    <path d=\"M0 0h24v24H0V0z\" fill=\"none\"/>\n",
              "    <path d=\"M18.56 5.44l.94 2.06.94-2.06 2.06-.94-2.06-.94-.94-2.06-.94 2.06-2.06.94zm-11 1L8.5 8.5l.94-2.06 2.06-.94-2.06-.94L8.5 2.5l-.94 2.06-2.06.94zm10 10l.94 2.06.94-2.06 2.06-.94-2.06-.94-.94-2.06-.94 2.06-2.06.94z\"/><path d=\"M17.41 7.96l-1.37-1.37c-.4-.4-.92-.59-1.43-.59-.52 0-1.04.2-1.43.59L10.3 9.45l-7.72 7.72c-.78.78-.78 2.05 0 2.83L4 21.41c.39.39.9.59 1.41.59.51 0 1.02-.2 1.41-.59l7.78-7.78 2.81-2.81c.8-.78.8-2.07 0-2.86zM5.41 20L4 18.59l7.72-7.72 1.47 1.35L5.41 20z\"/>\n",
              "  </svg>\n",
              "      </button>\n",
              "      \n",
              "  <style>\n",
              "    .colab-df-container {\n",
              "      display:flex;\n",
              "      flex-wrap:wrap;\n",
              "      gap: 12px;\n",
              "    }\n",
              "\n",
              "    .colab-df-convert {\n",
              "      background-color: #E8F0FE;\n",
              "      border: none;\n",
              "      border-radius: 50%;\n",
              "      cursor: pointer;\n",
              "      display: none;\n",
              "      fill: #1967D2;\n",
              "      height: 32px;\n",
              "      padding: 0 0 0 0;\n",
              "      width: 32px;\n",
              "    }\n",
              "\n",
              "    .colab-df-convert:hover {\n",
              "      background-color: #E2EBFA;\n",
              "      box-shadow: 0px 1px 2px rgba(60, 64, 67, 0.3), 0px 1px 3px 1px rgba(60, 64, 67, 0.15);\n",
              "      fill: #174EA6;\n",
              "    }\n",
              "\n",
              "    [theme=dark] .colab-df-convert {\n",
              "      background-color: #3B4455;\n",
              "      fill: #D2E3FC;\n",
              "    }\n",
              "\n",
              "    [theme=dark] .colab-df-convert:hover {\n",
              "      background-color: #434B5C;\n",
              "      box-shadow: 0px 1px 3px 1px rgba(0, 0, 0, 0.15);\n",
              "      filter: drop-shadow(0px 1px 2px rgba(0, 0, 0, 0.3));\n",
              "      fill: #FFFFFF;\n",
              "    }\n",
              "  </style>\n",
              "\n",
              "      <script>\n",
              "        const buttonEl =\n",
              "          document.querySelector('#df-0ee4874a-1ed8-4f8d-912e-4fae72c2253d button.colab-df-convert');\n",
              "        buttonEl.style.display =\n",
              "          google.colab.kernel.accessAllowed ? 'block' : 'none';\n",
              "\n",
              "        async function convertToInteractive(key) {\n",
              "          const element = document.querySelector('#df-0ee4874a-1ed8-4f8d-912e-4fae72c2253d');\n",
              "          const dataTable =\n",
              "            await google.colab.kernel.invokeFunction('convertToInteractive',\n",
              "                                                     [key], {});\n",
              "          if (!dataTable) return;\n",
              "\n",
              "          const docLinkHtml = 'Like what you see? Visit the ' +\n",
              "            '<a target=\"_blank\" href=https://colab.research.google.com/notebooks/data_table.ipynb>data table notebook</a>'\n",
              "            + ' to learn more about interactive tables.';\n",
              "          element.innerHTML = '';\n",
              "          dataTable['output_type'] = 'display_data';\n",
              "          await google.colab.output.renderOutput(dataTable, element);\n",
              "          const docLink = document.createElement('div');\n",
              "          docLink.innerHTML = docLinkHtml;\n",
              "          element.appendChild(docLink);\n",
              "        }\n",
              "      </script>\n",
              "    </div>\n",
              "  </div>\n",
              "  "
            ],
            "text/plain": [
              "   fixed_acidity  volatile_acidity  citric_acid  ...  sulphates  alcohol  quality\n",
              "0            7.4              0.70         0.00  ...       0.56      9.4        5\n",
              "1            7.8              0.88         0.00  ...       0.68      9.8        5\n",
              "2            7.8              0.76         0.04  ...       0.65      9.8        5\n",
              "3           11.2              0.28         0.56  ...       0.58      9.8        6\n",
              "5            7.4              0.66         0.00  ...       0.56      9.4        5\n",
              "\n",
              "[5 rows x 12 columns]"
            ]
          },
          "metadata": {},
          "execution_count": 11
        }
      ]
    },
    {
      "cell_type": "markdown",
      "source": [
        "> **💡 Tip**  \n",
        "중복된 데이터를 제거했더니, `index = 4`의 데이터가 빠져 있습니다!  \n",
        "index 정렬이 되어 있지 않으면, 추후 분석과정에 오류가 생길 수 있습니다.  \n",
        "<br>\n",
        "따라서 `.reset_index()`를 적용하여 index를 재정렬 해줍시다.  \n",
        "아래의 공식 문서를 보고, `drop` 파라미터의 기능을 생각해 보세요.  \n",
        "[`.reset_index()` 공식문서](https://pandas.pydata.org/docs/reference/api/pandas.DataFrame.reset_index.html)"
      ],
      "metadata": {
        "id": "6AkQCFY1O_vh"
      }
    },
    {
      "cell_type": "code",
      "source": [
        "# index 재정렬\n",
        "df_red = df_red.reset_index(drop=True)\n",
        "df_red.head()"
      ],
      "metadata": {
        "colab": {
          "base_uri": "https://localhost:8080/",
          "height": 206
        },
        "id": "bgCyjC8XYMpC",
        "outputId": "83545173-67dc-49d2-eaac-dd95b6e98ff1"
      },
      "execution_count": null,
      "outputs": [
        {
          "output_type": "execute_result",
          "data": {
            "text/html": [
              "\n",
              "  <div id=\"df-dcf7e1f5-27bc-43f6-8f14-598d5c50d481\">\n",
              "    <div class=\"colab-df-container\">\n",
              "      <div>\n",
              "<style scoped>\n",
              "    .dataframe tbody tr th:only-of-type {\n",
              "        vertical-align: middle;\n",
              "    }\n",
              "\n",
              "    .dataframe tbody tr th {\n",
              "        vertical-align: top;\n",
              "    }\n",
              "\n",
              "    .dataframe thead th {\n",
              "        text-align: right;\n",
              "    }\n",
              "</style>\n",
              "<table border=\"1\" class=\"dataframe\">\n",
              "  <thead>\n",
              "    <tr style=\"text-align: right;\">\n",
              "      <th></th>\n",
              "      <th>fixed_acidity</th>\n",
              "      <th>volatile_acidity</th>\n",
              "      <th>citric_acid</th>\n",
              "      <th>residual_sugar</th>\n",
              "      <th>chlorides</th>\n",
              "      <th>free_sulfur_dioxide</th>\n",
              "      <th>total_sulfur-dioxide</th>\n",
              "      <th>density</th>\n",
              "      <th>pH</th>\n",
              "      <th>sulphates</th>\n",
              "      <th>alcohol</th>\n",
              "      <th>quality</th>\n",
              "    </tr>\n",
              "  </thead>\n",
              "  <tbody>\n",
              "    <tr>\n",
              "      <th>0</th>\n",
              "      <td>7.4</td>\n",
              "      <td>0.70</td>\n",
              "      <td>0.00</td>\n",
              "      <td>1.9</td>\n",
              "      <td>0.076</td>\n",
              "      <td>11.0</td>\n",
              "      <td>34.0</td>\n",
              "      <td>0.9978</td>\n",
              "      <td>3.51</td>\n",
              "      <td>0.56</td>\n",
              "      <td>9.4</td>\n",
              "      <td>5</td>\n",
              "    </tr>\n",
              "    <tr>\n",
              "      <th>1</th>\n",
              "      <td>7.8</td>\n",
              "      <td>0.88</td>\n",
              "      <td>0.00</td>\n",
              "      <td>2.6</td>\n",
              "      <td>0.098</td>\n",
              "      <td>25.0</td>\n",
              "      <td>67.0</td>\n",
              "      <td>0.9968</td>\n",
              "      <td>3.20</td>\n",
              "      <td>0.68</td>\n",
              "      <td>9.8</td>\n",
              "      <td>5</td>\n",
              "    </tr>\n",
              "    <tr>\n",
              "      <th>2</th>\n",
              "      <td>7.8</td>\n",
              "      <td>0.76</td>\n",
              "      <td>0.04</td>\n",
              "      <td>2.3</td>\n",
              "      <td>0.092</td>\n",
              "      <td>15.0</td>\n",
              "      <td>54.0</td>\n",
              "      <td>0.9970</td>\n",
              "      <td>3.26</td>\n",
              "      <td>0.65</td>\n",
              "      <td>9.8</td>\n",
              "      <td>5</td>\n",
              "    </tr>\n",
              "    <tr>\n",
              "      <th>3</th>\n",
              "      <td>11.2</td>\n",
              "      <td>0.28</td>\n",
              "      <td>0.56</td>\n",
              "      <td>1.9</td>\n",
              "      <td>0.075</td>\n",
              "      <td>17.0</td>\n",
              "      <td>60.0</td>\n",
              "      <td>0.9980</td>\n",
              "      <td>3.16</td>\n",
              "      <td>0.58</td>\n",
              "      <td>9.8</td>\n",
              "      <td>6</td>\n",
              "    </tr>\n",
              "    <tr>\n",
              "      <th>4</th>\n",
              "      <td>7.4</td>\n",
              "      <td>0.66</td>\n",
              "      <td>0.00</td>\n",
              "      <td>1.8</td>\n",
              "      <td>0.075</td>\n",
              "      <td>13.0</td>\n",
              "      <td>40.0</td>\n",
              "      <td>0.9978</td>\n",
              "      <td>3.51</td>\n",
              "      <td>0.56</td>\n",
              "      <td>9.4</td>\n",
              "      <td>5</td>\n",
              "    </tr>\n",
              "  </tbody>\n",
              "</table>\n",
              "</div>\n",
              "      <button class=\"colab-df-convert\" onclick=\"convertToInteractive('df-dcf7e1f5-27bc-43f6-8f14-598d5c50d481')\"\n",
              "              title=\"Convert this dataframe to an interactive table.\"\n",
              "              style=\"display:none;\">\n",
              "        \n",
              "  <svg xmlns=\"http://www.w3.org/2000/svg\" height=\"24px\"viewBox=\"0 0 24 24\"\n",
              "       width=\"24px\">\n",
              "    <path d=\"M0 0h24v24H0V0z\" fill=\"none\"/>\n",
              "    <path d=\"M18.56 5.44l.94 2.06.94-2.06 2.06-.94-2.06-.94-.94-2.06-.94 2.06-2.06.94zm-11 1L8.5 8.5l.94-2.06 2.06-.94-2.06-.94L8.5 2.5l-.94 2.06-2.06.94zm10 10l.94 2.06.94-2.06 2.06-.94-2.06-.94-.94-2.06-.94 2.06-2.06.94z\"/><path d=\"M17.41 7.96l-1.37-1.37c-.4-.4-.92-.59-1.43-.59-.52 0-1.04.2-1.43.59L10.3 9.45l-7.72 7.72c-.78.78-.78 2.05 0 2.83L4 21.41c.39.39.9.59 1.41.59.51 0 1.02-.2 1.41-.59l7.78-7.78 2.81-2.81c.8-.78.8-2.07 0-2.86zM5.41 20L4 18.59l7.72-7.72 1.47 1.35L5.41 20z\"/>\n",
              "  </svg>\n",
              "      </button>\n",
              "      \n",
              "  <style>\n",
              "    .colab-df-container {\n",
              "      display:flex;\n",
              "      flex-wrap:wrap;\n",
              "      gap: 12px;\n",
              "    }\n",
              "\n",
              "    .colab-df-convert {\n",
              "      background-color: #E8F0FE;\n",
              "      border: none;\n",
              "      border-radius: 50%;\n",
              "      cursor: pointer;\n",
              "      display: none;\n",
              "      fill: #1967D2;\n",
              "      height: 32px;\n",
              "      padding: 0 0 0 0;\n",
              "      width: 32px;\n",
              "    }\n",
              "\n",
              "    .colab-df-convert:hover {\n",
              "      background-color: #E2EBFA;\n",
              "      box-shadow: 0px 1px 2px rgba(60, 64, 67, 0.3), 0px 1px 3px 1px rgba(60, 64, 67, 0.15);\n",
              "      fill: #174EA6;\n",
              "    }\n",
              "\n",
              "    [theme=dark] .colab-df-convert {\n",
              "      background-color: #3B4455;\n",
              "      fill: #D2E3FC;\n",
              "    }\n",
              "\n",
              "    [theme=dark] .colab-df-convert:hover {\n",
              "      background-color: #434B5C;\n",
              "      box-shadow: 0px 1px 3px 1px rgba(0, 0, 0, 0.15);\n",
              "      filter: drop-shadow(0px 1px 2px rgba(0, 0, 0, 0.3));\n",
              "      fill: #FFFFFF;\n",
              "    }\n",
              "  </style>\n",
              "\n",
              "      <script>\n",
              "        const buttonEl =\n",
              "          document.querySelector('#df-dcf7e1f5-27bc-43f6-8f14-598d5c50d481 button.colab-df-convert');\n",
              "        buttonEl.style.display =\n",
              "          google.colab.kernel.accessAllowed ? 'block' : 'none';\n",
              "\n",
              "        async function convertToInteractive(key) {\n",
              "          const element = document.querySelector('#df-dcf7e1f5-27bc-43f6-8f14-598d5c50d481');\n",
              "          const dataTable =\n",
              "            await google.colab.kernel.invokeFunction('convertToInteractive',\n",
              "                                                     [key], {});\n",
              "          if (!dataTable) return;\n",
              "\n",
              "          const docLinkHtml = 'Like what you see? Visit the ' +\n",
              "            '<a target=\"_blank\" href=https://colab.research.google.com/notebooks/data_table.ipynb>data table notebook</a>'\n",
              "            + ' to learn more about interactive tables.';\n",
              "          element.innerHTML = '';\n",
              "          dataTable['output_type'] = 'display_data';\n",
              "          await google.colab.output.renderOutput(dataTable, element);\n",
              "          const docLink = document.createElement('div');\n",
              "          docLink.innerHTML = docLinkHtml;\n",
              "          element.appendChild(docLink);\n",
              "        }\n",
              "      </script>\n",
              "    </div>\n",
              "  </div>\n",
              "  "
            ],
            "text/plain": [
              "   fixed_acidity  volatile_acidity  citric_acid  ...  sulphates  alcohol  quality\n",
              "0            7.4              0.70         0.00  ...       0.56      9.4        5\n",
              "1            7.8              0.88         0.00  ...       0.68      9.8        5\n",
              "2            7.8              0.76         0.04  ...       0.65      9.8        5\n",
              "3           11.2              0.28         0.56  ...       0.58      9.8        6\n",
              "4            7.4              0.66         0.00  ...       0.56      9.4        5\n",
              "\n",
              "[5 rows x 12 columns]"
            ]
          },
          "metadata": {},
          "execution_count": 12
        }
      ]
    },
    {
      "cell_type": "code",
      "source": [
        "# 중복데이터 제거 후, shape 확인\n",
        "df_red.shape"
      ],
      "metadata": {
        "colab": {
          "base_uri": "https://localhost:8080/"
        },
        "id": "qv5q3EajQSLc",
        "outputId": "808630d3-b7aa-4065-d396-3f2a4555150d"
      },
      "execution_count": null,
      "outputs": [
        {
          "output_type": "execute_result",
          "data": {
            "text/plain": [
              "(1359, 12)"
            ]
          },
          "metadata": {},
          "execution_count": 13
        }
      ]
    },
    {
      "cell_type": "code",
      "source": [
        "# White wine 데이터셋의 중복된 데이터 개수 확인\n",
        "df_white.duplicated().sum()"
      ],
      "metadata": {
        "colab": {
          "base_uri": "https://localhost:8080/"
        },
        "id": "yliQpQXqPoc0",
        "outputId": "1203dacf-1188-48aa-fdc9-a95dbb049ab8"
      },
      "execution_count": null,
      "outputs": [
        {
          "output_type": "execute_result",
          "data": {
            "text/plain": [
              "937"
            ]
          },
          "metadata": {},
          "execution_count": 14
        }
      ]
    },
    {
      "cell_type": "code",
      "source": [
        "# drop_duplicates() 를 통해 중복된 데이터 제거\n",
        "df_white = df_white.drop_duplicates()\n",
        "\n",
        "# index 재정렬\n",
        "df_white = df_white.reset_index(drop=True)\n",
        "df_white.head()"
      ],
      "metadata": {
        "colab": {
          "base_uri": "https://localhost:8080/",
          "height": 206
        },
        "id": "UgZ_c0abX1Lx",
        "outputId": "25c06e8c-aba9-45ac-8bb9-b9abdd700b8e"
      },
      "execution_count": null,
      "outputs": [
        {
          "output_type": "execute_result",
          "data": {
            "text/html": [
              "\n",
              "  <div id=\"df-a0708c5f-8e3a-4bfb-b5ed-94c7059a8e56\">\n",
              "    <div class=\"colab-df-container\">\n",
              "      <div>\n",
              "<style scoped>\n",
              "    .dataframe tbody tr th:only-of-type {\n",
              "        vertical-align: middle;\n",
              "    }\n",
              "\n",
              "    .dataframe tbody tr th {\n",
              "        vertical-align: top;\n",
              "    }\n",
              "\n",
              "    .dataframe thead th {\n",
              "        text-align: right;\n",
              "    }\n",
              "</style>\n",
              "<table border=\"1\" class=\"dataframe\">\n",
              "  <thead>\n",
              "    <tr style=\"text-align: right;\">\n",
              "      <th></th>\n",
              "      <th>fixed_acidity</th>\n",
              "      <th>volatile_acidity</th>\n",
              "      <th>citric_acid</th>\n",
              "      <th>residual_sugar</th>\n",
              "      <th>chlorides</th>\n",
              "      <th>free_sulfur_dioxide</th>\n",
              "      <th>total_sulfur_dioxide</th>\n",
              "      <th>density</th>\n",
              "      <th>pH</th>\n",
              "      <th>sulphates</th>\n",
              "      <th>alcohol</th>\n",
              "      <th>quality</th>\n",
              "    </tr>\n",
              "  </thead>\n",
              "  <tbody>\n",
              "    <tr>\n",
              "      <th>0</th>\n",
              "      <td>7.0</td>\n",
              "      <td>0.27</td>\n",
              "      <td>0.36</td>\n",
              "      <td>20.7</td>\n",
              "      <td>0.045</td>\n",
              "      <td>45.0</td>\n",
              "      <td>170.0</td>\n",
              "      <td>1.0010</td>\n",
              "      <td>3.00</td>\n",
              "      <td>0.45</td>\n",
              "      <td>8.8</td>\n",
              "      <td>6</td>\n",
              "    </tr>\n",
              "    <tr>\n",
              "      <th>1</th>\n",
              "      <td>6.3</td>\n",
              "      <td>0.30</td>\n",
              "      <td>0.34</td>\n",
              "      <td>1.6</td>\n",
              "      <td>0.049</td>\n",
              "      <td>14.0</td>\n",
              "      <td>132.0</td>\n",
              "      <td>0.9940</td>\n",
              "      <td>3.30</td>\n",
              "      <td>0.49</td>\n",
              "      <td>9.5</td>\n",
              "      <td>6</td>\n",
              "    </tr>\n",
              "    <tr>\n",
              "      <th>2</th>\n",
              "      <td>8.1</td>\n",
              "      <td>0.28</td>\n",
              "      <td>0.40</td>\n",
              "      <td>6.9</td>\n",
              "      <td>0.050</td>\n",
              "      <td>30.0</td>\n",
              "      <td>97.0</td>\n",
              "      <td>0.9951</td>\n",
              "      <td>3.26</td>\n",
              "      <td>0.44</td>\n",
              "      <td>10.1</td>\n",
              "      <td>6</td>\n",
              "    </tr>\n",
              "    <tr>\n",
              "      <th>3</th>\n",
              "      <td>7.2</td>\n",
              "      <td>0.23</td>\n",
              "      <td>0.32</td>\n",
              "      <td>8.5</td>\n",
              "      <td>0.058</td>\n",
              "      <td>47.0</td>\n",
              "      <td>186.0</td>\n",
              "      <td>0.9956</td>\n",
              "      <td>3.19</td>\n",
              "      <td>0.40</td>\n",
              "      <td>9.9</td>\n",
              "      <td>6</td>\n",
              "    </tr>\n",
              "    <tr>\n",
              "      <th>4</th>\n",
              "      <td>6.2</td>\n",
              "      <td>0.32</td>\n",
              "      <td>0.16</td>\n",
              "      <td>7.0</td>\n",
              "      <td>0.045</td>\n",
              "      <td>30.0</td>\n",
              "      <td>136.0</td>\n",
              "      <td>0.9949</td>\n",
              "      <td>3.18</td>\n",
              "      <td>0.47</td>\n",
              "      <td>9.6</td>\n",
              "      <td>6</td>\n",
              "    </tr>\n",
              "  </tbody>\n",
              "</table>\n",
              "</div>\n",
              "      <button class=\"colab-df-convert\" onclick=\"convertToInteractive('df-a0708c5f-8e3a-4bfb-b5ed-94c7059a8e56')\"\n",
              "              title=\"Convert this dataframe to an interactive table.\"\n",
              "              style=\"display:none;\">\n",
              "        \n",
              "  <svg xmlns=\"http://www.w3.org/2000/svg\" height=\"24px\"viewBox=\"0 0 24 24\"\n",
              "       width=\"24px\">\n",
              "    <path d=\"M0 0h24v24H0V0z\" fill=\"none\"/>\n",
              "    <path d=\"M18.56 5.44l.94 2.06.94-2.06 2.06-.94-2.06-.94-.94-2.06-.94 2.06-2.06.94zm-11 1L8.5 8.5l.94-2.06 2.06-.94-2.06-.94L8.5 2.5l-.94 2.06-2.06.94zm10 10l.94 2.06.94-2.06 2.06-.94-2.06-.94-.94-2.06-.94 2.06-2.06.94z\"/><path d=\"M17.41 7.96l-1.37-1.37c-.4-.4-.92-.59-1.43-.59-.52 0-1.04.2-1.43.59L10.3 9.45l-7.72 7.72c-.78.78-.78 2.05 0 2.83L4 21.41c.39.39.9.59 1.41.59.51 0 1.02-.2 1.41-.59l7.78-7.78 2.81-2.81c.8-.78.8-2.07 0-2.86zM5.41 20L4 18.59l7.72-7.72 1.47 1.35L5.41 20z\"/>\n",
              "  </svg>\n",
              "      </button>\n",
              "      \n",
              "  <style>\n",
              "    .colab-df-container {\n",
              "      display:flex;\n",
              "      flex-wrap:wrap;\n",
              "      gap: 12px;\n",
              "    }\n",
              "\n",
              "    .colab-df-convert {\n",
              "      background-color: #E8F0FE;\n",
              "      border: none;\n",
              "      border-radius: 50%;\n",
              "      cursor: pointer;\n",
              "      display: none;\n",
              "      fill: #1967D2;\n",
              "      height: 32px;\n",
              "      padding: 0 0 0 0;\n",
              "      width: 32px;\n",
              "    }\n",
              "\n",
              "    .colab-df-convert:hover {\n",
              "      background-color: #E2EBFA;\n",
              "      box-shadow: 0px 1px 2px rgba(60, 64, 67, 0.3), 0px 1px 3px 1px rgba(60, 64, 67, 0.15);\n",
              "      fill: #174EA6;\n",
              "    }\n",
              "\n",
              "    [theme=dark] .colab-df-convert {\n",
              "      background-color: #3B4455;\n",
              "      fill: #D2E3FC;\n",
              "    }\n",
              "\n",
              "    [theme=dark] .colab-df-convert:hover {\n",
              "      background-color: #434B5C;\n",
              "      box-shadow: 0px 1px 3px 1px rgba(0, 0, 0, 0.15);\n",
              "      filter: drop-shadow(0px 1px 2px rgba(0, 0, 0, 0.3));\n",
              "      fill: #FFFFFF;\n",
              "    }\n",
              "  </style>\n",
              "\n",
              "      <script>\n",
              "        const buttonEl =\n",
              "          document.querySelector('#df-a0708c5f-8e3a-4bfb-b5ed-94c7059a8e56 button.colab-df-convert');\n",
              "        buttonEl.style.display =\n",
              "          google.colab.kernel.accessAllowed ? 'block' : 'none';\n",
              "\n",
              "        async function convertToInteractive(key) {\n",
              "          const element = document.querySelector('#df-a0708c5f-8e3a-4bfb-b5ed-94c7059a8e56');\n",
              "          const dataTable =\n",
              "            await google.colab.kernel.invokeFunction('convertToInteractive',\n",
              "                                                     [key], {});\n",
              "          if (!dataTable) return;\n",
              "\n",
              "          const docLinkHtml = 'Like what you see? Visit the ' +\n",
              "            '<a target=\"_blank\" href=https://colab.research.google.com/notebooks/data_table.ipynb>data table notebook</a>'\n",
              "            + ' to learn more about interactive tables.';\n",
              "          element.innerHTML = '';\n",
              "          dataTable['output_type'] = 'display_data';\n",
              "          await google.colab.output.renderOutput(dataTable, element);\n",
              "          const docLink = document.createElement('div');\n",
              "          docLink.innerHTML = docLinkHtml;\n",
              "          element.appendChild(docLink);\n",
              "        }\n",
              "      </script>\n",
              "    </div>\n",
              "  </div>\n",
              "  "
            ],
            "text/plain": [
              "   fixed_acidity  volatile_acidity  citric_acid  ...  sulphates  alcohol  quality\n",
              "0            7.0              0.27         0.36  ...       0.45      8.8        6\n",
              "1            6.3              0.30         0.34  ...       0.49      9.5        6\n",
              "2            8.1              0.28         0.40  ...       0.44     10.1        6\n",
              "3            7.2              0.23         0.32  ...       0.40      9.9        6\n",
              "4            6.2              0.32         0.16  ...       0.47      9.6        6\n",
              "\n",
              "[5 rows x 12 columns]"
            ]
          },
          "metadata": {},
          "execution_count": 15
        }
      ]
    },
    {
      "cell_type": "code",
      "source": [
        "# 중복데이터 제거 후, shape 확인\n",
        "df_white.shape "
      ],
      "metadata": {
        "colab": {
          "base_uri": "https://localhost:8080/"
        },
        "id": "JIKGGFK8YlCw",
        "outputId": "379e0f3c-9638-4bc0-c844-9b1590e3d1cf"
      },
      "execution_count": null,
      "outputs": [
        {
          "output_type": "execute_result",
          "data": {
            "text/plain": [
              "(3961, 12)"
            ]
          },
          "metadata": {},
          "execution_count": 16
        }
      ]
    },
    {
      "cell_type": "markdown",
      "source": [
        "## **2-2. Feature Engineering**\n",
        "\n",
        "#### **Garbage In, Garbage Out!**\n",
        "<img src = 'https://i.imgur.com/c6WHRyH.png' width=550>  \n",
        "실제 사용하는 데이터는 대부분 매우 지저분한 상태인데, 이러한 데이터는 머신러닝과 같은 모델에서 제대로 작동하지 않습니다.  \n",
        "모델링뿐 아니라 간단한 분석을 하더라도, 데이터를 깨끗하게 정제 할 필요가 있겠죠?\n",
        "\n",
        "<br><br>\n",
        "\n",
        "#### **Feature Engineering**  \n",
        "세세한 분석과 모델의 성능을 높이기 위해서, feature를 재조합하여 의미있는 데이터를 추가적으로 만들 수 있습니다.  \n",
        "이러한 과정을 **`Feature Engineering`(특성공학)**이라 합니다.  \n",
        "다시말해,  도메인 지식과 창의성을 바탕으로 **기존 feature들을 재조합하여 새로운 feature를 만드는 과정**이라는 것이죠!  \n",
        "수학적인 연산과 도메인 지식을 이용하여 Raw Data로부터 유용한 feature를 도출해 내는 과정을 `Feature Engineering`이라 할 수 있습니다.  \n",
        "<br>  \n",
        "\n",
        "<img src = 'https://i.imgur.com/RD9W6xq.png' width=500>  \n",
        "예시로 위의 그림을 살펴 봅시다.  \n",
        "Raw Data로부터 *(Price / Weight)* 를 계산하여 `Price_per_Weight`를 만들어내는 과정이, **`Feature Engineering`**에 해당합니다.  \n",
        "그럼 `Price_per_Weight` 컬럼은 **`Feature Engineering`**의 결과물이겠죠?"
      ],
      "metadata": {
        "id": "BZFdjRMbKfn2"
      }
    },
    {
      "cell_type": "markdown",
      "source": [
        "<h3><b> 1) .repeat() </b></h3>\n",
        "\n",
        "데이터 분석을 효율적으로 하기 위해, 2개로 분리된 DataSet을 합쳐봅시다.  \n",
        "\n",
        "그럼 각 데이터의 *Red / White* 정보가 담긴, 새로운 column이 추가 **굵은 텍스트**되어야 할 것입니다!  \n",
        "이를 `.repeat()` 메서드를 활용해 **`Feature Engineering`**을 시행해 봅시다.\n"
      ],
      "metadata": {
        "id": "t20L7QOdTYff"
      }
    },
    {
      "cell_type": "code",
      "source": [
        "# red dataframe에 red를 나타내는 array 생성\n",
        "red_color = np.repeat('red', len(df_red))\n",
        "red_color"
      ],
      "metadata": {
        "colab": {
          "base_uri": "https://localhost:8080/"
        },
        "id": "lsg_7ckMJI-m",
        "outputId": "7e7b90ad-f7f6-48a0-c1fb-097d34718925"
      },
      "execution_count": null,
      "outputs": [
        {
          "output_type": "execute_result",
          "data": {
            "text/plain": [
              "array(['red', 'red', 'red', ..., 'red', 'red', 'red'], dtype='<U3')"
            ]
          },
          "metadata": {},
          "execution_count": 17
        }
      ]
    },
    {
      "cell_type": "code",
      "source": [
        "# white dataframe에 white를 나타내는 array 생성\n",
        "white_color = np.repeat('white', len(df_white))\n",
        "white_color"
      ],
      "metadata": {
        "colab": {
          "base_uri": "https://localhost:8080/"
        },
        "id": "FMiR_U5mxDwg",
        "outputId": "cb7ef319-7844-4c15-ca73-0a740de82ff1"
      },
      "execution_count": null,
      "outputs": [
        {
          "output_type": "execute_result",
          "data": {
            "text/plain": [
              "array(['white', 'white', 'white', ..., 'white', 'white', 'white'],\n",
              "      dtype='<U5')"
            ]
          },
          "metadata": {},
          "execution_count": 18
        }
      ]
    },
    {
      "cell_type": "code",
      "source": [
        "# 위에서 만든 array를 dataframe 추가\n",
        "df_red['color'] = red_color\n",
        "df_white['color'] = white_color"
      ],
      "metadata": {
        "id": "uCKBQgOYxXKv"
      },
      "execution_count": null,
      "outputs": []
    },
    {
      "cell_type": "code",
      "source": [
        "# 새 컬럼, 'color'가 red 데이터셋에 추가되었는지 확인\n",
        "df_red.columns"
      ],
      "metadata": {
        "colab": {
          "base_uri": "https://localhost:8080/"
        },
        "id": "Lbkfm92wzg2A",
        "outputId": "f04810e0-916f-48b9-9fd4-469f20a25153"
      },
      "execution_count": null,
      "outputs": [
        {
          "output_type": "execute_result",
          "data": {
            "text/plain": [
              "Index(['fixed_acidity', 'volatile_acidity', 'citric_acid', 'residual_sugar',\n",
              "       'chlorides', 'free_sulfur_dioxide', 'total_sulfur-dioxide', 'density',\n",
              "       'pH', 'sulphates', 'alcohol', 'quality', 'color'],\n",
              "      dtype='object')"
            ]
          },
          "metadata": {},
          "execution_count": 20
        }
      ]
    },
    {
      "cell_type": "code",
      "source": [
        "# 새 컬럼, 'color'가 white 데이터셋에 추가되었는지 확인\n",
        "df_white.columns"
      ],
      "metadata": {
        "colab": {
          "base_uri": "https://localhost:8080/"
        },
        "id": "ar-nHd61z2Ac",
        "outputId": "b59d2102-3bd2-4b95-f3d3-f13a524a2a60"
      },
      "execution_count": null,
      "outputs": [
        {
          "output_type": "execute_result",
          "data": {
            "text/plain": [
              "Index(['fixed_acidity', 'volatile_acidity', 'citric_acid', 'residual_sugar',\n",
              "       'chlorides', 'free_sulfur_dioxide', 'total_sulfur_dioxide', 'density',\n",
              "       'pH', 'sulphates', 'alcohol', 'quality', 'color'],\n",
              "      dtype='object')"
            ]
          },
          "metadata": {},
          "execution_count": 21
        }
      ]
    },
    {
      "cell_type": "markdown",
      "source": [
        "> **💡 Tip**  \n",
        "Feature Engineering의 결과로 `color` 컬럼이 추가되었다면, 이제 2개의 데이터를 합쳐 봅시다.  \n",
        "<br>\n",
        "dataframes을 합치기 위해서는, 합치려는 데이터셋의 columns가 동일한지 확인해야 합니다!  \n",
        "위와 같이 `.columns`를 통해 시각적으로 확인할 수도 있지만, 아래의 코드를 통해 확인할 수도 있습니다. "
      ],
      "metadata": {
        "id": "-7VrgGeX1A3S"
      }
    },
    {
      "cell_type": "code",
      "source": [
        "# 합치려는 데이터셋의 columns가 동일한지 확인\n",
        "set(df_red.columns) == set(df_white.columns)"
      ],
      "metadata": {
        "colab": {
          "base_uri": "https://localhost:8080/"
        },
        "id": "9DrSyihUz4xf",
        "outputId": "4e1343bc-5b72-4ae9-85ab-349ecb584f0e"
      },
      "execution_count": null,
      "outputs": [
        {
          "output_type": "execute_result",
          "data": {
            "text/plain": [
              "False"
            ]
          },
          "metadata": {},
          "execution_count": 22
        }
      ]
    },
    {
      "cell_type": "markdown",
      "source": [
        "> **💡 Tip**  \n",
        "두 개의 dataframes의 컬럼이 동일하지 않다고 합니다!  \n",
        "무엇이 문제일까요?  \n",
        "<br>\n",
        "자세히 살펴보니, **`df_red`**에서 `total_sulfur-dioxide`컬럼의 이름이 `_`가 아닌 **`-`**으로 연결되어 있는 것을 알 수 있습니다.  \n",
        "데이터를 합치기 위해 컬럼의 이름을 수정해 줍시다."
      ],
      "metadata": {
        "id": "qvz4qToZEASJ"
      }
    },
    {
      "cell_type": "code",
      "source": [
        "# column의 이름 통일을 위해, 수정\n",
        "df_red.rename(columns = {'total_sulfur-dioxide' : 'total_sulfur_dioxide'}, inplace=True)"
      ],
      "metadata": {
        "id": "8Ys6cTatGVbm"
      },
      "execution_count": null,
      "outputs": []
    },
    {
      "cell_type": "code",
      "source": [
        "df_red.columns"
      ],
      "metadata": {
        "colab": {
          "base_uri": "https://localhost:8080/"
        },
        "id": "o36gtMigGyI2",
        "outputId": "254963c6-9153-4e17-b138-fab46a8d8fa8"
      },
      "execution_count": null,
      "outputs": [
        {
          "output_type": "execute_result",
          "data": {
            "text/plain": [
              "Index(['fixed_acidity', 'volatile_acidity', 'citric_acid', 'residual_sugar',\n",
              "       'chlorides', 'free_sulfur_dioxide', 'total_sulfur_dioxide', 'density',\n",
              "       'pH', 'sulphates', 'alcohol', 'quality', 'color'],\n",
              "      dtype='object')"
            ]
          },
          "metadata": {},
          "execution_count": 24
        }
      ]
    },
    {
      "cell_type": "code",
      "source": [
        "df_white.columns"
      ],
      "metadata": {
        "colab": {
          "base_uri": "https://localhost:8080/"
        },
        "id": "XZHPsmKiG0SP",
        "outputId": "10c3fee5-8e96-4652-991f-2a3c85a2ee41"
      },
      "execution_count": null,
      "outputs": [
        {
          "output_type": "execute_result",
          "data": {
            "text/plain": [
              "Index(['fixed_acidity', 'volatile_acidity', 'citric_acid', 'residual_sugar',\n",
              "       'chlorides', 'free_sulfur_dioxide', 'total_sulfur_dioxide', 'density',\n",
              "       'pH', 'sulphates', 'alcohol', 'quality', 'color'],\n",
              "      dtype='object')"
            ]
          },
          "metadata": {},
          "execution_count": 25
        }
      ]
    },
    {
      "cell_type": "code",
      "source": [
        "# 합치려는 데이터셋의 columns가 동일한지 확인\n",
        "set(df_red.columns) == set(df_white.columns)"
      ],
      "metadata": {
        "colab": {
          "base_uri": "https://localhost:8080/"
        },
        "id": "-72Bm3dTWgUT",
        "outputId": "2af81422-3a5d-4821-c32f-963a64a852e6"
      },
      "execution_count": null,
      "outputs": [
        {
          "output_type": "execute_result",
          "data": {
            "text/plain": [
              "True"
            ]
          },
          "metadata": {},
          "execution_count": 26
        }
      ]
    },
    {
      "cell_type": "markdown",
      "source": [
        "<h3><b> 2) .append() </b></h3>\n",
        "\n",
        "\n",
        "\n",
        "이제, Pandas의 `.append()`를 사용하여 두 개의 dataframes을 합쳐줍시다.  \n",
        "[`.append()` 공식문서](https://pandas.pydata.org/pandas-docs/stable/reference/api/pandas.DataFrame.append.html)"
      ],
      "metadata": {
        "id": "7ePoF9Cd2hNn"
      }
    },
    {
      "cell_type": "code",
      "source": [
        "# 하나의 데이터셋으로 통합\n",
        "df = df_white.append(df_red, ignore_index = True)"
      ],
      "metadata": {
        "id": "xLBJ15j71vDS"
      },
      "execution_count": null,
      "outputs": []
    },
    {
      "cell_type": "code",
      "source": [
        "# 두 개의 dataframes 잘 합쳐졌는지 확인\n",
        "df.shape"
      ],
      "metadata": {
        "colab": {
          "base_uri": "https://localhost:8080/"
        },
        "id": "lqouNqpX3Dw7",
        "outputId": "967b5ff8-d722-4880-98f0-9de5e456df07"
      },
      "execution_count": null,
      "outputs": [
        {
          "output_type": "execute_result",
          "data": {
            "text/plain": [
              "(5320, 13)"
            ]
          },
          "metadata": {},
          "execution_count": 28
        }
      ]
    },
    {
      "cell_type": "code",
      "source": [
        "df.head()"
      ],
      "metadata": {
        "colab": {
          "base_uri": "https://localhost:8080/",
          "height": 206
        },
        "id": "kRA_U0U83Zf7",
        "outputId": "5fe747d0-0aa0-477c-eea7-ab6b311b70b4"
      },
      "execution_count": null,
      "outputs": [
        {
          "output_type": "execute_result",
          "data": {
            "text/html": [
              "\n",
              "  <div id=\"df-bc887c21-22d1-4e77-85fe-638109bd796a\">\n",
              "    <div class=\"colab-df-container\">\n",
              "      <div>\n",
              "<style scoped>\n",
              "    .dataframe tbody tr th:only-of-type {\n",
              "        vertical-align: middle;\n",
              "    }\n",
              "\n",
              "    .dataframe tbody tr th {\n",
              "        vertical-align: top;\n",
              "    }\n",
              "\n",
              "    .dataframe thead th {\n",
              "        text-align: right;\n",
              "    }\n",
              "</style>\n",
              "<table border=\"1\" class=\"dataframe\">\n",
              "  <thead>\n",
              "    <tr style=\"text-align: right;\">\n",
              "      <th></th>\n",
              "      <th>fixed_acidity</th>\n",
              "      <th>volatile_acidity</th>\n",
              "      <th>citric_acid</th>\n",
              "      <th>residual_sugar</th>\n",
              "      <th>chlorides</th>\n",
              "      <th>free_sulfur_dioxide</th>\n",
              "      <th>total_sulfur_dioxide</th>\n",
              "      <th>density</th>\n",
              "      <th>pH</th>\n",
              "      <th>sulphates</th>\n",
              "      <th>alcohol</th>\n",
              "      <th>quality</th>\n",
              "      <th>color</th>\n",
              "    </tr>\n",
              "  </thead>\n",
              "  <tbody>\n",
              "    <tr>\n",
              "      <th>0</th>\n",
              "      <td>7.0</td>\n",
              "      <td>0.27</td>\n",
              "      <td>0.36</td>\n",
              "      <td>20.7</td>\n",
              "      <td>0.045</td>\n",
              "      <td>45.0</td>\n",
              "      <td>170.0</td>\n",
              "      <td>1.0010</td>\n",
              "      <td>3.00</td>\n",
              "      <td>0.45</td>\n",
              "      <td>8.8</td>\n",
              "      <td>6</td>\n",
              "      <td>white</td>\n",
              "    </tr>\n",
              "    <tr>\n",
              "      <th>1</th>\n",
              "      <td>6.3</td>\n",
              "      <td>0.30</td>\n",
              "      <td>0.34</td>\n",
              "      <td>1.6</td>\n",
              "      <td>0.049</td>\n",
              "      <td>14.0</td>\n",
              "      <td>132.0</td>\n",
              "      <td>0.9940</td>\n",
              "      <td>3.30</td>\n",
              "      <td>0.49</td>\n",
              "      <td>9.5</td>\n",
              "      <td>6</td>\n",
              "      <td>white</td>\n",
              "    </tr>\n",
              "    <tr>\n",
              "      <th>2</th>\n",
              "      <td>8.1</td>\n",
              "      <td>0.28</td>\n",
              "      <td>0.40</td>\n",
              "      <td>6.9</td>\n",
              "      <td>0.050</td>\n",
              "      <td>30.0</td>\n",
              "      <td>97.0</td>\n",
              "      <td>0.9951</td>\n",
              "      <td>3.26</td>\n",
              "      <td>0.44</td>\n",
              "      <td>10.1</td>\n",
              "      <td>6</td>\n",
              "      <td>white</td>\n",
              "    </tr>\n",
              "    <tr>\n",
              "      <th>3</th>\n",
              "      <td>7.2</td>\n",
              "      <td>0.23</td>\n",
              "      <td>0.32</td>\n",
              "      <td>8.5</td>\n",
              "      <td>0.058</td>\n",
              "      <td>47.0</td>\n",
              "      <td>186.0</td>\n",
              "      <td>0.9956</td>\n",
              "      <td>3.19</td>\n",
              "      <td>0.40</td>\n",
              "      <td>9.9</td>\n",
              "      <td>6</td>\n",
              "      <td>white</td>\n",
              "    </tr>\n",
              "    <tr>\n",
              "      <th>4</th>\n",
              "      <td>6.2</td>\n",
              "      <td>0.32</td>\n",
              "      <td>0.16</td>\n",
              "      <td>7.0</td>\n",
              "      <td>0.045</td>\n",
              "      <td>30.0</td>\n",
              "      <td>136.0</td>\n",
              "      <td>0.9949</td>\n",
              "      <td>3.18</td>\n",
              "      <td>0.47</td>\n",
              "      <td>9.6</td>\n",
              "      <td>6</td>\n",
              "      <td>white</td>\n",
              "    </tr>\n",
              "  </tbody>\n",
              "</table>\n",
              "</div>\n",
              "      <button class=\"colab-df-convert\" onclick=\"convertToInteractive('df-bc887c21-22d1-4e77-85fe-638109bd796a')\"\n",
              "              title=\"Convert this dataframe to an interactive table.\"\n",
              "              style=\"display:none;\">\n",
              "        \n",
              "  <svg xmlns=\"http://www.w3.org/2000/svg\" height=\"24px\"viewBox=\"0 0 24 24\"\n",
              "       width=\"24px\">\n",
              "    <path d=\"M0 0h24v24H0V0z\" fill=\"none\"/>\n",
              "    <path d=\"M18.56 5.44l.94 2.06.94-2.06 2.06-.94-2.06-.94-.94-2.06-.94 2.06-2.06.94zm-11 1L8.5 8.5l.94-2.06 2.06-.94-2.06-.94L8.5 2.5l-.94 2.06-2.06.94zm10 10l.94 2.06.94-2.06 2.06-.94-2.06-.94-.94-2.06-.94 2.06-2.06.94z\"/><path d=\"M17.41 7.96l-1.37-1.37c-.4-.4-.92-.59-1.43-.59-.52 0-1.04.2-1.43.59L10.3 9.45l-7.72 7.72c-.78.78-.78 2.05 0 2.83L4 21.41c.39.39.9.59 1.41.59.51 0 1.02-.2 1.41-.59l7.78-7.78 2.81-2.81c.8-.78.8-2.07 0-2.86zM5.41 20L4 18.59l7.72-7.72 1.47 1.35L5.41 20z\"/>\n",
              "  </svg>\n",
              "      </button>\n",
              "      \n",
              "  <style>\n",
              "    .colab-df-container {\n",
              "      display:flex;\n",
              "      flex-wrap:wrap;\n",
              "      gap: 12px;\n",
              "    }\n",
              "\n",
              "    .colab-df-convert {\n",
              "      background-color: #E8F0FE;\n",
              "      border: none;\n",
              "      border-radius: 50%;\n",
              "      cursor: pointer;\n",
              "      display: none;\n",
              "      fill: #1967D2;\n",
              "      height: 32px;\n",
              "      padding: 0 0 0 0;\n",
              "      width: 32px;\n",
              "    }\n",
              "\n",
              "    .colab-df-convert:hover {\n",
              "      background-color: #E2EBFA;\n",
              "      box-shadow: 0px 1px 2px rgba(60, 64, 67, 0.3), 0px 1px 3px 1px rgba(60, 64, 67, 0.15);\n",
              "      fill: #174EA6;\n",
              "    }\n",
              "\n",
              "    [theme=dark] .colab-df-convert {\n",
              "      background-color: #3B4455;\n",
              "      fill: #D2E3FC;\n",
              "    }\n",
              "\n",
              "    [theme=dark] .colab-df-convert:hover {\n",
              "      background-color: #434B5C;\n",
              "      box-shadow: 0px 1px 3px 1px rgba(0, 0, 0, 0.15);\n",
              "      filter: drop-shadow(0px 1px 2px rgba(0, 0, 0, 0.3));\n",
              "      fill: #FFFFFF;\n",
              "    }\n",
              "  </style>\n",
              "\n",
              "      <script>\n",
              "        const buttonEl =\n",
              "          document.querySelector('#df-bc887c21-22d1-4e77-85fe-638109bd796a button.colab-df-convert');\n",
              "        buttonEl.style.display =\n",
              "          google.colab.kernel.accessAllowed ? 'block' : 'none';\n",
              "\n",
              "        async function convertToInteractive(key) {\n",
              "          const element = document.querySelector('#df-bc887c21-22d1-4e77-85fe-638109bd796a');\n",
              "          const dataTable =\n",
              "            await google.colab.kernel.invokeFunction('convertToInteractive',\n",
              "                                                     [key], {});\n",
              "          if (!dataTable) return;\n",
              "\n",
              "          const docLinkHtml = 'Like what you see? Visit the ' +\n",
              "            '<a target=\"_blank\" href=https://colab.research.google.com/notebooks/data_table.ipynb>data table notebook</a>'\n",
              "            + ' to learn more about interactive tables.';\n",
              "          element.innerHTML = '';\n",
              "          dataTable['output_type'] = 'display_data';\n",
              "          await google.colab.output.renderOutput(dataTable, element);\n",
              "          const docLink = document.createElement('div');\n",
              "          docLink.innerHTML = docLinkHtml;\n",
              "          element.appendChild(docLink);\n",
              "        }\n",
              "      </script>\n",
              "    </div>\n",
              "  </div>\n",
              "  "
            ],
            "text/plain": [
              "   fixed_acidity  volatile_acidity  citric_acid  ...  alcohol  quality  color\n",
              "0            7.0              0.27         0.36  ...      8.8        6  white\n",
              "1            6.3              0.30         0.34  ...      9.5        6  white\n",
              "2            8.1              0.28         0.40  ...     10.1        6  white\n",
              "3            7.2              0.23         0.32  ...      9.9        6  white\n",
              "4            6.2              0.32         0.16  ...      9.6        6  white\n",
              "\n",
              "[5 rows x 13 columns]"
            ]
          },
          "metadata": {},
          "execution_count": 29
        }
      ]
    },
    {
      "cell_type": "code",
      "source": [
        "# 합쳐진 dataframe은 우리가 분석하고자 하는 final version이기 때문에, csv 파일로 저장!\n",
        "df.to_csv('winequality_edited.csv', index=False) "
      ],
      "metadata": {
        "id": "BIMwfl-P3b0G"
      },
      "execution_count": null,
      "outputs": []
    },
    {
      "cell_type": "markdown",
      "source": [
        "> **💡 Tip**  \n",
        "`.to_csv()` 메서드를 사용하여 데이터프레임을 csv 파일로 export 할 때,  \n",
        "`index=False` 파라미터를 지정하게 되면 아래와 같이 첫 번째 컬럼이 인덱스로 지정됩니다.  \n",
        "**이를 꼭 지정해서 export 해주세요!** 그 이유는 아래에서 다시 **`winequality_edited.csv`**를 불러왔을 때 알 수 있습니다.  \n",
        "<img width='700' src='https://i.imgur.com/8lZXtWz.png'>\n",
        "\n",
        "\n",
        "\n"
      ],
      "metadata": {
        "id": "sKQoLUJq4At8"
      }
    },
    {
      "cell_type": "markdown",
      "source": [
        "## **2-3. 통계값 및 시각화 활용**\n",
        "> ⚠️ ***눈으로 코드를 이해하기 보다는, 꼭 실행하고 변경하며 살펴보시길 바랍니다.***\n",
        "\n",
        "<br>\n",
        "\n",
        "통계 및 시각화 기법을 활용하기 이전에, 우리가 해당 데이터를 분석하는 목적을 다시 한 번 생각해 봅시다!  \n",
        "우리는 **`높은 quality의 와인은 어떤 화학적 특징을 가지고 있는지`** 살펴보려 합니다.  \n",
        "그렇다면 와인 quality에 영향을 미치는 성분, 즉 ***와인의 특징(색, 산도, 맛, 아로마, 바디감, 알콜)과 quality 간의 관계*** 를 알아보면 좋을 것 같습니다.\n",
        "\n",
        "<br>\n",
        "\n",
        "그럼 와인의 특징과 quality 사이의 관계를,  \n",
        "**통계기법**(평균, 분산, 표준편차 등)과 **시각화**를 통해 다방면으로 데이터를 분석해 봅시다.\n",
        "\n",
        "이번 노트에서는 `groupby()`와 `query()`를 활용해, 원하는 데이터를 추출하여 살펴보려 합니다.  "
      ],
      "metadata": {
        "id": "95yDjgS5XqZB"
      }
    },
    {
      "cell_type": "code",
      "source": [
        "# 저장했던 통합 데이터셋 업로드\n",
        "wine_df = pd.read_csv('winequality_edited.csv')"
      ],
      "metadata": {
        "id": "LpFEqNGt6nRN"
      },
      "execution_count": null,
      "outputs": []
    },
    {
      "cell_type": "code",
      "source": [
        "wine_df.head()"
      ],
      "metadata": {
        "colab": {
          "base_uri": "https://localhost:8080/",
          "height": 206
        },
        "id": "XaZT2jntAo8L",
        "outputId": "a4a073a3-3da8-4ae2-f796-644175a45bb2"
      },
      "execution_count": null,
      "outputs": [
        {
          "output_type": "execute_result",
          "data": {
            "text/html": [
              "\n",
              "  <div id=\"df-5d64dbfd-9850-4608-bb32-b390b3aa0388\">\n",
              "    <div class=\"colab-df-container\">\n",
              "      <div>\n",
              "<style scoped>\n",
              "    .dataframe tbody tr th:only-of-type {\n",
              "        vertical-align: middle;\n",
              "    }\n",
              "\n",
              "    .dataframe tbody tr th {\n",
              "        vertical-align: top;\n",
              "    }\n",
              "\n",
              "    .dataframe thead th {\n",
              "        text-align: right;\n",
              "    }\n",
              "</style>\n",
              "<table border=\"1\" class=\"dataframe\">\n",
              "  <thead>\n",
              "    <tr style=\"text-align: right;\">\n",
              "      <th></th>\n",
              "      <th>fixed_acidity</th>\n",
              "      <th>volatile_acidity</th>\n",
              "      <th>citric_acid</th>\n",
              "      <th>residual_sugar</th>\n",
              "      <th>chlorides</th>\n",
              "      <th>free_sulfur_dioxide</th>\n",
              "      <th>total_sulfur_dioxide</th>\n",
              "      <th>density</th>\n",
              "      <th>pH</th>\n",
              "      <th>sulphates</th>\n",
              "      <th>alcohol</th>\n",
              "      <th>quality</th>\n",
              "      <th>color</th>\n",
              "    </tr>\n",
              "  </thead>\n",
              "  <tbody>\n",
              "    <tr>\n",
              "      <th>0</th>\n",
              "      <td>7.0</td>\n",
              "      <td>0.27</td>\n",
              "      <td>0.36</td>\n",
              "      <td>20.7</td>\n",
              "      <td>0.045</td>\n",
              "      <td>45.0</td>\n",
              "      <td>170.0</td>\n",
              "      <td>1.0010</td>\n",
              "      <td>3.00</td>\n",
              "      <td>0.45</td>\n",
              "      <td>8.8</td>\n",
              "      <td>6</td>\n",
              "      <td>white</td>\n",
              "    </tr>\n",
              "    <tr>\n",
              "      <th>1</th>\n",
              "      <td>6.3</td>\n",
              "      <td>0.30</td>\n",
              "      <td>0.34</td>\n",
              "      <td>1.6</td>\n",
              "      <td>0.049</td>\n",
              "      <td>14.0</td>\n",
              "      <td>132.0</td>\n",
              "      <td>0.9940</td>\n",
              "      <td>3.30</td>\n",
              "      <td>0.49</td>\n",
              "      <td>9.5</td>\n",
              "      <td>6</td>\n",
              "      <td>white</td>\n",
              "    </tr>\n",
              "    <tr>\n",
              "      <th>2</th>\n",
              "      <td>8.1</td>\n",
              "      <td>0.28</td>\n",
              "      <td>0.40</td>\n",
              "      <td>6.9</td>\n",
              "      <td>0.050</td>\n",
              "      <td>30.0</td>\n",
              "      <td>97.0</td>\n",
              "      <td>0.9951</td>\n",
              "      <td>3.26</td>\n",
              "      <td>0.44</td>\n",
              "      <td>10.1</td>\n",
              "      <td>6</td>\n",
              "      <td>white</td>\n",
              "    </tr>\n",
              "    <tr>\n",
              "      <th>3</th>\n",
              "      <td>7.2</td>\n",
              "      <td>0.23</td>\n",
              "      <td>0.32</td>\n",
              "      <td>8.5</td>\n",
              "      <td>0.058</td>\n",
              "      <td>47.0</td>\n",
              "      <td>186.0</td>\n",
              "      <td>0.9956</td>\n",
              "      <td>3.19</td>\n",
              "      <td>0.40</td>\n",
              "      <td>9.9</td>\n",
              "      <td>6</td>\n",
              "      <td>white</td>\n",
              "    </tr>\n",
              "    <tr>\n",
              "      <th>4</th>\n",
              "      <td>6.2</td>\n",
              "      <td>0.32</td>\n",
              "      <td>0.16</td>\n",
              "      <td>7.0</td>\n",
              "      <td>0.045</td>\n",
              "      <td>30.0</td>\n",
              "      <td>136.0</td>\n",
              "      <td>0.9949</td>\n",
              "      <td>3.18</td>\n",
              "      <td>0.47</td>\n",
              "      <td>9.6</td>\n",
              "      <td>6</td>\n",
              "      <td>white</td>\n",
              "    </tr>\n",
              "  </tbody>\n",
              "</table>\n",
              "</div>\n",
              "      <button class=\"colab-df-convert\" onclick=\"convertToInteractive('df-5d64dbfd-9850-4608-bb32-b390b3aa0388')\"\n",
              "              title=\"Convert this dataframe to an interactive table.\"\n",
              "              style=\"display:none;\">\n",
              "        \n",
              "  <svg xmlns=\"http://www.w3.org/2000/svg\" height=\"24px\"viewBox=\"0 0 24 24\"\n",
              "       width=\"24px\">\n",
              "    <path d=\"M0 0h24v24H0V0z\" fill=\"none\"/>\n",
              "    <path d=\"M18.56 5.44l.94 2.06.94-2.06 2.06-.94-2.06-.94-.94-2.06-.94 2.06-2.06.94zm-11 1L8.5 8.5l.94-2.06 2.06-.94-2.06-.94L8.5 2.5l-.94 2.06-2.06.94zm10 10l.94 2.06.94-2.06 2.06-.94-2.06-.94-.94-2.06-.94 2.06-2.06.94z\"/><path d=\"M17.41 7.96l-1.37-1.37c-.4-.4-.92-.59-1.43-.59-.52 0-1.04.2-1.43.59L10.3 9.45l-7.72 7.72c-.78.78-.78 2.05 0 2.83L4 21.41c.39.39.9.59 1.41.59.51 0 1.02-.2 1.41-.59l7.78-7.78 2.81-2.81c.8-.78.8-2.07 0-2.86zM5.41 20L4 18.59l7.72-7.72 1.47 1.35L5.41 20z\"/>\n",
              "  </svg>\n",
              "      </button>\n",
              "      \n",
              "  <style>\n",
              "    .colab-df-container {\n",
              "      display:flex;\n",
              "      flex-wrap:wrap;\n",
              "      gap: 12px;\n",
              "    }\n",
              "\n",
              "    .colab-df-convert {\n",
              "      background-color: #E8F0FE;\n",
              "      border: none;\n",
              "      border-radius: 50%;\n",
              "      cursor: pointer;\n",
              "      display: none;\n",
              "      fill: #1967D2;\n",
              "      height: 32px;\n",
              "      padding: 0 0 0 0;\n",
              "      width: 32px;\n",
              "    }\n",
              "\n",
              "    .colab-df-convert:hover {\n",
              "      background-color: #E2EBFA;\n",
              "      box-shadow: 0px 1px 2px rgba(60, 64, 67, 0.3), 0px 1px 3px 1px rgba(60, 64, 67, 0.15);\n",
              "      fill: #174EA6;\n",
              "    }\n",
              "\n",
              "    [theme=dark] .colab-df-convert {\n",
              "      background-color: #3B4455;\n",
              "      fill: #D2E3FC;\n",
              "    }\n",
              "\n",
              "    [theme=dark] .colab-df-convert:hover {\n",
              "      background-color: #434B5C;\n",
              "      box-shadow: 0px 1px 3px 1px rgba(0, 0, 0, 0.15);\n",
              "      filter: drop-shadow(0px 1px 2px rgba(0, 0, 0, 0.3));\n",
              "      fill: #FFFFFF;\n",
              "    }\n",
              "  </style>\n",
              "\n",
              "      <script>\n",
              "        const buttonEl =\n",
              "          document.querySelector('#df-5d64dbfd-9850-4608-bb32-b390b3aa0388 button.colab-df-convert');\n",
              "        buttonEl.style.display =\n",
              "          google.colab.kernel.accessAllowed ? 'block' : 'none';\n",
              "\n",
              "        async function convertToInteractive(key) {\n",
              "          const element = document.querySelector('#df-5d64dbfd-9850-4608-bb32-b390b3aa0388');\n",
              "          const dataTable =\n",
              "            await google.colab.kernel.invokeFunction('convertToInteractive',\n",
              "                                                     [key], {});\n",
              "          if (!dataTable) return;\n",
              "\n",
              "          const docLinkHtml = 'Like what you see? Visit the ' +\n",
              "            '<a target=\"_blank\" href=https://colab.research.google.com/notebooks/data_table.ipynb>data table notebook</a>'\n",
              "            + ' to learn more about interactive tables.';\n",
              "          element.innerHTML = '';\n",
              "          dataTable['output_type'] = 'display_data';\n",
              "          await google.colab.output.renderOutput(dataTable, element);\n",
              "          const docLink = document.createElement('div');\n",
              "          docLink.innerHTML = docLinkHtml;\n",
              "          element.appendChild(docLink);\n",
              "        }\n",
              "      </script>\n",
              "    </div>\n",
              "  </div>\n",
              "  "
            ],
            "text/plain": [
              "   fixed_acidity  volatile_acidity  citric_acid  ...  alcohol  quality  color\n",
              "0            7.0              0.27         0.36  ...      8.8        6  white\n",
              "1            6.3              0.30         0.34  ...      9.5        6  white\n",
              "2            8.1              0.28         0.40  ...     10.1        6  white\n",
              "3            7.2              0.23         0.32  ...      9.9        6  white\n",
              "4            6.2              0.32         0.16  ...      9.6        6  white\n",
              "\n",
              "[5 rows x 13 columns]"
            ]
          },
          "metadata": {},
          "execution_count": 32
        }
      ]
    },
    {
      "cell_type": "markdown",
      "source": [
        "<h2><b> 1) .groupby() </b></h2>\n",
        "\n",
        "먼저 Pandas를 사용해서 데이터 분석을 할 때, **데이터 집계(aggregation)에서 유용하게 사용하는 `.groupby()`** 메서드에 대해 알아봅시다.  \n",
        "`.groupby()`를 이용하면 **데이터를 그룹으로 묶어, 그룹별 통계연산과 집계, 요약**을 빠르게 할 수 있습니다.\n",
        "\n",
        "\n",
        "예를 들어,  \n",
        "와인의 등급(color) 별로 feature들의 평균을 구하고 싶은 경우, 아래과 같이 `.groupby()`를 사용하여 평균값(mean)을 구할 수 있습니다.\n",
        "```python\n",
        "wine_df.groupby('quality').mean()\n",
        "```\n",
        "\n",
        "물론 평균 이외의 다양한 summary statistics를 구할 수도 있습니다!  \n",
        "[`.groupby()` 공식문서](https://pandas.pydata.org/pandas-docs/stable/user_guide/groupby.html)"
      ],
      "metadata": {
        "id": "Xgb4lY1Y8don"
      }
    },
    {
      "cell_type": "markdown",
      "source": [
        "<h3><b> 1-a) color </b></h3>\n",
        "\n",
        "와인의 가장 눈에 띄는 특징은 **와인의 색상(color)**이 될 것입니다.  \n",
        "\n",
        "그렇다면 과연,  \n",
        "**Red와 White 중에서, 어떤 종류의 와인이 더 높은 평균 quality rating을 받을까요?**  \n",
        "분석하기 이전의 여러분의 생각은 어떤가요?"
      ],
      "metadata": {
        "id": "_2qEdFWypcgs"
      }
    },
    {
      "cell_type": "code",
      "source": [
        "# mean function으로 각 컬럼의 평균값을 구할 수 있음\n",
        "wine_df.mean() # 하지만 와인의 color에 따른 평균 quality 를 비교할 수는 없음"
      ],
      "metadata": {
        "colab": {
          "base_uri": "https://localhost:8080/"
        },
        "id": "o_lkr6KQJDkY",
        "outputId": "6d732f4a-e64c-4717-8ab8-09b872e55851"
      },
      "execution_count": null,
      "outputs": [
        {
          "output_type": "stream",
          "name": "stderr",
          "text": [
            "/usr/local/lib/python3.7/dist-packages/ipykernel_launcher.py:2: FutureWarning: Dropping of nuisance columns in DataFrame reductions (with 'numeric_only=None') is deprecated; in a future version this will raise TypeError.  Select only valid columns before calling the reduction.\n",
            "  \n"
          ]
        },
        {
          "output_type": "execute_result",
          "data": {
            "text/plain": [
              "fixed_acidity             7.215179\n",
              "volatile_acidity          0.344130\n",
              "citric_acid               0.318494\n",
              "residual_sugar            5.048477\n",
              "chlorides                 0.056690\n",
              "free_sulfur_dioxide      30.036654\n",
              "total_sulfur_dioxide    114.109023\n",
              "density                   0.994535\n",
              "pH                        3.224664\n",
              "sulphates                 0.533357\n",
              "alcohol                  10.549241\n",
              "quality                   5.795677\n",
              "dtype: float64"
            ]
          },
          "metadata": {},
          "execution_count": 33
        }
      ]
    },
    {
      "cell_type": "code",
      "source": [
        "# 와인의 색깔에 따른 평균 quality rating을 알아보기 위해, groupby 활용\n",
        "wine_df.groupby('color').mean()"
      ],
      "metadata": {
        "colab": {
          "base_uri": "https://localhost:8080/",
          "height": 143
        },
        "id": "ZOvvUlVfrXaY",
        "outputId": "f6380511-641e-4c91-e7af-745469b698f5"
      },
      "execution_count": null,
      "outputs": [
        {
          "output_type": "execute_result",
          "data": {
            "text/html": [
              "\n",
              "  <div id=\"df-b48472f3-4037-431e-b0af-7f8f408da387\">\n",
              "    <div class=\"colab-df-container\">\n",
              "      <div>\n",
              "<style scoped>\n",
              "    .dataframe tbody tr th:only-of-type {\n",
              "        vertical-align: middle;\n",
              "    }\n",
              "\n",
              "    .dataframe tbody tr th {\n",
              "        vertical-align: top;\n",
              "    }\n",
              "\n",
              "    .dataframe thead th {\n",
              "        text-align: right;\n",
              "    }\n",
              "</style>\n",
              "<table border=\"1\" class=\"dataframe\">\n",
              "  <thead>\n",
              "    <tr style=\"text-align: right;\">\n",
              "      <th></th>\n",
              "      <th>fixed_acidity</th>\n",
              "      <th>volatile_acidity</th>\n",
              "      <th>citric_acid</th>\n",
              "      <th>residual_sugar</th>\n",
              "      <th>chlorides</th>\n",
              "      <th>free_sulfur_dioxide</th>\n",
              "      <th>total_sulfur_dioxide</th>\n",
              "      <th>density</th>\n",
              "      <th>pH</th>\n",
              "      <th>sulphates</th>\n",
              "      <th>alcohol</th>\n",
              "      <th>quality</th>\n",
              "    </tr>\n",
              "    <tr>\n",
              "      <th>color</th>\n",
              "      <th></th>\n",
              "      <th></th>\n",
              "      <th></th>\n",
              "      <th></th>\n",
              "      <th></th>\n",
              "      <th></th>\n",
              "      <th></th>\n",
              "      <th></th>\n",
              "      <th></th>\n",
              "      <th></th>\n",
              "      <th></th>\n",
              "      <th></th>\n",
              "    </tr>\n",
              "  </thead>\n",
              "  <tbody>\n",
              "    <tr>\n",
              "      <th>red</th>\n",
              "      <td>8.310596</td>\n",
              "      <td>0.529478</td>\n",
              "      <td>0.272333</td>\n",
              "      <td>2.523400</td>\n",
              "      <td>0.088124</td>\n",
              "      <td>15.893304</td>\n",
              "      <td>46.825975</td>\n",
              "      <td>0.996709</td>\n",
              "      <td>3.309787</td>\n",
              "      <td>0.658705</td>\n",
              "      <td>10.432315</td>\n",
              "      <td>5.623252</td>\n",
              "    </tr>\n",
              "    <tr>\n",
              "      <th>white</th>\n",
              "      <td>6.839346</td>\n",
              "      <td>0.280538</td>\n",
              "      <td>0.334332</td>\n",
              "      <td>5.914819</td>\n",
              "      <td>0.045905</td>\n",
              "      <td>34.889169</td>\n",
              "      <td>137.193512</td>\n",
              "      <td>0.993790</td>\n",
              "      <td>3.195458</td>\n",
              "      <td>0.490351</td>\n",
              "      <td>10.589358</td>\n",
              "      <td>5.854835</td>\n",
              "    </tr>\n",
              "  </tbody>\n",
              "</table>\n",
              "</div>\n",
              "      <button class=\"colab-df-convert\" onclick=\"convertToInteractive('df-b48472f3-4037-431e-b0af-7f8f408da387')\"\n",
              "              title=\"Convert this dataframe to an interactive table.\"\n",
              "              style=\"display:none;\">\n",
              "        \n",
              "  <svg xmlns=\"http://www.w3.org/2000/svg\" height=\"24px\"viewBox=\"0 0 24 24\"\n",
              "       width=\"24px\">\n",
              "    <path d=\"M0 0h24v24H0V0z\" fill=\"none\"/>\n",
              "    <path d=\"M18.56 5.44l.94 2.06.94-2.06 2.06-.94-2.06-.94-.94-2.06-.94 2.06-2.06.94zm-11 1L8.5 8.5l.94-2.06 2.06-.94-2.06-.94L8.5 2.5l-.94 2.06-2.06.94zm10 10l.94 2.06.94-2.06 2.06-.94-2.06-.94-.94-2.06-.94 2.06-2.06.94z\"/><path d=\"M17.41 7.96l-1.37-1.37c-.4-.4-.92-.59-1.43-.59-.52 0-1.04.2-1.43.59L10.3 9.45l-7.72 7.72c-.78.78-.78 2.05 0 2.83L4 21.41c.39.39.9.59 1.41.59.51 0 1.02-.2 1.41-.59l7.78-7.78 2.81-2.81c.8-.78.8-2.07 0-2.86zM5.41 20L4 18.59l7.72-7.72 1.47 1.35L5.41 20z\"/>\n",
              "  </svg>\n",
              "      </button>\n",
              "      \n",
              "  <style>\n",
              "    .colab-df-container {\n",
              "      display:flex;\n",
              "      flex-wrap:wrap;\n",
              "      gap: 12px;\n",
              "    }\n",
              "\n",
              "    .colab-df-convert {\n",
              "      background-color: #E8F0FE;\n",
              "      border: none;\n",
              "      border-radius: 50%;\n",
              "      cursor: pointer;\n",
              "      display: none;\n",
              "      fill: #1967D2;\n",
              "      height: 32px;\n",
              "      padding: 0 0 0 0;\n",
              "      width: 32px;\n",
              "    }\n",
              "\n",
              "    .colab-df-convert:hover {\n",
              "      background-color: #E2EBFA;\n",
              "      box-shadow: 0px 1px 2px rgba(60, 64, 67, 0.3), 0px 1px 3px 1px rgba(60, 64, 67, 0.15);\n",
              "      fill: #174EA6;\n",
              "    }\n",
              "\n",
              "    [theme=dark] .colab-df-convert {\n",
              "      background-color: #3B4455;\n",
              "      fill: #D2E3FC;\n",
              "    }\n",
              "\n",
              "    [theme=dark] .colab-df-convert:hover {\n",
              "      background-color: #434B5C;\n",
              "      box-shadow: 0px 1px 3px 1px rgba(0, 0, 0, 0.15);\n",
              "      filter: drop-shadow(0px 1px 2px rgba(0, 0, 0, 0.3));\n",
              "      fill: #FFFFFF;\n",
              "    }\n",
              "  </style>\n",
              "\n",
              "      <script>\n",
              "        const buttonEl =\n",
              "          document.querySelector('#df-b48472f3-4037-431e-b0af-7f8f408da387 button.colab-df-convert');\n",
              "        buttonEl.style.display =\n",
              "          google.colab.kernel.accessAllowed ? 'block' : 'none';\n",
              "\n",
              "        async function convertToInteractive(key) {\n",
              "          const element = document.querySelector('#df-b48472f3-4037-431e-b0af-7f8f408da387');\n",
              "          const dataTable =\n",
              "            await google.colab.kernel.invokeFunction('convertToInteractive',\n",
              "                                                     [key], {});\n",
              "          if (!dataTable) return;\n",
              "\n",
              "          const docLinkHtml = 'Like what you see? Visit the ' +\n",
              "            '<a target=\"_blank\" href=https://colab.research.google.com/notebooks/data_table.ipynb>data table notebook</a>'\n",
              "            + ' to learn more about interactive tables.';\n",
              "          element.innerHTML = '';\n",
              "          dataTable['output_type'] = 'display_data';\n",
              "          await google.colab.output.renderOutput(dataTable, element);\n",
              "          const docLink = document.createElement('div');\n",
              "          docLink.innerHTML = docLinkHtml;\n",
              "          element.appendChild(docLink);\n",
              "        }\n",
              "      </script>\n",
              "    </div>\n",
              "  </div>\n",
              "  "
            ],
            "text/plain": [
              "       fixed_acidity  volatile_acidity  ...    alcohol   quality\n",
              "color                                   ...                     \n",
              "red         8.310596          0.529478  ...  10.432315  5.623252\n",
              "white       6.839346          0.280538  ...  10.589358  5.854835\n",
              "\n",
              "[2 rows x 12 columns]"
            ]
          },
          "metadata": {},
          "execution_count": 34
        }
      ]
    },
    {
      "cell_type": "code",
      "source": [
        "# 위의 많은 컬럼 중 quality 컬럼 하나만을 선택하여 확인\n",
        "wine_df.groupby('color')['quality'].mean()"
      ],
      "metadata": {
        "colab": {
          "base_uri": "https://localhost:8080/"
        },
        "id": "W4m_OVSXrXYF",
        "outputId": "a8d94d61-fa68-466f-f2b7-d0b727c04ea6"
      },
      "execution_count": null,
      "outputs": [
        {
          "output_type": "execute_result",
          "data": {
            "text/plain": [
              "color\n",
              "red      5.623252\n",
              "white    5.854835\n",
              "Name: quality, dtype: float64"
            ]
          },
          "metadata": {},
          "execution_count": 35
        }
      ]
    },
    {
      "cell_type": "code",
      "source": [
        "# 위와 같이 groupby 안에 지정하는 컬럼들은 데이터프레임의 인덱스로 지정됨.\n",
        "# 이를 원하지 않으면 'as_index=False' 파라미터를 지정\n",
        "wine_df.groupby('color', as_index=False)['quality'].mean()"
      ],
      "metadata": {
        "colab": {
          "base_uri": "https://localhost:8080/",
          "height": 112
        },
        "id": "HYGjlwNhrXVl",
        "outputId": "19d68c4f-953b-453c-b9c3-23bb5942f725"
      },
      "execution_count": null,
      "outputs": [
        {
          "output_type": "execute_result",
          "data": {
            "text/html": [
              "\n",
              "  <div id=\"df-311236c8-d354-4675-ada2-194015e9c8e2\">\n",
              "    <div class=\"colab-df-container\">\n",
              "      <div>\n",
              "<style scoped>\n",
              "    .dataframe tbody tr th:only-of-type {\n",
              "        vertical-align: middle;\n",
              "    }\n",
              "\n",
              "    .dataframe tbody tr th {\n",
              "        vertical-align: top;\n",
              "    }\n",
              "\n",
              "    .dataframe thead th {\n",
              "        text-align: right;\n",
              "    }\n",
              "</style>\n",
              "<table border=\"1\" class=\"dataframe\">\n",
              "  <thead>\n",
              "    <tr style=\"text-align: right;\">\n",
              "      <th></th>\n",
              "      <th>color</th>\n",
              "      <th>quality</th>\n",
              "    </tr>\n",
              "  </thead>\n",
              "  <tbody>\n",
              "    <tr>\n",
              "      <th>0</th>\n",
              "      <td>red</td>\n",
              "      <td>5.623252</td>\n",
              "    </tr>\n",
              "    <tr>\n",
              "      <th>1</th>\n",
              "      <td>white</td>\n",
              "      <td>5.854835</td>\n",
              "    </tr>\n",
              "  </tbody>\n",
              "</table>\n",
              "</div>\n",
              "      <button class=\"colab-df-convert\" onclick=\"convertToInteractive('df-311236c8-d354-4675-ada2-194015e9c8e2')\"\n",
              "              title=\"Convert this dataframe to an interactive table.\"\n",
              "              style=\"display:none;\">\n",
              "        \n",
              "  <svg xmlns=\"http://www.w3.org/2000/svg\" height=\"24px\"viewBox=\"0 0 24 24\"\n",
              "       width=\"24px\">\n",
              "    <path d=\"M0 0h24v24H0V0z\" fill=\"none\"/>\n",
              "    <path d=\"M18.56 5.44l.94 2.06.94-2.06 2.06-.94-2.06-.94-.94-2.06-.94 2.06-2.06.94zm-11 1L8.5 8.5l.94-2.06 2.06-.94-2.06-.94L8.5 2.5l-.94 2.06-2.06.94zm10 10l.94 2.06.94-2.06 2.06-.94-2.06-.94-.94-2.06-.94 2.06-2.06.94z\"/><path d=\"M17.41 7.96l-1.37-1.37c-.4-.4-.92-.59-1.43-.59-.52 0-1.04.2-1.43.59L10.3 9.45l-7.72 7.72c-.78.78-.78 2.05 0 2.83L4 21.41c.39.39.9.59 1.41.59.51 0 1.02-.2 1.41-.59l7.78-7.78 2.81-2.81c.8-.78.8-2.07 0-2.86zM5.41 20L4 18.59l7.72-7.72 1.47 1.35L5.41 20z\"/>\n",
              "  </svg>\n",
              "      </button>\n",
              "      \n",
              "  <style>\n",
              "    .colab-df-container {\n",
              "      display:flex;\n",
              "      flex-wrap:wrap;\n",
              "      gap: 12px;\n",
              "    }\n",
              "\n",
              "    .colab-df-convert {\n",
              "      background-color: #E8F0FE;\n",
              "      border: none;\n",
              "      border-radius: 50%;\n",
              "      cursor: pointer;\n",
              "      display: none;\n",
              "      fill: #1967D2;\n",
              "      height: 32px;\n",
              "      padding: 0 0 0 0;\n",
              "      width: 32px;\n",
              "    }\n",
              "\n",
              "    .colab-df-convert:hover {\n",
              "      background-color: #E2EBFA;\n",
              "      box-shadow: 0px 1px 2px rgba(60, 64, 67, 0.3), 0px 1px 3px 1px rgba(60, 64, 67, 0.15);\n",
              "      fill: #174EA6;\n",
              "    }\n",
              "\n",
              "    [theme=dark] .colab-df-convert {\n",
              "      background-color: #3B4455;\n",
              "      fill: #D2E3FC;\n",
              "    }\n",
              "\n",
              "    [theme=dark] .colab-df-convert:hover {\n",
              "      background-color: #434B5C;\n",
              "      box-shadow: 0px 1px 3px 1px rgba(0, 0, 0, 0.15);\n",
              "      filter: drop-shadow(0px 1px 2px rgba(0, 0, 0, 0.3));\n",
              "      fill: #FFFFFF;\n",
              "    }\n",
              "  </style>\n",
              "\n",
              "      <script>\n",
              "        const buttonEl =\n",
              "          document.querySelector('#df-311236c8-d354-4675-ada2-194015e9c8e2 button.colab-df-convert');\n",
              "        buttonEl.style.display =\n",
              "          google.colab.kernel.accessAllowed ? 'block' : 'none';\n",
              "\n",
              "        async function convertToInteractive(key) {\n",
              "          const element = document.querySelector('#df-311236c8-d354-4675-ada2-194015e9c8e2');\n",
              "          const dataTable =\n",
              "            await google.colab.kernel.invokeFunction('convertToInteractive',\n",
              "                                                     [key], {});\n",
              "          if (!dataTable) return;\n",
              "\n",
              "          const docLinkHtml = 'Like what you see? Visit the ' +\n",
              "            '<a target=\"_blank\" href=https://colab.research.google.com/notebooks/data_table.ipynb>data table notebook</a>'\n",
              "            + ' to learn more about interactive tables.';\n",
              "          element.innerHTML = '';\n",
              "          dataTable['output_type'] = 'display_data';\n",
              "          await google.colab.output.renderOutput(dataTable, element);\n",
              "          const docLink = document.createElement('div');\n",
              "          docLink.innerHTML = docLinkHtml;\n",
              "          element.appendChild(docLink);\n",
              "        }\n",
              "      </script>\n",
              "    </div>\n",
              "  </div>\n",
              "  "
            ],
            "text/plain": [
              "   color   quality\n",
              "0    red  5.623252\n",
              "1  white  5.854835"
            ]
          },
          "metadata": {},
          "execution_count": 36
        }
      ]
    },
    {
      "cell_type": "code",
      "source": [
        "wine_df['color'].value_counts()"
      ],
      "metadata": {
        "colab": {
          "base_uri": "https://localhost:8080/"
        },
        "id": "8Fwl7ZBE0xlu",
        "outputId": "1a91957f-38a0-49c4-f296-cd72ea9c79d7"
      },
      "execution_count": null,
      "outputs": [
        {
          "output_type": "execute_result",
          "data": {
            "text/plain": [
              "white    3961\n",
              "red      1359\n",
              "Name: color, dtype: int64"
            ]
          },
          "metadata": {},
          "execution_count": 37
        }
      ]
    },
    {
      "cell_type": "markdown",
      "source": [
        "> **🔎 해설**  \n",
        "와인의 color에 따른 quality를 통계적으로 살펴보니, **white 와인이 근소하게 높은 평균 quality를 가짐**을 확인할 수 있습니다.  \n",
        "\n",
        "<br>\n",
        "\n",
        "> 하지만 이 원인이,  \n",
        "단순하게 white 와인 데이터가 많기 때문인지 혹은 실제로 white 와인의 quality가 평균적으로 높은지는 추가적인 분석이 필요해 보입니다.\n"
      ],
      "metadata": {
        "id": "huc7_vxDj6rf"
      }
    },
    {
      "cell_type": "markdown",
      "source": [
        "<h3><b> 1-b) pH </b></h3>\n",
        "\n",
        "와인의 **pH** 지수는, **와인의 품질 보존과 산미를 결정짓는 중요한 성분**입니다.  \n",
        "\n",
        "일반적으로 와인은 3~4 pH를 띄며, white와인이 red에 비해 산도가 높습니다.  \n",
        "그렇다면 이 **pH 지수는 와인의 quality에 영향을 미칠 것**이라고 여겨집니다.  \n",
        "과연 그런지 분석을 통해 알아봅시다.\n",
        "\n",
        "먼저 color에 따른 평균 pH 지수를, 와인의 quality에 따라 살펴봅시다!"
      ],
      "metadata": {
        "id": "vL3zCI8O1jVe"
      }
    },
    {
      "cell_type": "code",
      "source": [
        "# 와인의 quality에 따른 각 컬럼의 평균값 확인\n",
        "wine_df.groupby('quality').mean()"
      ],
      "metadata": {
        "colab": {
          "base_uri": "https://localhost:8080/",
          "height": 300
        },
        "id": "ixBGDVCQWttl",
        "outputId": "a81f01d3-1aba-4343-9368-f4f763c04615"
      },
      "execution_count": null,
      "outputs": [
        {
          "output_type": "execute_result",
          "data": {
            "text/html": [
              "\n",
              "  <div id=\"df-b774412d-0c40-498e-b1c2-ea33da89f421\">\n",
              "    <div class=\"colab-df-container\">\n",
              "      <div>\n",
              "<style scoped>\n",
              "    .dataframe tbody tr th:only-of-type {\n",
              "        vertical-align: middle;\n",
              "    }\n",
              "\n",
              "    .dataframe tbody tr th {\n",
              "        vertical-align: top;\n",
              "    }\n",
              "\n",
              "    .dataframe thead th {\n",
              "        text-align: right;\n",
              "    }\n",
              "</style>\n",
              "<table border=\"1\" class=\"dataframe\">\n",
              "  <thead>\n",
              "    <tr style=\"text-align: right;\">\n",
              "      <th></th>\n",
              "      <th>fixed_acidity</th>\n",
              "      <th>volatile_acidity</th>\n",
              "      <th>citric_acid</th>\n",
              "      <th>residual_sugar</th>\n",
              "      <th>chlorides</th>\n",
              "      <th>free_sulfur_dioxide</th>\n",
              "      <th>total_sulfur_dioxide</th>\n",
              "      <th>density</th>\n",
              "      <th>pH</th>\n",
              "      <th>sulphates</th>\n",
              "      <th>alcohol</th>\n",
              "    </tr>\n",
              "    <tr>\n",
              "      <th>quality</th>\n",
              "      <th></th>\n",
              "      <th></th>\n",
              "      <th></th>\n",
              "      <th></th>\n",
              "      <th></th>\n",
              "      <th></th>\n",
              "      <th></th>\n",
              "      <th></th>\n",
              "      <th></th>\n",
              "      <th></th>\n",
              "      <th></th>\n",
              "    </tr>\n",
              "  </thead>\n",
              "  <tbody>\n",
              "    <tr>\n",
              "      <th>3</th>\n",
              "      <td>7.853333</td>\n",
              "      <td>0.517000</td>\n",
              "      <td>0.281000</td>\n",
              "      <td>5.140000</td>\n",
              "      <td>0.077033</td>\n",
              "      <td>39.216667</td>\n",
              "      <td>122.033333</td>\n",
              "      <td>0.995744</td>\n",
              "      <td>3.257667</td>\n",
              "      <td>0.506333</td>\n",
              "      <td>10.215000</td>\n",
              "    </tr>\n",
              "    <tr>\n",
              "      <th>4</th>\n",
              "      <td>7.304369</td>\n",
              "      <td>0.462379</td>\n",
              "      <td>0.271505</td>\n",
              "      <td>4.034951</td>\n",
              "      <td>0.060510</td>\n",
              "      <td>20.332524</td>\n",
              "      <td>101.516990</td>\n",
              "      <td>0.994802</td>\n",
              "      <td>3.235874</td>\n",
              "      <td>0.507476</td>\n",
              "      <td>10.215049</td>\n",
              "    </tr>\n",
              "    <tr>\n",
              "      <th>5</th>\n",
              "      <td>7.333248</td>\n",
              "      <td>0.393970</td>\n",
              "      <td>0.305845</td>\n",
              "      <td>5.481906</td>\n",
              "      <td>0.066039</td>\n",
              "      <td>29.797660</td>\n",
              "      <td>119.572203</td>\n",
              "      <td>0.995734</td>\n",
              "      <td>3.214275</td>\n",
              "      <td>0.529041</td>\n",
              "      <td>9.872211</td>\n",
              "    </tr>\n",
              "    <tr>\n",
              "      <th>6</th>\n",
              "      <td>7.169027</td>\n",
              "      <td>0.315626</td>\n",
              "      <td>0.324671</td>\n",
              "      <td>5.153142</td>\n",
              "      <td>0.054366</td>\n",
              "      <td>30.777873</td>\n",
              "      <td>114.433491</td>\n",
              "      <td>0.994377</td>\n",
              "      <td>3.224120</td>\n",
              "      <td>0.534313</td>\n",
              "      <td>10.649060</td>\n",
              "    </tr>\n",
              "    <tr>\n",
              "      <th>7</th>\n",
              "      <td>7.122021</td>\n",
              "      <td>0.292342</td>\n",
              "      <td>0.336040</td>\n",
              "      <td>4.171320</td>\n",
              "      <td>0.045218</td>\n",
              "      <td>29.977220</td>\n",
              "      <td>105.157126</td>\n",
              "      <td>0.992838</td>\n",
              "      <td>3.240479</td>\n",
              "      <td>0.549638</td>\n",
              "      <td>11.511020</td>\n",
              "    </tr>\n",
              "    <tr>\n",
              "      <th>8</th>\n",
              "      <td>6.820270</td>\n",
              "      <td>0.302973</td>\n",
              "      <td>0.340541</td>\n",
              "      <td>4.771622</td>\n",
              "      <td>0.040385</td>\n",
              "      <td>33.108108</td>\n",
              "      <td>111.976351</td>\n",
              "      <td>0.992130</td>\n",
              "      <td>3.239595</td>\n",
              "      <td>0.519054</td>\n",
              "      <td>11.912162</td>\n",
              "    </tr>\n",
              "    <tr>\n",
              "      <th>9</th>\n",
              "      <td>7.420000</td>\n",
              "      <td>0.298000</td>\n",
              "      <td>0.386000</td>\n",
              "      <td>4.120000</td>\n",
              "      <td>0.027400</td>\n",
              "      <td>33.400000</td>\n",
              "      <td>116.000000</td>\n",
              "      <td>0.991460</td>\n",
              "      <td>3.308000</td>\n",
              "      <td>0.466000</td>\n",
              "      <td>12.180000</td>\n",
              "    </tr>\n",
              "  </tbody>\n",
              "</table>\n",
              "</div>\n",
              "      <button class=\"colab-df-convert\" onclick=\"convertToInteractive('df-b774412d-0c40-498e-b1c2-ea33da89f421')\"\n",
              "              title=\"Convert this dataframe to an interactive table.\"\n",
              "              style=\"display:none;\">\n",
              "        \n",
              "  <svg xmlns=\"http://www.w3.org/2000/svg\" height=\"24px\"viewBox=\"0 0 24 24\"\n",
              "       width=\"24px\">\n",
              "    <path d=\"M0 0h24v24H0V0z\" fill=\"none\"/>\n",
              "    <path d=\"M18.56 5.44l.94 2.06.94-2.06 2.06-.94-2.06-.94-.94-2.06-.94 2.06-2.06.94zm-11 1L8.5 8.5l.94-2.06 2.06-.94-2.06-.94L8.5 2.5l-.94 2.06-2.06.94zm10 10l.94 2.06.94-2.06 2.06-.94-2.06-.94-.94-2.06-.94 2.06-2.06.94z\"/><path d=\"M17.41 7.96l-1.37-1.37c-.4-.4-.92-.59-1.43-.59-.52 0-1.04.2-1.43.59L10.3 9.45l-7.72 7.72c-.78.78-.78 2.05 0 2.83L4 21.41c.39.39.9.59 1.41.59.51 0 1.02-.2 1.41-.59l7.78-7.78 2.81-2.81c.8-.78.8-2.07 0-2.86zM5.41 20L4 18.59l7.72-7.72 1.47 1.35L5.41 20z\"/>\n",
              "  </svg>\n",
              "      </button>\n",
              "      \n",
              "  <style>\n",
              "    .colab-df-container {\n",
              "      display:flex;\n",
              "      flex-wrap:wrap;\n",
              "      gap: 12px;\n",
              "    }\n",
              "\n",
              "    .colab-df-convert {\n",
              "      background-color: #E8F0FE;\n",
              "      border: none;\n",
              "      border-radius: 50%;\n",
              "      cursor: pointer;\n",
              "      display: none;\n",
              "      fill: #1967D2;\n",
              "      height: 32px;\n",
              "      padding: 0 0 0 0;\n",
              "      width: 32px;\n",
              "    }\n",
              "\n",
              "    .colab-df-convert:hover {\n",
              "      background-color: #E2EBFA;\n",
              "      box-shadow: 0px 1px 2px rgba(60, 64, 67, 0.3), 0px 1px 3px 1px rgba(60, 64, 67, 0.15);\n",
              "      fill: #174EA6;\n",
              "    }\n",
              "\n",
              "    [theme=dark] .colab-df-convert {\n",
              "      background-color: #3B4455;\n",
              "      fill: #D2E3FC;\n",
              "    }\n",
              "\n",
              "    [theme=dark] .colab-df-convert:hover {\n",
              "      background-color: #434B5C;\n",
              "      box-shadow: 0px 1px 3px 1px rgba(0, 0, 0, 0.15);\n",
              "      filter: drop-shadow(0px 1px 2px rgba(0, 0, 0, 0.3));\n",
              "      fill: #FFFFFF;\n",
              "    }\n",
              "  </style>\n",
              "\n",
              "      <script>\n",
              "        const buttonEl =\n",
              "          document.querySelector('#df-b774412d-0c40-498e-b1c2-ea33da89f421 button.colab-df-convert');\n",
              "        buttonEl.style.display =\n",
              "          google.colab.kernel.accessAllowed ? 'block' : 'none';\n",
              "\n",
              "        async function convertToInteractive(key) {\n",
              "          const element = document.querySelector('#df-b774412d-0c40-498e-b1c2-ea33da89f421');\n",
              "          const dataTable =\n",
              "            await google.colab.kernel.invokeFunction('convertToInteractive',\n",
              "                                                     [key], {});\n",
              "          if (!dataTable) return;\n",
              "\n",
              "          const docLinkHtml = 'Like what you see? Visit the ' +\n",
              "            '<a target=\"_blank\" href=https://colab.research.google.com/notebooks/data_table.ipynb>data table notebook</a>'\n",
              "            + ' to learn more about interactive tables.';\n",
              "          element.innerHTML = '';\n",
              "          dataTable['output_type'] = 'display_data';\n",
              "          await google.colab.output.renderOutput(dataTable, element);\n",
              "          const docLink = document.createElement('div');\n",
              "          docLink.innerHTML = docLinkHtml;\n",
              "          element.appendChild(docLink);\n",
              "        }\n",
              "      </script>\n",
              "    </div>\n",
              "  </div>\n",
              "  "
            ],
            "text/plain": [
              "         fixed_acidity  volatile_acidity  ...  sulphates    alcohol\n",
              "quality                                   ...                      \n",
              "3             7.853333          0.517000  ...   0.506333  10.215000\n",
              "4             7.304369          0.462379  ...   0.507476  10.215049\n",
              "5             7.333248          0.393970  ...   0.529041   9.872211\n",
              "6             7.169027          0.315626  ...   0.534313  10.649060\n",
              "7             7.122021          0.292342  ...   0.549638  11.511020\n",
              "8             6.820270          0.302973  ...   0.519054  11.912162\n",
              "9             7.420000          0.298000  ...   0.466000  12.180000\n",
              "\n",
              "[7 rows x 11 columns]"
            ]
          },
          "metadata": {},
          "execution_count": 38
        }
      ]
    },
    {
      "cell_type": "code",
      "source": [
        "# groupby는 하나 이상의 컬럼으로 묶을 수 있음\n",
        "# quality, color로 그룹지어, 각 컬럼의 평균값 확인\n",
        "wine_df.groupby(['quality', 'color']).mean()"
      ],
      "metadata": {
        "colab": {
          "base_uri": "https://localhost:8080/",
          "height": 487
        },
        "id": "65dXtXpGm1nu",
        "outputId": "07b208d1-5d35-47b3-a838-1eaa752af3b6"
      },
      "execution_count": null,
      "outputs": [
        {
          "output_type": "execute_result",
          "data": {
            "text/html": [
              "\n",
              "  <div id=\"df-78716103-cec6-437b-90a1-73ad7e692b0e\">\n",
              "    <div class=\"colab-df-container\">\n",
              "      <div>\n",
              "<style scoped>\n",
              "    .dataframe tbody tr th:only-of-type {\n",
              "        vertical-align: middle;\n",
              "    }\n",
              "\n",
              "    .dataframe tbody tr th {\n",
              "        vertical-align: top;\n",
              "    }\n",
              "\n",
              "    .dataframe thead th {\n",
              "        text-align: right;\n",
              "    }\n",
              "</style>\n",
              "<table border=\"1\" class=\"dataframe\">\n",
              "  <thead>\n",
              "    <tr style=\"text-align: right;\">\n",
              "      <th></th>\n",
              "      <th></th>\n",
              "      <th>fixed_acidity</th>\n",
              "      <th>volatile_acidity</th>\n",
              "      <th>citric_acid</th>\n",
              "      <th>residual_sugar</th>\n",
              "      <th>chlorides</th>\n",
              "      <th>free_sulfur_dioxide</th>\n",
              "      <th>total_sulfur_dioxide</th>\n",
              "      <th>density</th>\n",
              "      <th>pH</th>\n",
              "      <th>sulphates</th>\n",
              "      <th>alcohol</th>\n",
              "    </tr>\n",
              "    <tr>\n",
              "      <th>quality</th>\n",
              "      <th>color</th>\n",
              "      <th></th>\n",
              "      <th></th>\n",
              "      <th></th>\n",
              "      <th></th>\n",
              "      <th></th>\n",
              "      <th></th>\n",
              "      <th></th>\n",
              "      <th></th>\n",
              "      <th></th>\n",
              "      <th></th>\n",
              "      <th></th>\n",
              "    </tr>\n",
              "  </thead>\n",
              "  <tbody>\n",
              "    <tr>\n",
              "      <th rowspan=\"2\" valign=\"top\">3</th>\n",
              "      <th>red</th>\n",
              "      <td>8.360000</td>\n",
              "      <td>0.884500</td>\n",
              "      <td>0.171000</td>\n",
              "      <td>2.635000</td>\n",
              "      <td>0.122500</td>\n",
              "      <td>11.000000</td>\n",
              "      <td>24.900000</td>\n",
              "      <td>0.997464</td>\n",
              "      <td>3.398000</td>\n",
              "      <td>0.570000</td>\n",
              "      <td>9.955000</td>\n",
              "    </tr>\n",
              "    <tr>\n",
              "      <th>white</th>\n",
              "      <td>7.600000</td>\n",
              "      <td>0.333250</td>\n",
              "      <td>0.336000</td>\n",
              "      <td>6.392500</td>\n",
              "      <td>0.054300</td>\n",
              "      <td>53.325000</td>\n",
              "      <td>170.600000</td>\n",
              "      <td>0.994884</td>\n",
              "      <td>3.187500</td>\n",
              "      <td>0.474500</td>\n",
              "      <td>10.345000</td>\n",
              "    </tr>\n",
              "    <tr>\n",
              "      <th rowspan=\"2\" valign=\"top\">4</th>\n",
              "      <th>red</th>\n",
              "      <td>7.779245</td>\n",
              "      <td>0.693962</td>\n",
              "      <td>0.174151</td>\n",
              "      <td>2.694340</td>\n",
              "      <td>0.090679</td>\n",
              "      <td>12.264151</td>\n",
              "      <td>36.245283</td>\n",
              "      <td>0.996542</td>\n",
              "      <td>3.381509</td>\n",
              "      <td>0.596415</td>\n",
              "      <td>10.265094</td>\n",
              "    </tr>\n",
              "    <tr>\n",
              "      <th>white</th>\n",
              "      <td>7.139869</td>\n",
              "      <td>0.382157</td>\n",
              "      <td>0.305229</td>\n",
              "      <td>4.499346</td>\n",
              "      <td>0.050059</td>\n",
              "      <td>23.127451</td>\n",
              "      <td>124.127451</td>\n",
              "      <td>0.994199</td>\n",
              "      <td>3.185425</td>\n",
              "      <td>0.476667</td>\n",
              "      <td>10.197712</td>\n",
              "    </tr>\n",
              "    <tr>\n",
              "      <th rowspan=\"2\" valign=\"top\">5</th>\n",
              "      <th>red</th>\n",
              "      <td>8.171231</td>\n",
              "      <td>0.578596</td>\n",
              "      <td>0.244523</td>\n",
              "      <td>2.509532</td>\n",
              "      <td>0.093971</td>\n",
              "      <td>17.161179</td>\n",
              "      <td>57.406412</td>\n",
              "      <td>0.997082</td>\n",
              "      <td>3.300815</td>\n",
              "      <td>0.623570</td>\n",
              "      <td>9.888562</td>\n",
              "    </tr>\n",
              "    <tr>\n",
              "      <th>white</th>\n",
              "      <td>6.921745</td>\n",
              "      <td>0.303306</td>\n",
              "      <td>0.335957</td>\n",
              "      <td>6.941532</td>\n",
              "      <td>0.052323</td>\n",
              "      <td>36.002979</td>\n",
              "      <td>150.099574</td>\n",
              "      <td>0.995072</td>\n",
              "      <td>3.171779</td>\n",
              "      <td>0.482621</td>\n",
              "      <td>9.864182</td>\n",
              "    </tr>\n",
              "    <tr>\n",
              "      <th rowspan=\"2\" valign=\"top\">6</th>\n",
              "      <th>red</th>\n",
              "      <td>8.337383</td>\n",
              "      <td>0.496084</td>\n",
              "      <td>0.279364</td>\n",
              "      <td>2.457290</td>\n",
              "      <td>0.085075</td>\n",
              "      <td>15.637383</td>\n",
              "      <td>40.816822</td>\n",
              "      <td>0.996565</td>\n",
              "      <td>3.318000</td>\n",
              "      <td>0.674542</td>\n",
              "      <td>10.658879</td>\n",
              "    </tr>\n",
              "    <tr>\n",
              "      <th>white</th>\n",
              "      <td>6.819435</td>\n",
              "      <td>0.261630</td>\n",
              "      <td>0.338227</td>\n",
              "      <td>5.959787</td>\n",
              "      <td>0.045178</td>\n",
              "      <td>35.308166</td>\n",
              "      <td>136.460850</td>\n",
              "      <td>0.993722</td>\n",
              "      <td>3.196029</td>\n",
              "      <td>0.492355</td>\n",
              "      <td>10.646122</td>\n",
              "    </tr>\n",
              "    <tr>\n",
              "      <th rowspan=\"2\" valign=\"top\">7</th>\n",
              "      <th>red</th>\n",
              "      <td>8.858683</td>\n",
              "      <td>0.403653</td>\n",
              "      <td>0.371856</td>\n",
              "      <td>2.716766</td>\n",
              "      <td>0.076832</td>\n",
              "      <td>13.994012</td>\n",
              "      <td>35.449102</td>\n",
              "      <td>0.996051</td>\n",
              "      <td>3.290060</td>\n",
              "      <td>0.742635</td>\n",
              "      <td>11.491118</td>\n",
              "    </tr>\n",
              "    <tr>\n",
              "      <th>white</th>\n",
              "      <td>6.701089</td>\n",
              "      <td>0.265363</td>\n",
              "      <td>0.327358</td>\n",
              "      <td>4.523875</td>\n",
              "      <td>0.037556</td>\n",
              "      <td>33.851234</td>\n",
              "      <td>122.052975</td>\n",
              "      <td>0.992059</td>\n",
              "      <td>3.228462</td>\n",
              "      <td>0.502859</td>\n",
              "      <td>11.515844</td>\n",
              "    </tr>\n",
              "    <tr>\n",
              "      <th rowspan=\"2\" valign=\"top\">8</th>\n",
              "      <th>red</th>\n",
              "      <td>8.441176</td>\n",
              "      <td>0.427647</td>\n",
              "      <td>0.382941</td>\n",
              "      <td>2.576471</td>\n",
              "      <td>0.068353</td>\n",
              "      <td>13.764706</td>\n",
              "      <td>34.470588</td>\n",
              "      <td>0.995095</td>\n",
              "      <td>3.274118</td>\n",
              "      <td>0.774706</td>\n",
              "      <td>12.158824</td>\n",
              "    </tr>\n",
              "    <tr>\n",
              "      <th>white</th>\n",
              "      <td>6.609924</td>\n",
              "      <td>0.286794</td>\n",
              "      <td>0.335038</td>\n",
              "      <td>5.056489</td>\n",
              "      <td>0.036756</td>\n",
              "      <td>35.618321</td>\n",
              "      <td>122.034351</td>\n",
              "      <td>0.991745</td>\n",
              "      <td>3.235115</td>\n",
              "      <td>0.485878</td>\n",
              "      <td>11.880153</td>\n",
              "    </tr>\n",
              "    <tr>\n",
              "      <th>9</th>\n",
              "      <th>white</th>\n",
              "      <td>7.420000</td>\n",
              "      <td>0.298000</td>\n",
              "      <td>0.386000</td>\n",
              "      <td>4.120000</td>\n",
              "      <td>0.027400</td>\n",
              "      <td>33.400000</td>\n",
              "      <td>116.000000</td>\n",
              "      <td>0.991460</td>\n",
              "      <td>3.308000</td>\n",
              "      <td>0.466000</td>\n",
              "      <td>12.180000</td>\n",
              "    </tr>\n",
              "  </tbody>\n",
              "</table>\n",
              "</div>\n",
              "      <button class=\"colab-df-convert\" onclick=\"convertToInteractive('df-78716103-cec6-437b-90a1-73ad7e692b0e')\"\n",
              "              title=\"Convert this dataframe to an interactive table.\"\n",
              "              style=\"display:none;\">\n",
              "        \n",
              "  <svg xmlns=\"http://www.w3.org/2000/svg\" height=\"24px\"viewBox=\"0 0 24 24\"\n",
              "       width=\"24px\">\n",
              "    <path d=\"M0 0h24v24H0V0z\" fill=\"none\"/>\n",
              "    <path d=\"M18.56 5.44l.94 2.06.94-2.06 2.06-.94-2.06-.94-.94-2.06-.94 2.06-2.06.94zm-11 1L8.5 8.5l.94-2.06 2.06-.94-2.06-.94L8.5 2.5l-.94 2.06-2.06.94zm10 10l.94 2.06.94-2.06 2.06-.94-2.06-.94-.94-2.06-.94 2.06-2.06.94z\"/><path d=\"M17.41 7.96l-1.37-1.37c-.4-.4-.92-.59-1.43-.59-.52 0-1.04.2-1.43.59L10.3 9.45l-7.72 7.72c-.78.78-.78 2.05 0 2.83L4 21.41c.39.39.9.59 1.41.59.51 0 1.02-.2 1.41-.59l7.78-7.78 2.81-2.81c.8-.78.8-2.07 0-2.86zM5.41 20L4 18.59l7.72-7.72 1.47 1.35L5.41 20z\"/>\n",
              "  </svg>\n",
              "      </button>\n",
              "      \n",
              "  <style>\n",
              "    .colab-df-container {\n",
              "      display:flex;\n",
              "      flex-wrap:wrap;\n",
              "      gap: 12px;\n",
              "    }\n",
              "\n",
              "    .colab-df-convert {\n",
              "      background-color: #E8F0FE;\n",
              "      border: none;\n",
              "      border-radius: 50%;\n",
              "      cursor: pointer;\n",
              "      display: none;\n",
              "      fill: #1967D2;\n",
              "      height: 32px;\n",
              "      padding: 0 0 0 0;\n",
              "      width: 32px;\n",
              "    }\n",
              "\n",
              "    .colab-df-convert:hover {\n",
              "      background-color: #E2EBFA;\n",
              "      box-shadow: 0px 1px 2px rgba(60, 64, 67, 0.3), 0px 1px 3px 1px rgba(60, 64, 67, 0.15);\n",
              "      fill: #174EA6;\n",
              "    }\n",
              "\n",
              "    [theme=dark] .colab-df-convert {\n",
              "      background-color: #3B4455;\n",
              "      fill: #D2E3FC;\n",
              "    }\n",
              "\n",
              "    [theme=dark] .colab-df-convert:hover {\n",
              "      background-color: #434B5C;\n",
              "      box-shadow: 0px 1px 3px 1px rgba(0, 0, 0, 0.15);\n",
              "      filter: drop-shadow(0px 1px 2px rgba(0, 0, 0, 0.3));\n",
              "      fill: #FFFFFF;\n",
              "    }\n",
              "  </style>\n",
              "\n",
              "      <script>\n",
              "        const buttonEl =\n",
              "          document.querySelector('#df-78716103-cec6-437b-90a1-73ad7e692b0e button.colab-df-convert');\n",
              "        buttonEl.style.display =\n",
              "          google.colab.kernel.accessAllowed ? 'block' : 'none';\n",
              "\n",
              "        async function convertToInteractive(key) {\n",
              "          const element = document.querySelector('#df-78716103-cec6-437b-90a1-73ad7e692b0e');\n",
              "          const dataTable =\n",
              "            await google.colab.kernel.invokeFunction('convertToInteractive',\n",
              "                                                     [key], {});\n",
              "          if (!dataTable) return;\n",
              "\n",
              "          const docLinkHtml = 'Like what you see? Visit the ' +\n",
              "            '<a target=\"_blank\" href=https://colab.research.google.com/notebooks/data_table.ipynb>data table notebook</a>'\n",
              "            + ' to learn more about interactive tables.';\n",
              "          element.innerHTML = '';\n",
              "          dataTable['output_type'] = 'display_data';\n",
              "          await google.colab.output.renderOutput(dataTable, element);\n",
              "          const docLink = document.createElement('div');\n",
              "          docLink.innerHTML = docLinkHtml;\n",
              "          element.appendChild(docLink);\n",
              "        }\n",
              "      </script>\n",
              "    </div>\n",
              "  </div>\n",
              "  "
            ],
            "text/plain": [
              "               fixed_acidity  volatile_acidity  ...  sulphates    alcohol\n",
              "quality color                                   ...                      \n",
              "3       red         8.360000          0.884500  ...   0.570000   9.955000\n",
              "        white       7.600000          0.333250  ...   0.474500  10.345000\n",
              "4       red         7.779245          0.693962  ...   0.596415  10.265094\n",
              "        white       7.139869          0.382157  ...   0.476667  10.197712\n",
              "5       red         8.171231          0.578596  ...   0.623570   9.888562\n",
              "        white       6.921745          0.303306  ...   0.482621   9.864182\n",
              "6       red         8.337383          0.496084  ...   0.674542  10.658879\n",
              "        white       6.819435          0.261630  ...   0.492355  10.646122\n",
              "7       red         8.858683          0.403653  ...   0.742635  11.491118\n",
              "        white       6.701089          0.265363  ...   0.502859  11.515844\n",
              "8       red         8.441176          0.427647  ...   0.774706  12.158824\n",
              "        white       6.609924          0.286794  ...   0.485878  11.880153\n",
              "9       white       7.420000          0.298000  ...   0.466000  12.180000\n",
              "\n",
              "[13 rows x 11 columns]"
            ]
          },
          "metadata": {},
          "execution_count": 39
        }
      ]
    },
    {
      "cell_type": "code",
      "source": [
        "wine_df.groupby(['quality', 'color'], as_index=False).mean()"
      ],
      "metadata": {
        "colab": {
          "base_uri": "https://localhost:8080/",
          "height": 456
        },
        "id": "EfKX_6lGnq-I",
        "outputId": "b2f47d05-95ed-463e-dcf6-d8ae34805ac4"
      },
      "execution_count": null,
      "outputs": [
        {
          "output_type": "execute_result",
          "data": {
            "text/html": [
              "\n",
              "  <div id=\"df-42939ec3-296c-44d1-b284-f083b06555c1\">\n",
              "    <div class=\"colab-df-container\">\n",
              "      <div>\n",
              "<style scoped>\n",
              "    .dataframe tbody tr th:only-of-type {\n",
              "        vertical-align: middle;\n",
              "    }\n",
              "\n",
              "    .dataframe tbody tr th {\n",
              "        vertical-align: top;\n",
              "    }\n",
              "\n",
              "    .dataframe thead th {\n",
              "        text-align: right;\n",
              "    }\n",
              "</style>\n",
              "<table border=\"1\" class=\"dataframe\">\n",
              "  <thead>\n",
              "    <tr style=\"text-align: right;\">\n",
              "      <th></th>\n",
              "      <th>quality</th>\n",
              "      <th>color</th>\n",
              "      <th>fixed_acidity</th>\n",
              "      <th>volatile_acidity</th>\n",
              "      <th>citric_acid</th>\n",
              "      <th>residual_sugar</th>\n",
              "      <th>chlorides</th>\n",
              "      <th>free_sulfur_dioxide</th>\n",
              "      <th>total_sulfur_dioxide</th>\n",
              "      <th>density</th>\n",
              "      <th>pH</th>\n",
              "      <th>sulphates</th>\n",
              "      <th>alcohol</th>\n",
              "    </tr>\n",
              "  </thead>\n",
              "  <tbody>\n",
              "    <tr>\n",
              "      <th>0</th>\n",
              "      <td>3</td>\n",
              "      <td>red</td>\n",
              "      <td>8.360000</td>\n",
              "      <td>0.884500</td>\n",
              "      <td>0.171000</td>\n",
              "      <td>2.635000</td>\n",
              "      <td>0.122500</td>\n",
              "      <td>11.000000</td>\n",
              "      <td>24.900000</td>\n",
              "      <td>0.997464</td>\n",
              "      <td>3.398000</td>\n",
              "      <td>0.570000</td>\n",
              "      <td>9.955000</td>\n",
              "    </tr>\n",
              "    <tr>\n",
              "      <th>1</th>\n",
              "      <td>3</td>\n",
              "      <td>white</td>\n",
              "      <td>7.600000</td>\n",
              "      <td>0.333250</td>\n",
              "      <td>0.336000</td>\n",
              "      <td>6.392500</td>\n",
              "      <td>0.054300</td>\n",
              "      <td>53.325000</td>\n",
              "      <td>170.600000</td>\n",
              "      <td>0.994884</td>\n",
              "      <td>3.187500</td>\n",
              "      <td>0.474500</td>\n",
              "      <td>10.345000</td>\n",
              "    </tr>\n",
              "    <tr>\n",
              "      <th>2</th>\n",
              "      <td>4</td>\n",
              "      <td>red</td>\n",
              "      <td>7.779245</td>\n",
              "      <td>0.693962</td>\n",
              "      <td>0.174151</td>\n",
              "      <td>2.694340</td>\n",
              "      <td>0.090679</td>\n",
              "      <td>12.264151</td>\n",
              "      <td>36.245283</td>\n",
              "      <td>0.996542</td>\n",
              "      <td>3.381509</td>\n",
              "      <td>0.596415</td>\n",
              "      <td>10.265094</td>\n",
              "    </tr>\n",
              "    <tr>\n",
              "      <th>3</th>\n",
              "      <td>4</td>\n",
              "      <td>white</td>\n",
              "      <td>7.139869</td>\n",
              "      <td>0.382157</td>\n",
              "      <td>0.305229</td>\n",
              "      <td>4.499346</td>\n",
              "      <td>0.050059</td>\n",
              "      <td>23.127451</td>\n",
              "      <td>124.127451</td>\n",
              "      <td>0.994199</td>\n",
              "      <td>3.185425</td>\n",
              "      <td>0.476667</td>\n",
              "      <td>10.197712</td>\n",
              "    </tr>\n",
              "    <tr>\n",
              "      <th>4</th>\n",
              "      <td>5</td>\n",
              "      <td>red</td>\n",
              "      <td>8.171231</td>\n",
              "      <td>0.578596</td>\n",
              "      <td>0.244523</td>\n",
              "      <td>2.509532</td>\n",
              "      <td>0.093971</td>\n",
              "      <td>17.161179</td>\n",
              "      <td>57.406412</td>\n",
              "      <td>0.997082</td>\n",
              "      <td>3.300815</td>\n",
              "      <td>0.623570</td>\n",
              "      <td>9.888562</td>\n",
              "    </tr>\n",
              "    <tr>\n",
              "      <th>5</th>\n",
              "      <td>5</td>\n",
              "      <td>white</td>\n",
              "      <td>6.921745</td>\n",
              "      <td>0.303306</td>\n",
              "      <td>0.335957</td>\n",
              "      <td>6.941532</td>\n",
              "      <td>0.052323</td>\n",
              "      <td>36.002979</td>\n",
              "      <td>150.099574</td>\n",
              "      <td>0.995072</td>\n",
              "      <td>3.171779</td>\n",
              "      <td>0.482621</td>\n",
              "      <td>9.864182</td>\n",
              "    </tr>\n",
              "    <tr>\n",
              "      <th>6</th>\n",
              "      <td>6</td>\n",
              "      <td>red</td>\n",
              "      <td>8.337383</td>\n",
              "      <td>0.496084</td>\n",
              "      <td>0.279364</td>\n",
              "      <td>2.457290</td>\n",
              "      <td>0.085075</td>\n",
              "      <td>15.637383</td>\n",
              "      <td>40.816822</td>\n",
              "      <td>0.996565</td>\n",
              "      <td>3.318000</td>\n",
              "      <td>0.674542</td>\n",
              "      <td>10.658879</td>\n",
              "    </tr>\n",
              "    <tr>\n",
              "      <th>7</th>\n",
              "      <td>6</td>\n",
              "      <td>white</td>\n",
              "      <td>6.819435</td>\n",
              "      <td>0.261630</td>\n",
              "      <td>0.338227</td>\n",
              "      <td>5.959787</td>\n",
              "      <td>0.045178</td>\n",
              "      <td>35.308166</td>\n",
              "      <td>136.460850</td>\n",
              "      <td>0.993722</td>\n",
              "      <td>3.196029</td>\n",
              "      <td>0.492355</td>\n",
              "      <td>10.646122</td>\n",
              "    </tr>\n",
              "    <tr>\n",
              "      <th>8</th>\n",
              "      <td>7</td>\n",
              "      <td>red</td>\n",
              "      <td>8.858683</td>\n",
              "      <td>0.403653</td>\n",
              "      <td>0.371856</td>\n",
              "      <td>2.716766</td>\n",
              "      <td>0.076832</td>\n",
              "      <td>13.994012</td>\n",
              "      <td>35.449102</td>\n",
              "      <td>0.996051</td>\n",
              "      <td>3.290060</td>\n",
              "      <td>0.742635</td>\n",
              "      <td>11.491118</td>\n",
              "    </tr>\n",
              "    <tr>\n",
              "      <th>9</th>\n",
              "      <td>7</td>\n",
              "      <td>white</td>\n",
              "      <td>6.701089</td>\n",
              "      <td>0.265363</td>\n",
              "      <td>0.327358</td>\n",
              "      <td>4.523875</td>\n",
              "      <td>0.037556</td>\n",
              "      <td>33.851234</td>\n",
              "      <td>122.052975</td>\n",
              "      <td>0.992059</td>\n",
              "      <td>3.228462</td>\n",
              "      <td>0.502859</td>\n",
              "      <td>11.515844</td>\n",
              "    </tr>\n",
              "    <tr>\n",
              "      <th>10</th>\n",
              "      <td>8</td>\n",
              "      <td>red</td>\n",
              "      <td>8.441176</td>\n",
              "      <td>0.427647</td>\n",
              "      <td>0.382941</td>\n",
              "      <td>2.576471</td>\n",
              "      <td>0.068353</td>\n",
              "      <td>13.764706</td>\n",
              "      <td>34.470588</td>\n",
              "      <td>0.995095</td>\n",
              "      <td>3.274118</td>\n",
              "      <td>0.774706</td>\n",
              "      <td>12.158824</td>\n",
              "    </tr>\n",
              "    <tr>\n",
              "      <th>11</th>\n",
              "      <td>8</td>\n",
              "      <td>white</td>\n",
              "      <td>6.609924</td>\n",
              "      <td>0.286794</td>\n",
              "      <td>0.335038</td>\n",
              "      <td>5.056489</td>\n",
              "      <td>0.036756</td>\n",
              "      <td>35.618321</td>\n",
              "      <td>122.034351</td>\n",
              "      <td>0.991745</td>\n",
              "      <td>3.235115</td>\n",
              "      <td>0.485878</td>\n",
              "      <td>11.880153</td>\n",
              "    </tr>\n",
              "    <tr>\n",
              "      <th>12</th>\n",
              "      <td>9</td>\n",
              "      <td>white</td>\n",
              "      <td>7.420000</td>\n",
              "      <td>0.298000</td>\n",
              "      <td>0.386000</td>\n",
              "      <td>4.120000</td>\n",
              "      <td>0.027400</td>\n",
              "      <td>33.400000</td>\n",
              "      <td>116.000000</td>\n",
              "      <td>0.991460</td>\n",
              "      <td>3.308000</td>\n",
              "      <td>0.466000</td>\n",
              "      <td>12.180000</td>\n",
              "    </tr>\n",
              "  </tbody>\n",
              "</table>\n",
              "</div>\n",
              "      <button class=\"colab-df-convert\" onclick=\"convertToInteractive('df-42939ec3-296c-44d1-b284-f083b06555c1')\"\n",
              "              title=\"Convert this dataframe to an interactive table.\"\n",
              "              style=\"display:none;\">\n",
              "        \n",
              "  <svg xmlns=\"http://www.w3.org/2000/svg\" height=\"24px\"viewBox=\"0 0 24 24\"\n",
              "       width=\"24px\">\n",
              "    <path d=\"M0 0h24v24H0V0z\" fill=\"none\"/>\n",
              "    <path d=\"M18.56 5.44l.94 2.06.94-2.06 2.06-.94-2.06-.94-.94-2.06-.94 2.06-2.06.94zm-11 1L8.5 8.5l.94-2.06 2.06-.94-2.06-.94L8.5 2.5l-.94 2.06-2.06.94zm10 10l.94 2.06.94-2.06 2.06-.94-2.06-.94-.94-2.06-.94 2.06-2.06.94z\"/><path d=\"M17.41 7.96l-1.37-1.37c-.4-.4-.92-.59-1.43-.59-.52 0-1.04.2-1.43.59L10.3 9.45l-7.72 7.72c-.78.78-.78 2.05 0 2.83L4 21.41c.39.39.9.59 1.41.59.51 0 1.02-.2 1.41-.59l7.78-7.78 2.81-2.81c.8-.78.8-2.07 0-2.86zM5.41 20L4 18.59l7.72-7.72 1.47 1.35L5.41 20z\"/>\n",
              "  </svg>\n",
              "      </button>\n",
              "      \n",
              "  <style>\n",
              "    .colab-df-container {\n",
              "      display:flex;\n",
              "      flex-wrap:wrap;\n",
              "      gap: 12px;\n",
              "    }\n",
              "\n",
              "    .colab-df-convert {\n",
              "      background-color: #E8F0FE;\n",
              "      border: none;\n",
              "      border-radius: 50%;\n",
              "      cursor: pointer;\n",
              "      display: none;\n",
              "      fill: #1967D2;\n",
              "      height: 32px;\n",
              "      padding: 0 0 0 0;\n",
              "      width: 32px;\n",
              "    }\n",
              "\n",
              "    .colab-df-convert:hover {\n",
              "      background-color: #E2EBFA;\n",
              "      box-shadow: 0px 1px 2px rgba(60, 64, 67, 0.3), 0px 1px 3px 1px rgba(60, 64, 67, 0.15);\n",
              "      fill: #174EA6;\n",
              "    }\n",
              "\n",
              "    [theme=dark] .colab-df-convert {\n",
              "      background-color: #3B4455;\n",
              "      fill: #D2E3FC;\n",
              "    }\n",
              "\n",
              "    [theme=dark] .colab-df-convert:hover {\n",
              "      background-color: #434B5C;\n",
              "      box-shadow: 0px 1px 3px 1px rgba(0, 0, 0, 0.15);\n",
              "      filter: drop-shadow(0px 1px 2px rgba(0, 0, 0, 0.3));\n",
              "      fill: #FFFFFF;\n",
              "    }\n",
              "  </style>\n",
              "\n",
              "      <script>\n",
              "        const buttonEl =\n",
              "          document.querySelector('#df-42939ec3-296c-44d1-b284-f083b06555c1 button.colab-df-convert');\n",
              "        buttonEl.style.display =\n",
              "          google.colab.kernel.accessAllowed ? 'block' : 'none';\n",
              "\n",
              "        async function convertToInteractive(key) {\n",
              "          const element = document.querySelector('#df-42939ec3-296c-44d1-b284-f083b06555c1');\n",
              "          const dataTable =\n",
              "            await google.colab.kernel.invokeFunction('convertToInteractive',\n",
              "                                                     [key], {});\n",
              "          if (!dataTable) return;\n",
              "\n",
              "          const docLinkHtml = 'Like what you see? Visit the ' +\n",
              "            '<a target=\"_blank\" href=https://colab.research.google.com/notebooks/data_table.ipynb>data table notebook</a>'\n",
              "            + ' to learn more about interactive tables.';\n",
              "          element.innerHTML = '';\n",
              "          dataTable['output_type'] = 'display_data';\n",
              "          await google.colab.output.renderOutput(dataTable, element);\n",
              "          const docLink = document.createElement('div');\n",
              "          docLink.innerHTML = docLinkHtml;\n",
              "          element.appendChild(docLink);\n",
              "        }\n",
              "      </script>\n",
              "    </div>\n",
              "  </div>\n",
              "  "
            ],
            "text/plain": [
              "    quality  color  fixed_acidity  ...        pH  sulphates    alcohol\n",
              "0         3    red       8.360000  ...  3.398000   0.570000   9.955000\n",
              "1         3  white       7.600000  ...  3.187500   0.474500  10.345000\n",
              "2         4    red       7.779245  ...  3.381509   0.596415  10.265094\n",
              "3         4  white       7.139869  ...  3.185425   0.476667  10.197712\n",
              "4         5    red       8.171231  ...  3.300815   0.623570   9.888562\n",
              "5         5  white       6.921745  ...  3.171779   0.482621   9.864182\n",
              "6         6    red       8.337383  ...  3.318000   0.674542  10.658879\n",
              "7         6  white       6.819435  ...  3.196029   0.492355  10.646122\n",
              "8         7    red       8.858683  ...  3.290060   0.742635  11.491118\n",
              "9         7  white       6.701089  ...  3.228462   0.502859  11.515844\n",
              "10        8    red       8.441176  ...  3.274118   0.774706  12.158824\n",
              "11        8  white       6.609924  ...  3.235115   0.485878  11.880153\n",
              "12        9  white       7.420000  ...  3.308000   0.466000  12.180000\n",
              "\n",
              "[13 rows x 13 columns]"
            ]
          },
          "metadata": {},
          "execution_count": 40
        }
      ]
    },
    {
      "cell_type": "code",
      "source": [
        "# 위의 많은 컬럼 중, 알아내고자 하는 pH 컬럼을 선택하여 확인\n",
        "wine_df.groupby(['quality', 'color'], as_index=False)['pH'].mean()"
      ],
      "metadata": {
        "colab": {
          "base_uri": "https://localhost:8080/",
          "height": 456
        },
        "id": "iUQ86sdLpaix",
        "outputId": "6dbadc2b-6a7d-410f-e26e-4df38ddbee65"
      },
      "execution_count": null,
      "outputs": [
        {
          "output_type": "execute_result",
          "data": {
            "text/html": [
              "\n",
              "  <div id=\"df-588f0a90-f53d-4171-9137-9868d129ee04\">\n",
              "    <div class=\"colab-df-container\">\n",
              "      <div>\n",
              "<style scoped>\n",
              "    .dataframe tbody tr th:only-of-type {\n",
              "        vertical-align: middle;\n",
              "    }\n",
              "\n",
              "    .dataframe tbody tr th {\n",
              "        vertical-align: top;\n",
              "    }\n",
              "\n",
              "    .dataframe thead th {\n",
              "        text-align: right;\n",
              "    }\n",
              "</style>\n",
              "<table border=\"1\" class=\"dataframe\">\n",
              "  <thead>\n",
              "    <tr style=\"text-align: right;\">\n",
              "      <th></th>\n",
              "      <th>quality</th>\n",
              "      <th>color</th>\n",
              "      <th>pH</th>\n",
              "    </tr>\n",
              "  </thead>\n",
              "  <tbody>\n",
              "    <tr>\n",
              "      <th>0</th>\n",
              "      <td>3</td>\n",
              "      <td>red</td>\n",
              "      <td>3.398000</td>\n",
              "    </tr>\n",
              "    <tr>\n",
              "      <th>1</th>\n",
              "      <td>3</td>\n",
              "      <td>white</td>\n",
              "      <td>3.187500</td>\n",
              "    </tr>\n",
              "    <tr>\n",
              "      <th>2</th>\n",
              "      <td>4</td>\n",
              "      <td>red</td>\n",
              "      <td>3.381509</td>\n",
              "    </tr>\n",
              "    <tr>\n",
              "      <th>3</th>\n",
              "      <td>4</td>\n",
              "      <td>white</td>\n",
              "      <td>3.185425</td>\n",
              "    </tr>\n",
              "    <tr>\n",
              "      <th>4</th>\n",
              "      <td>5</td>\n",
              "      <td>red</td>\n",
              "      <td>3.300815</td>\n",
              "    </tr>\n",
              "    <tr>\n",
              "      <th>5</th>\n",
              "      <td>5</td>\n",
              "      <td>white</td>\n",
              "      <td>3.171779</td>\n",
              "    </tr>\n",
              "    <tr>\n",
              "      <th>6</th>\n",
              "      <td>6</td>\n",
              "      <td>red</td>\n",
              "      <td>3.318000</td>\n",
              "    </tr>\n",
              "    <tr>\n",
              "      <th>7</th>\n",
              "      <td>6</td>\n",
              "      <td>white</td>\n",
              "      <td>3.196029</td>\n",
              "    </tr>\n",
              "    <tr>\n",
              "      <th>8</th>\n",
              "      <td>7</td>\n",
              "      <td>red</td>\n",
              "      <td>3.290060</td>\n",
              "    </tr>\n",
              "    <tr>\n",
              "      <th>9</th>\n",
              "      <td>7</td>\n",
              "      <td>white</td>\n",
              "      <td>3.228462</td>\n",
              "    </tr>\n",
              "    <tr>\n",
              "      <th>10</th>\n",
              "      <td>8</td>\n",
              "      <td>red</td>\n",
              "      <td>3.274118</td>\n",
              "    </tr>\n",
              "    <tr>\n",
              "      <th>11</th>\n",
              "      <td>8</td>\n",
              "      <td>white</td>\n",
              "      <td>3.235115</td>\n",
              "    </tr>\n",
              "    <tr>\n",
              "      <th>12</th>\n",
              "      <td>9</td>\n",
              "      <td>white</td>\n",
              "      <td>3.308000</td>\n",
              "    </tr>\n",
              "  </tbody>\n",
              "</table>\n",
              "</div>\n",
              "      <button class=\"colab-df-convert\" onclick=\"convertToInteractive('df-588f0a90-f53d-4171-9137-9868d129ee04')\"\n",
              "              title=\"Convert this dataframe to an interactive table.\"\n",
              "              style=\"display:none;\">\n",
              "        \n",
              "  <svg xmlns=\"http://www.w3.org/2000/svg\" height=\"24px\"viewBox=\"0 0 24 24\"\n",
              "       width=\"24px\">\n",
              "    <path d=\"M0 0h24v24H0V0z\" fill=\"none\"/>\n",
              "    <path d=\"M18.56 5.44l.94 2.06.94-2.06 2.06-.94-2.06-.94-.94-2.06-.94 2.06-2.06.94zm-11 1L8.5 8.5l.94-2.06 2.06-.94-2.06-.94L8.5 2.5l-.94 2.06-2.06.94zm10 10l.94 2.06.94-2.06 2.06-.94-2.06-.94-.94-2.06-.94 2.06-2.06.94z\"/><path d=\"M17.41 7.96l-1.37-1.37c-.4-.4-.92-.59-1.43-.59-.52 0-1.04.2-1.43.59L10.3 9.45l-7.72 7.72c-.78.78-.78 2.05 0 2.83L4 21.41c.39.39.9.59 1.41.59.51 0 1.02-.2 1.41-.59l7.78-7.78 2.81-2.81c.8-.78.8-2.07 0-2.86zM5.41 20L4 18.59l7.72-7.72 1.47 1.35L5.41 20z\"/>\n",
              "  </svg>\n",
              "      </button>\n",
              "      \n",
              "  <style>\n",
              "    .colab-df-container {\n",
              "      display:flex;\n",
              "      flex-wrap:wrap;\n",
              "      gap: 12px;\n",
              "    }\n",
              "\n",
              "    .colab-df-convert {\n",
              "      background-color: #E8F0FE;\n",
              "      border: none;\n",
              "      border-radius: 50%;\n",
              "      cursor: pointer;\n",
              "      display: none;\n",
              "      fill: #1967D2;\n",
              "      height: 32px;\n",
              "      padding: 0 0 0 0;\n",
              "      width: 32px;\n",
              "    }\n",
              "\n",
              "    .colab-df-convert:hover {\n",
              "      background-color: #E2EBFA;\n",
              "      box-shadow: 0px 1px 2px rgba(60, 64, 67, 0.3), 0px 1px 3px 1px rgba(60, 64, 67, 0.15);\n",
              "      fill: #174EA6;\n",
              "    }\n",
              "\n",
              "    [theme=dark] .colab-df-convert {\n",
              "      background-color: #3B4455;\n",
              "      fill: #D2E3FC;\n",
              "    }\n",
              "\n",
              "    [theme=dark] .colab-df-convert:hover {\n",
              "      background-color: #434B5C;\n",
              "      box-shadow: 0px 1px 3px 1px rgba(0, 0, 0, 0.15);\n",
              "      filter: drop-shadow(0px 1px 2px rgba(0, 0, 0, 0.3));\n",
              "      fill: #FFFFFF;\n",
              "    }\n",
              "  </style>\n",
              "\n",
              "      <script>\n",
              "        const buttonEl =\n",
              "          document.querySelector('#df-588f0a90-f53d-4171-9137-9868d129ee04 button.colab-df-convert');\n",
              "        buttonEl.style.display =\n",
              "          google.colab.kernel.accessAllowed ? 'block' : 'none';\n",
              "\n",
              "        async function convertToInteractive(key) {\n",
              "          const element = document.querySelector('#df-588f0a90-f53d-4171-9137-9868d129ee04');\n",
              "          const dataTable =\n",
              "            await google.colab.kernel.invokeFunction('convertToInteractive',\n",
              "                                                     [key], {});\n",
              "          if (!dataTable) return;\n",
              "\n",
              "          const docLinkHtml = 'Like what you see? Visit the ' +\n",
              "            '<a target=\"_blank\" href=https://colab.research.google.com/notebooks/data_table.ipynb>data table notebook</a>'\n",
              "            + ' to learn more about interactive tables.';\n",
              "          element.innerHTML = '';\n",
              "          dataTable['output_type'] = 'display_data';\n",
              "          await google.colab.output.renderOutput(dataTable, element);\n",
              "          const docLink = document.createElement('div');\n",
              "          docLink.innerHTML = docLinkHtml;\n",
              "          element.appendChild(docLink);\n",
              "        }\n",
              "      </script>\n",
              "    </div>\n",
              "  </div>\n",
              "  "
            ],
            "text/plain": [
              "    quality  color        pH\n",
              "0         3    red  3.398000\n",
              "1         3  white  3.187500\n",
              "2         4    red  3.381509\n",
              "3         4  white  3.185425\n",
              "4         5    red  3.300815\n",
              "5         5  white  3.171779\n",
              "6         6    red  3.318000\n",
              "7         6  white  3.196029\n",
              "8         7    red  3.290060\n",
              "9         7  white  3.228462\n",
              "10        8    red  3.274118\n",
              "11        8  white  3.235115\n",
              "12        9  white  3.308000"
            ]
          },
          "metadata": {},
          "execution_count": 41
        }
      ]
    },
    {
      "cell_type": "markdown",
      "source": [
        "> **🔎 해설**  \n",
        "위의 통계치를 통해,  \n",
        "**같은 quality라 하더라도, white 와인이 red에 비해 pH 지수가 더 낮음**을 확인할 수 있습니다.\n",
        "\n",
        "<br>\n",
        "\n",
        ">그렇다면 **color의 구분없이, 어떤 pH 지수 등급을 가진 와인이 더 높은 평균 quality rating을 받을까요?**  \n",
        "<img width='600' src='https://i.imgur.com/d973iK2.png'>  \n",
        "위의 그림과 같이, **와인의 pH 등급은 *4단계* 로 구분**할 수 있습니다.  \n",
        "  - **Low**: Lowest 25% pH values\n",
        "  - **Medium**: 25% - 50% of pH values\n",
        "  - **Moderately High**: 50% - 75% of pH values\n",
        "  - **High**: max pH values"
      ],
      "metadata": {
        "id": "L9MNiX5f7EFO"
      }
    },
    {
      "cell_type": "code",
      "source": [
        "wine_df.pH.describe()"
      ],
      "metadata": {
        "id": "j66iTsiuuRQ3",
        "colab": {
          "base_uri": "https://localhost:8080/"
        },
        "outputId": "c0ec845c-c232-484b-b51b-eaed391400ad"
      },
      "execution_count": null,
      "outputs": [
        {
          "output_type": "execute_result",
          "data": {
            "text/plain": [
              "count    5320.000000\n",
              "mean        3.224664\n",
              "std         0.160379\n",
              "min         2.720000\n",
              "25%         3.110000\n",
              "50%         3.210000\n",
              "75%         3.330000\n",
              "max         4.010000\n",
              "Name: pH, dtype: float64"
            ]
          },
          "metadata": {},
          "execution_count": 42
        }
      ]
    },
    {
      "cell_type": "markdown",
      "source": [
        "> **💡 Tip**  \n",
        "`pH`은 continuous data입니다.  \n",
        "하지만 우리는, pH 등급에 따라 quality rating이 어떻게 달라지는지 알아보려 합니다.  \n",
        "<br>\n",
        "> 따라서 `pH`의 continuous data를 **category data로 변경**하도록 합시다!  \n",
        "Continuous data를 category로 바꾸는 방법으로는, Pandas의 `cut` function을 이용합시다.  \n",
        "`cut`의 `bins` 파라미터는, `.describe()`를 이용하여 확인한 **4분위수**를 활용할 수 있습니다."
      ],
      "metadata": {
        "id": "1tnLTblq91wN"
      }
    },
    {
      "cell_type": "code",
      "source": [
        "# 'wine_df.pH.describe()'를 통해 확인한, 4분위수를 활용하여 bins로 입력\n",
        "bins = [2.72, 3.11, 3.21, 3.33, 4.01]\n",
        "\n",
        "# 범위에 따라 원하는 레이블명을 입력\n",
        "labels = ['Low', 'Medium', 'Moderately High', 'High']\n",
        "\n",
        "#'cut'을 통해 continuous data를 category data로 변경\n",
        "wine_df['ph_levels'] = pd.cut(x=wine_df['pH'], bins=bins, labels=labels)"
      ],
      "metadata": {
        "id": "0uf1tUpUzKXB"
      },
      "execution_count": null,
      "outputs": []
    },
    {
      "cell_type": "code",
      "source": [
        "# 결과 확인을 위해, 상위 5개 데이터 출력\n",
        "wine_df.head()"
      ],
      "metadata": {
        "colab": {
          "base_uri": "https://localhost:8080/",
          "height": 206
        },
        "id": "Qs_T4m5Dzzai",
        "outputId": "720f204f-42e9-4bc1-a038-f6e2dd4b9366"
      },
      "execution_count": null,
      "outputs": [
        {
          "output_type": "execute_result",
          "data": {
            "text/html": [
              "\n",
              "  <div id=\"df-da0e076a-eac2-4f6b-8610-139c4a1b8cac\">\n",
              "    <div class=\"colab-df-container\">\n",
              "      <div>\n",
              "<style scoped>\n",
              "    .dataframe tbody tr th:only-of-type {\n",
              "        vertical-align: middle;\n",
              "    }\n",
              "\n",
              "    .dataframe tbody tr th {\n",
              "        vertical-align: top;\n",
              "    }\n",
              "\n",
              "    .dataframe thead th {\n",
              "        text-align: right;\n",
              "    }\n",
              "</style>\n",
              "<table border=\"1\" class=\"dataframe\">\n",
              "  <thead>\n",
              "    <tr style=\"text-align: right;\">\n",
              "      <th></th>\n",
              "      <th>fixed_acidity</th>\n",
              "      <th>volatile_acidity</th>\n",
              "      <th>citric_acid</th>\n",
              "      <th>residual_sugar</th>\n",
              "      <th>chlorides</th>\n",
              "      <th>free_sulfur_dioxide</th>\n",
              "      <th>total_sulfur_dioxide</th>\n",
              "      <th>density</th>\n",
              "      <th>pH</th>\n",
              "      <th>sulphates</th>\n",
              "      <th>alcohol</th>\n",
              "      <th>quality</th>\n",
              "      <th>color</th>\n",
              "      <th>ph_levels</th>\n",
              "    </tr>\n",
              "  </thead>\n",
              "  <tbody>\n",
              "    <tr>\n",
              "      <th>0</th>\n",
              "      <td>7.0</td>\n",
              "      <td>0.27</td>\n",
              "      <td>0.36</td>\n",
              "      <td>20.7</td>\n",
              "      <td>0.045</td>\n",
              "      <td>45.0</td>\n",
              "      <td>170.0</td>\n",
              "      <td>1.0010</td>\n",
              "      <td>3.00</td>\n",
              "      <td>0.45</td>\n",
              "      <td>8.8</td>\n",
              "      <td>6</td>\n",
              "      <td>white</td>\n",
              "      <td>Low</td>\n",
              "    </tr>\n",
              "    <tr>\n",
              "      <th>1</th>\n",
              "      <td>6.3</td>\n",
              "      <td>0.30</td>\n",
              "      <td>0.34</td>\n",
              "      <td>1.6</td>\n",
              "      <td>0.049</td>\n",
              "      <td>14.0</td>\n",
              "      <td>132.0</td>\n",
              "      <td>0.9940</td>\n",
              "      <td>3.30</td>\n",
              "      <td>0.49</td>\n",
              "      <td>9.5</td>\n",
              "      <td>6</td>\n",
              "      <td>white</td>\n",
              "      <td>Moderately High</td>\n",
              "    </tr>\n",
              "    <tr>\n",
              "      <th>2</th>\n",
              "      <td>8.1</td>\n",
              "      <td>0.28</td>\n",
              "      <td>0.40</td>\n",
              "      <td>6.9</td>\n",
              "      <td>0.050</td>\n",
              "      <td>30.0</td>\n",
              "      <td>97.0</td>\n",
              "      <td>0.9951</td>\n",
              "      <td>3.26</td>\n",
              "      <td>0.44</td>\n",
              "      <td>10.1</td>\n",
              "      <td>6</td>\n",
              "      <td>white</td>\n",
              "      <td>Moderately High</td>\n",
              "    </tr>\n",
              "    <tr>\n",
              "      <th>3</th>\n",
              "      <td>7.2</td>\n",
              "      <td>0.23</td>\n",
              "      <td>0.32</td>\n",
              "      <td>8.5</td>\n",
              "      <td>0.058</td>\n",
              "      <td>47.0</td>\n",
              "      <td>186.0</td>\n",
              "      <td>0.9956</td>\n",
              "      <td>3.19</td>\n",
              "      <td>0.40</td>\n",
              "      <td>9.9</td>\n",
              "      <td>6</td>\n",
              "      <td>white</td>\n",
              "      <td>Medium</td>\n",
              "    </tr>\n",
              "    <tr>\n",
              "      <th>4</th>\n",
              "      <td>6.2</td>\n",
              "      <td>0.32</td>\n",
              "      <td>0.16</td>\n",
              "      <td>7.0</td>\n",
              "      <td>0.045</td>\n",
              "      <td>30.0</td>\n",
              "      <td>136.0</td>\n",
              "      <td>0.9949</td>\n",
              "      <td>3.18</td>\n",
              "      <td>0.47</td>\n",
              "      <td>9.6</td>\n",
              "      <td>6</td>\n",
              "      <td>white</td>\n",
              "      <td>Medium</td>\n",
              "    </tr>\n",
              "  </tbody>\n",
              "</table>\n",
              "</div>\n",
              "      <button class=\"colab-df-convert\" onclick=\"convertToInteractive('df-da0e076a-eac2-4f6b-8610-139c4a1b8cac')\"\n",
              "              title=\"Convert this dataframe to an interactive table.\"\n",
              "              style=\"display:none;\">\n",
              "        \n",
              "  <svg xmlns=\"http://www.w3.org/2000/svg\" height=\"24px\"viewBox=\"0 0 24 24\"\n",
              "       width=\"24px\">\n",
              "    <path d=\"M0 0h24v24H0V0z\" fill=\"none\"/>\n",
              "    <path d=\"M18.56 5.44l.94 2.06.94-2.06 2.06-.94-2.06-.94-.94-2.06-.94 2.06-2.06.94zm-11 1L8.5 8.5l.94-2.06 2.06-.94-2.06-.94L8.5 2.5l-.94 2.06-2.06.94zm10 10l.94 2.06.94-2.06 2.06-.94-2.06-.94-.94-2.06-.94 2.06-2.06.94z\"/><path d=\"M17.41 7.96l-1.37-1.37c-.4-.4-.92-.59-1.43-.59-.52 0-1.04.2-1.43.59L10.3 9.45l-7.72 7.72c-.78.78-.78 2.05 0 2.83L4 21.41c.39.39.9.59 1.41.59.51 0 1.02-.2 1.41-.59l7.78-7.78 2.81-2.81c.8-.78.8-2.07 0-2.86zM5.41 20L4 18.59l7.72-7.72 1.47 1.35L5.41 20z\"/>\n",
              "  </svg>\n",
              "      </button>\n",
              "      \n",
              "  <style>\n",
              "    .colab-df-container {\n",
              "      display:flex;\n",
              "      flex-wrap:wrap;\n",
              "      gap: 12px;\n",
              "    }\n",
              "\n",
              "    .colab-df-convert {\n",
              "      background-color: #E8F0FE;\n",
              "      border: none;\n",
              "      border-radius: 50%;\n",
              "      cursor: pointer;\n",
              "      display: none;\n",
              "      fill: #1967D2;\n",
              "      height: 32px;\n",
              "      padding: 0 0 0 0;\n",
              "      width: 32px;\n",
              "    }\n",
              "\n",
              "    .colab-df-convert:hover {\n",
              "      background-color: #E2EBFA;\n",
              "      box-shadow: 0px 1px 2px rgba(60, 64, 67, 0.3), 0px 1px 3px 1px rgba(60, 64, 67, 0.15);\n",
              "      fill: #174EA6;\n",
              "    }\n",
              "\n",
              "    [theme=dark] .colab-df-convert {\n",
              "      background-color: #3B4455;\n",
              "      fill: #D2E3FC;\n",
              "    }\n",
              "\n",
              "    [theme=dark] .colab-df-convert:hover {\n",
              "      background-color: #434B5C;\n",
              "      box-shadow: 0px 1px 3px 1px rgba(0, 0, 0, 0.15);\n",
              "      filter: drop-shadow(0px 1px 2px rgba(0, 0, 0, 0.3));\n",
              "      fill: #FFFFFF;\n",
              "    }\n",
              "  </style>\n",
              "\n",
              "      <script>\n",
              "        const buttonEl =\n",
              "          document.querySelector('#df-da0e076a-eac2-4f6b-8610-139c4a1b8cac button.colab-df-convert');\n",
              "        buttonEl.style.display =\n",
              "          google.colab.kernel.accessAllowed ? 'block' : 'none';\n",
              "\n",
              "        async function convertToInteractive(key) {\n",
              "          const element = document.querySelector('#df-da0e076a-eac2-4f6b-8610-139c4a1b8cac');\n",
              "          const dataTable =\n",
              "            await google.colab.kernel.invokeFunction('convertToInteractive',\n",
              "                                                     [key], {});\n",
              "          if (!dataTable) return;\n",
              "\n",
              "          const docLinkHtml = 'Like what you see? Visit the ' +\n",
              "            '<a target=\"_blank\" href=https://colab.research.google.com/notebooks/data_table.ipynb>data table notebook</a>'\n",
              "            + ' to learn more about interactive tables.';\n",
              "          element.innerHTML = '';\n",
              "          dataTable['output_type'] = 'display_data';\n",
              "          await google.colab.output.renderOutput(dataTable, element);\n",
              "          const docLink = document.createElement('div');\n",
              "          docLink.innerHTML = docLinkHtml;\n",
              "          element.appendChild(docLink);\n",
              "        }\n",
              "      </script>\n",
              "    </div>\n",
              "  </div>\n",
              "  "
            ],
            "text/plain": [
              "   fixed_acidity  volatile_acidity  ...  color        ph_levels\n",
              "0            7.0              0.27  ...  white              Low\n",
              "1            6.3              0.30  ...  white  Moderately High\n",
              "2            8.1              0.28  ...  white  Moderately High\n",
              "3            7.2              0.23  ...  white           Medium\n",
              "4            6.2              0.32  ...  white           Medium\n",
              "\n",
              "[5 rows x 14 columns]"
            ]
          },
          "metadata": {},
          "execution_count": 44
        }
      ]
    },
    {
      "cell_type": "code",
      "source": [
        "# ph_levels 에 따른 평균 quality 확인\n",
        "wine_df.groupby('ph_levels', as_index=False)['quality'].mean()"
      ],
      "metadata": {
        "colab": {
          "base_uri": "https://localhost:8080/",
          "height": 174
        },
        "id": "56XxlOttz_y1",
        "outputId": "aa471e75-a60d-483e-b7e9-2109a0bc77be"
      },
      "execution_count": null,
      "outputs": [
        {
          "output_type": "execute_result",
          "data": {
            "text/html": [
              "\n",
              "  <div id=\"df-a0f8a6d0-7c48-4645-b188-637c9686aa5f\">\n",
              "    <div class=\"colab-df-container\">\n",
              "      <div>\n",
              "<style scoped>\n",
              "    .dataframe tbody tr th:only-of-type {\n",
              "        vertical-align: middle;\n",
              "    }\n",
              "\n",
              "    .dataframe tbody tr th {\n",
              "        vertical-align: top;\n",
              "    }\n",
              "\n",
              "    .dataframe thead th {\n",
              "        text-align: right;\n",
              "    }\n",
              "</style>\n",
              "<table border=\"1\" class=\"dataframe\">\n",
              "  <thead>\n",
              "    <tr style=\"text-align: right;\">\n",
              "      <th></th>\n",
              "      <th>ph_levels</th>\n",
              "      <th>quality</th>\n",
              "    </tr>\n",
              "  </thead>\n",
              "  <tbody>\n",
              "    <tr>\n",
              "      <th>0</th>\n",
              "      <td>Low</td>\n",
              "      <td>5.728024</td>\n",
              "    </tr>\n",
              "    <tr>\n",
              "      <th>1</th>\n",
              "      <td>Medium</td>\n",
              "      <td>5.766917</td>\n",
              "    </tr>\n",
              "    <tr>\n",
              "      <th>2</th>\n",
              "      <td>Moderately High</td>\n",
              "      <td>5.852624</td>\n",
              "    </tr>\n",
              "    <tr>\n",
              "      <th>3</th>\n",
              "      <td>High</td>\n",
              "      <td>5.834254</td>\n",
              "    </tr>\n",
              "  </tbody>\n",
              "</table>\n",
              "</div>\n",
              "      <button class=\"colab-df-convert\" onclick=\"convertToInteractive('df-a0f8a6d0-7c48-4645-b188-637c9686aa5f')\"\n",
              "              title=\"Convert this dataframe to an interactive table.\"\n",
              "              style=\"display:none;\">\n",
              "        \n",
              "  <svg xmlns=\"http://www.w3.org/2000/svg\" height=\"24px\"viewBox=\"0 0 24 24\"\n",
              "       width=\"24px\">\n",
              "    <path d=\"M0 0h24v24H0V0z\" fill=\"none\"/>\n",
              "    <path d=\"M18.56 5.44l.94 2.06.94-2.06 2.06-.94-2.06-.94-.94-2.06-.94 2.06-2.06.94zm-11 1L8.5 8.5l.94-2.06 2.06-.94-2.06-.94L8.5 2.5l-.94 2.06-2.06.94zm10 10l.94 2.06.94-2.06 2.06-.94-2.06-.94-.94-2.06-.94 2.06-2.06.94z\"/><path d=\"M17.41 7.96l-1.37-1.37c-.4-.4-.92-.59-1.43-.59-.52 0-1.04.2-1.43.59L10.3 9.45l-7.72 7.72c-.78.78-.78 2.05 0 2.83L4 21.41c.39.39.9.59 1.41.59.51 0 1.02-.2 1.41-.59l7.78-7.78 2.81-2.81c.8-.78.8-2.07 0-2.86zM5.41 20L4 18.59l7.72-7.72 1.47 1.35L5.41 20z\"/>\n",
              "  </svg>\n",
              "      </button>\n",
              "      \n",
              "  <style>\n",
              "    .colab-df-container {\n",
              "      display:flex;\n",
              "      flex-wrap:wrap;\n",
              "      gap: 12px;\n",
              "    }\n",
              "\n",
              "    .colab-df-convert {\n",
              "      background-color: #E8F0FE;\n",
              "      border: none;\n",
              "      border-radius: 50%;\n",
              "      cursor: pointer;\n",
              "      display: none;\n",
              "      fill: #1967D2;\n",
              "      height: 32px;\n",
              "      padding: 0 0 0 0;\n",
              "      width: 32px;\n",
              "    }\n",
              "\n",
              "    .colab-df-convert:hover {\n",
              "      background-color: #E2EBFA;\n",
              "      box-shadow: 0px 1px 2px rgba(60, 64, 67, 0.3), 0px 1px 3px 1px rgba(60, 64, 67, 0.15);\n",
              "      fill: #174EA6;\n",
              "    }\n",
              "\n",
              "    [theme=dark] .colab-df-convert {\n",
              "      background-color: #3B4455;\n",
              "      fill: #D2E3FC;\n",
              "    }\n",
              "\n",
              "    [theme=dark] .colab-df-convert:hover {\n",
              "      background-color: #434B5C;\n",
              "      box-shadow: 0px 1px 3px 1px rgba(0, 0, 0, 0.15);\n",
              "      filter: drop-shadow(0px 1px 2px rgba(0, 0, 0, 0.3));\n",
              "      fill: #FFFFFF;\n",
              "    }\n",
              "  </style>\n",
              "\n",
              "      <script>\n",
              "        const buttonEl =\n",
              "          document.querySelector('#df-a0f8a6d0-7c48-4645-b188-637c9686aa5f button.colab-df-convert');\n",
              "        buttonEl.style.display =\n",
              "          google.colab.kernel.accessAllowed ? 'block' : 'none';\n",
              "\n",
              "        async function convertToInteractive(key) {\n",
              "          const element = document.querySelector('#df-a0f8a6d0-7c48-4645-b188-637c9686aa5f');\n",
              "          const dataTable =\n",
              "            await google.colab.kernel.invokeFunction('convertToInteractive',\n",
              "                                                     [key], {});\n",
              "          if (!dataTable) return;\n",
              "\n",
              "          const docLinkHtml = 'Like what you see? Visit the ' +\n",
              "            '<a target=\"_blank\" href=https://colab.research.google.com/notebooks/data_table.ipynb>data table notebook</a>'\n",
              "            + ' to learn more about interactive tables.';\n",
              "          element.innerHTML = '';\n",
              "          dataTable['output_type'] = 'display_data';\n",
              "          await google.colab.output.renderOutput(dataTable, element);\n",
              "          const docLink = document.createElement('div');\n",
              "          docLink.innerHTML = docLinkHtml;\n",
              "          element.appendChild(docLink);\n",
              "        }\n",
              "      </script>\n",
              "    </div>\n",
              "  </div>\n",
              "  "
            ],
            "text/plain": [
              "         ph_levels   quality\n",
              "0              Low  5.728024\n",
              "1           Medium  5.766917\n",
              "2  Moderately High  5.852624\n",
              "3             High  5.834254"
            ]
          },
          "metadata": {},
          "execution_count": 45
        }
      ]
    },
    {
      "cell_type": "markdown",
      "source": [
        "> **🔎 해설**  \n",
        "`pH`를 4개의 등급으로 나눈 뒤, 각 등급에 따른 평균 quality rating을 확인해 보았습니다.  \n",
        "- 그 결과 비교적 **`pH`가 높은 등급이 높은 quality**를 기록한 것을 확인할 수 있습니다.  \n",
        "- 또한 **`High`등급보다 `Moderately High`등급의 quality가 근소하게 높은 것**을 볼 수도 있습니다.  \n",
        "이는 와인의 pH가 높다고해서 무조건 좋은 것은 아니라는 의미입니다.  \n",
        "와인은 여러 풍미와 요소들이 조화를 이루고 있는 게 중요합니다!\n",
        "\n",
        "<br>  \n",
        "\n",
        "> 따라서 계속해서 다른 성분과 quality의 관계가 어떻게 이뤄지는지 확인해 봅시다.\n",
        "\n"
      ],
      "metadata": {
        "id": "zr5QhbVGr9ef"
      }
    },
    {
      "cell_type": "markdown",
      "source": [
        "<h3><b> 1-c) residual_sugar / chlorides </b></h3>\n",
        "\n",
        "`pH`가 품질 보존뿐만 아니라 신맛을 담당한다면, 다른 맛은 어떤 성분에 영향을 받을까요?  \n",
        "우리가 와인의 맛을 떠올려 본다면, 여러 풍미 중에서도 **단맛과 떫은맛**에 대해 생각이 납니다.  \n",
        "\n",
        "이번 데이터 속에서 **단맛**은 `residual_sugar(잔류 설탕)`, **떫은맛**은 `chlorides(염화나트륨)`을 살펴보면 좋을 것 같습니다.\n",
        "\n",
        "먼저 단맛, `residual_sugar(잔류 설탕)`을 살펴봅시다."
      ],
      "metadata": {
        "id": "9OvfoufCE8HP"
      }
    },
    {
      "cell_type": "code",
      "source": [
        "# 색상에 따른 평균 잔류설탕 확인\n",
        "wine_df.groupby('color').mean()['residual_sugar'] # 화이트 와인이 월등히 높음"
      ],
      "metadata": {
        "colab": {
          "base_uri": "https://localhost:8080/"
        },
        "id": "MfeMhYuDfRv0",
        "outputId": "8fd605a9-cb5e-44c3-ffa5-af02d19d7e86"
      },
      "execution_count": null,
      "outputs": [
        {
          "output_type": "execute_result",
          "data": {
            "text/plain": [
              "color\n",
              "red      2.523400\n",
              "white    5.914819\n",
              "Name: residual_sugar, dtype: float64"
            ]
          },
          "metadata": {},
          "execution_count": 46
        }
      ]
    },
    {
      "cell_type": "code",
      "source": [
        "wine_df.groupby(['quality', 'color'], as_index=False)['residual_sugar'].mean()"
      ],
      "metadata": {
        "colab": {
          "base_uri": "https://localhost:8080/",
          "height": 456
        },
        "id": "Ncc-l4KAIWz7",
        "outputId": "69a92438-0741-48e1-f367-fe053df21ace"
      },
      "execution_count": null,
      "outputs": [
        {
          "output_type": "execute_result",
          "data": {
            "text/html": [
              "\n",
              "  <div id=\"df-f9ce5307-471f-4f9d-abdf-3bd2d6160eb3\">\n",
              "    <div class=\"colab-df-container\">\n",
              "      <div>\n",
              "<style scoped>\n",
              "    .dataframe tbody tr th:only-of-type {\n",
              "        vertical-align: middle;\n",
              "    }\n",
              "\n",
              "    .dataframe tbody tr th {\n",
              "        vertical-align: top;\n",
              "    }\n",
              "\n",
              "    .dataframe thead th {\n",
              "        text-align: right;\n",
              "    }\n",
              "</style>\n",
              "<table border=\"1\" class=\"dataframe\">\n",
              "  <thead>\n",
              "    <tr style=\"text-align: right;\">\n",
              "      <th></th>\n",
              "      <th>quality</th>\n",
              "      <th>color</th>\n",
              "      <th>residual_sugar</th>\n",
              "    </tr>\n",
              "  </thead>\n",
              "  <tbody>\n",
              "    <tr>\n",
              "      <th>0</th>\n",
              "      <td>3</td>\n",
              "      <td>red</td>\n",
              "      <td>2.635000</td>\n",
              "    </tr>\n",
              "    <tr>\n",
              "      <th>1</th>\n",
              "      <td>3</td>\n",
              "      <td>white</td>\n",
              "      <td>6.392500</td>\n",
              "    </tr>\n",
              "    <tr>\n",
              "      <th>2</th>\n",
              "      <td>4</td>\n",
              "      <td>red</td>\n",
              "      <td>2.694340</td>\n",
              "    </tr>\n",
              "    <tr>\n",
              "      <th>3</th>\n",
              "      <td>4</td>\n",
              "      <td>white</td>\n",
              "      <td>4.499346</td>\n",
              "    </tr>\n",
              "    <tr>\n",
              "      <th>4</th>\n",
              "      <td>5</td>\n",
              "      <td>red</td>\n",
              "      <td>2.509532</td>\n",
              "    </tr>\n",
              "    <tr>\n",
              "      <th>5</th>\n",
              "      <td>5</td>\n",
              "      <td>white</td>\n",
              "      <td>6.941532</td>\n",
              "    </tr>\n",
              "    <tr>\n",
              "      <th>6</th>\n",
              "      <td>6</td>\n",
              "      <td>red</td>\n",
              "      <td>2.457290</td>\n",
              "    </tr>\n",
              "    <tr>\n",
              "      <th>7</th>\n",
              "      <td>6</td>\n",
              "      <td>white</td>\n",
              "      <td>5.959787</td>\n",
              "    </tr>\n",
              "    <tr>\n",
              "      <th>8</th>\n",
              "      <td>7</td>\n",
              "      <td>red</td>\n",
              "      <td>2.716766</td>\n",
              "    </tr>\n",
              "    <tr>\n",
              "      <th>9</th>\n",
              "      <td>7</td>\n",
              "      <td>white</td>\n",
              "      <td>4.523875</td>\n",
              "    </tr>\n",
              "    <tr>\n",
              "      <th>10</th>\n",
              "      <td>8</td>\n",
              "      <td>red</td>\n",
              "      <td>2.576471</td>\n",
              "    </tr>\n",
              "    <tr>\n",
              "      <th>11</th>\n",
              "      <td>8</td>\n",
              "      <td>white</td>\n",
              "      <td>5.056489</td>\n",
              "    </tr>\n",
              "    <tr>\n",
              "      <th>12</th>\n",
              "      <td>9</td>\n",
              "      <td>white</td>\n",
              "      <td>4.120000</td>\n",
              "    </tr>\n",
              "  </tbody>\n",
              "</table>\n",
              "</div>\n",
              "      <button class=\"colab-df-convert\" onclick=\"convertToInteractive('df-f9ce5307-471f-4f9d-abdf-3bd2d6160eb3')\"\n",
              "              title=\"Convert this dataframe to an interactive table.\"\n",
              "              style=\"display:none;\">\n",
              "        \n",
              "  <svg xmlns=\"http://www.w3.org/2000/svg\" height=\"24px\"viewBox=\"0 0 24 24\"\n",
              "       width=\"24px\">\n",
              "    <path d=\"M0 0h24v24H0V0z\" fill=\"none\"/>\n",
              "    <path d=\"M18.56 5.44l.94 2.06.94-2.06 2.06-.94-2.06-.94-.94-2.06-.94 2.06-2.06.94zm-11 1L8.5 8.5l.94-2.06 2.06-.94-2.06-.94L8.5 2.5l-.94 2.06-2.06.94zm10 10l.94 2.06.94-2.06 2.06-.94-2.06-.94-.94-2.06-.94 2.06-2.06.94z\"/><path d=\"M17.41 7.96l-1.37-1.37c-.4-.4-.92-.59-1.43-.59-.52 0-1.04.2-1.43.59L10.3 9.45l-7.72 7.72c-.78.78-.78 2.05 0 2.83L4 21.41c.39.39.9.59 1.41.59.51 0 1.02-.2 1.41-.59l7.78-7.78 2.81-2.81c.8-.78.8-2.07 0-2.86zM5.41 20L4 18.59l7.72-7.72 1.47 1.35L5.41 20z\"/>\n",
              "  </svg>\n",
              "      </button>\n",
              "      \n",
              "  <style>\n",
              "    .colab-df-container {\n",
              "      display:flex;\n",
              "      flex-wrap:wrap;\n",
              "      gap: 12px;\n",
              "    }\n",
              "\n",
              "    .colab-df-convert {\n",
              "      background-color: #E8F0FE;\n",
              "      border: none;\n",
              "      border-radius: 50%;\n",
              "      cursor: pointer;\n",
              "      display: none;\n",
              "      fill: #1967D2;\n",
              "      height: 32px;\n",
              "      padding: 0 0 0 0;\n",
              "      width: 32px;\n",
              "    }\n",
              "\n",
              "    .colab-df-convert:hover {\n",
              "      background-color: #E2EBFA;\n",
              "      box-shadow: 0px 1px 2px rgba(60, 64, 67, 0.3), 0px 1px 3px 1px rgba(60, 64, 67, 0.15);\n",
              "      fill: #174EA6;\n",
              "    }\n",
              "\n",
              "    [theme=dark] .colab-df-convert {\n",
              "      background-color: #3B4455;\n",
              "      fill: #D2E3FC;\n",
              "    }\n",
              "\n",
              "    [theme=dark] .colab-df-convert:hover {\n",
              "      background-color: #434B5C;\n",
              "      box-shadow: 0px 1px 3px 1px rgba(0, 0, 0, 0.15);\n",
              "      filter: drop-shadow(0px 1px 2px rgba(0, 0, 0, 0.3));\n",
              "      fill: #FFFFFF;\n",
              "    }\n",
              "  </style>\n",
              "\n",
              "      <script>\n",
              "        const buttonEl =\n",
              "          document.querySelector('#df-f9ce5307-471f-4f9d-abdf-3bd2d6160eb3 button.colab-df-convert');\n",
              "        buttonEl.style.display =\n",
              "          google.colab.kernel.accessAllowed ? 'block' : 'none';\n",
              "\n",
              "        async function convertToInteractive(key) {\n",
              "          const element = document.querySelector('#df-f9ce5307-471f-4f9d-abdf-3bd2d6160eb3');\n",
              "          const dataTable =\n",
              "            await google.colab.kernel.invokeFunction('convertToInteractive',\n",
              "                                                     [key], {});\n",
              "          if (!dataTable) return;\n",
              "\n",
              "          const docLinkHtml = 'Like what you see? Visit the ' +\n",
              "            '<a target=\"_blank\" href=https://colab.research.google.com/notebooks/data_table.ipynb>data table notebook</a>'\n",
              "            + ' to learn more about interactive tables.';\n",
              "          element.innerHTML = '';\n",
              "          dataTable['output_type'] = 'display_data';\n",
              "          await google.colab.output.renderOutput(dataTable, element);\n",
              "          const docLink = document.createElement('div');\n",
              "          docLink.innerHTML = docLinkHtml;\n",
              "          element.appendChild(docLink);\n",
              "        }\n",
              "      </script>\n",
              "    </div>\n",
              "  </div>\n",
              "  "
            ],
            "text/plain": [
              "    quality  color  residual_sugar\n",
              "0         3    red        2.635000\n",
              "1         3  white        6.392500\n",
              "2         4    red        2.694340\n",
              "3         4  white        4.499346\n",
              "4         5    red        2.509532\n",
              "5         5  white        6.941532\n",
              "6         6    red        2.457290\n",
              "7         6  white        5.959787\n",
              "8         7    red        2.716766\n",
              "9         7  white        4.523875\n",
              "10        8    red        2.576471\n",
              "11        8  white        5.056489\n",
              "12        9  white        4.120000"
            ]
          },
          "metadata": {},
          "execution_count": 47
        }
      ]
    },
    {
      "cell_type": "code",
      "source": [
        "group_residual_sugar = wine_df.groupby(['quality', 'color'])['residual_sugar'].mean()\n",
        "group_residual_sugar.plot(kind='bar');"
      ],
      "metadata": {
        "colab": {
          "base_uri": "https://localhost:8080/",
          "height": 316
        },
        "id": "nbZ0rp6nJv0R",
        "outputId": "82e2fd57-95bb-4d1d-84d2-bbb3a1df5731"
      },
      "execution_count": null,
      "outputs": [
        {
          "output_type": "display_data",
          "data": {
            "image/png": "[encoded data removed]",
            "text/plain": [
              "<Figure size 432x288 with 1 Axes>"
            ]
          },
          "metadata": {
            "needs_background": "light"
          }
        }
      ]
    },
    {
      "cell_type": "markdown",
      "source": [
        "> **🔎 해설**  \n",
        "- 색상과 quality에 따른 잔류설탕 통계 및 시각화로 확인해 보았습니다.  \n",
        "- 그 결과, red에 비해 **white 와인의  `residual_sugar`가 월등히 높음**을 알 수 있습니다.  \n",
        "- 특히 시각화 결과를 본다면, 모든 quality에서 **white 와인이 red에 비해 더 달다**고 확인됩니다!\n",
        "\n",
        "<br>\n",
        "\n",
        "> **그렇다면 떫은맛은 어떻게 보면 좋을까요?**  \n",
        "- 와인에서의 떫은맛은 *tannin(탄닌)* 이라는 성분에 의해 결정되지만, 지금의 데이터 상으로 *'tannin'* 을 확인할 수는 없어보입니다.  \n",
        "- 하지만 **떫은맛을 간접적으로 확인할 수 있는 짠맛, `chlorides(염화나트륨)`에 대한 데이터가 존재**합니다!  \n",
        "`chlorides(염화나트륨)`은 포도 껍질에 많은 *tannin(떫은맛)* 을 부드럽게 하여 조절하기 위해 필요합니다.  \n",
        "- 따라서 `chlorides(염화나트륨)` 성분이 많다는 의미는, 그만큼 와인의 떫은맛이 강하다는 의미겠죠?\n"
      ],
      "metadata": {
        "id": "K-k21krBHMW6"
      }
    },
    {
      "cell_type": "code",
      "source": [
        "# 색상에 따른 평균 염화나트륨 확인\n",
        "wine_df.groupby('color').mean()['chlorides'] # 레드와인이 더 높음"
      ],
      "metadata": {
        "colab": {
          "base_uri": "https://localhost:8080/"
        },
        "id": "xs6G6t39e2nA",
        "outputId": "95d350c6-d7b0-47ce-ec63-58a86d428080"
      },
      "execution_count": null,
      "outputs": [
        {
          "output_type": "execute_result",
          "data": {
            "text/plain": [
              "color\n",
              "red      0.088124\n",
              "white    0.045905\n",
              "Name: chlorides, dtype: float64"
            ]
          },
          "metadata": {},
          "execution_count": 49
        }
      ]
    },
    {
      "cell_type": "markdown",
      "source": [
        "> **🔎 해설**  \n",
        "<br>\n",
        "<img width='400' src='https://i.imgur.com/fAsUvQo.png'>  \n",
        "- **색상에 따른 평균 `chlorides(염화나트륨)`의 수치**를 확인하니, white에 비해 **red가 더 높은 것**을 확인할 수 있습니다.  \n",
        "  - 이는 white 와인이 껍질없이 발효되고, 청포도로 만들어지기에 쓴맛이 덜하고 상대적으로 단맛이 더 강한 것을 떠올리면 좋습니다.  \n",
        "반대로 red 와인은 적포도 껍질의 쓴맛을 떠올리면 좋겠죠?  \n",
        "  - 자연스럽게 red 와인의 떫은맛을 조절하기 위해 `chlorides(염화나트륨)`이 많이 들어가게 됩니다.\n",
        "\n"
      ],
      "metadata": {
        "id": "MtGjo7ILO70z"
      }
    },
    {
      "cell_type": "markdown",
      "source": [
        "<h3><b> 1-d) volatile_acidity </b></h3>\n",
        "\n",
        "와인을 즐기는데에 있어서 **와인의 향, 아로마(aroma)**도 중요한 역할을 담당합니다.  \n",
        "물론 많은 성분의 종합적인 결과로 아로마가 형성되지만, 분석의 편의를 위해 `volatile_acidity(휘발성산, 아세트산)` 성분을 눈여겨 봅시다.  \n",
        "\n",
        "\n"
      ],
      "metadata": {
        "id": "xgIlVCTTSuHf"
      }
    },
    {
      "cell_type": "code",
      "source": [
        "# quality 에 따른 휘발성산의 차이를 scatter plot 으로 확인\n",
        "plt.scatter(wine_df['quality'], wine_df['volatile_acidity']);"
      ],
      "metadata": {
        "colab": {
          "base_uri": "https://localhost:8080/",
          "height": 264
        },
        "id": "h6hOB66sZm3Y",
        "outputId": "c5b9cb14-87bc-42da-b083-91ee8b04541e"
      },
      "execution_count": null,
      "outputs": [
        {
          "output_type": "display_data",
          "data": {
            "image/png": "[encoded data removed]",
            "text/plain": [
              "<Figure size 432x288 with 1 Axes>"
            ]
          },
          "metadata": {
            "needs_background": "light"
          }
        }
      ]
    },
    {
      "cell_type": "code",
      "source": [
        "# quality 에 따른 평균 휘발성산 확인\n",
        "group_volatile_acidity = wine_df['volatile_acidity'].groupby(wine_df['quality'])\n",
        "print(group_volatile_acidity.mean())\n",
        "\n",
        "# plot으로 시각화\n",
        "plt.plot(group_volatile_acidity.mean());"
      ],
      "metadata": {
        "colab": {
          "base_uri": "https://localhost:8080/",
          "height": 421
        },
        "id": "YlxE6sCvaWxD",
        "outputId": "0c9827e5-fab6-4f04-e659-d1864ebc2ecb"
      },
      "execution_count": null,
      "outputs": [
        {
          "output_type": "stream",
          "name": "stdout",
          "text": [
            "quality\n",
            "3    0.517000\n",
            "4    0.462379\n",
            "5    0.393970\n",
            "6    0.315626\n",
            "7    0.292342\n",
            "8    0.302973\n",
            "9    0.298000\n",
            "Name: volatile_acidity, dtype: float64\n"
          ]
        },
        {
          "output_type": "display_data",
          "data": {
            "image/png": "[encoded data removed]",
            "text/plain": [
              "<Figure size 432x288 with 1 Axes>"
            ]
          },
          "metadata": {
            "needs_background": "light"
          }
        }
      ]
    },
    {
      "cell_type": "markdown",
      "source": [
        "> **🔎 해설**  \n",
        "- quality 에 따른 휘발성산의 차이를 두 가지 시각화 방법으로 확인해 봅시다.\n",
        "  - **scatter plot** 으로 시각화한 결과는, 한 눈에 해석하기 어려워 보입니다.\n",
        "  - 반면 quality에 따라 평균 `volatile_acidity` 수치를 **lineplot** 으로 확인하니, 상대적으로 변화가 눈에 잘 들어오는 것을 알 수 있습니다.  \n",
        "  이처럼 **어떤 시각화 방법을 사용하느냐에 따라 데이터 분석의 설득력을 높일 수 있습니다!**\n",
        "- 시각화 결과, 상대적으로 **quality 등급이 높은 와인이 평균 `volatile_acidity`가 낮음**을 알 수 있습니다.\n",
        "  - 이는 `volatile_acidity`는 '초산'중 하나로, 시큼하고 자극적인 향을 가지고 있기 때문입니다.  \n",
        "  따라서 **`volatile_acidity` 성분이 많다면, 와인에서 코를 찌르는듯한 날카로운 냄새**가 나게 됩니다.   \n",
        "  자연스럽게, 적은 수준의 `volatile_acidity`이라면 와인 본연의 포도향을 잘 드러냅니다.\n",
        "\n"
      ],
      "metadata": {
        "id": "YXCOJTAgeVuZ"
      }
    },
    {
      "cell_type": "markdown",
      "source": [
        "<h3><b> 1-e) density </b></h3>\n",
        "\n",
        "와인의 품질을 결정하는 데에 있어서, **와인의 바디감(body)** 역시 중요한 역할을 합니다.  \n",
        "'바디감'이란, **와인이 입 안에서 얼마나 무게감있게 움직이는지**를 의미하는, **점도**를 말합니다.\n",
        "\n",
        "바디감 역시, 여러 성분이 종합된 결과이지만 먼저 `density`를 살펴봅시다.\n"
      ],
      "metadata": {
        "id": "pxELlez_gC1I"
      }
    },
    {
      "cell_type": "code",
      "source": [
        "# quality 에 따른 평균 밀도 확인\n",
        "group_density = wine_df['density'].groupby(wine_df['quality'])\n",
        "print(group_density.mean())\n",
        "\n",
        "# plot으로 시각화\n",
        "plt.plot(group_density.mean());"
      ],
      "metadata": {
        "colab": {
          "base_uri": "https://localhost:8080/",
          "height": 421
        },
        "id": "fOvB-Qz21Ijw",
        "outputId": "28dede43-a453-494c-ee50-73eaeb815154"
      },
      "execution_count": null,
      "outputs": [
        {
          "output_type": "stream",
          "name": "stdout",
          "text": [
            "quality\n",
            "3    0.995744\n",
            "4    0.994802\n",
            "5    0.995734\n",
            "6    0.994377\n",
            "7    0.992838\n",
            "8    0.992130\n",
            "9    0.991460\n",
            "Name: density, dtype: float64\n"
          ]
        },
        {
          "output_type": "display_data",
          "data": {
            "image/png": "[encoded data removed]",
            "text/plain": [
              "<Figure size 432x288 with 1 Axes>"
            ]
          },
          "metadata": {
            "needs_background": "light"
          }
        }
      ]
    },
    {
      "cell_type": "markdown",
      "source": [
        "> **🔎 해설**  \n",
        "- `density`는 물의 밀도를 말합니다.\n",
        "  - 따라서 물의 밀도가 낮을수록, 포도 성분이 짙게 우러나 맛과 향이 진한 와인이 될 것입니다.\n",
        "  - **lineplot**을 보면 quality가 높아질수록 `density`는 낮아지는, 즉 좋은 와인일수록 물의 밀도가 낮은 와인임을 알 수 있습니다.\n",
        "\n",
        "<br>\n",
        "\n",
        "> - 추가적으로 **바디감을 결정하는 중요한 성분은 `alcohol`**입니다.\n",
        "- 지금까지 `.groupby()`를 활용해 와인의 특성과 quality의 관계를 알아봤다면,  \n",
        "아래에서는 `.query()` 메서드를 통해 **`alcohol`**에 대해 살펴봅시다."
      ],
      "metadata": {
        "id": "ddD5Owqhg9BG"
      }
    },
    {
      "cell_type": "markdown",
      "source": [
        "<h2><b> 2) .query() </b></h2>\n",
        "\n",
        "데이터프레임에서 원하는 rows를 선택하기 위한 두 가지 방법이 존재합니다.  \n",
        "  - index 를 사용\n",
        "  - `.query()` 함수를 사용: [`.query()` 공식문서](https://pandas.pydata.org/pandas-docs/stable/reference/api/pandas.DataFrame.query.html)\n",
        "  \n",
        "두 방법은 같은 결과를 도출하지만, 아래와 같이 사용법이 다릅니다.\n",
        "\n",
        "\n",
        "```python\n",
        "# cancer data에서 malignant rows만 선택합니다.\n",
        "malignant_cancer = df[df['diagnosis'] == 'Malignant']\n",
        "malignant_cancer = df.query('diagnosis == \"Malignant\"')\n",
        "```"
      ],
      "metadata": {
        "id": "BIw5-00I_rTz"
      }
    },
    {
      "cell_type": "markdown",
      "source": [
        "<h3><b> 2-a) alcohol </b></h3>\n",
        "\n",
        "`.query()` 함수를 활용해, **와인의 바디감**을 결정하는데에 중요한 **`alcohol`**을 살펴봅시다.  \n",
        "\n",
        "`alcohol`은 와인이 얼마나 끈적이는가 하는, **점도(viscosity)에 영향**을 끼칩니다.  \n",
        "와인의 `alcohol` 도수가 높을수록 점성이 강해지면, 입 안에서 더 가득찬 느낌이 들고 바디감이 높아지게 됩니다.\n",
        "\n",
        "<br>\n",
        "\n",
        "그럼 **`alcohol` 도수가 높은 와인이 더 높은 quality 등급을 받는지 알아보기** 위해,  \n",
        "`alcohol`에 따라 구분되는 3개의 바디감 그룹으로 데이터를 나눕시다.\n",
        "  - **Light**: alcohol 도수 `12.5% 이하`, 가벼운 바디감  \n",
        "  - **Medium**: alcohol 도수 `12.5~13.5%`, 미디엄 단계의 와인\n",
        "  - **Full**: alcohol 도수 `13.5% 이상`, 강한 점성과 무거운 바디감\n"
      ],
      "metadata": {
        "id": "5AGEiM3poW7Q"
      }
    },
    {
      "cell_type": "code",
      "source": [
        "# query() 함수를 이용해, 데이터 구분\n",
        "light_body = wine_df.query(\"alcohol <= 12.5\")\n",
        "medium_body = wine_df.query(\"(alcohol > 12.5) and (alcohol < 13.5)\")\n",
        "full_body = wine_df.query(\"alcohol >= 13.5\")"
      ],
      "metadata": {
        "id": "NUffXwEVcyw1"
      },
      "execution_count": null,
      "outputs": []
    },
    {
      "cell_type": "code",
      "source": [
        "# 두 개의 데이터프레임이 missing rows 없이 잘 나누어졌는지 확인\n",
        "print(wine_df.shape)\n",
        "print(light_body.shape, medium_body.shape, full_body.shape)"
      ],
      "metadata": {
        "colab": {
          "base_uri": "https://localhost:8080/"
        },
        "id": "ljKgjxt3dZKa",
        "outputId": "975ada61-9af1-46b5-d3bd-2dbdfbe72fd7"
      },
      "execution_count": null,
      "outputs": [
        {
          "output_type": "stream",
          "name": "stdout",
          "text": [
            "(5320, 14)\n",
            "(4952, 14) (320, 14) (48, 14)\n"
          ]
        }
      ]
    },
    {
      "cell_type": "code",
      "source": [
        "# 직접 더해 확인할 수도 있지만, 아래의 코드를 이용해 좀 더 편리하게 확인 가능\n",
        "num_samples = wine_df.shape[0]\n",
        "num_samples == light_body.quality.count() + medium_body.quality.count() + full_body.quality.count()"
      ],
      "metadata": {
        "colab": {
          "base_uri": "https://localhost:8080/"
        },
        "id": "SSEhDMsGfiAz",
        "outputId": "bb30bff2-fd5a-4939-f313-ce302b827a90"
      },
      "execution_count": null,
      "outputs": [
        {
          "output_type": "execute_result",
          "data": {
            "text/plain": [
              "True"
            ]
          },
          "metadata": {},
          "execution_count": 57
        }
      ]
    },
    {
      "cell_type": "code",
      "source": [
        "# 낮은 알콜 함량 와인의 평균 quality 확인\n",
        "light_body.quality.mean()"
      ],
      "metadata": {
        "colab": {
          "base_uri": "https://localhost:8080/"
        },
        "id": "r-CFSaY-e94j",
        "outputId": "69be5fff-0c20-4157-9acf-1560ab249382"
      },
      "execution_count": null,
      "outputs": [
        {
          "output_type": "execute_result",
          "data": {
            "text/plain": [
              "5.7326332794830375"
            ]
          },
          "metadata": {},
          "execution_count": 58
        }
      ]
    },
    {
      "cell_type": "code",
      "source": [
        "# 높은 알콜 함량 와인의 평균 quality 확인\n",
        "full_body.quality.mean()"
      ],
      "metadata": {
        "colab": {
          "base_uri": "https://localhost:8080/"
        },
        "id": "y996gyGTe_iI",
        "outputId": "f18ef31f-d488-4cd5-9dc1-ff64282b8b32"
      },
      "execution_count": null,
      "outputs": [
        {
          "output_type": "execute_result",
          "data": {
            "text/plain": [
              "6.625"
            ]
          },
          "metadata": {},
          "execution_count": 59
        }
      ]
    },
    {
      "cell_type": "code",
      "source": [
        "print('Mean quality value for wine with {} alcohol content : {:.2f}'.format('\"low\"', light_body.quality.mean()))\n",
        "print('Mean quality value for wine with {} alcohol content : {:.2f}'.format('\"medium\"', medium_body.quality.mean()))\n",
        "print('Mean quality value for wine with {} alcohol content : {:.2f}'.format('\"high\"', full_body.quality.mean()))"
      ],
      "metadata": {
        "colab": {
          "base_uri": "https://localhost:8080/"
        },
        "id": "Rc9Yh4bw1dv0",
        "outputId": "b687e432-f157-45db-be2d-1062f46352f1"
      },
      "execution_count": null,
      "outputs": [
        {
          "output_type": "stream",
          "name": "stdout",
          "text": [
            "Mean quality value for wine with \"low\" alcohol content : 5.73\n",
            "Mean quality value for wine with \"medium\" alcohol content : 6.65\n",
            "Mean quality value for wine with \"high\" alcohol content : 6.62\n"
          ]
        }
      ]
    },
    {
      "cell_type": "markdown",
      "source": [
        "> **🔎 해설**  \n",
        "- `alcohol` 도수가 높을수록 점성이 높아지며, 바디감이 무거워집니다.  \n",
        "  - 상대적으로 **높은 quality의 와인의 바디감이 무겁다**는 것을 알 수 있습니다!\n",
        "  - 하지만 무조건 바디감이 높아야 와인의 quality가 높은 것은 아닌 것을 확인할 수 있습니다.  \n",
        "  와인의 여러 특징들이 조화를 이룰 때, 좋은 품질의 와인이라 할 수 있습니다.\n"
      ],
      "metadata": {
        "id": "rlGsGPcuvjk_"
      }
    },
    {
      "cell_type": "markdown",
      "source": [
        "<h3><b> 2-b) residual_sugar </b></h3>\n",
        "\n",
        "끝으로 위에서 살펴본 `residual_sugar(잔류설탕)`에 대한 정보를, `.groupby()`가 아닌 `.query()`를 활용하여 살펴봅시다.\n",
        "\n",
        "**더 단 와인(residual sugar 함량이 높은 와인)이 더 높은 quality를 받는지** 알아보기 위해,  \n",
        "데이터셋을 `median` 값을 기준으로 나누어 각 그룹의 평균 quality rating을 확인해 봅시다.\n",
        "\n"
      ],
      "metadata": {
        "id": "s0BqNftdpQaL"
      }
    },
    {
      "cell_type": "code",
      "source": [
        "# 잔류설탕 함량의 median 값 확인\n",
        "sugar_med = wine_df.residual_sugar.median()\n",
        "sugar_med"
      ],
      "metadata": {
        "id": "xE0qhZvJdwSD",
        "colab": {
          "base_uri": "https://localhost:8080/"
        },
        "outputId": "8a1c6d40-f4f4-44b7-b30a-a75f14a434f0"
      },
      "execution_count": null,
      "outputs": [
        {
          "output_type": "execute_result",
          "data": {
            "text/plain": [
              "2.7"
            ]
          },
          "metadata": {},
          "execution_count": 61
        }
      ]
    },
    {
      "cell_type": "code",
      "source": [
        "# query() 함수를 이용해 median 값을 기준으로 두 개의 데이터프레임 생성\n",
        "low_sugar = wine_df.query('residual_sugar < @sugar_med')\n",
        "high_sugar = wine_df.query('residual_sugar >= @sugar_med')"
      ],
      "metadata": {
        "id": "WsTd_Mnpgzwt"
      },
      "execution_count": null,
      "outputs": []
    },
    {
      "cell_type": "code",
      "source": [
        "# 동일한 데이터셋 개수인지 확인\n",
        "num_samples = wine_df.shape[0]\n",
        "num_samples == low_sugar.quality.count() + high_sugar.quality.count()"
      ],
      "metadata": {
        "colab": {
          "base_uri": "https://localhost:8080/"
        },
        "id": "MugMKAc0g9rr",
        "outputId": "2f955d7d-48b3-4dd2-94d7-d680df6598d9"
      },
      "execution_count": null,
      "outputs": [
        {
          "output_type": "execute_result",
          "data": {
            "text/plain": [
              "True"
            ]
          },
          "metadata": {},
          "execution_count": 63
        }
      ]
    },
    {
      "cell_type": "code",
      "source": [
        "# 낮은 잔류설탕 함량 와인의 평균 quality 확인\n",
        "low_sugar.quality.mean()"
      ],
      "metadata": {
        "colab": {
          "base_uri": "https://localhost:8080/"
        },
        "id": "TQVFbQgwhFQB",
        "outputId": "6c450b2f-cc0f-4c70-c774-5dcf83c90a6c"
      },
      "execution_count": null,
      "outputs": [
        {
          "output_type": "execute_result",
          "data": {
            "text/plain": [
              "5.78316032295271"
            ]
          },
          "metadata": {},
          "execution_count": 64
        }
      ]
    },
    {
      "cell_type": "code",
      "source": [
        "# 높은 잔류설탕 함량 와인의 평균 quality 확인\n",
        "high_sugar.quality.mean()"
      ],
      "metadata": {
        "colab": {
          "base_uri": "https://localhost:8080/"
        },
        "id": "OEVoVUw7hIGj",
        "outputId": "9d2bc30d-3a8f-4fd6-af1f-4d9048159f41"
      },
      "execution_count": null,
      "outputs": [
        {
          "output_type": "execute_result",
          "data": {
            "text/plain": [
              "5.807649871276205"
            ]
          },
          "metadata": {},
          "execution_count": 65
        }
      ]
    },
    {
      "cell_type": "markdown",
      "source": [
        "\n",
        "<br>\n",
        "\n",
        "---\n",
        "# **Part 3. Business Insight**\n",
        "우리는 지금까지 다양한 EDA방법을 통해, 와인 quality에 영향을 미치는 성분들을 확인해 보았습니다.  \n",
        "\n",
        "그럼 이렇게 **EDA를 진행한 이유**는 무엇일까요?  \n",
        "바로 **`Data를 통해 분석한 내용을 바탕으로, Business Insight를 도출`**하기 위함입니다!  \n",
        "높은 quality의 와인이 가지는 특징을 알아낸다면, 이를 비즈니스적으로 활용할 수 있겠죠?"
      ],
      "metadata": {
        "id": "cqBHkUJOiayi"
      }
    },
    {
      "cell_type": "markdown",
      "source": [
        "<img width='500' src='https://i.imgur.com/b2VPlXH.png'>  \n",
        "우리는 지금까지의 분석을 통해,  \n",
        "**`와인의 성분이 조화를 이루고 있는 것이 quality에 중요`**하다는 것을 알 수 있었습니다.  \n",
        "\n",
        "와인 성분에서 중요한 부분을, 크게 **4가지로 구분하여 분석을 정리**해 봅시다.\n",
        ">  1. **pH**\n",
        "    - pH를 4개의 등급으로 나누어 각 등급에 따른 평균 quality rating을 확인했을 때, <br>**pH 지수가 높다면 비교적 quality 역시 높게** 나왔습니다.  \n",
        "    하지만 pH 지수가 높을수록 반드시 quality도 높은 것은 아니었습니다.\n",
        ">  2. **맛**  \n",
        "    - **단맛** `residual_sugar(잔류설탕)`  \n",
        "    일반적으로 레드 와인에 비해, 화이트 와인의 당도가 더 높게 기록되었습니다.\n",
        "    - **떫은맛** `chlorides(염화나트륨)`  \n",
        "    `chlorides` 수치를 통해 간접적으로 확인할 수 있었습니다.  \n",
        "    높은 quality 등급일수록 염화나트륨 수치가 낮은, 즉 떫은맛이 덜하다는 것을 알 수 있었습니다.\n",
        ">  3. **아로마** `volatile_acidity(휘발성산)`\n",
        "    - 높은 quality의 와인일수록 비교적 낮은 `volatile_acidity` 수치를 확인할 수 있었습니다.\n",
        ">  4. **바디감** `alcohol`\n",
        "    - 상대적으로 높은 quality의 와인의 바디감이 무겁다는 것을 확인했습니다.\n",
        "\n",
        "이후 **`pH & alcohol 가 높고`, `chlorides & volatile_acidity는 낮은` 성분의 와인**을 선정한다면,  \n",
        "비교적 좋은 quality의 와인을 택할 수 있을 것 같습니다!\n",
        "\n",
        "<br>\n",
        "\n",
        "그리고 이러한 **Business Insight를 도출하기 위해서는, `도메인 지식`이 반드시 필요**합니다!  \n",
        "도메인 지식 없이 데이터를 본다면, Data는 단순한 문자 혹은 숫자의 결합에 불과하겠죠?\n",
        "\n",
        "<br>\n",
        "\n",
        "---"
      ],
      "metadata": {
        "id": "kVlVR3PpCEbM"
      }
    },
    {
      "cell_type": "markdown",
      "source": [
        "# **Part 4. Conclusion**\n",
        "\n",
        "마지막으로 **보다 개선된 시각화**를 통해, 와인의 quality와 다양한 특성들 사이의 관계를 확인해 봅시다.\n",
        "\n",
        "\n"
      ],
      "metadata": {
        "id": "FtzYhbtThXds"
      }
    },
    {
      "cell_type": "markdown",
      "source": [
        "<h2><b> Visualization 1 </b></h2>\n",
        "\n",
        "와인의 종류가 red wine 또는 white wine인지에 따라 더 높은 quality를 가지는지 시각화를 통해 확인합니다. \n",
        "\n",
        "위의 EDA 과정에서의 시각화는 분석가 혼자 확인하는 과정이므로 asthetic한 면은 고려하지 않아도 되지만 결과를 시각화하는 것은 다른 사람들에게 공유해야 하는 부분이니 시각화의 여러 parameter를 조정해 좀 더 보기 좋게 만들도록 합니다. "
      ],
      "metadata": {
        "id": "5NjaLkeY0Sd7"
      }
    },
    {
      "cell_type": "code",
      "source": [
        "wine_df.groupby('color')['quality'].mean().plot(kind='bar', \n",
        "                                                title='Average Wine Quality by Color', \n",
        "                                                fontsize=13, \n",
        "                                                color=['red', 'blue'], \n",
        "                                                alpha=0.4);"
      ],
      "metadata": {
        "colab": {
          "base_uri": "https://localhost:8080/",
          "height": 321
        },
        "outputId": "7ddf6e68-6754-483b-d1b0-3f5a7d76dfdc",
        "id": "zzfniMbH0Sd8"
      },
      "execution_count": null,
      "outputs": [
        {
          "output_type": "display_data",
          "data": {
            "image/png": "[encoded data removed]",
            "text/plain": [
              "<Figure size 432x288 with 1 Axes>"
            ]
          },
          "metadata": {
            "needs_background": "light"
          }
        }
      ]
    },
    {
      "cell_type": "markdown",
      "source": [
        "> **💡 Tip**  \n",
        "이 시각화는 white wine이 red wine 보다 아주 근소하게 높은 평균 qality rating을 보여주고 있습니다.  \n",
        "이 작은 차이가 어디서 오는지 좀 더 확인해 봅시다."
      ],
      "metadata": {
        "id": "dQa3qgjH0Sd8"
      }
    },
    {
      "cell_type": "markdown",
      "source": [
        "<h2><b> Visualization 2 </b></h2>"
      ],
      "metadata": {
        "id": "keGZb1v5HmAJ"
      }
    },
    {
      "cell_type": "code",
      "source": [
        "counts = wine_df.groupby(['quality', 'color']).count()['pH']\n",
        "counts.plot(kind='bar', color=['red','blue'], title='Counts by Wine Quality and Color', fontsize=15, alpha=0.4);"
      ],
      "metadata": {
        "colab": {
          "base_uri": "https://localhost:8080/",
          "height": 356
        },
        "id": "YNfHU6Xdkzxh",
        "outputId": "dece45c5-46a0-4c41-ea00-a3a62c7a13d4"
      },
      "execution_count": null,
      "outputs": [
        {
          "output_type": "display_data",
          "data": {
            "image/png": "[encoded data removed]",
            "text/plain": [
              "<Figure size 432x288 with 1 Axes>"
            ]
          },
          "metadata": {
            "needs_background": "light"
          }
        }
      ]
    },
    {
      "cell_type": "markdown",
      "source": [
        "> **🔎 해설**   \n",
        "- 앞서 우리는 white wine의 평균 quality rating이 아주 조금 더 높은 것을 확인했습니다.  \n",
        "- 위의 시각화를 통해 좀 더 세분화된 결과를 살펴보면, **white wine이 quality rating 5,6,7 에서 더 많은 데이터 count를 가지고 있음**을 알 수 있습니다.  \n",
        "이를 통해, white wine의 평균 quality rating이 다소 높은 이유를 확인할 수 있습니다. \n"
      ],
      "metadata": {
        "id": "wJWmQZNa6vfi"
      }
    },
    {
      "cell_type": "markdown",
      "source": [
        "<h1><b> Limitations </b></h1>\n",
        "\n",
        "> ⚠️ *지금까지의 pandas에 내장되어 있는 시각화 방법을 이용하는 것은, 시각적으로 이상적이지는 않습니다.*  \n",
        "<br>\n",
        "그 이유는 아래와 같습니다.  \n",
        "- x 축의 label이 깔끔하지 않습니다. \n",
        "- y 축을 나타내는 title이 없습니다.\n",
        "- white bar와 red bar가 서로 떨어져 있습니다.\n",
        "- (9, red) 데이터가 존재하지 않아, 그래프에 나타내어 있지 않습니다. \n",
        "- y의 값은 데이터의 개수를 센 count인데, 이를 비율을 나타내는 proportion으로 바꾸어주면 더 많은 정보를 도출할 수 있습니다.  \n",
        "<br>\n",
        "\n",
        "> 이처럼 pandas가 가지고 있는 시각화를 통해서는 해결하기 어려운 부분이 존재합니다.  \n",
        "그러므로 `matplotlib`이나 `seaborn`과 같은 시각화 library를 이용하는 것이 좋습니다!  \n",
        "<br>\n",
        "아래 이미지는 `matplotlib`을 활용하여 위의 문제들을 극복한 시각화 예시입니다.\n",
        " <img width='400' src='https://i.imgur.com/jMckyaY.png'>\n",
        " <img width='450' src='https://i.imgur.com/YeImI7J.png'>  \n",
        "- 레드 와인을 나타내는 bar는 빨강, 화이트 와인을 나타내는 bar는 흰색으로 나타낼 수 있습니다.  \n",
        "- 이전에는 하얀 배경이었기에 화이트 와인을 나타내는 bar는 파란색으로 나타낼 수밖에 없었지만, matplotlib library를 통해 뒤의 배경을 어두운 회색 배경으로 바꿈으로써 가능하게 되었습니다. \n",
        "- x 축과 y 축이 무엇을 나타내는지 title을 삽입할 수 있고,  \n",
        "x 축의 label을 깔끔하게 quality로 나타낼 수 있습니다. \n",
        "- 단순 데이터의 개수를 나타내는 counts가 아닌, 총 개수에 대하여 몇 개를 나타내는지 proportion을 나타내는 시각화를 만들 수 있습니다. \n"
      ],
      "metadata": {
        "id": "lDmV4sWmHBkA"
      }
    }
  ]
}